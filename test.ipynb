{
 "cells": [
  {
   "cell_type": "code",
   "execution_count": 3,
   "source": [
    "%matplotlib inline\n",
    "import numpy as np\n",
    "import pandas as pd\n",
    "import matplotlib.pyplot as plt\n"
   ],
   "outputs": [],
   "metadata": {}
  },
  {
   "cell_type": "markdown",
   "source": [
    "Data Generation\n",
    "==="
   ],
   "metadata": {}
  },
  {
   "cell_type": "markdown",
   "source": [
    "Solution\n",
    "==="
   ],
   "metadata": {}
  },
  {
   "cell_type": "code",
   "execution_count": 5,
   "source": [
    "df = pd.read_csv('./lpmc10.dat')\n",
    "df"
   ],
   "outputs": [
    {
     "output_type": "execute_result",
     "data": {
      "text/plain": [
       "     trip_id\\thousehold_id\\tperson_n\\ttrip_n\\ttravel_mode\\tpurpose\\tfueltype\\tfaretype\\tbus_scale\\tsurvey_year\\ttravel_year\\ttravel_month\\ttravel_date\\tday_of_week\\tstart_time\\tage\\tfemale\\tdriving_license\\tcar_ownership\\tdistance\\tdur_walking\\tdur_cycling\\tdur_pt_access\\tdur_pt_rail\\tdur_pt_bus\\tdur_pt_int\\tpt_interchanges\\tdur_driving\\tcost_transit\\tcost_driving_fuel\\tcost_driving_ccharge\\tdriving_traffic_percent\n",
       "0     20\\t5\\t1\\t0\\t4\\t3\\t1\\t5\\t0.0\\t1\\t2012\\t4\\t1\\t7...                                                                                                                                                                                                                                                                                                                                                                           \n",
       "1     41\\t9\\t3\\t0\\t4\\t3\\t1\\t5\\t0.0\\t1\\t2012\\t4\\t1\\t7...                                                                                                                                                                                                                                                                                                                                                                           \n",
       "2     69\\t13\\t2\\t1\\t4\\t3\\t1\\t1\\t1.0\\t1\\t2012\\t4\\t1\\t...                                                                                                                                                                                                                                                                                                                                                                           \n",
       "3     102\\t20\\t2\\t0\\t2\\t3\\t1\\t1\\t1.0\\t1\\t2012\\t4\\t1\\...                                                                                                                                                                                                                                                                                                                                                                           \n",
       "4     105\\t21\\t0\\t1\\t4\\t3\\t1\\t1\\t1.0\\t1\\t2012\\t4\\t1\\...                                                                                                                                                                                                                                                                                                                                                                           \n",
       "...                                                 ...                                                                                                                                                                                                                                                                                                                                                                           \n",
       "4995  80998\\t17591\\t0\\t5\\t4\\t3\\t1\\t5\\t0.0\\t3\\t2015\\t...                                                                                                                                                                                                                                                                                                                                                                           \n",
       "4996  81000\\t17592\\t0\\t0\\t3\\t3\\t6\\t5\\t0.0\\t3\\t2015\\t...                                                                                                                                                                                                                                                                                                                                                                           \n",
       "4997  81015\\t17597\\t0\\t3\\t4\\t3\\t1\\t5\\t0.0\\t3\\t2015\\t...                                                                                                                                                                                                                                                                                                                                                                           \n",
       "4998  81041\\t17604\\t2\\t4\\t3\\t1\\t1\\t2\\t0.0\\t3\\t2015\\t...                                                                                                                                                                                                                                                                                                                                                                           \n",
       "4999  81062\\t17607\\t0\\t4\\t3\\t5\\t6\\t1\\t1.0\\t3\\t2015\\t...                                                                                                                                                                                                                                                                                                                                                                           \n",
       "\n",
       "[5000 rows x 1 columns]"
      ],
      "text/html": [
       "<div>\n",
       "<style scoped>\n",
       "    .dataframe tbody tr th:only-of-type {\n",
       "        vertical-align: middle;\n",
       "    }\n",
       "\n",
       "    .dataframe tbody tr th {\n",
       "        vertical-align: top;\n",
       "    }\n",
       "\n",
       "    .dataframe thead th {\n",
       "        text-align: right;\n",
       "    }\n",
       "</style>\n",
       "<table border=\"1\" class=\"dataframe\">\n",
       "  <thead>\n",
       "    <tr style=\"text-align: right;\">\n",
       "      <th></th>\n",
       "      <th>trip_id\\thousehold_id\\tperson_n\\ttrip_n\\ttravel_mode\\tpurpose\\tfueltype\\tfaretype\\tbus_scale\\tsurvey_year\\ttravel_year\\ttravel_month\\ttravel_date\\tday_of_week\\tstart_time\\tage\\tfemale\\tdriving_license\\tcar_ownership\\tdistance\\tdur_walking\\tdur_cycling\\tdur_pt_access\\tdur_pt_rail\\tdur_pt_bus\\tdur_pt_int\\tpt_interchanges\\tdur_driving\\tcost_transit\\tcost_driving_fuel\\tcost_driving_ccharge\\tdriving_traffic_percent</th>\n",
       "    </tr>\n",
       "  </thead>\n",
       "  <tbody>\n",
       "    <tr>\n",
       "      <th>0</th>\n",
       "      <td>20\\t5\\t1\\t0\\t4\\t3\\t1\\t5\\t0.0\\t1\\t2012\\t4\\t1\\t7...</td>\n",
       "    </tr>\n",
       "    <tr>\n",
       "      <th>1</th>\n",
       "      <td>41\\t9\\t3\\t0\\t4\\t3\\t1\\t5\\t0.0\\t1\\t2012\\t4\\t1\\t7...</td>\n",
       "    </tr>\n",
       "    <tr>\n",
       "      <th>2</th>\n",
       "      <td>69\\t13\\t2\\t1\\t4\\t3\\t1\\t1\\t1.0\\t1\\t2012\\t4\\t1\\t...</td>\n",
       "    </tr>\n",
       "    <tr>\n",
       "      <th>3</th>\n",
       "      <td>102\\t20\\t2\\t0\\t2\\t3\\t1\\t1\\t1.0\\t1\\t2012\\t4\\t1\\...</td>\n",
       "    </tr>\n",
       "    <tr>\n",
       "      <th>4</th>\n",
       "      <td>105\\t21\\t0\\t1\\t4\\t3\\t1\\t1\\t1.0\\t1\\t2012\\t4\\t1\\...</td>\n",
       "    </tr>\n",
       "    <tr>\n",
       "      <th>...</th>\n",
       "      <td>...</td>\n",
       "    </tr>\n",
       "    <tr>\n",
       "      <th>4995</th>\n",
       "      <td>80998\\t17591\\t0\\t5\\t4\\t3\\t1\\t5\\t0.0\\t3\\t2015\\t...</td>\n",
       "    </tr>\n",
       "    <tr>\n",
       "      <th>4996</th>\n",
       "      <td>81000\\t17592\\t0\\t0\\t3\\t3\\t6\\t5\\t0.0\\t3\\t2015\\t...</td>\n",
       "    </tr>\n",
       "    <tr>\n",
       "      <th>4997</th>\n",
       "      <td>81015\\t17597\\t0\\t3\\t4\\t3\\t1\\t5\\t0.0\\t3\\t2015\\t...</td>\n",
       "    </tr>\n",
       "    <tr>\n",
       "      <th>4998</th>\n",
       "      <td>81041\\t17604\\t2\\t4\\t3\\t1\\t1\\t2\\t0.0\\t3\\t2015\\t...</td>\n",
       "    </tr>\n",
       "    <tr>\n",
       "      <th>4999</th>\n",
       "      <td>81062\\t17607\\t0\\t4\\t3\\t5\\t6\\t1\\t1.0\\t3\\t2015\\t...</td>\n",
       "    </tr>\n",
       "  </tbody>\n",
       "</table>\n",
       "<p>5000 rows × 1 columns</p>\n",
       "</div>"
      ]
     },
     "metadata": {},
     "execution_count": 5
    }
   ],
   "metadata": {}
  },
  {
   "cell_type": "code",
   "execution_count": 29,
   "source": [
    "def standardize(x):\n",
    "    \n",
    "    centered_data = x-np.mean(x,axis=0)\n",
    "    std_data = centered_data / np.std(centered_data)\n",
    "\n",
    "    return centered_data\n",
    "\n",
    "std_data = standardize(data)"
   ],
   "outputs": [],
   "metadata": {}
  },
  {
   "cell_type": "code",
   "execution_count": 30,
   "source": [
    "print(std_data, \"\\n\\n\", np.mean(std_data, axis=0), \"\\n\\n\", np.std(std_data, axis=0))"
   ],
   "outputs": [
    {
     "output_type": "stream",
     "name": "stdout",
     "text": [
      "[[ 0.20344878 -0.41972612  0.09397858  0.22671326  0.05947394]\n",
      " [-0.34307522 -0.24241521  0.22086106 -0.35297979 -0.35069326]\n",
      " [ 0.11748795  0.51291527 -0.53572138 -0.00989836  0.37358789]\n",
      " [ 0.0446542   0.28127725 -0.24779358  0.3956835   0.27554271]\n",
      " [-0.0253275  -0.29830802 -0.16632889  0.15204299  0.0028001 ]\n",
      " [-0.13385787  0.17728891 -0.02653141  0.12830656  0.16200588]\n",
      " [ 0.23735133  0.08116908  0.36897923 -0.20285454 -0.34857372]\n",
      " [-0.26717181 -0.32649371  0.28901168 -0.47519431  0.18725407]\n",
      " [-0.02028571  0.37880892 -0.34072211  0.33475968 -0.08738043]\n",
      " [ 0.18677583 -0.14451637  0.34426683 -0.19657899 -0.27401718]] \n",
      "\n",
      " [-3.33066907e-17  2.22044605e-17 -1.11022302e-17  0.00000000e+00\n",
      "  6.66133815e-17] \n",
      "\n",
      " [0.18880201 0.31226926 0.29810476 0.28105224 0.24648668]\n"
     ]
    }
   ],
   "metadata": {}
  },
  {
   "cell_type": "code",
   "execution_count": null,
   "source": [],
   "outputs": [],
   "metadata": {}
  },
  {
   "cell_type": "code",
   "execution_count": null,
   "source": [],
   "outputs": [],
   "metadata": {}
  },
  {
   "cell_type": "code",
   "execution_count": null,
   "source": [],
   "outputs": [],
   "metadata": {}
  }
 ],
 "metadata": {
  "kernelspec": {
   "name": "python3",
   "display_name": "Python 3.9.13 64-bit ('base': conda)"
  },
  "language_info": {
   "codemirror_mode": {
    "name": "ipython",
    "version": 3
   },
   "file_extension": ".py",
   "mimetype": "text/x-python",
   "name": "python",
   "nbconvert_exporter": "python",
   "pygments_lexer": "ipython3",
   "version": "3.9.13"
  },
  "interpreter": {
   "hash": "dca0ade3e726a953b501b15e8e990130d2b7799f14cfd9f4271676035ebe5511"
  }
 },
 "nbformat": 4,
 "nbformat_minor": 4
}