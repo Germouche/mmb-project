{
 "cells": [
  {
   "cell_type": "code",
   "execution_count": 14,
   "id": "ab0fd6f1-87c0-4c90-a637-1fe96242cdc0",
   "metadata": {},
   "outputs": [],
   "source": [
    "import pandas as pd\n",
    "import biogeme.database as db\n",
    "import biogeme.biogeme as bio\n",
    "from biogeme.expressions import Beta, Variable, log, exp\n",
    "from biogeme import models\n",
    "from biogeme import results as res"
   ]
  },
  {
   "cell_type": "code",
   "execution_count": 15,
   "id": "22b376cb-77ed-40ae-b643-496e0c103424",
   "metadata": {},
   "outputs": [
    {
     "data": {
      "text/html": [
       "<div>\n",
       "<style scoped>\n",
       "    .dataframe tbody tr th:only-of-type {\n",
       "        vertical-align: middle;\n",
       "    }\n",
       "\n",
       "    .dataframe tbody tr th {\n",
       "        vertical-align: top;\n",
       "    }\n",
       "\n",
       "    .dataframe thead th {\n",
       "        text-align: right;\n",
       "    }\n",
       "</style>\n",
       "<table border=\"1\" class=\"dataframe\">\n",
       "  <thead>\n",
       "    <tr style=\"text-align: right;\">\n",
       "      <th></th>\n",
       "      <th>trip_id</th>\n",
       "      <th>household_id</th>\n",
       "      <th>person_n</th>\n",
       "      <th>trip_n</th>\n",
       "      <th>travel_mode</th>\n",
       "      <th>purpose</th>\n",
       "      <th>fueltype</th>\n",
       "      <th>faretype</th>\n",
       "      <th>bus_scale</th>\n",
       "      <th>survey_year</th>\n",
       "      <th>...</th>\n",
       "      <th>dur_pt_access</th>\n",
       "      <th>dur_pt_rail</th>\n",
       "      <th>dur_pt_bus</th>\n",
       "      <th>dur_pt_int</th>\n",
       "      <th>pt_interchanges</th>\n",
       "      <th>dur_driving</th>\n",
       "      <th>cost_transit</th>\n",
       "      <th>cost_driving_fuel</th>\n",
       "      <th>cost_driving_ccharge</th>\n",
       "      <th>driving_traffic_percent</th>\n",
       "    </tr>\n",
       "  </thead>\n",
       "  <tbody>\n",
       "    <tr>\n",
       "      <th>0</th>\n",
       "      <td>20</td>\n",
       "      <td>5</td>\n",
       "      <td>1</td>\n",
       "      <td>0</td>\n",
       "      <td>4</td>\n",
       "      <td>3</td>\n",
       "      <td>1</td>\n",
       "      <td>5</td>\n",
       "      <td>0.0</td>\n",
       "      <td>1</td>\n",
       "      <td>...</td>\n",
       "      <td>0.381667</td>\n",
       "      <td>0.000000</td>\n",
       "      <td>0.062222</td>\n",
       "      <td>0.000000</td>\n",
       "      <td>0</td>\n",
       "      <td>0.117222</td>\n",
       "      <td>0.00</td>\n",
       "      <td>0.41</td>\n",
       "      <td>0.0</td>\n",
       "      <td>0.097156</td>\n",
       "    </tr>\n",
       "    <tr>\n",
       "      <th>1</th>\n",
       "      <td>41</td>\n",
       "      <td>9</td>\n",
       "      <td>3</td>\n",
       "      <td>0</td>\n",
       "      <td>4</td>\n",
       "      <td>3</td>\n",
       "      <td>1</td>\n",
       "      <td>5</td>\n",
       "      <td>0.0</td>\n",
       "      <td>1</td>\n",
       "      <td>...</td>\n",
       "      <td>0.146944</td>\n",
       "      <td>0.000000</td>\n",
       "      <td>0.225000</td>\n",
       "      <td>0.000000</td>\n",
       "      <td>0</td>\n",
       "      <td>0.200833</td>\n",
       "      <td>0.00</td>\n",
       "      <td>0.48</td>\n",
       "      <td>0.0</td>\n",
       "      <td>0.378976</td>\n",
       "    </tr>\n",
       "    <tr>\n",
       "      <th>2</th>\n",
       "      <td>69</td>\n",
       "      <td>13</td>\n",
       "      <td>2</td>\n",
       "      <td>1</td>\n",
       "      <td>4</td>\n",
       "      <td>3</td>\n",
       "      <td>1</td>\n",
       "      <td>1</td>\n",
       "      <td>1.0</td>\n",
       "      <td>1</td>\n",
       "      <td>...</td>\n",
       "      <td>0.029444</td>\n",
       "      <td>0.083333</td>\n",
       "      <td>0.735833</td>\n",
       "      <td>0.398056</td>\n",
       "      <td>3</td>\n",
       "      <td>0.716944</td>\n",
       "      <td>6.00</td>\n",
       "      <td>2.16</td>\n",
       "      <td>0.0</td>\n",
       "      <td>0.582720</td>\n",
       "    </tr>\n",
       "    <tr>\n",
       "      <th>3</th>\n",
       "      <td>102</td>\n",
       "      <td>20</td>\n",
       "      <td>2</td>\n",
       "      <td>0</td>\n",
       "      <td>2</td>\n",
       "      <td>3</td>\n",
       "      <td>1</td>\n",
       "      <td>1</td>\n",
       "      <td>1.0</td>\n",
       "      <td>1</td>\n",
       "      <td>...</td>\n",
       "      <td>0.339722</td>\n",
       "      <td>0.183333</td>\n",
       "      <td>0.116667</td>\n",
       "      <td>0.266667</td>\n",
       "      <td>1</td>\n",
       "      <td>0.250833</td>\n",
       "      <td>3.00</td>\n",
       "      <td>0.89</td>\n",
       "      <td>0.0</td>\n",
       "      <td>0.170543</td>\n",
       "    </tr>\n",
       "    <tr>\n",
       "      <th>4</th>\n",
       "      <td>105</td>\n",
       "      <td>21</td>\n",
       "      <td>0</td>\n",
       "      <td>1</td>\n",
       "      <td>4</td>\n",
       "      <td>3</td>\n",
       "      <td>1</td>\n",
       "      <td>1</td>\n",
       "      <td>1.0</td>\n",
       "      <td>1</td>\n",
       "      <td>...</td>\n",
       "      <td>0.126389</td>\n",
       "      <td>0.000000</td>\n",
       "      <td>0.150000</td>\n",
       "      <td>0.000000</td>\n",
       "      <td>0</td>\n",
       "      <td>0.125833</td>\n",
       "      <td>1.50</td>\n",
       "      <td>0.37</td>\n",
       "      <td>0.0</td>\n",
       "      <td>0.154525</td>\n",
       "    </tr>\n",
       "    <tr>\n",
       "      <th>...</th>\n",
       "      <td>...</td>\n",
       "      <td>...</td>\n",
       "      <td>...</td>\n",
       "      <td>...</td>\n",
       "      <td>...</td>\n",
       "      <td>...</td>\n",
       "      <td>...</td>\n",
       "      <td>...</td>\n",
       "      <td>...</td>\n",
       "      <td>...</td>\n",
       "      <td>...</td>\n",
       "      <td>...</td>\n",
       "      <td>...</td>\n",
       "      <td>...</td>\n",
       "      <td>...</td>\n",
       "      <td>...</td>\n",
       "      <td>...</td>\n",
       "      <td>...</td>\n",
       "      <td>...</td>\n",
       "      <td>...</td>\n",
       "      <td>...</td>\n",
       "    </tr>\n",
       "    <tr>\n",
       "      <th>4995</th>\n",
       "      <td>80998</td>\n",
       "      <td>17591</td>\n",
       "      <td>0</td>\n",
       "      <td>5</td>\n",
       "      <td>4</td>\n",
       "      <td>3</td>\n",
       "      <td>1</td>\n",
       "      <td>5</td>\n",
       "      <td>0.0</td>\n",
       "      <td>3</td>\n",
       "      <td>...</td>\n",
       "      <td>0.189167</td>\n",
       "      <td>0.000000</td>\n",
       "      <td>0.117778</td>\n",
       "      <td>0.000000</td>\n",
       "      <td>0</td>\n",
       "      <td>0.082500</td>\n",
       "      <td>0.00</td>\n",
       "      <td>0.22</td>\n",
       "      <td>10.5</td>\n",
       "      <td>0.239057</td>\n",
       "    </tr>\n",
       "    <tr>\n",
       "      <th>4996</th>\n",
       "      <td>81000</td>\n",
       "      <td>17592</td>\n",
       "      <td>0</td>\n",
       "      <td>0</td>\n",
       "      <td>3</td>\n",
       "      <td>3</td>\n",
       "      <td>6</td>\n",
       "      <td>5</td>\n",
       "      <td>0.0</td>\n",
       "      <td>3</td>\n",
       "      <td>...</td>\n",
       "      <td>0.105278</td>\n",
       "      <td>0.000000</td>\n",
       "      <td>0.220278</td>\n",
       "      <td>0.000000</td>\n",
       "      <td>0</td>\n",
       "      <td>0.213611</td>\n",
       "      <td>0.00</td>\n",
       "      <td>0.52</td>\n",
       "      <td>0.0</td>\n",
       "      <td>0.412224</td>\n",
       "    </tr>\n",
       "    <tr>\n",
       "      <th>4997</th>\n",
       "      <td>81015</td>\n",
       "      <td>17597</td>\n",
       "      <td>0</td>\n",
       "      <td>3</td>\n",
       "      <td>4</td>\n",
       "      <td>3</td>\n",
       "      <td>1</td>\n",
       "      <td>5</td>\n",
       "      <td>0.0</td>\n",
       "      <td>3</td>\n",
       "      <td>...</td>\n",
       "      <td>0.343056</td>\n",
       "      <td>0.000000</td>\n",
       "      <td>0.177500</td>\n",
       "      <td>0.000000</td>\n",
       "      <td>0</td>\n",
       "      <td>0.189444</td>\n",
       "      <td>0.00</td>\n",
       "      <td>0.76</td>\n",
       "      <td>0.0</td>\n",
       "      <td>0.086510</td>\n",
       "    </tr>\n",
       "    <tr>\n",
       "      <th>4998</th>\n",
       "      <td>81041</td>\n",
       "      <td>17604</td>\n",
       "      <td>2</td>\n",
       "      <td>4</td>\n",
       "      <td>3</td>\n",
       "      <td>1</td>\n",
       "      <td>1</td>\n",
       "      <td>2</td>\n",
       "      <td>0.0</td>\n",
       "      <td>3</td>\n",
       "      <td>...</td>\n",
       "      <td>0.344444</td>\n",
       "      <td>0.316667</td>\n",
       "      <td>0.000000</td>\n",
       "      <td>0.083333</td>\n",
       "      <td>1</td>\n",
       "      <td>0.386111</td>\n",
       "      <td>1.05</td>\n",
       "      <td>0.98</td>\n",
       "      <td>0.0</td>\n",
       "      <td>0.340288</td>\n",
       "    </tr>\n",
       "    <tr>\n",
       "      <th>4999</th>\n",
       "      <td>81062</td>\n",
       "      <td>17607</td>\n",
       "      <td>0</td>\n",
       "      <td>4</td>\n",
       "      <td>3</td>\n",
       "      <td>5</td>\n",
       "      <td>6</td>\n",
       "      <td>1</td>\n",
       "      <td>1.0</td>\n",
       "      <td>3</td>\n",
       "      <td>...</td>\n",
       "      <td>0.069444</td>\n",
       "      <td>0.000000</td>\n",
       "      <td>0.166389</td>\n",
       "      <td>0.000000</td>\n",
       "      <td>0</td>\n",
       "      <td>0.146111</td>\n",
       "      <td>1.50</td>\n",
       "      <td>0.28</td>\n",
       "      <td>0.0</td>\n",
       "      <td>0.653992</td>\n",
       "    </tr>\n",
       "  </tbody>\n",
       "</table>\n",
       "<p>5000 rows × 32 columns</p>\n",
       "</div>"
      ],
      "text/plain": [
       "      trip_id  household_id  person_n  trip_n  travel_mode  purpose  fueltype  \\\n",
       "0          20             5         1       0            4        3         1   \n",
       "1          41             9         3       0            4        3         1   \n",
       "2          69            13         2       1            4        3         1   \n",
       "3         102            20         2       0            2        3         1   \n",
       "4         105            21         0       1            4        3         1   \n",
       "...       ...           ...       ...     ...          ...      ...       ...   \n",
       "4995    80998         17591         0       5            4        3         1   \n",
       "4996    81000         17592         0       0            3        3         6   \n",
       "4997    81015         17597         0       3            4        3         1   \n",
       "4998    81041         17604         2       4            3        1         1   \n",
       "4999    81062         17607         0       4            3        5         6   \n",
       "\n",
       "      faretype  bus_scale  survey_year  ...  dur_pt_access  dur_pt_rail  \\\n",
       "0            5        0.0            1  ...       0.381667     0.000000   \n",
       "1            5        0.0            1  ...       0.146944     0.000000   \n",
       "2            1        1.0            1  ...       0.029444     0.083333   \n",
       "3            1        1.0            1  ...       0.339722     0.183333   \n",
       "4            1        1.0            1  ...       0.126389     0.000000   \n",
       "...        ...        ...          ...  ...            ...          ...   \n",
       "4995         5        0.0            3  ...       0.189167     0.000000   \n",
       "4996         5        0.0            3  ...       0.105278     0.000000   \n",
       "4997         5        0.0            3  ...       0.343056     0.000000   \n",
       "4998         2        0.0            3  ...       0.344444     0.316667   \n",
       "4999         1        1.0            3  ...       0.069444     0.000000   \n",
       "\n",
       "      dur_pt_bus  dur_pt_int  pt_interchanges  dur_driving  cost_transit  \\\n",
       "0       0.062222    0.000000                0     0.117222          0.00   \n",
       "1       0.225000    0.000000                0     0.200833          0.00   \n",
       "2       0.735833    0.398056                3     0.716944          6.00   \n",
       "3       0.116667    0.266667                1     0.250833          3.00   \n",
       "4       0.150000    0.000000                0     0.125833          1.50   \n",
       "...          ...         ...              ...          ...           ...   \n",
       "4995    0.117778    0.000000                0     0.082500          0.00   \n",
       "4996    0.220278    0.000000                0     0.213611          0.00   \n",
       "4997    0.177500    0.000000                0     0.189444          0.00   \n",
       "4998    0.000000    0.083333                1     0.386111          1.05   \n",
       "4999    0.166389    0.000000                0     0.146111          1.50   \n",
       "\n",
       "      cost_driving_fuel  cost_driving_ccharge  driving_traffic_percent  \n",
       "0                  0.41                   0.0                 0.097156  \n",
       "1                  0.48                   0.0                 0.378976  \n",
       "2                  2.16                   0.0                 0.582720  \n",
       "3                  0.89                   0.0                 0.170543  \n",
       "4                  0.37                   0.0                 0.154525  \n",
       "...                 ...                   ...                      ...  \n",
       "4995               0.22                  10.5                 0.239057  \n",
       "4996               0.52                   0.0                 0.412224  \n",
       "4997               0.76                   0.0                 0.086510  \n",
       "4998               0.98                   0.0                 0.340288  \n",
       "4999               0.28                   0.0                 0.653992  \n",
       "\n",
       "[5000 rows x 32 columns]"
      ]
     },
     "execution_count": 15,
     "metadata": {},
     "output_type": "execute_result"
    }
   ],
   "source": [
    "#data_file = \"http://transp-or.epfl.ch/data/lpmc.dat\"\n",
    "data_file='lpmc10.dat'\n",
    "lpmc = pd.read_csv(data_file, sep='\\t')\n",
    "lpmc"
   ]
  },
  {
   "cell_type": "code",
   "execution_count": 16,
   "id": "7e1638dd-8977-4929-9608-98db08091327",
   "metadata": {},
   "outputs": [],
   "source": [
    "database = db.Database('trips', lpmc)"
   ]
  },
  {
   "cell_type": "code",
   "execution_count": 17,
   "id": "930ead8b-0e76-4c0a-80a9-1a788e1ce281",
   "metadata": {},
   "outputs": [],
   "source": [
    "trip_id = Variable('trip_id')\n",
    "household_id = Variable('household_id')\n",
    "person_n = Variable('person_n')\n",
    "travel_mode = Variable('travel_mode')\n",
    "purpose = Variable('purpose')\n",
    "fueltype = Variable('fueltype')\n",
    "faretype = Variable('faretype')\n",
    "bus_scale = Variable('bus_scale')\n",
    "survey_year = Variable('survey_year')\n",
    "travel_year = Variable('travel_year')\n",
    "travel_month = Variable('travel_month')\n",
    "travel_day = Variable('travel_day')\n",
    "day_of_week = Variable('day_of_week')\n",
    "start_time = Variable('day_of_week')\n",
    "age = Variable('age')\n",
    "female = Variable('female')\n",
    "driving_license = Variable('driving_license')\n",
    "car_ownership = Variable('car_ownership')\n",
    "distance = Variable\n",
    "dur_walking = Variable('dur_walking')\n",
    "dur_cycling = Variable('dur_cycling')\n",
    "dur_pt_access = Variable('dur_pt_access')\n",
    "dur_pt_rail = Variable('dur_pt_rail')\n",
    "dur_pt_bus = Variable('dur_pt_bus')\n",
    "dur_pt_int = Variable('dur_pt_int')\n",
    "pt_interchanges = Variable('pt_interchanges')\n",
    "dur_driving = Variable('dur_driving')\n",
    "cost_transit = Variable('cost_transit')\n",
    "cost_driving_fuel = Variable('cost_driving_fuel')\n",
    "cost_driving_ccharge = Variable('cost_driving_ccharge')\n",
    "driving_traffic_percent = Variable('driving_traffic_percent')"
   ]
  },
  {
   "cell_type": "code",
   "execution_count": null,
   "id": "1c2d7218-da73-4508-aec4-4e7dde743618",
   "metadata": {},
   "outputs": [],
   "source": []
  },
  {
   "cell_type": "markdown",
   "id": "f1dbff8f-92a1-43db-8580-402006eab205",
   "metadata": {},
   "source": [
    "### Model 0"
   ]
  },
  {
   "cell_type": "code",
   "execution_count": 18,
   "id": "8f68fac5-67ab-4c1c-a085-000e6da02cf0",
   "metadata": {},
   "outputs": [],
   "source": [
    "asc_walk = Beta('asc_walk', 0, None, None, 0)\n",
    "asc_cycling = Beta('asc_cycling', 0, None, None, 0)\n",
    "asc_public = Beta('asc_public', 0, None, None, 0)\n",
    "asc_driving = Beta('asc_driving', 0, None, None, 0)"
   ]
  },
  {
   "cell_type": "code",
   "execution_count": 19,
   "id": "cf3054c3-3abf-4c15-bd65-024c87047be5",
   "metadata": {},
   "outputs": [],
   "source": [
    "cost_driving = cost_driving_fuel + cost_driving_ccharge\n",
    "dur_public = dur_pt_access + dur_pt_rail + dur_pt_bus + dur_pt_int #total duration of public transportation"
   ]
  },
  {
   "cell_type": "code",
   "execution_count": 20,
   "id": "65e4f07e-55e8-4d2c-8822-352414e129d4",
   "metadata": {},
   "outputs": [],
   "source": [
    "beta_cost = Beta('beta_cost', 0, None, None, 0)\n",
    "beta_time = Beta('beta_time', 0, None, None, 0)"
   ]
  },
  {
   "cell_type": "code",
   "execution_count": 21,
   "id": "b3b72660-61d9-4c8d-a39c-da162e2e962b",
   "metadata": {},
   "outputs": [],
   "source": [
    "V_walk = asc_walk + beta_time * dur_walking\n",
    "V_cycling = asc_cycling + beta_time * dur_cycling\n",
    "V_driving = asc_driving + beta_time * dur_driving + beta_cost * cost_driving\n",
    "V_public = asc_public + beta_time * dur_public + beta_cost * cost_transit"
   ]
  },
  {
   "cell_type": "code",
   "execution_count": 22,
   "id": "508e8b7d-31eb-4c0b-9a95-b7d3fb8a9ce3",
   "metadata": {},
   "outputs": [],
   "source": [
    "prob_walk = 1 / (1 + exp(V_cycling - V_walk) + exp(V_driving - V_walk) + exp(V_public - V_walk))\n",
    "prob_cycling = 1 / (1 + exp(V_walk - V_cycling) + exp(V_driving - V_cycling) + exp(V_public - V_cycling))\n",
    "prob_driving = 1 / (1 + exp(V_cycling - V_driving) + exp(V_walk - V_driving) + exp(V_public - V_driving))\n",
    "prob_public = 1-prob_driving + prob_cycling + prob_walk\n",
    "\n",
    "prob_observation = prob_walk * (travel_mode == 1) + prob_cycling * (travel_mode == 2) + prob_driving * (travel_mode == 3) + prob_public * (travel_mode == 4) \n",
    "logprob = log(prob_observation)"
   ]
  },
  {
   "cell_type": "code",
   "execution_count": 23,
   "id": "b7f11bd8-48cf-4591-9e46-d6953b1ac336",
   "metadata": {},
   "outputs": [],
   "source": [
    "biogeme = bio.BIOGEME(database, logprob)\n",
    "biogeme.modelName = 'model_0'"
   ]
  },
  {
   "cell_type": "code",
   "execution_count": 24,
   "id": "0d427dcd-ed96-4d14-a99b-e834e2ce3918",
   "metadata": {},
   "outputs": [],
   "source": [
    "results0 = biogeme.estimate()"
   ]
  },
  {
   "cell_type": "code",
   "execution_count": 25,
   "id": "b4343066-e396-4fb4-8086-ba365e50944e",
   "metadata": {},
   "outputs": [
    {
     "name": "stdout",
     "output_type": "stream",
     "text": [
      "Number of estimated parameters:\t6\n",
      "Sample size:\t5000\n",
      "Excluded observations:\t0\n",
      "Init log likelihood:\t-1907.476\n",
      "Final log likelihood:\t-1907.476\n",
      "Likelihood ratio test for the init. model:\t3.053606e-07\n",
      "Rho-square for the init. model:\t8e-11\n",
      "Rho-square-bar for the init. model:\t-0.00315\n",
      "Akaike Information Criterion:\t3826.953\n",
      "Bayesian Information Criterion:\t3866.056\n",
      "Final gradient norm:\t1.3570E-02\n",
      "Nbr of threads:\t16\n",
      "\n"
     ]
    }
   ],
   "source": [
    "print(results0.printGeneralStatistics())"
   ]
  },
  {
   "cell_type": "code",
   "execution_count": 26,
   "id": "2bb99022-c8de-4876-8f8e-41037d03ed59",
   "metadata": {},
   "outputs": [
    {
     "data": {
      "text/html": [
       "<div>\n",
       "<style scoped>\n",
       "    .dataframe tbody tr th:only-of-type {\n",
       "        vertical-align: middle;\n",
       "    }\n",
       "\n",
       "    .dataframe tbody tr th {\n",
       "        vertical-align: top;\n",
       "    }\n",
       "\n",
       "    .dataframe thead th {\n",
       "        text-align: right;\n",
       "    }\n",
       "</style>\n",
       "<table border=\"1\" class=\"dataframe\">\n",
       "  <thead>\n",
       "    <tr style=\"text-align: right;\">\n",
       "      <th></th>\n",
       "      <th>Value</th>\n",
       "      <th>Rob. Std err</th>\n",
       "      <th>Rob. t-test</th>\n",
       "      <th>Rob. p-value</th>\n",
       "    </tr>\n",
       "  </thead>\n",
       "  <tbody>\n",
       "    <tr>\n",
       "      <th>asc_cycling</th>\n",
       "      <td>2.165636</td>\n",
       "      <td>0.048637</td>\n",
       "      <td>44.526762</td>\n",
       "      <td>0.000000e+00</td>\n",
       "    </tr>\n",
       "    <tr>\n",
       "      <th>asc_driving</th>\n",
       "      <td>2.510434</td>\n",
       "      <td>0.046437</td>\n",
       "      <td>54.061249</td>\n",
       "      <td>0.000000e+00</td>\n",
       "    </tr>\n",
       "    <tr>\n",
       "      <th>asc_public</th>\n",
       "      <td>-8.654555</td>\n",
       "      <td>0.023001</td>\n",
       "      <td>-376.267926</td>\n",
       "      <td>0.000000e+00</td>\n",
       "    </tr>\n",
       "    <tr>\n",
       "      <th>asc_walk</th>\n",
       "      <td>3.978485</td>\n",
       "      <td>0.041616</td>\n",
       "      <td>95.600652</td>\n",
       "      <td>0.000000e+00</td>\n",
       "    </tr>\n",
       "    <tr>\n",
       "      <th>beta_cost</th>\n",
       "      <td>0.125126</td>\n",
       "      <td>0.009580</td>\n",
       "      <td>13.060870</td>\n",
       "      <td>0.000000e+00</td>\n",
       "    </tr>\n",
       "    <tr>\n",
       "      <th>beta_time</th>\n",
       "      <td>-1.249361</td>\n",
       "      <td>0.150803</td>\n",
       "      <td>-8.284731</td>\n",
       "      <td>2.220446e-16</td>\n",
       "    </tr>\n",
       "  </tbody>\n",
       "</table>\n",
       "</div>"
      ],
      "text/plain": [
       "                Value  Rob. Std err  Rob. t-test  Rob. p-value\n",
       "asc_cycling  2.165636      0.048637    44.526762  0.000000e+00\n",
       "asc_driving  2.510434      0.046437    54.061249  0.000000e+00\n",
       "asc_public  -8.654555      0.023001  -376.267926  0.000000e+00\n",
       "asc_walk     3.978485      0.041616    95.600652  0.000000e+00\n",
       "beta_cost    0.125126      0.009580    13.060870  0.000000e+00\n",
       "beta_time   -1.249361      0.150803    -8.284731  2.220446e-16"
      ]
     },
     "execution_count": 26,
     "metadata": {},
     "output_type": "execute_result"
    }
   ],
   "source": [
    "results0.getEstimatedParameters()"
   ]
  },
  {
   "cell_type": "code",
   "execution_count": 27,
   "id": "213e4c72-975f-4e57-a933-5f40e295b8f8",
   "metadata": {},
   "outputs": [
    {
     "data": {
      "text/plain": [
       "'model_0~02.html'"
      ]
     },
     "execution_count": 27,
     "metadata": {},
     "output_type": "execute_result"
    }
   ],
   "source": [
    "results0.data.htmlFileName"
   ]
  },
  {
   "cell_type": "markdown",
   "id": "8eb82a3a-51dc-41bd-97d1-94177e548c23",
   "metadata": {},
   "source": [
    "### Model 1\n"
   ]
  },
  {
   "cell_type": "code",
   "execution_count": 28,
   "id": "fc8ff85e-f7a7-40b5-b01f-f056fa0dfb26",
   "metadata": {},
   "outputs": [],
   "source": [
    "asc_walk = Beta('asc_walk', 0, None, None, 0)\n",
    "asc_cycling = Beta('asc_cycling', 0, None, None, 0)\n",
    "asc_public = Beta('asc_public', 0, None, None, 0)\n",
    "asc_driving = Beta('asc_driving', 0, None, None, 0)"
   ]
  },
  {
   "cell_type": "code",
   "execution_count": 29,
   "id": "4c1ba6de-c6f2-4a18-ba93-0f2257d91fc4",
   "metadata": {},
   "outputs": [],
   "source": [
    "cost_driving = cost_driving_fuel + cost_driving_ccharge\n",
    "dur_public = dur_pt_access + dur_pt_rail + dur_pt_bus + dur_pt_int #total duration of public transportation"
   ]
  },
  {
   "cell_type": "code",
   "execution_count": 30,
   "id": "33f83c0c-6a62-4a3b-9657-865a438c44a2",
   "metadata": {},
   "outputs": [],
   "source": [
    "beta_time_walk = Beta('beta_time_walk', 0, None, None, 0)\n",
    "beta_time_cycling = Beta('beta_time_cycling', 0, None, None, 0)\n",
    "beta_time_driving = Beta('beta_time_driving', 0, None, None, 0)\n",
    "beta_time_public = Beta('beta_time_public', 0, None, None, 0)"
   ]
  },
  {
   "cell_type": "code",
   "execution_count": 31,
   "id": "26915e2a-4235-41d1-b6df-da5e62460069",
   "metadata": {},
   "outputs": [],
   "source": [
    "V_walk = asc_walk + beta_time_walk * dur_walking\n",
    "V_cycling = asc_cycling + beta_time_cycling * dur_cycling\n",
    "V_driving = asc_driving + beta_time_driving * dur_driving + beta_cost * cost_driving\n",
    "V_public = asc_public + beta_time_public * dur_public + beta_cost * cost_transit"
   ]
  },
  {
   "cell_type": "code",
   "execution_count": 32,
   "id": "b1c83641-821e-453e-8d80-4a3a1f32d8d9",
   "metadata": {},
   "outputs": [],
   "source": [
    "prob_walk = 1 / (1 + exp(V_cycling - V_walk) + exp(V_driving - V_walk) + exp(V_public - V_walk))\n",
    "prob_cycling = 1 / (1 + exp(V_walk - V_cycling) + exp(V_driving - V_cycling) + exp(V_public - V_cycling))\n",
    "prob_driving = 1 / (1 + exp(V_cycling - V_driving) + exp(V_walk - V_driving) + exp(V_public - V_driving))\n",
    "prob_public = 1-prob_driving + prob_cycling + prob_walk\n",
    "\n",
    "prob_observation = prob_walk * (travel_mode == 1) + prob_cycling * (travel_mode == 2) + prob_driving * (travel_mode == 3) + prob_public * (travel_mode == 4) \n",
    "logprob = log(prob_observation)"
   ]
  },
  {
   "cell_type": "code",
   "execution_count": 33,
   "id": "7b8b59b7-3475-4c8c-bb94-c53bfea17820",
   "metadata": {},
   "outputs": [],
   "source": [
    "biogeme = bio.BIOGEME(database, logprob)\n",
    "biogeme.modelName = 'model_1'"
   ]
  },
  {
   "cell_type": "code",
   "execution_count": 34,
   "id": "15153a33-7a9b-4b3a-be8f-7e0637d08eac",
   "metadata": {},
   "outputs": [
    {
     "name": "stdout",
     "output_type": "stream",
     "text": [
      "[11:38:28] < Warning >   Cannot read file __model_1.iter. Statement is ignored.\n"
     ]
    }
   ],
   "source": [
    "results1 = biogeme.estimate()"
   ]
  },
  {
   "cell_type": "code",
   "execution_count": 35,
   "id": "327adf9f-bbcb-4552-9d68-42481c7ab6a9",
   "metadata": {},
   "outputs": [
    {
     "name": "stdout",
     "output_type": "stream",
     "text": [
      "Number of estimated parameters:\t9\n",
      "Sample size:\t5000\n",
      "Excluded observations:\t0\n",
      "Init log likelihood:\t-3363.444\n",
      "Final log likelihood:\t-1631.756\n",
      "Likelihood ratio test for the init. model:\t3463.375\n",
      "Rho-square for the init. model:\t0.515\n",
      "Rho-square-bar for the init. model:\t0.512\n",
      "Akaike Information Criterion:\t3281.512\n",
      "Bayesian Information Criterion:\t3340.167\n",
      "Final gradient norm:\t1.4073E-02\n",
      "Nbr of threads:\t16\n",
      "\n"
     ]
    }
   ],
   "source": [
    "print(results1.printGeneralStatistics())"
   ]
  },
  {
   "cell_type": "code",
   "execution_count": 36,
   "id": "00ea6646-7eeb-4882-92f2-d3954c51de47",
   "metadata": {},
   "outputs": [
    {
     "data": {
      "text/html": [
       "<div>\n",
       "<style scoped>\n",
       "    .dataframe tbody tr th:only-of-type {\n",
       "        vertical-align: middle;\n",
       "    }\n",
       "\n",
       "    .dataframe tbody tr th {\n",
       "        vertical-align: top;\n",
       "    }\n",
       "\n",
       "    .dataframe thead th {\n",
       "        text-align: right;\n",
       "    }\n",
       "</style>\n",
       "<table border=\"1\" class=\"dataframe\">\n",
       "  <thead>\n",
       "    <tr style=\"text-align: right;\">\n",
       "      <th></th>\n",
       "      <th>Value</th>\n",
       "      <th>Rob. Std err</th>\n",
       "      <th>Rob. t-test</th>\n",
       "      <th>Rob. p-value</th>\n",
       "    </tr>\n",
       "  </thead>\n",
       "  <tbody>\n",
       "    <tr>\n",
       "      <th>asc_cycling</th>\n",
       "      <td>1.851978</td>\n",
       "      <td>0.048408</td>\n",
       "      <td>38.257788</td>\n",
       "      <td>0.000000e+00</td>\n",
       "    </tr>\n",
       "    <tr>\n",
       "      <th>asc_driving</th>\n",
       "      <td>1.763740</td>\n",
       "      <td>0.103985</td>\n",
       "      <td>16.961447</td>\n",
       "      <td>0.000000e+00</td>\n",
       "    </tr>\n",
       "    <tr>\n",
       "      <th>asc_public</th>\n",
       "      <td>-8.232910</td>\n",
       "      <td>0.039333</td>\n",
       "      <td>-209.313999</td>\n",
       "      <td>0.000000e+00</td>\n",
       "    </tr>\n",
       "    <tr>\n",
       "      <th>asc_walk</th>\n",
       "      <td>4.617192</td>\n",
       "      <td>0.120386</td>\n",
       "      <td>38.353244</td>\n",
       "      <td>0.000000e+00</td>\n",
       "    </tr>\n",
       "    <tr>\n",
       "      <th>beta_cost</th>\n",
       "      <td>0.062819</td>\n",
       "      <td>0.011852</td>\n",
       "      <td>5.300165</td>\n",
       "      <td>1.156984e-07</td>\n",
       "    </tr>\n",
       "    <tr>\n",
       "      <th>beta_time_cycling</th>\n",
       "      <td>3.744404</td>\n",
       "      <td>0.405816</td>\n",
       "      <td>9.226845</td>\n",
       "      <td>0.000000e+00</td>\n",
       "    </tr>\n",
       "    <tr>\n",
       "      <th>beta_time_driving</th>\n",
       "      <td>5.709963</td>\n",
       "      <td>0.549775</td>\n",
       "      <td>10.386008</td>\n",
       "      <td>0.000000e+00</td>\n",
       "    </tr>\n",
       "    <tr>\n",
       "      <th>beta_time_public</th>\n",
       "      <td>0.066085</td>\n",
       "      <td>0.366857</td>\n",
       "      <td>0.180138</td>\n",
       "      <td>8.570439e-01</td>\n",
       "    </tr>\n",
       "    <tr>\n",
       "      <th>beta_time_walk</th>\n",
       "      <td>-2.116734</td>\n",
       "      <td>0.564027</td>\n",
       "      <td>-3.752894</td>\n",
       "      <td>1.748048e-04</td>\n",
       "    </tr>\n",
       "  </tbody>\n",
       "</table>\n",
       "</div>"
      ],
      "text/plain": [
       "                      Value  Rob. Std err  Rob. t-test  Rob. p-value\n",
       "asc_cycling        1.851978      0.048408    38.257788  0.000000e+00\n",
       "asc_driving        1.763740      0.103985    16.961447  0.000000e+00\n",
       "asc_public        -8.232910      0.039333  -209.313999  0.000000e+00\n",
       "asc_walk           4.617192      0.120386    38.353244  0.000000e+00\n",
       "beta_cost          0.062819      0.011852     5.300165  1.156984e-07\n",
       "beta_time_cycling  3.744404      0.405816     9.226845  0.000000e+00\n",
       "beta_time_driving  5.709963      0.549775    10.386008  0.000000e+00\n",
       "beta_time_public   0.066085      0.366857     0.180138  8.570439e-01\n",
       "beta_time_walk    -2.116734      0.564027    -3.752894  1.748048e-04"
      ]
     },
     "execution_count": 36,
     "metadata": {},
     "output_type": "execute_result"
    }
   ],
   "source": [
    "results1.getEstimatedParameters()"
   ]
  },
  {
   "cell_type": "code",
   "execution_count": 37,
   "id": "76c7eedc-4b3f-4fbc-be9b-e8f5ebe032e7",
   "metadata": {},
   "outputs": [
    {
     "data": {
      "text/plain": [
       "'model_1.html'"
      ]
     },
     "execution_count": 37,
     "metadata": {},
     "output_type": "execute_result"
    }
   ],
   "source": [
    "results1.data.htmlFileName"
   ]
  },
  {
   "cell_type": "code",
   "execution_count": 38,
   "id": "49e221db-56eb-48f8-b15a-f20402117e16",
   "metadata": {},
   "outputs": [
    {
     "data": {
      "text/plain": [
       "{'Number of estimated parameters': GeneralStatistic(value=6, format=''),\n",
       " 'Sample size': GeneralStatistic(value=5000, format=''),\n",
       " 'Excluded observations': GeneralStatistic(value=0, format=''),\n",
       " 'Init log likelihood': GeneralStatistic(value=-1907.476366744466, format='.7g'),\n",
       " 'Final log likelihood': GeneralStatistic(value=-1907.4763665917858, format='.7g'),\n",
       " 'Likelihood ratio test for the init. model': GeneralStatistic(value=3.053605723835062e-07, format='.7g'),\n",
       " 'Rho-square for the init. model': GeneralStatistic(value=8.004308327258514e-11, format='.3g'),\n",
       " 'Rho-square-bar for the init. model': GeneralStatistic(value=-0.0031455172666490228, format='.3g'),\n",
       " 'Akaike Information Criterion': GeneralStatistic(value=3826.9527331835716, format='.7g'),\n",
       " 'Bayesian Information Criterion': GeneralStatistic(value=3866.055892332069, format='.7g'),\n",
       " 'Final gradient norm': GeneralStatistic(value=0.01356957932248403, format='.4E'),\n",
       " 'Nbr of threads': GeneralStatistic(value=16, format='')}"
      ]
     },
     "execution_count": 38,
     "metadata": {},
     "output_type": "execute_result"
    }
   ],
   "source": [
    "general_statistics_model_0 = results0.getGeneralStatistics()\n",
    "general_statistics_model_0"
   ]
  },
  {
   "cell_type": "code",
   "execution_count": 39,
   "id": "f06fa156-1df7-478f-b94e-4b17b45901fc",
   "metadata": {},
   "outputs": [
    {
     "data": {
      "text/plain": [
       "{'Number of estimated parameters': GeneralStatistic(value=9, format=''),\n",
       " 'Sample size': GeneralStatistic(value=5000, format=''),\n",
       " 'Excluded observations': GeneralStatistic(value=0, format=''),\n",
       " 'Init log likelihood': GeneralStatistic(value=-3363.443564258548, format='.7g'),\n",
       " 'Final log likelihood': GeneralStatistic(value=-1631.7559876836642, format='.7g'),\n",
       " 'Likelihood ratio test for the init. model': GeneralStatistic(value=3463.375153149768, format='.7g'),\n",
       " 'Rho-square for the init. model': GeneralStatistic(value=0.5148555471471467, format='.3g'),\n",
       " 'Rho-square-bar for the init. model': GeneralStatistic(value=0.5121797180963376, format='.3g'),\n",
       " 'Akaike Information Criterion': GeneralStatistic(value=3281.5119753673284, format='.7g'),\n",
       " 'Bayesian Information Criterion': GeneralStatistic(value=3340.1667140900745, format='.7g'),\n",
       " 'Final gradient norm': GeneralStatistic(value=0.014073024841928256, format='.4E'),\n",
       " 'Nbr of threads': GeneralStatistic(value=16, format='')}"
      ]
     },
     "execution_count": 39,
     "metadata": {},
     "output_type": "execute_result"
    }
   ],
   "source": [
    "general_statistics_model_1 = results1.getGeneralStatistics()\n",
    "general_statistics_model_1"
   ]
  },
  {
   "cell_type": "code",
   "execution_count": 46,
   "id": "9edacf76-dfcb-4ad0-bacc-41c6917a322c",
   "metadata": {},
   "outputs": [
    {
     "data": {
      "text/plain": [
       "551.4407578162431"
      ]
     },
     "execution_count": 46,
     "metadata": {},
     "output_type": "execute_result"
    }
   ],
   "source": [
    "#compute the log-likelihood ratio\n",
    "L0=general_statistics_model_0['Final log likelihood'].value\n",
    "L1=general_statistics_model_1['Final log likelihood'].value\n",
    "test = -2 * (L0 - L1)\n",
    "test"
   ]
  },
  {
   "cell_type": "code",
   "execution_count": 47,
   "id": "52dc3f77-40a7-4a6f-a01b-59b780f465cd",
   "metadata": {},
   "outputs": [
    {
     "data": {
      "text/plain": [
       "3"
      ]
     },
     "execution_count": 47,
     "metadata": {},
     "output_type": "execute_result"
    }
   ],
   "source": [
    "#compute the degrees of freedom for the chi2 distribution\n",
    "K0 = general_statistics_model_0['Number of estimated parameters'].value\n",
    "K1 = general_statistics_model_1['Number of estimated parameters'].value\n",
    "degrees_of_freedom = K1 - K0\n",
    "degrees_of_freedom"
   ]
  },
  {
   "cell_type": "code",
   "execution_count": 42,
   "id": "e820dd5f-23b0-46e7-965f-d481851eb236",
   "metadata": {},
   "outputs": [
    {
     "data": {
      "text/plain": [
       "7.814727903251179"
      ]
     },
     "execution_count": 42,
     "metadata": {},
     "output_type": "execute_result"
    }
   ],
   "source": [
    "from scipy.stats import chi2\n",
    "threshold = chi2.ppf(.95, degrees_of_freedom)\n",
    "threshold"
   ]
  },
  {
   "cell_type": "code",
   "execution_count": 44,
   "id": "dc8c24af-3404-4969-9794-03bade39fb12",
   "metadata": {},
   "outputs": [
    {
     "data": {
      "text/plain": [
       "LRTuple(message='H0 can be rejected at level 5.0%', statistic=551.4407578162431, threshold=7.814727903251179)"
      ]
     },
     "execution_count": 44,
     "metadata": {},
     "output_type": "execute_result"
    }
   ],
   "source": [
    "results1.likelihood_ratio_test(results0, 0.05)"
   ]
  },
  {
   "cell_type": "markdown",
   "id": "d8b4518b-03fc-44d7-a32a-882c70f098b9",
   "metadata": {},
   "source": [
    "The null hypothesis is rejected at the 5% level."
   ]
  },
  {
   "cell_type": "code",
   "execution_count": null,
   "id": "9c9cf0f2-a76d-46bd-9a5a-dc6729eddefb",
   "metadata": {},
   "outputs": [],
   "source": []
  }
 ],
 "metadata": {
  "kernelspec": {
   "display_name": "biogeme_py_kernel",
   "language": "python",
   "name": "biogeme_py_kernel"
  },
  "language_info": {
   "codemirror_mode": {
    "name": "ipython",
    "version": 3
   },
   "file_extension": ".py",
   "mimetype": "text/x-python",
   "name": "python",
   "nbconvert_exporter": "python",
   "pygments_lexer": "ipython3",
   "version": "3.8.10"
  }
 },
 "nbformat": 4,
 "nbformat_minor": 5
}
