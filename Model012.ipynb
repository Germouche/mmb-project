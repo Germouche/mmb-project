{
 "cells": [
  {
   "cell_type": "code",
   "execution_count": 205,
   "id": "ab0fd6f1-87c0-4c90-a637-1fe96242cdc0",
   "metadata": {},
   "outputs": [],
   "source": [
    "import pandas as pd\n",
    "import biogeme.database as db\n",
    "import biogeme.biogeme as bio\n",
    "from biogeme.expressions import Beta, Variable, log, exp\n",
    "from biogeme import models\n",
    "from biogeme import results as res"
   ]
  },
  {
   "cell_type": "code",
   "execution_count": 206,
   "id": "22b376cb-77ed-40ae-b643-496e0c103424",
   "metadata": {
    "scrolled": true
   },
   "outputs": [
    {
     "data": {
      "text/html": [
       "<div>\n",
       "<style scoped>\n",
       "    .dataframe tbody tr th:only-of-type {\n",
       "        vertical-align: middle;\n",
       "    }\n",
       "\n",
       "    .dataframe tbody tr th {\n",
       "        vertical-align: top;\n",
       "    }\n",
       "\n",
       "    .dataframe thead th {\n",
       "        text-align: right;\n",
       "    }\n",
       "</style>\n",
       "<table border=\"1\" class=\"dataframe\">\n",
       "  <thead>\n",
       "    <tr style=\"text-align: right;\">\n",
       "      <th></th>\n",
       "      <th>trip_id</th>\n",
       "      <th>household_id</th>\n",
       "      <th>person_n</th>\n",
       "      <th>trip_n</th>\n",
       "      <th>travel_mode</th>\n",
       "      <th>purpose</th>\n",
       "      <th>fueltype</th>\n",
       "      <th>faretype</th>\n",
       "      <th>bus_scale</th>\n",
       "      <th>survey_year</th>\n",
       "      <th>...</th>\n",
       "      <th>dur_pt_access</th>\n",
       "      <th>dur_pt_rail</th>\n",
       "      <th>dur_pt_bus</th>\n",
       "      <th>dur_pt_int</th>\n",
       "      <th>pt_interchanges</th>\n",
       "      <th>dur_driving</th>\n",
       "      <th>cost_transit</th>\n",
       "      <th>cost_driving_fuel</th>\n",
       "      <th>cost_driving_ccharge</th>\n",
       "      <th>driving_traffic_percent</th>\n",
       "    </tr>\n",
       "  </thead>\n",
       "  <tbody>\n",
       "    <tr>\n",
       "      <th>0</th>\n",
       "      <td>20</td>\n",
       "      <td>5</td>\n",
       "      <td>1</td>\n",
       "      <td>0</td>\n",
       "      <td>4</td>\n",
       "      <td>3</td>\n",
       "      <td>1</td>\n",
       "      <td>5</td>\n",
       "      <td>0.0</td>\n",
       "      <td>1</td>\n",
       "      <td>...</td>\n",
       "      <td>0.381667</td>\n",
       "      <td>0.000000</td>\n",
       "      <td>0.062222</td>\n",
       "      <td>0.000000</td>\n",
       "      <td>0</td>\n",
       "      <td>0.117222</td>\n",
       "      <td>0.00</td>\n",
       "      <td>0.41</td>\n",
       "      <td>0.0</td>\n",
       "      <td>0.097156</td>\n",
       "    </tr>\n",
       "    <tr>\n",
       "      <th>1</th>\n",
       "      <td>41</td>\n",
       "      <td>9</td>\n",
       "      <td>3</td>\n",
       "      <td>0</td>\n",
       "      <td>4</td>\n",
       "      <td>3</td>\n",
       "      <td>1</td>\n",
       "      <td>5</td>\n",
       "      <td>0.0</td>\n",
       "      <td>1</td>\n",
       "      <td>...</td>\n",
       "      <td>0.146944</td>\n",
       "      <td>0.000000</td>\n",
       "      <td>0.225000</td>\n",
       "      <td>0.000000</td>\n",
       "      <td>0</td>\n",
       "      <td>0.200833</td>\n",
       "      <td>0.00</td>\n",
       "      <td>0.48</td>\n",
       "      <td>0.0</td>\n",
       "      <td>0.378976</td>\n",
       "    </tr>\n",
       "    <tr>\n",
       "      <th>2</th>\n",
       "      <td>69</td>\n",
       "      <td>13</td>\n",
       "      <td>2</td>\n",
       "      <td>1</td>\n",
       "      <td>4</td>\n",
       "      <td>3</td>\n",
       "      <td>1</td>\n",
       "      <td>1</td>\n",
       "      <td>1.0</td>\n",
       "      <td>1</td>\n",
       "      <td>...</td>\n",
       "      <td>0.029444</td>\n",
       "      <td>0.083333</td>\n",
       "      <td>0.735833</td>\n",
       "      <td>0.398056</td>\n",
       "      <td>3</td>\n",
       "      <td>0.716944</td>\n",
       "      <td>6.00</td>\n",
       "      <td>2.16</td>\n",
       "      <td>0.0</td>\n",
       "      <td>0.582720</td>\n",
       "    </tr>\n",
       "    <tr>\n",
       "      <th>3</th>\n",
       "      <td>102</td>\n",
       "      <td>20</td>\n",
       "      <td>2</td>\n",
       "      <td>0</td>\n",
       "      <td>2</td>\n",
       "      <td>3</td>\n",
       "      <td>1</td>\n",
       "      <td>1</td>\n",
       "      <td>1.0</td>\n",
       "      <td>1</td>\n",
       "      <td>...</td>\n",
       "      <td>0.339722</td>\n",
       "      <td>0.183333</td>\n",
       "      <td>0.116667</td>\n",
       "      <td>0.266667</td>\n",
       "      <td>1</td>\n",
       "      <td>0.250833</td>\n",
       "      <td>3.00</td>\n",
       "      <td>0.89</td>\n",
       "      <td>0.0</td>\n",
       "      <td>0.170543</td>\n",
       "    </tr>\n",
       "    <tr>\n",
       "      <th>4</th>\n",
       "      <td>105</td>\n",
       "      <td>21</td>\n",
       "      <td>0</td>\n",
       "      <td>1</td>\n",
       "      <td>4</td>\n",
       "      <td>3</td>\n",
       "      <td>1</td>\n",
       "      <td>1</td>\n",
       "      <td>1.0</td>\n",
       "      <td>1</td>\n",
       "      <td>...</td>\n",
       "      <td>0.126389</td>\n",
       "      <td>0.000000</td>\n",
       "      <td>0.150000</td>\n",
       "      <td>0.000000</td>\n",
       "      <td>0</td>\n",
       "      <td>0.125833</td>\n",
       "      <td>1.50</td>\n",
       "      <td>0.37</td>\n",
       "      <td>0.0</td>\n",
       "      <td>0.154525</td>\n",
       "    </tr>\n",
       "    <tr>\n",
       "      <th>...</th>\n",
       "      <td>...</td>\n",
       "      <td>...</td>\n",
       "      <td>...</td>\n",
       "      <td>...</td>\n",
       "      <td>...</td>\n",
       "      <td>...</td>\n",
       "      <td>...</td>\n",
       "      <td>...</td>\n",
       "      <td>...</td>\n",
       "      <td>...</td>\n",
       "      <td>...</td>\n",
       "      <td>...</td>\n",
       "      <td>...</td>\n",
       "      <td>...</td>\n",
       "      <td>...</td>\n",
       "      <td>...</td>\n",
       "      <td>...</td>\n",
       "      <td>...</td>\n",
       "      <td>...</td>\n",
       "      <td>...</td>\n",
       "      <td>...</td>\n",
       "    </tr>\n",
       "    <tr>\n",
       "      <th>4995</th>\n",
       "      <td>80998</td>\n",
       "      <td>17591</td>\n",
       "      <td>0</td>\n",
       "      <td>5</td>\n",
       "      <td>4</td>\n",
       "      <td>3</td>\n",
       "      <td>1</td>\n",
       "      <td>5</td>\n",
       "      <td>0.0</td>\n",
       "      <td>3</td>\n",
       "      <td>...</td>\n",
       "      <td>0.189167</td>\n",
       "      <td>0.000000</td>\n",
       "      <td>0.117778</td>\n",
       "      <td>0.000000</td>\n",
       "      <td>0</td>\n",
       "      <td>0.082500</td>\n",
       "      <td>0.00</td>\n",
       "      <td>0.22</td>\n",
       "      <td>10.5</td>\n",
       "      <td>0.239057</td>\n",
       "    </tr>\n",
       "    <tr>\n",
       "      <th>4996</th>\n",
       "      <td>81000</td>\n",
       "      <td>17592</td>\n",
       "      <td>0</td>\n",
       "      <td>0</td>\n",
       "      <td>3</td>\n",
       "      <td>3</td>\n",
       "      <td>6</td>\n",
       "      <td>5</td>\n",
       "      <td>0.0</td>\n",
       "      <td>3</td>\n",
       "      <td>...</td>\n",
       "      <td>0.105278</td>\n",
       "      <td>0.000000</td>\n",
       "      <td>0.220278</td>\n",
       "      <td>0.000000</td>\n",
       "      <td>0</td>\n",
       "      <td>0.213611</td>\n",
       "      <td>0.00</td>\n",
       "      <td>0.52</td>\n",
       "      <td>0.0</td>\n",
       "      <td>0.412224</td>\n",
       "    </tr>\n",
       "    <tr>\n",
       "      <th>4997</th>\n",
       "      <td>81015</td>\n",
       "      <td>17597</td>\n",
       "      <td>0</td>\n",
       "      <td>3</td>\n",
       "      <td>4</td>\n",
       "      <td>3</td>\n",
       "      <td>1</td>\n",
       "      <td>5</td>\n",
       "      <td>0.0</td>\n",
       "      <td>3</td>\n",
       "      <td>...</td>\n",
       "      <td>0.343056</td>\n",
       "      <td>0.000000</td>\n",
       "      <td>0.177500</td>\n",
       "      <td>0.000000</td>\n",
       "      <td>0</td>\n",
       "      <td>0.189444</td>\n",
       "      <td>0.00</td>\n",
       "      <td>0.76</td>\n",
       "      <td>0.0</td>\n",
       "      <td>0.086510</td>\n",
       "    </tr>\n",
       "    <tr>\n",
       "      <th>4998</th>\n",
       "      <td>81041</td>\n",
       "      <td>17604</td>\n",
       "      <td>2</td>\n",
       "      <td>4</td>\n",
       "      <td>3</td>\n",
       "      <td>1</td>\n",
       "      <td>1</td>\n",
       "      <td>2</td>\n",
       "      <td>0.0</td>\n",
       "      <td>3</td>\n",
       "      <td>...</td>\n",
       "      <td>0.344444</td>\n",
       "      <td>0.316667</td>\n",
       "      <td>0.000000</td>\n",
       "      <td>0.083333</td>\n",
       "      <td>1</td>\n",
       "      <td>0.386111</td>\n",
       "      <td>1.05</td>\n",
       "      <td>0.98</td>\n",
       "      <td>0.0</td>\n",
       "      <td>0.340288</td>\n",
       "    </tr>\n",
       "    <tr>\n",
       "      <th>4999</th>\n",
       "      <td>81062</td>\n",
       "      <td>17607</td>\n",
       "      <td>0</td>\n",
       "      <td>4</td>\n",
       "      <td>3</td>\n",
       "      <td>5</td>\n",
       "      <td>6</td>\n",
       "      <td>1</td>\n",
       "      <td>1.0</td>\n",
       "      <td>3</td>\n",
       "      <td>...</td>\n",
       "      <td>0.069444</td>\n",
       "      <td>0.000000</td>\n",
       "      <td>0.166389</td>\n",
       "      <td>0.000000</td>\n",
       "      <td>0</td>\n",
       "      <td>0.146111</td>\n",
       "      <td>1.50</td>\n",
       "      <td>0.28</td>\n",
       "      <td>0.0</td>\n",
       "      <td>0.653992</td>\n",
       "    </tr>\n",
       "  </tbody>\n",
       "</table>\n",
       "<p>5000 rows × 32 columns</p>\n",
       "</div>"
      ],
      "text/plain": [
       "      trip_id  household_id  person_n  trip_n  travel_mode  purpose  fueltype  \\\n",
       "0          20             5         1       0            4        3         1   \n",
       "1          41             9         3       0            4        3         1   \n",
       "2          69            13         2       1            4        3         1   \n",
       "3         102            20         2       0            2        3         1   \n",
       "4         105            21         0       1            4        3         1   \n",
       "...       ...           ...       ...     ...          ...      ...       ...   \n",
       "4995    80998         17591         0       5            4        3         1   \n",
       "4996    81000         17592         0       0            3        3         6   \n",
       "4997    81015         17597         0       3            4        3         1   \n",
       "4998    81041         17604         2       4            3        1         1   \n",
       "4999    81062         17607         0       4            3        5         6   \n",
       "\n",
       "      faretype  bus_scale  survey_year  ...  dur_pt_access  dur_pt_rail  \\\n",
       "0            5        0.0            1  ...       0.381667     0.000000   \n",
       "1            5        0.0            1  ...       0.146944     0.000000   \n",
       "2            1        1.0            1  ...       0.029444     0.083333   \n",
       "3            1        1.0            1  ...       0.339722     0.183333   \n",
       "4            1        1.0            1  ...       0.126389     0.000000   \n",
       "...        ...        ...          ...  ...            ...          ...   \n",
       "4995         5        0.0            3  ...       0.189167     0.000000   \n",
       "4996         5        0.0            3  ...       0.105278     0.000000   \n",
       "4997         5        0.0            3  ...       0.343056     0.000000   \n",
       "4998         2        0.0            3  ...       0.344444     0.316667   \n",
       "4999         1        1.0            3  ...       0.069444     0.000000   \n",
       "\n",
       "      dur_pt_bus  dur_pt_int  pt_interchanges  dur_driving  cost_transit  \\\n",
       "0       0.062222    0.000000                0     0.117222          0.00   \n",
       "1       0.225000    0.000000                0     0.200833          0.00   \n",
       "2       0.735833    0.398056                3     0.716944          6.00   \n",
       "3       0.116667    0.266667                1     0.250833          3.00   \n",
       "4       0.150000    0.000000                0     0.125833          1.50   \n",
       "...          ...         ...              ...          ...           ...   \n",
       "4995    0.117778    0.000000                0     0.082500          0.00   \n",
       "4996    0.220278    0.000000                0     0.213611          0.00   \n",
       "4997    0.177500    0.000000                0     0.189444          0.00   \n",
       "4998    0.000000    0.083333                1     0.386111          1.05   \n",
       "4999    0.166389    0.000000                0     0.146111          1.50   \n",
       "\n",
       "      cost_driving_fuel  cost_driving_ccharge  driving_traffic_percent  \n",
       "0                  0.41                   0.0                 0.097156  \n",
       "1                  0.48                   0.0                 0.378976  \n",
       "2                  2.16                   0.0                 0.582720  \n",
       "3                  0.89                   0.0                 0.170543  \n",
       "4                  0.37                   0.0                 0.154525  \n",
       "...                 ...                   ...                      ...  \n",
       "4995               0.22                  10.5                 0.239057  \n",
       "4996               0.52                   0.0                 0.412224  \n",
       "4997               0.76                   0.0                 0.086510  \n",
       "4998               0.98                   0.0                 0.340288  \n",
       "4999               0.28                   0.0                 0.653992  \n",
       "\n",
       "[5000 rows x 32 columns]"
      ]
     },
     "execution_count": 206,
     "metadata": {},
     "output_type": "execute_result"
    }
   ],
   "source": [
    "#data_file = \"http://transp-or.epfl.ch/data/lpmc.dat\"\n",
    "data_file='lpmc10.dat'\n",
    "lpmc = pd.read_csv(data_file, sep='\\t')\n",
    "lpmc"
   ]
  },
  {
   "cell_type": "code",
   "execution_count": 207,
   "id": "7e1638dd-8977-4929-9608-98db08091327",
   "metadata": {},
   "outputs": [],
   "source": [
    "database = db.Database('trips', lpmc)"
   ]
  },
  {
   "cell_type": "code",
   "execution_count": 208,
   "id": "930ead8b-0e76-4c0a-80a9-1a788e1ce281",
   "metadata": {},
   "outputs": [],
   "source": [
    "trip_id = Variable('trip_id')\n",
    "household_id = Variable('household_id')\n",
    "person_n = Variable('person_n')\n",
    "travel_mode = Variable('travel_mode')\n",
    "purpose = Variable('purpose')\n",
    "fueltype = Variable('fueltype')\n",
    "faretype = Variable('faretype')\n",
    "bus_scale = Variable('bus_scale')\n",
    "survey_year = Variable('survey_year')\n",
    "travel_year = Variable('travel_year')\n",
    "travel_month = Variable('travel_month')\n",
    "travel_day = Variable('travel_day')\n",
    "day_of_week = Variable('day_of_week')\n",
    "start_time = Variable('day_of_week')\n",
    "age = Variable('age')\n",
    "female = Variable('female')\n",
    "driving_license = Variable('driving_license')\n",
    "car_ownership = Variable('car_ownership')\n",
    "distance = Variable\n",
    "dur_walking = Variable('dur_walking')\n",
    "dur_cycling = Variable('dur_cycling')\n",
    "dur_pt_access = Variable('dur_pt_access')\n",
    "dur_pt_rail = Variable('dur_pt_rail')\n",
    "dur_pt_bus = Variable('dur_pt_bus')\n",
    "dur_pt_int = Variable('dur_pt_int')\n",
    "pt_interchanges = Variable('pt_interchanges')\n",
    "dur_driving = Variable('dur_driving')\n",
    "cost_transit = Variable('cost_transit')\n",
    "cost_driving_fuel = Variable('cost_driving_fuel')\n",
    "cost_driving_ccharge = Variable('cost_driving_ccharge')\n",
    "driving_traffic_percent = Variable('driving_traffic_percent')"
   ]
  },
  {
   "cell_type": "markdown",
   "id": "f1dbff8f-92a1-43db-8580-402006eab205",
   "metadata": {},
   "source": [
    "# Model 0"
   ]
  },
  {
   "cell_type": "code",
   "execution_count": 209,
   "id": "8f68fac5-67ab-4c1c-a085-000e6da02cf0",
   "metadata": {},
   "outputs": [],
   "source": [
    "asc_walk = Beta('asc_walk', 0, None, None, 1)\n",
    "asc_cycling = Beta('asc_cycling', 0, None, None, 0)\n",
    "asc_public = Beta('asc_public', 0, None, None, 0)\n",
    "asc_driving = Beta('asc_driving', 0, None, None, 0)"
   ]
  },
  {
   "cell_type": "code",
   "execution_count": 210,
   "id": "cf3054c3-3abf-4c15-bd65-024c87047be5",
   "metadata": {},
   "outputs": [],
   "source": [
    "cost_driving = cost_driving_fuel + cost_driving_ccharge\n",
    "dur_public = dur_pt_access + dur_pt_rail + dur_pt_bus + dur_pt_int #total duration of public transportation"
   ]
  },
  {
   "cell_type": "code",
   "execution_count": 211,
   "id": "65e4f07e-55e8-4d2c-8822-352414e129d4",
   "metadata": {},
   "outputs": [],
   "source": [
    "beta_cost = Beta('beta_cost', 0, None, None, 0)\n",
    "beta_time = Beta('beta_time', 0, None, None, 0)"
   ]
  },
  {
   "cell_type": "code",
   "execution_count": 212,
   "id": "b3b72660-61d9-4c8d-a39c-da162e2e962b",
   "metadata": {},
   "outputs": [],
   "source": [
    "V_walk = asc_walk + beta_time * dur_walking\n",
    "V_cycling = asc_cycling + beta_time * dur_cycling\n",
    "V_driving = asc_driving + beta_time * dur_driving + beta_cost * cost_driving\n",
    "V_public = asc_public + beta_time * dur_public + beta_cost * cost_transit"
   ]
  },
  {
   "cell_type": "code",
   "execution_count": 213,
   "id": "508e8b7d-31eb-4c0b-9a95-b7d3fb8a9ce3",
   "metadata": {},
   "outputs": [],
   "source": [
    "'''prob_walk = 1 / (1 + exp(V_cycling - V_walk) + exp(V_driving - V_walk) + exp(V_public - V_walk))\n",
    "prob_cycling = 1 / (1 + exp(V_walk - V_cycling) + exp(V_driving - V_cycling) + exp(V_public - V_cycling))\n",
    "prob_driving = 1 / (1 + exp(V_cycling - V_driving) + exp(V_walk - V_driving) + exp(V_public - V_driving))\n",
    "prob_public = 1-prob_driving + prob_cycling + prob_walk\n",
    "\n",
    "prob_observation = prob_walk * (travel_mode == 1) + prob_cycling * (travel_mode == 2) + prob_driving * (travel_mode == 4) + prob_public * (travel_mode == 3) \n",
    "logprob = log(prob_observation)'''\n",
    "\n",
    "V = {1: V_walk, 2: V_cycling, 3: V_public, 4: V_driving}\n",
    "\n",
    "logprob = models.loglogit(V, None, travel_mode)"
   ]
  },
  {
   "cell_type": "code",
   "execution_count": 214,
   "id": "b7f11bd8-48cf-4591-9e46-d6953b1ac336",
   "metadata": {},
   "outputs": [],
   "source": [
    "biogeme = bio.BIOGEME(database, logprob)\n",
    "biogeme.modelName = 'model_base'"
   ]
  },
  {
   "cell_type": "code",
   "execution_count": 215,
   "id": "0d427dcd-ed96-4d14-a99b-e834e2ce3918",
   "metadata": {},
   "outputs": [],
   "source": [
    "results0 = biogeme.estimate()"
   ]
  },
  {
   "cell_type": "code",
   "execution_count": 216,
   "id": "b4343066-e396-4fb4-8086-ba365e50944e",
   "metadata": {},
   "outputs": [
    {
     "name": "stdout",
     "output_type": "stream",
     "text": [
      "Number of estimated parameters:\t5\n",
      "Sample size:\t5000\n",
      "Excluded observations:\t0\n",
      "Init log likelihood:\t-4722.972\n",
      "Final log likelihood:\t-4722.972\n",
      "Likelihood ratio test for the init. model:\t-0\n",
      "Rho-square for the init. model:\t0\n",
      "Rho-square-bar for the init. model:\t-0.00106\n",
      "Akaike Information Criterion:\t9455.944\n",
      "Bayesian Information Criterion:\t9488.53\n",
      "Final gradient norm:\t3.2270E-03\n",
      "Nbr of threads:\t4\n",
      "\n"
     ]
    }
   ],
   "source": [
    "print(results0.printGeneralStatistics())"
   ]
  },
  {
   "cell_type": "code",
   "execution_count": 217,
   "id": "2bb99022-c8de-4876-8f8e-41037d03ed59",
   "metadata": {},
   "outputs": [
    {
     "data": {
      "text/html": [
       "<div>\n",
       "<style scoped>\n",
       "    .dataframe tbody tr th:only-of-type {\n",
       "        vertical-align: middle;\n",
       "    }\n",
       "\n",
       "    .dataframe tbody tr th {\n",
       "        vertical-align: top;\n",
       "    }\n",
       "\n",
       "    .dataframe thead th {\n",
       "        text-align: right;\n",
       "    }\n",
       "</style>\n",
       "<table border=\"1\" class=\"dataframe\">\n",
       "  <thead>\n",
       "    <tr style=\"text-align: right;\">\n",
       "      <th></th>\n",
       "      <th>Value</th>\n",
       "      <th>Rob. Std err</th>\n",
       "      <th>Rob. t-test</th>\n",
       "      <th>Rob. p-value</th>\n",
       "    </tr>\n",
       "  </thead>\n",
       "  <tbody>\n",
       "    <tr>\n",
       "      <th>asc_cycling</th>\n",
       "      <td>-3.660820</td>\n",
       "      <td>0.100795</td>\n",
       "      <td>-36.319479</td>\n",
       "      <td>0.0</td>\n",
       "    </tr>\n",
       "    <tr>\n",
       "      <th>asc_driving</th>\n",
       "      <td>-1.335133</td>\n",
       "      <td>0.076403</td>\n",
       "      <td>-17.474928</td>\n",
       "      <td>0.0</td>\n",
       "    </tr>\n",
       "    <tr>\n",
       "      <th>asc_public</th>\n",
       "      <td>-0.559065</td>\n",
       "      <td>0.052620</td>\n",
       "      <td>-10.624619</td>\n",
       "      <td>0.0</td>\n",
       "    </tr>\n",
       "    <tr>\n",
       "      <th>beta_cost</th>\n",
       "      <td>-0.149850</td>\n",
       "      <td>0.013780</td>\n",
       "      <td>-10.874275</td>\n",
       "      <td>0.0</td>\n",
       "    </tr>\n",
       "    <tr>\n",
       "      <th>beta_time</th>\n",
       "      <td>-5.410243</td>\n",
       "      <td>0.188334</td>\n",
       "      <td>-28.726794</td>\n",
       "      <td>0.0</td>\n",
       "    </tr>\n",
       "  </tbody>\n",
       "</table>\n",
       "</div>"
      ],
      "text/plain": [
       "                Value  Rob. Std err  Rob. t-test  Rob. p-value\n",
       "asc_cycling -3.660820      0.100795   -36.319479           0.0\n",
       "asc_driving -1.335133      0.076403   -17.474928           0.0\n",
       "asc_public  -0.559065      0.052620   -10.624619           0.0\n",
       "beta_cost   -0.149850      0.013780   -10.874275           0.0\n",
       "beta_time   -5.410243      0.188334   -28.726794           0.0"
      ]
     },
     "execution_count": 217,
     "metadata": {},
     "output_type": "execute_result"
    }
   ],
   "source": [
    "results0.getEstimatedParameters()"
   ]
  },
  {
   "cell_type": "code",
   "execution_count": 218,
   "id": "213e4c72-975f-4e57-a933-5f40e295b8f8",
   "metadata": {},
   "outputs": [
    {
     "data": {
      "text/plain": [
       "'model_base.html'"
      ]
     },
     "execution_count": 218,
     "metadata": {},
     "output_type": "execute_result"
    }
   ],
   "source": [
    "results0.data.htmlFileName"
   ]
  },
  {
   "cell_type": "markdown",
   "id": "86f4716d-7801-4de9-bca6-2a27df9a9ae7",
   "metadata": {},
   "source": [
    "### Define Model 0"
   ]
  },
  {
   "cell_type": "code",
   "execution_count": 219,
   "id": "ea12b563-bb8a-4135-b487-b83e36c824e5",
   "metadata": {},
   "outputs": [
    {
     "name": "stdout",
     "output_type": "stream",
     "text": [
      "Number of estimated parameters:\t5\n",
      "Sample size:\t5000\n",
      "Excluded observations:\t0\n",
      "Init log likelihood:\t-5015.409\n",
      "Final log likelihood:\t-4722.972\n",
      "Likelihood ratio test for the init. model:\t584.8747\n",
      "Rho-square for the init. model:\t0.0583\n",
      "Rho-square-bar for the init. model:\t0.0573\n",
      "Akaike Information Criterion:\t9455.944\n",
      "Bayesian Information Criterion:\t9488.53\n",
      "Final gradient norm:\t3.2304E-03\n",
      "Nbr of threads:\t4\n",
      "\n"
     ]
    },
    {
     "data": {
      "text/html": [
       "<div>\n",
       "<style scoped>\n",
       "    .dataframe tbody tr th:only-of-type {\n",
       "        vertical-align: middle;\n",
       "    }\n",
       "\n",
       "    .dataframe tbody tr th {\n",
       "        vertical-align: top;\n",
       "    }\n",
       "\n",
       "    .dataframe thead th {\n",
       "        text-align: right;\n",
       "    }\n",
       "</style>\n",
       "<table border=\"1\" class=\"dataframe\">\n",
       "  <thead>\n",
       "    <tr style=\"text-align: right;\">\n",
       "      <th></th>\n",
       "      <th>Value</th>\n",
       "      <th>Rob. Std err</th>\n",
       "      <th>Rob. t-test</th>\n",
       "      <th>Rob. p-value</th>\n",
       "    </tr>\n",
       "  </thead>\n",
       "  <tbody>\n",
       "    <tr>\n",
       "      <th>asc_cycling</th>\n",
       "      <td>-3.660820</td>\n",
       "      <td>0.100795</td>\n",
       "      <td>-36.319479</td>\n",
       "      <td>0.0</td>\n",
       "    </tr>\n",
       "    <tr>\n",
       "      <th>asc_driving</th>\n",
       "      <td>-1.335133</td>\n",
       "      <td>0.076403</td>\n",
       "      <td>-17.474928</td>\n",
       "      <td>0.0</td>\n",
       "    </tr>\n",
       "    <tr>\n",
       "      <th>asc_public</th>\n",
       "      <td>-0.559065</td>\n",
       "      <td>0.052620</td>\n",
       "      <td>-10.624619</td>\n",
       "      <td>0.0</td>\n",
       "    </tr>\n",
       "    <tr>\n",
       "      <th>beta_cost</th>\n",
       "      <td>-0.149850</td>\n",
       "      <td>0.013780</td>\n",
       "      <td>-10.874275</td>\n",
       "      <td>0.0</td>\n",
       "    </tr>\n",
       "    <tr>\n",
       "      <th>beta_time</th>\n",
       "      <td>-5.410243</td>\n",
       "      <td>0.188334</td>\n",
       "      <td>-28.726794</td>\n",
       "      <td>0.0</td>\n",
       "    </tr>\n",
       "  </tbody>\n",
       "</table>\n",
       "</div>"
      ],
      "text/plain": [
       "                Value  Rob. Std err  Rob. t-test  Rob. p-value\n",
       "asc_cycling -3.660820      0.100795   -36.319479           0.0\n",
       "asc_driving -1.335133      0.076403   -17.474928           0.0\n",
       "asc_public  -0.559065      0.052620   -10.624619           0.0\n",
       "beta_cost   -0.149850      0.013780   -10.874275           0.0\n",
       "beta_time   -5.410243      0.188334   -28.726794           0.0"
      ]
     },
     "execution_count": 219,
     "metadata": {},
     "output_type": "execute_result"
    }
   ],
   "source": [
    "'''V_walk = beta_time * dur_walking\n",
    "V_cycling = beta_time * dur_cycling\n",
    "V_driving = beta_time * dur_driving + beta_cost * cost_driving\n",
    "V_public = beta_time * dur_public + beta_cost * cost_transit'''\n",
    "\n",
    "V_walk = asc_walk + beta_time * dur_walking\n",
    "V_cycling = asc_cycling + beta_time * dur_cycling\n",
    "V_driving = asc_driving + beta_time * dur_driving + beta_cost * cost_driving\n",
    "V_public = asc_public + beta_time * dur_public + beta_cost * cost_transit\n",
    "\n",
    "'''prob_walk = 1 / (1 + exp(V_cycling - V_walk) + exp(V_driving - V_walk) + exp(V_public - V_walk))\n",
    "prob_cycling = 1 / (1 + exp(V_walk - V_cycling) + exp(V_driving - V_cycling) + exp(V_public - V_cycling))\n",
    "prob_driving = 1 / (1 + exp(V_cycling - V_driving) + exp(V_walk - V_driving) + exp(V_public - V_driving))\n",
    "prob_public = 1-prob_driving + prob_cycling + prob_walk\n",
    "\n",
    "prob_observation = prob_walk * (travel_mode == 1) + prob_cycling * (travel_mode == 2) + prob_driving * (travel_mode == 4) + prob_public * (travel_mode == 3) \n",
    "logprob = log(prob_observation)'''\n",
    "\n",
    "V = {1: V_walk, 2: V_cycling, 3: V_public, 4: V_driving}\n",
    "\n",
    "logprob = models.loglogit(V, None, travel_mode)\n",
    "\n",
    "biogeme = bio.BIOGEME(database, logprob)\n",
    "biogeme.modelName = 'model_0'\n",
    "results0 = biogeme.estimate()\n",
    "print(results0.printGeneralStatistics())\n",
    "results0.getEstimatedParameters()"
   ]
  },
  {
   "cell_type": "markdown",
   "id": "8eb82a3a-51dc-41bd-97d1-94177e548c23",
   "metadata": {},
   "source": [
    "# Model 1\n"
   ]
  },
  {
   "cell_type": "code",
   "execution_count": 220,
   "id": "fc8ff85e-f7a7-40b5-b01f-f056fa0dfb26",
   "metadata": {},
   "outputs": [],
   "source": [
    "asc_walk = Beta('asc_walk', 0, None, None, 1)\n",
    "asc_cycling = Beta('asc_cycling', 0, None, None, 0)\n",
    "asc_public = Beta('asc_public', 0, None, None, 0)\n",
    "asc_driving = Beta('asc_driving', 0, None, None, 0)"
   ]
  },
  {
   "cell_type": "code",
   "execution_count": 221,
   "id": "4c1ba6de-c6f2-4a18-ba93-0f2257d91fc4",
   "metadata": {},
   "outputs": [],
   "source": [
    "cost_driving = cost_driving_fuel + cost_driving_ccharge\n",
    "dur_public = dur_pt_access + dur_pt_rail + dur_pt_bus + dur_pt_int #total duration of public transportation"
   ]
  },
  {
   "cell_type": "code",
   "execution_count": 222,
   "id": "33f83c0c-6a62-4a3b-9657-865a438c44a2",
   "metadata": {},
   "outputs": [],
   "source": [
    "beta_time_walk = Beta('beta_time_walk', 0, None, None, 0)\n",
    "beta_time_cycling = Beta('beta_time_cycling', 0, None, None, 0)\n",
    "beta_time_driving = Beta('beta_time_driving', 0, None, None, 0)\n",
    "beta_time_public = Beta('beta_time_public', 0, None, None, 0)"
   ]
  },
  {
   "cell_type": "code",
   "execution_count": 223,
   "id": "26915e2a-4235-41d1-b6df-da5e62460069",
   "metadata": {},
   "outputs": [
    {
     "data": {
      "text/plain": [
       "'V_walk = beta_time_walk * dur_walking\\nV_cycling =  beta_time_cycling * dur_cycling\\nV_driving = beta_time_driving * dur_driving + beta_cost * cost_driving\\nV_public = beta_time_public * dur_public + beta_cost * cost_transit'"
      ]
     },
     "execution_count": 223,
     "metadata": {},
     "output_type": "execute_result"
    }
   ],
   "source": [
    "V_walk = asc_walk + beta_time_walk * dur_walking\n",
    "V_cycling = asc_cycling + beta_time_cycling * dur_cycling\n",
    "V_driving = asc_driving + beta_time_driving * dur_driving + beta_cost * cost_driving\n",
    "V_public = asc_public + beta_time_public * dur_public + beta_cost * cost_transit\n",
    "'''V_walk = beta_time_walk * dur_walking\n",
    "V_cycling =  beta_time_cycling * dur_cycling\n",
    "V_driving = beta_time_driving * dur_driving + beta_cost * cost_driving\n",
    "V_public = beta_time_public * dur_public + beta_cost * cost_transit'''"
   ]
  },
  {
   "cell_type": "code",
   "execution_count": 224,
   "id": "b1c83641-821e-453e-8d80-4a3a1f32d8d9",
   "metadata": {},
   "outputs": [],
   "source": [
    "\n",
    "'''prob_walk = 1 / (1 + exp(V_cycling - V_walk) + exp(V_driving - V_walk) + exp(V_public - V_walk))\n",
    "prob_cycling = 1 / (1 + exp(V_walk - V_cycling) + exp(V_driving - V_cycling) + exp(V_public - V_cycling))\n",
    "prob_driving = 1 / (1 + exp(V_cycling - V_driving) + exp(V_walk - V_driving) + exp(V_public - V_driving))\n",
    "prob_public = 1-prob_driving + prob_cycling + prob_walk'''\n",
    "\n",
    "prob_observation = prob_walk * (travel_mode == 1) + prob_cycling * (travel_mode == 2) + prob_driving * (travel_mode == 4) + prob_public * (travel_mode == 3) \n",
    "logprob = log(prob_observation)\n",
    "\n",
    "V = {1: V_walk, 2: V_cycling, 3: V_public, 4: V_driving}\n",
    "\n",
    "logprob = models.loglogit(V, None, travel_mode)"
   ]
  },
  {
   "cell_type": "code",
   "execution_count": 225,
   "id": "7b8b59b7-3475-4c8c-bb94-c53bfea17820",
   "metadata": {},
   "outputs": [],
   "source": [
    "biogeme = bio.BIOGEME(database, logprob)\n",
    "biogeme.modelName = 'model_1'"
   ]
  },
  {
   "cell_type": "code",
   "execution_count": 226,
   "id": "15153a33-7a9b-4b3a-be8f-7e0637d08eac",
   "metadata": {},
   "outputs": [],
   "source": [
    "results1 = biogeme.estimate()"
   ]
  },
  {
   "cell_type": "code",
   "execution_count": 227,
   "id": "327adf9f-bbcb-4552-9d68-42481c7ab6a9",
   "metadata": {},
   "outputs": [
    {
     "name": "stdout",
     "output_type": "stream",
     "text": [
      "Number of estimated parameters:\t8\n",
      "Sample size:\t5000\n",
      "Excluded observations:\t0\n",
      "Init log likelihood:\t-4412.008\n",
      "Final log likelihood:\t-4412.008\n",
      "Likelihood ratio test for the init. model:\t2.735721e-05\n",
      "Rho-square for the init. model:\t3.1e-09\n",
      "Rho-square-bar for the init. model:\t-0.00181\n",
      "Akaike Information Criterion:\t8840.016\n",
      "Bayesian Information Criterion:\t8892.154\n",
      "Final gradient norm:\t2.4625E-02\n",
      "Nbr of threads:\t4\n",
      "\n"
     ]
    }
   ],
   "source": [
    "print(results1.printGeneralStatistics())"
   ]
  },
  {
   "cell_type": "code",
   "execution_count": 228,
   "id": "00ea6646-7eeb-4882-92f2-d3954c51de47",
   "metadata": {},
   "outputs": [
    {
     "data": {
      "text/html": [
       "<div>\n",
       "<style scoped>\n",
       "    .dataframe tbody tr th:only-of-type {\n",
       "        vertical-align: middle;\n",
       "    }\n",
       "\n",
       "    .dataframe tbody tr th {\n",
       "        vertical-align: top;\n",
       "    }\n",
       "\n",
       "    .dataframe thead th {\n",
       "        text-align: right;\n",
       "    }\n",
       "</style>\n",
       "<table border=\"1\" class=\"dataframe\">\n",
       "  <thead>\n",
       "    <tr style=\"text-align: right;\">\n",
       "      <th></th>\n",
       "      <th>Value</th>\n",
       "      <th>Rob. Std err</th>\n",
       "      <th>Rob. t-test</th>\n",
       "      <th>Rob. p-value</th>\n",
       "    </tr>\n",
       "  </thead>\n",
       "  <tbody>\n",
       "    <tr>\n",
       "      <th>asc_cycling</th>\n",
       "      <td>-4.590559</td>\n",
       "      <td>0.179038</td>\n",
       "      <td>-25.640156</td>\n",
       "      <td>0.0</td>\n",
       "    </tr>\n",
       "    <tr>\n",
       "      <th>asc_driving</th>\n",
       "      <td>-2.072176</td>\n",
       "      <td>0.120171</td>\n",
       "      <td>-17.243521</td>\n",
       "      <td>0.0</td>\n",
       "    </tr>\n",
       "    <tr>\n",
       "      <th>asc_public</th>\n",
       "      <td>-2.439718</td>\n",
       "      <td>0.121955</td>\n",
       "      <td>-20.005013</td>\n",
       "      <td>0.0</td>\n",
       "    </tr>\n",
       "    <tr>\n",
       "      <th>beta_cost</th>\n",
       "      <td>-0.141794</td>\n",
       "      <td>0.015193</td>\n",
       "      <td>-9.332654</td>\n",
       "      <td>0.0</td>\n",
       "    </tr>\n",
       "    <tr>\n",
       "      <th>beta_time_cycling</th>\n",
       "      <td>-5.195457</td>\n",
       "      <td>0.423894</td>\n",
       "      <td>-12.256490</td>\n",
       "      <td>0.0</td>\n",
       "    </tr>\n",
       "    <tr>\n",
       "      <th>beta_time_driving</th>\n",
       "      <td>-5.874430</td>\n",
       "      <td>0.359744</td>\n",
       "      <td>-16.329457</td>\n",
       "      <td>0.0</td>\n",
       "    </tr>\n",
       "    <tr>\n",
       "      <th>beta_time_public</th>\n",
       "      <td>-3.199827</td>\n",
       "      <td>0.230717</td>\n",
       "      <td>-13.869059</td>\n",
       "      <td>0.0</td>\n",
       "    </tr>\n",
       "    <tr>\n",
       "      <th>beta_time_walk</th>\n",
       "      <td>-8.367753</td>\n",
       "      <td>0.360131</td>\n",
       "      <td>-23.235336</td>\n",
       "      <td>0.0</td>\n",
       "    </tr>\n",
       "  </tbody>\n",
       "</table>\n",
       "</div>"
      ],
      "text/plain": [
       "                      Value  Rob. Std err  Rob. t-test  Rob. p-value\n",
       "asc_cycling       -4.590559      0.179038   -25.640156           0.0\n",
       "asc_driving       -2.072176      0.120171   -17.243521           0.0\n",
       "asc_public        -2.439718      0.121955   -20.005013           0.0\n",
       "beta_cost         -0.141794      0.015193    -9.332654           0.0\n",
       "beta_time_cycling -5.195457      0.423894   -12.256490           0.0\n",
       "beta_time_driving -5.874430      0.359744   -16.329457           0.0\n",
       "beta_time_public  -3.199827      0.230717   -13.869059           0.0\n",
       "beta_time_walk    -8.367753      0.360131   -23.235336           0.0"
      ]
     },
     "execution_count": 228,
     "metadata": {},
     "output_type": "execute_result"
    }
   ],
   "source": [
    "results1.getEstimatedParameters()"
   ]
  },
  {
   "cell_type": "code",
   "execution_count": 229,
   "id": "76c7eedc-4b3f-4fbc-be9b-e8f5ebe032e7",
   "metadata": {},
   "outputs": [
    {
     "data": {
      "text/plain": [
       "'model_1.html'"
      ]
     },
     "execution_count": 229,
     "metadata": {},
     "output_type": "execute_result"
    }
   ],
   "source": [
    "results1.data.htmlFileName"
   ]
  },
  {
   "cell_type": "markdown",
   "id": "b01b5dc8-dd4d-4ca0-b2a7-c1b3c99b78a7",
   "metadata": {},
   "source": [
    "## Comparing Models 0 and 1"
   ]
  },
  {
   "cell_type": "code",
   "execution_count": 230,
   "id": "49e221db-56eb-48f8-b15a-f20402117e16",
   "metadata": {},
   "outputs": [
    {
     "data": {
      "text/plain": [
       "{'Number of estimated parameters': GeneralStatistic(value=5, format=''),\n",
       " 'Sample size': GeneralStatistic(value=5000, format=''),\n",
       " 'Excluded observations': GeneralStatistic(value=0, format=''),\n",
       " 'Init log likelihood': GeneralStatistic(value=-5015.409157399887, format='.7g'),\n",
       " 'Final log likelihood': GeneralStatistic(value=-4722.971810901689, format='.7g'),\n",
       " 'Likelihood ratio test for the init. model': GeneralStatistic(value=584.8746929963945, format='.7g'),\n",
       " 'Rho-square for the init. model': GeneralStatistic(value=0.058307774564459236, format='.3g'),\n",
       " 'Rho-square-bar for the init. model': GeneralStatistic(value=0.05731084692743427, format='.3g'),\n",
       " 'Akaike Information Criterion': GeneralStatistic(value=9455.943621803379, format='.7g'),\n",
       " 'Bayesian Information Criterion': GeneralStatistic(value=9488.52958776046, format='.7g'),\n",
       " 'Final gradient norm': GeneralStatistic(value=0.00323035292982025, format='.4E'),\n",
       " 'Nbr of threads': GeneralStatistic(value=4, format='')}"
      ]
     },
     "execution_count": 230,
     "metadata": {},
     "output_type": "execute_result"
    }
   ],
   "source": [
    "general_statistics_model_0 = results0.getGeneralStatistics()\n",
    "general_statistics_model_0"
   ]
  },
  {
   "cell_type": "code",
   "execution_count": 231,
   "id": "f06fa156-1df7-478f-b94e-4b17b45901fc",
   "metadata": {},
   "outputs": [
    {
     "data": {
      "text/plain": [
       "{'Number of estimated parameters': GeneralStatistic(value=8, format=''),\n",
       " 'Sample size': GeneralStatistic(value=5000, format=''),\n",
       " 'Excluded observations': GeneralStatistic(value=0, format=''),\n",
       " 'Init log likelihood': GeneralStatistic(value=-4412.007995234046, format='.7g'),\n",
       " 'Final log likelihood': GeneralStatistic(value=-4412.007981555442, format='.7g'),\n",
       " 'Likelihood ratio test for the init. model': GeneralStatistic(value=2.7357207727618515e-05, format='.7g'),\n",
       " 'Rho-square for the init. model': GeneralStatistic(value=3.100312562231977e-09, format='.3g'),\n",
       " 'Rho-square-bar for the init. model': GeneralStatistic(value=-0.001813230241204833, format='.3g'),\n",
       " 'Akaike Information Criterion': GeneralStatistic(value=8840.015963110884, format='.7g'),\n",
       " 'Bayesian Information Criterion': GeneralStatistic(value=8892.153508642214, format='.7g'),\n",
       " 'Final gradient norm': GeneralStatistic(value=0.024625293437189763, format='.4E'),\n",
       " 'Nbr of threads': GeneralStatistic(value=4, format='')}"
      ]
     },
     "execution_count": 231,
     "metadata": {},
     "output_type": "execute_result"
    }
   ],
   "source": [
    "general_statistics_model_1 = results1.getGeneralStatistics()\n",
    "general_statistics_model_1"
   ]
  },
  {
   "cell_type": "markdown",
   "id": "f2fc59b9-68b5-4ca7-a163-50f2ffadb67b",
   "metadata": {},
   "source": [
    "### By hand"
   ]
  },
  {
   "cell_type": "code",
   "execution_count": 232,
   "id": "71b3de04-9c26-40d0-ba7b-aacc7087a3ec",
   "metadata": {},
   "outputs": [],
   "source": [
    "alpha = 0.05 #significance level"
   ]
  },
  {
   "cell_type": "code",
   "execution_count": 233,
   "id": "9edacf76-dfcb-4ad0-bacc-41c6917a322c",
   "metadata": {},
   "outputs": [
    {
     "data": {
      "text/plain": [
       "621.9276586924952"
      ]
     },
     "execution_count": 233,
     "metadata": {},
     "output_type": "execute_result"
    }
   ],
   "source": [
    "#compute the log-likelihood ratio\n",
    "L0=general_statistics_model_0['Final log likelihood'].value\n",
    "L1=general_statistics_model_1['Final log likelihood'].value\n",
    "test = -2 * (L0 - L1)\n",
    "test"
   ]
  },
  {
   "cell_type": "code",
   "execution_count": 234,
   "id": "52dc3f77-40a7-4a6f-a01b-59b780f465cd",
   "metadata": {},
   "outputs": [
    {
     "data": {
      "text/plain": [
       "3"
      ]
     },
     "execution_count": 234,
     "metadata": {},
     "output_type": "execute_result"
    }
   ],
   "source": [
    "#compute the degrees of freedom for the chi2 distribution\n",
    "K0 = general_statistics_model_0['Number of estimated parameters'].value\n",
    "K1 = general_statistics_model_1['Number of estimated parameters'].value\n",
    "degrees_of_freedom = K1 - K0\n",
    "degrees_of_freedom"
   ]
  },
  {
   "cell_type": "code",
   "execution_count": 235,
   "id": "e820dd5f-23b0-46e7-965f-d481851eb236",
   "metadata": {},
   "outputs": [
    {
     "data": {
      "text/plain": [
       "7.814727903251179"
      ]
     },
     "execution_count": 235,
     "metadata": {},
     "output_type": "execute_result"
    }
   ],
   "source": [
    "from scipy.stats import chi2\n",
    "threshold = chi2.ppf(1-alpha, degrees_of_freedom)\n",
    "threshold"
   ]
  },
  {
   "cell_type": "markdown",
   "id": "c4cd0a9f-3773-4cc5-b7e7-aa083e1a8cc1",
   "metadata": {},
   "source": [
    "621.9276321304606 > 7.814727903251179 so we reject the null hypothesis at level 0.05%."
   ]
  },
  {
   "cell_type": "markdown",
   "id": "5730133d-99bc-4cf6-a58f-14b02bdeda35",
   "metadata": {},
   "source": [
    "### Automatically"
   ]
  },
  {
   "cell_type": "code",
   "execution_count": 236,
   "id": "dc8c24af-3404-4969-9794-03bade39fb12",
   "metadata": {},
   "outputs": [
    {
     "data": {
      "text/plain": [
       "LRTuple(message='H0 can be rejected at level 5.0%', statistic=621.9276586924952, threshold=7.814727903251179)"
      ]
     },
     "execution_count": 236,
     "metadata": {},
     "output_type": "execute_result"
    }
   ],
   "source": [
    "results1.likelihood_ratio_test(results0, alpha)"
   ]
  },
  {
   "cell_type": "markdown",
   "id": "d8b4518b-03fc-44d7-a32a-882c70f098b9",
   "metadata": {},
   "source": [
    "The null hypothesis is rejected at the 5% level."
   ]
  },
  {
   "cell_type": "markdown",
   "id": "79a58d37",
   "metadata": {},
   "source": [
    "### Model 2\n",
    "include pt_interchanges for alternative public transport and driving_liscence to interact with ASC_driving\n",
    "\n",
    "Model specification:\n",
    "\n",
    "$ $$V_{walk}$$=ASC_{walk}+\\beta_{time\\_walk}time_{walk} $\n",
    "\n",
    "$ $$V_{cycling}$$=ASC_{cycling}+\\beta_{time\\_cycle}time_{cycle} $\n",
    "\n",
    "$ $$V_{public}$$=ASC_{public}+\\beta_{time\\_public}time_{public}+\\beta_{cost}cost_{public}+\\beta_{interchange}Number_{interchange}$\n",
    "\n",
    "$ $$V_{driving}$$=ASC_{driving}+\\beta_{time\\_driving}time_{driving}+\\beta_{cost}cost_{driving}+\\beta_{drivingliscence}drivingliscence$"
   ]
  },
  {
   "cell_type": "code",
   "execution_count": 237,
   "id": "d86f70a2",
   "metadata": {},
   "outputs": [],
   "source": [
    "asc_walk = Beta('asc_walk', 0, None, None, 1) # Normalizing asc_walk to 0\n",
    "asc_cycling = Beta('asc_cycling', 0, None, None, 0)\n",
    "asc_public = Beta('asc_public', 0, None, None, 0)\n",
    "asc_driving = Beta('asc_driving', 0, None, None, 0)"
   ]
  },
  {
   "cell_type": "code",
   "execution_count": 238,
   "id": "1054f505",
   "metadata": {},
   "outputs": [],
   "source": [
    "cost_driving = cost_driving_fuel + cost_driving_ccharge\n",
    "dur_public = dur_pt_access + dur_pt_rail + dur_pt_bus + dur_pt_int # total duration of public transportation"
   ]
  },
  {
   "cell_type": "code",
   "execution_count": 239,
   "id": "8b16fdc9",
   "metadata": {},
   "outputs": [],
   "source": [
    "beta_time_walk = Beta('beta_time_walk', 0, None, None, 0)\n",
    "beta_time_cycling = Beta('beta_time_cycling', 0, None, None, 0)\n",
    "beta_time_driving = Beta('beta_time_driving', 0, None, None, 0)\n",
    "beta_time_public = Beta('beta_time_public', 0, None, None, 0)\n",
    "beta_cost = Beta('beta_cost', 0, None, None, 0)\n",
    "beta_interchange = Beta('beta_interchange',0, None, None,0)\n",
    "beta_drivingliscence = Beta('beta_drivingliscence',0,None,None,0)"
   ]
  },
  {
   "cell_type": "markdown",
   "id": "b0a17cc3",
   "metadata": {},
   "source": [
    "### Define Model 2"
   ]
  },
  {
   "cell_type": "code",
   "execution_count": 240,
   "id": "57cde6e5",
   "metadata": {},
   "outputs": [],
   "source": [
    "V_walk = asc_walk + beta_time_walk * dur_walking\n",
    "V_cycling = asc_cycling + beta_time_cycling * dur_cycling\n",
    "V_public = asc_public + beta_time_public * dur_public + beta_cost * cost_transit + beta_interchange * pt_interchanges\n",
    "V_driving = asc_driving + beta_time_driving * dur_driving + beta_cost * cost_driving + beta_drivingliscence * driving_license\n",
    "\n",
    "V = {1: V_walk, 2: V_cycling, 3: V_public, 4: V_driving}\n",
    "\n",
    "logprob = models.loglogit(V, None, travel_mode)\n",
    "'''prob_walk = 1 / (1 + exp(V_cycling - V_walk) + exp(V_driving - V_walk) + exp(V_public - V_walk))\n",
    "prob_cycling = 1 / (1 + exp(V_walk - V_cycling) + exp(V_driving - V_cycling) + exp(V_public - V_cycling))\n",
    "prob_driving = 1 / (1 + exp(V_cycling - V_driving) + exp(V_walk - V_driving) + exp(V_public - V_driving))\n",
    "prob_public = 1-prob_driving + prob_cycling + prob_walk\n",
    "\n",
    "prob_observation = prob_walk * (travel_mode == 1) + prob_cycling * (travel_mode == 2) + prob_driving * (travel_mode == 4) + prob_public * (travel_mode == 3) \n",
    "logprob = log(prob_observation)'''\n",
    "\n",
    "biogeme.modelName = 'model_2'"
   ]
  },
  {
   "cell_type": "code",
   "execution_count": 241,
   "id": "f92fa977",
   "metadata": {},
   "outputs": [],
   "source": [
    "biogeme = bio.BIOGEME(database, logprob)\n",
    "biogeme.modelName = 'model_2'"
   ]
  },
  {
   "cell_type": "code",
   "execution_count": 242,
   "id": "ae058683",
   "metadata": {},
   "outputs": [],
   "source": [
    "results2 = biogeme.estimate()"
   ]
  },
  {
   "cell_type": "code",
   "execution_count": 243,
   "id": "49461027",
   "metadata": {},
   "outputs": [
    {
     "name": "stdout",
     "output_type": "stream",
     "text": [
      "Number of estimated parameters:\t10\n",
      "Sample size:\t5000\n",
      "Excluded observations:\t0\n",
      "Init log likelihood:\t-4207.638\n",
      "Final log likelihood:\t-4207.638\n",
      "Likelihood ratio test for the init. model:\t2.745219e-07\n",
      "Rho-square for the init. model:\t3.26e-11\n",
      "Rho-square-bar for the init. model:\t-0.00238\n",
      "Akaike Information Criterion:\t8435.277\n",
      "Bayesian Information Criterion:\t8500.449\n",
      "Final gradient norm:\t2.9910E-02\n",
      "Nbr of threads:\t4\n",
      "\n"
     ]
    }
   ],
   "source": [
    "print(results2.printGeneralStatistics())"
   ]
  },
  {
   "cell_type": "code",
   "execution_count": 244,
   "id": "f5ad361f",
   "metadata": {},
   "outputs": [
    {
     "data": {
      "text/html": [
       "<div>\n",
       "<style scoped>\n",
       "    .dataframe tbody tr th:only-of-type {\n",
       "        vertical-align: middle;\n",
       "    }\n",
       "\n",
       "    .dataframe tbody tr th {\n",
       "        vertical-align: top;\n",
       "    }\n",
       "\n",
       "    .dataframe thead th {\n",
       "        text-align: right;\n",
       "    }\n",
       "</style>\n",
       "<table border=\"1\" class=\"dataframe\">\n",
       "  <thead>\n",
       "    <tr style=\"text-align: right;\">\n",
       "      <th></th>\n",
       "      <th>Value</th>\n",
       "      <th>Rob. Std err</th>\n",
       "      <th>Rob. t-test</th>\n",
       "      <th>Rob. p-value</th>\n",
       "    </tr>\n",
       "  </thead>\n",
       "  <tbody>\n",
       "    <tr>\n",
       "      <th>asc_cycling</th>\n",
       "      <td>-4.657299</td>\n",
       "      <td>0.184990</td>\n",
       "      <td>-25.175912</td>\n",
       "      <td>0.000000</td>\n",
       "    </tr>\n",
       "    <tr>\n",
       "      <th>asc_driving</th>\n",
       "      <td>-2.924760</td>\n",
       "      <td>0.134271</td>\n",
       "      <td>-21.782439</td>\n",
       "      <td>0.000000</td>\n",
       "    </tr>\n",
       "    <tr>\n",
       "      <th>asc_public</th>\n",
       "      <td>-2.494754</td>\n",
       "      <td>0.125799</td>\n",
       "      <td>-19.831194</td>\n",
       "      <td>0.000000</td>\n",
       "    </tr>\n",
       "    <tr>\n",
       "      <th>beta_cost</th>\n",
       "      <td>-0.130478</td>\n",
       "      <td>0.013882</td>\n",
       "      <td>-9.398759</td>\n",
       "      <td>0.000000</td>\n",
       "    </tr>\n",
       "    <tr>\n",
       "      <th>beta_drivingliscence</th>\n",
       "      <td>1.359150</td>\n",
       "      <td>0.069274</td>\n",
       "      <td>19.619857</td>\n",
       "      <td>0.000000</td>\n",
       "    </tr>\n",
       "    <tr>\n",
       "      <th>beta_interchange</th>\n",
       "      <td>-0.030186</td>\n",
       "      <td>0.085146</td>\n",
       "      <td>-0.354520</td>\n",
       "      <td>0.722949</td>\n",
       "    </tr>\n",
       "    <tr>\n",
       "      <th>beta_time_cycling</th>\n",
       "      <td>-5.402394</td>\n",
       "      <td>0.443382</td>\n",
       "      <td>-12.184512</td>\n",
       "      <td>0.000000</td>\n",
       "    </tr>\n",
       "    <tr>\n",
       "      <th>beta_time_driving</th>\n",
       "      <td>-6.437378</td>\n",
       "      <td>0.374040</td>\n",
       "      <td>-17.210415</td>\n",
       "      <td>0.000000</td>\n",
       "    </tr>\n",
       "    <tr>\n",
       "      <th>beta_time_public</th>\n",
       "      <td>-3.393840</td>\n",
       "      <td>0.259014</td>\n",
       "      <td>-13.102899</td>\n",
       "      <td>0.000000</td>\n",
       "    </tr>\n",
       "    <tr>\n",
       "      <th>beta_time_walk</th>\n",
       "      <td>-8.563141</td>\n",
       "      <td>0.370435</td>\n",
       "      <td>-23.116463</td>\n",
       "      <td>0.000000</td>\n",
       "    </tr>\n",
       "  </tbody>\n",
       "</table>\n",
       "</div>"
      ],
      "text/plain": [
       "                         Value  Rob. Std err  Rob. t-test  Rob. p-value\n",
       "asc_cycling          -4.657299      0.184990   -25.175912      0.000000\n",
       "asc_driving          -2.924760      0.134271   -21.782439      0.000000\n",
       "asc_public           -2.494754      0.125799   -19.831194      0.000000\n",
       "beta_cost            -0.130478      0.013882    -9.398759      0.000000\n",
       "beta_drivingliscence  1.359150      0.069274    19.619857      0.000000\n",
       "beta_interchange     -0.030186      0.085146    -0.354520      0.722949\n",
       "beta_time_cycling    -5.402394      0.443382   -12.184512      0.000000\n",
       "beta_time_driving    -6.437378      0.374040   -17.210415      0.000000\n",
       "beta_time_public     -3.393840      0.259014   -13.102899      0.000000\n",
       "beta_time_walk       -8.563141      0.370435   -23.116463      0.000000"
      ]
     },
     "execution_count": 244,
     "metadata": {},
     "output_type": "execute_result"
    }
   ],
   "source": [
    "results2.getEstimatedParameters()"
   ]
  },
  {
   "cell_type": "code",
   "execution_count": 245,
   "id": "fab6e726",
   "metadata": {},
   "outputs": [
    {
     "data": {
      "text/plain": [
       "'model_2.html'"
      ]
     },
     "execution_count": 245,
     "metadata": {},
     "output_type": "execute_result"
    }
   ],
   "source": [
    "results2.data.htmlFileName"
   ]
  },
  {
   "cell_type": "code",
   "execution_count": 246,
   "id": "a5e5ca2a",
   "metadata": {},
   "outputs": [
    {
     "data": {
      "text/plain": [
       "LRTuple(message='H0 can be rejected at level 5.0%', statistic=408.7390215501109, threshold=5.991464547107979)"
      ]
     },
     "execution_count": 246,
     "metadata": {},
     "output_type": "execute_result"
    }
   ],
   "source": [
    "results2.likelihood_ratio_test(results1, alpha)"
   ]
  },
  {
   "cell_type": "markdown",
   "id": "42a69b29",
   "metadata": {},
   "source": [
    "Model 2 is the preferred model"
   ]
  },
  {
   "cell_type": "code",
   "execution_count": null,
   "id": "cf865ab4",
   "metadata": {},
   "outputs": [],
   "source": []
  }
 ],
 "metadata": {
  "kernelspec": {
   "display_name": "Python 3 (ipykernel)",
   "language": "python",
   "name": "python3"
  },
  "language_info": {
   "codemirror_mode": {
    "name": "ipython",
    "version": 3
   },
   "file_extension": ".py",
   "mimetype": "text/x-python",
   "name": "python",
   "nbconvert_exporter": "python",
   "pygments_lexer": "ipython3",
   "version": "3.9.12"
  }
 },
 "nbformat": 4,
 "nbformat_minor": 5
}
