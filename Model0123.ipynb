{
 "cells": [
  {
   "cell_type": "code",
   "execution_count": 1,
   "id": "ab0fd6f1-87c0-4c90-a637-1fe96242cdc0",
   "metadata": {},
   "outputs": [],
   "source": [
    "import pandas as pd\n",
    "import biogeme.database as db\n",
    "import biogeme.biogeme as bio\n",
    "from biogeme.expressions import Beta, Variable, log, exp\n",
    "from biogeme import models\n",
    "from biogeme import results as res"
   ]
  },
  {
   "cell_type": "code",
   "execution_count": 204,
   "id": "22b376cb-77ed-40ae-b643-496e0c103424",
   "metadata": {
    "scrolled": true
   },
   "outputs": [
    {
     "data": {
      "text/html": [
       "<div>\n",
       "<style scoped>\n",
       "    .dataframe tbody tr th:only-of-type {\n",
       "        vertical-align: middle;\n",
       "    }\n",
       "\n",
       "    .dataframe tbody tr th {\n",
       "        vertical-align: top;\n",
       "    }\n",
       "\n",
       "    .dataframe thead th {\n",
       "        text-align: right;\n",
       "    }\n",
       "</style>\n",
       "<table border=\"1\" class=\"dataframe\">\n",
       "  <thead>\n",
       "    <tr style=\"text-align: right;\">\n",
       "      <th></th>\n",
       "      <th>trip_id</th>\n",
       "      <th>household_id</th>\n",
       "      <th>person_n</th>\n",
       "      <th>trip_n</th>\n",
       "      <th>travel_mode</th>\n",
       "      <th>purpose</th>\n",
       "      <th>fueltype</th>\n",
       "      <th>faretype</th>\n",
       "      <th>bus_scale</th>\n",
       "      <th>survey_year</th>\n",
       "      <th>...</th>\n",
       "      <th>dur_pt_access</th>\n",
       "      <th>dur_pt_rail</th>\n",
       "      <th>dur_pt_bus</th>\n",
       "      <th>dur_pt_int</th>\n",
       "      <th>pt_interchanges</th>\n",
       "      <th>dur_driving</th>\n",
       "      <th>cost_transit</th>\n",
       "      <th>cost_driving_fuel</th>\n",
       "      <th>cost_driving_ccharge</th>\n",
       "      <th>driving_traffic_percent</th>\n",
       "    </tr>\n",
       "  </thead>\n",
       "  <tbody>\n",
       "    <tr>\n",
       "      <th>0</th>\n",
       "      <td>20</td>\n",
       "      <td>5</td>\n",
       "      <td>1</td>\n",
       "      <td>0</td>\n",
       "      <td>4</td>\n",
       "      <td>3</td>\n",
       "      <td>1</td>\n",
       "      <td>5</td>\n",
       "      <td>0.0</td>\n",
       "      <td>1</td>\n",
       "      <td>...</td>\n",
       "      <td>0.381667</td>\n",
       "      <td>0.000000</td>\n",
       "      <td>0.062222</td>\n",
       "      <td>0.000000</td>\n",
       "      <td>0</td>\n",
       "      <td>0.117222</td>\n",
       "      <td>0.00</td>\n",
       "      <td>0.41</td>\n",
       "      <td>0.0</td>\n",
       "      <td>0.097156</td>\n",
       "    </tr>\n",
       "    <tr>\n",
       "      <th>1</th>\n",
       "      <td>41</td>\n",
       "      <td>9</td>\n",
       "      <td>3</td>\n",
       "      <td>0</td>\n",
       "      <td>4</td>\n",
       "      <td>3</td>\n",
       "      <td>1</td>\n",
       "      <td>5</td>\n",
       "      <td>0.0</td>\n",
       "      <td>1</td>\n",
       "      <td>...</td>\n",
       "      <td>0.146944</td>\n",
       "      <td>0.000000</td>\n",
       "      <td>0.225000</td>\n",
       "      <td>0.000000</td>\n",
       "      <td>0</td>\n",
       "      <td>0.200833</td>\n",
       "      <td>0.00</td>\n",
       "      <td>0.48</td>\n",
       "      <td>0.0</td>\n",
       "      <td>0.378976</td>\n",
       "    </tr>\n",
       "    <tr>\n",
       "      <th>2</th>\n",
       "      <td>69</td>\n",
       "      <td>13</td>\n",
       "      <td>2</td>\n",
       "      <td>1</td>\n",
       "      <td>4</td>\n",
       "      <td>3</td>\n",
       "      <td>1</td>\n",
       "      <td>1</td>\n",
       "      <td>1.0</td>\n",
       "      <td>1</td>\n",
       "      <td>...</td>\n",
       "      <td>0.029444</td>\n",
       "      <td>0.083333</td>\n",
       "      <td>0.735833</td>\n",
       "      <td>0.398056</td>\n",
       "      <td>3</td>\n",
       "      <td>0.716944</td>\n",
       "      <td>6.00</td>\n",
       "      <td>2.16</td>\n",
       "      <td>0.0</td>\n",
       "      <td>0.582720</td>\n",
       "    </tr>\n",
       "    <tr>\n",
       "      <th>3</th>\n",
       "      <td>102</td>\n",
       "      <td>20</td>\n",
       "      <td>2</td>\n",
       "      <td>0</td>\n",
       "      <td>2</td>\n",
       "      <td>3</td>\n",
       "      <td>1</td>\n",
       "      <td>1</td>\n",
       "      <td>1.0</td>\n",
       "      <td>1</td>\n",
       "      <td>...</td>\n",
       "      <td>0.339722</td>\n",
       "      <td>0.183333</td>\n",
       "      <td>0.116667</td>\n",
       "      <td>0.266667</td>\n",
       "      <td>1</td>\n",
       "      <td>0.250833</td>\n",
       "      <td>3.00</td>\n",
       "      <td>0.89</td>\n",
       "      <td>0.0</td>\n",
       "      <td>0.170543</td>\n",
       "    </tr>\n",
       "    <tr>\n",
       "      <th>4</th>\n",
       "      <td>105</td>\n",
       "      <td>21</td>\n",
       "      <td>0</td>\n",
       "      <td>1</td>\n",
       "      <td>4</td>\n",
       "      <td>3</td>\n",
       "      <td>1</td>\n",
       "      <td>1</td>\n",
       "      <td>1.0</td>\n",
       "      <td>1</td>\n",
       "      <td>...</td>\n",
       "      <td>0.126389</td>\n",
       "      <td>0.000000</td>\n",
       "      <td>0.150000</td>\n",
       "      <td>0.000000</td>\n",
       "      <td>0</td>\n",
       "      <td>0.125833</td>\n",
       "      <td>1.50</td>\n",
       "      <td>0.37</td>\n",
       "      <td>0.0</td>\n",
       "      <td>0.154525</td>\n",
       "    </tr>\n",
       "    <tr>\n",
       "      <th>...</th>\n",
       "      <td>...</td>\n",
       "      <td>...</td>\n",
       "      <td>...</td>\n",
       "      <td>...</td>\n",
       "      <td>...</td>\n",
       "      <td>...</td>\n",
       "      <td>...</td>\n",
       "      <td>...</td>\n",
       "      <td>...</td>\n",
       "      <td>...</td>\n",
       "      <td>...</td>\n",
       "      <td>...</td>\n",
       "      <td>...</td>\n",
       "      <td>...</td>\n",
       "      <td>...</td>\n",
       "      <td>...</td>\n",
       "      <td>...</td>\n",
       "      <td>...</td>\n",
       "      <td>...</td>\n",
       "      <td>...</td>\n",
       "      <td>...</td>\n",
       "    </tr>\n",
       "    <tr>\n",
       "      <th>4995</th>\n",
       "      <td>80998</td>\n",
       "      <td>17591</td>\n",
       "      <td>0</td>\n",
       "      <td>5</td>\n",
       "      <td>4</td>\n",
       "      <td>3</td>\n",
       "      <td>1</td>\n",
       "      <td>5</td>\n",
       "      <td>0.0</td>\n",
       "      <td>3</td>\n",
       "      <td>...</td>\n",
       "      <td>0.189167</td>\n",
       "      <td>0.000000</td>\n",
       "      <td>0.117778</td>\n",
       "      <td>0.000000</td>\n",
       "      <td>0</td>\n",
       "      <td>0.082500</td>\n",
       "      <td>0.00</td>\n",
       "      <td>0.22</td>\n",
       "      <td>10.5</td>\n",
       "      <td>0.239057</td>\n",
       "    </tr>\n",
       "    <tr>\n",
       "      <th>4996</th>\n",
       "      <td>81000</td>\n",
       "      <td>17592</td>\n",
       "      <td>0</td>\n",
       "      <td>0</td>\n",
       "      <td>3</td>\n",
       "      <td>3</td>\n",
       "      <td>6</td>\n",
       "      <td>5</td>\n",
       "      <td>0.0</td>\n",
       "      <td>3</td>\n",
       "      <td>...</td>\n",
       "      <td>0.105278</td>\n",
       "      <td>0.000000</td>\n",
       "      <td>0.220278</td>\n",
       "      <td>0.000000</td>\n",
       "      <td>0</td>\n",
       "      <td>0.213611</td>\n",
       "      <td>0.00</td>\n",
       "      <td>0.52</td>\n",
       "      <td>0.0</td>\n",
       "      <td>0.412224</td>\n",
       "    </tr>\n",
       "    <tr>\n",
       "      <th>4997</th>\n",
       "      <td>81015</td>\n",
       "      <td>17597</td>\n",
       "      <td>0</td>\n",
       "      <td>3</td>\n",
       "      <td>4</td>\n",
       "      <td>3</td>\n",
       "      <td>1</td>\n",
       "      <td>5</td>\n",
       "      <td>0.0</td>\n",
       "      <td>3</td>\n",
       "      <td>...</td>\n",
       "      <td>0.343056</td>\n",
       "      <td>0.000000</td>\n",
       "      <td>0.177500</td>\n",
       "      <td>0.000000</td>\n",
       "      <td>0</td>\n",
       "      <td>0.189444</td>\n",
       "      <td>0.00</td>\n",
       "      <td>0.76</td>\n",
       "      <td>0.0</td>\n",
       "      <td>0.086510</td>\n",
       "    </tr>\n",
       "    <tr>\n",
       "      <th>4998</th>\n",
       "      <td>81041</td>\n",
       "      <td>17604</td>\n",
       "      <td>2</td>\n",
       "      <td>4</td>\n",
       "      <td>3</td>\n",
       "      <td>1</td>\n",
       "      <td>1</td>\n",
       "      <td>2</td>\n",
       "      <td>0.0</td>\n",
       "      <td>3</td>\n",
       "      <td>...</td>\n",
       "      <td>0.344444</td>\n",
       "      <td>0.316667</td>\n",
       "      <td>0.000000</td>\n",
       "      <td>0.083333</td>\n",
       "      <td>1</td>\n",
       "      <td>0.386111</td>\n",
       "      <td>1.05</td>\n",
       "      <td>0.98</td>\n",
       "      <td>0.0</td>\n",
       "      <td>0.340288</td>\n",
       "    </tr>\n",
       "    <tr>\n",
       "      <th>4999</th>\n",
       "      <td>81062</td>\n",
       "      <td>17607</td>\n",
       "      <td>0</td>\n",
       "      <td>4</td>\n",
       "      <td>3</td>\n",
       "      <td>5</td>\n",
       "      <td>6</td>\n",
       "      <td>1</td>\n",
       "      <td>1.0</td>\n",
       "      <td>3</td>\n",
       "      <td>...</td>\n",
       "      <td>0.069444</td>\n",
       "      <td>0.000000</td>\n",
       "      <td>0.166389</td>\n",
       "      <td>0.000000</td>\n",
       "      <td>0</td>\n",
       "      <td>0.146111</td>\n",
       "      <td>1.50</td>\n",
       "      <td>0.28</td>\n",
       "      <td>0.0</td>\n",
       "      <td>0.653992</td>\n",
       "    </tr>\n",
       "  </tbody>\n",
       "</table>\n",
       "<p>5000 rows × 32 columns</p>\n",
       "</div>"
      ],
      "text/plain": [
       "      trip_id  household_id  person_n  trip_n  travel_mode  purpose  fueltype  \\\n",
       "0          20             5         1       0            4        3         1   \n",
       "1          41             9         3       0            4        3         1   \n",
       "2          69            13         2       1            4        3         1   \n",
       "3         102            20         2       0            2        3         1   \n",
       "4         105            21         0       1            4        3         1   \n",
       "...       ...           ...       ...     ...          ...      ...       ...   \n",
       "4995    80998         17591         0       5            4        3         1   \n",
       "4996    81000         17592         0       0            3        3         6   \n",
       "4997    81015         17597         0       3            4        3         1   \n",
       "4998    81041         17604         2       4            3        1         1   \n",
       "4999    81062         17607         0       4            3        5         6   \n",
       "\n",
       "      faretype  bus_scale  survey_year  ...  dur_pt_access  dur_pt_rail  \\\n",
       "0            5        0.0            1  ...       0.381667     0.000000   \n",
       "1            5        0.0            1  ...       0.146944     0.000000   \n",
       "2            1        1.0            1  ...       0.029444     0.083333   \n",
       "3            1        1.0            1  ...       0.339722     0.183333   \n",
       "4            1        1.0            1  ...       0.126389     0.000000   \n",
       "...        ...        ...          ...  ...            ...          ...   \n",
       "4995         5        0.0            3  ...       0.189167     0.000000   \n",
       "4996         5        0.0            3  ...       0.105278     0.000000   \n",
       "4997         5        0.0            3  ...       0.343056     0.000000   \n",
       "4998         2        0.0            3  ...       0.344444     0.316667   \n",
       "4999         1        1.0            3  ...       0.069444     0.000000   \n",
       "\n",
       "      dur_pt_bus  dur_pt_int  pt_interchanges  dur_driving  cost_transit  \\\n",
       "0       0.062222    0.000000                0     0.117222          0.00   \n",
       "1       0.225000    0.000000                0     0.200833          0.00   \n",
       "2       0.735833    0.398056                3     0.716944          6.00   \n",
       "3       0.116667    0.266667                1     0.250833          3.00   \n",
       "4       0.150000    0.000000                0     0.125833          1.50   \n",
       "...          ...         ...              ...          ...           ...   \n",
       "4995    0.117778    0.000000                0     0.082500          0.00   \n",
       "4996    0.220278    0.000000                0     0.213611          0.00   \n",
       "4997    0.177500    0.000000                0     0.189444          0.00   \n",
       "4998    0.000000    0.083333                1     0.386111          1.05   \n",
       "4999    0.166389    0.000000                0     0.146111          1.50   \n",
       "\n",
       "      cost_driving_fuel  cost_driving_ccharge  driving_traffic_percent  \n",
       "0                  0.41                   0.0                 0.097156  \n",
       "1                  0.48                   0.0                 0.378976  \n",
       "2                  2.16                   0.0                 0.582720  \n",
       "3                  0.89                   0.0                 0.170543  \n",
       "4                  0.37                   0.0                 0.154525  \n",
       "...                 ...                   ...                      ...  \n",
       "4995               0.22                  10.5                 0.239057  \n",
       "4996               0.52                   0.0                 0.412224  \n",
       "4997               0.76                   0.0                 0.086510  \n",
       "4998               0.98                   0.0                 0.340288  \n",
       "4999               0.28                   0.0                 0.653992  \n",
       "\n",
       "[5000 rows x 32 columns]"
      ]
     },
     "execution_count": 204,
     "metadata": {},
     "output_type": "execute_result"
    }
   ],
   "source": [
    "#data_file = \"http://transp-or.epfl.ch/data/lpmc.dat\"\n",
    "data_file='lpmc10.dat'\n",
    "lpmc = pd.read_csv(data_file, sep='\\t')\n",
    "lpmc"
   ]
  },
  {
   "cell_type": "code",
   "execution_count": 205,
   "id": "7e1638dd-8977-4929-9608-98db08091327",
   "metadata": {},
   "outputs": [],
   "source": [
    "database = db.Database('trips', lpmc)"
   ]
  },
  {
   "cell_type": "code",
   "execution_count": 45,
   "id": "7ac0c800",
   "metadata": {},
   "outputs": [
    {
     "data": {
      "text/plain": [
       "Index(['trip_id', 'household_id', 'person_n', 'trip_n', 'travel_mode',\n",
       "       'purpose', 'fueltype', 'faretype', 'bus_scale', 'survey_year',\n",
       "       'travel_year', 'travel_month', 'travel_date', 'day_of_week',\n",
       "       'start_time', 'age', 'female', 'driving_license', 'car_ownership',\n",
       "       'distance', 'dur_walking', 'dur_cycling', 'dur_pt_access',\n",
       "       'dur_pt_rail', 'dur_pt_bus', 'dur_pt_int', 'pt_interchanges',\n",
       "       'dur_driving', 'cost_transit', 'cost_driving_fuel',\n",
       "       'cost_driving_ccharge', 'driving_traffic_percent'],\n",
       "      dtype='object')"
      ]
     },
     "execution_count": 45,
     "metadata": {},
     "output_type": "execute_result"
    }
   ],
   "source": [
    "lpmc.columns"
   ]
  },
  {
   "cell_type": "code",
   "execution_count": 206,
   "id": "dc6a42ac",
   "metadata": {},
   "outputs": [],
   "source": [
    "# define variables\n",
    "for col in lpmc.columns:\n",
    "    globals()[col]=Variable(col)"
   ]
  },
  {
   "cell_type": "markdown",
   "id": "f1dbff8f-92a1-43db-8580-402006eab205",
   "metadata": {},
   "source": [
    "# Model 0"
   ]
  },
  {
   "cell_type": "code",
   "execution_count": 5,
   "id": "8f68fac5-67ab-4c1c-a085-000e6da02cf0",
   "metadata": {},
   "outputs": [],
   "source": [
    "asc_walk = Beta('asc_walk', 0, None, None, 1)\n",
    "asc_cycling = Beta('asc_cycling', 0, None, None, 0)\n",
    "asc_public = Beta('asc_public', 0, None, None, 0)\n",
    "asc_driving = Beta('asc_driving', 0, None, None, 0)"
   ]
  },
  {
   "cell_type": "code",
   "execution_count": 207,
   "id": "cf3054c3-3abf-4c15-bd65-024c87047be5",
   "metadata": {},
   "outputs": [],
   "source": [
    "cost_driving = cost_driving_fuel + cost_driving_ccharge #total costs of driving\n",
    "dur_public = dur_pt_access + dur_pt_rail + dur_pt_bus + dur_pt_int #total duration of public transportation"
   ]
  },
  {
   "cell_type": "code",
   "execution_count": 7,
   "id": "65e4f07e-55e8-4d2c-8822-352414e129d4",
   "metadata": {},
   "outputs": [],
   "source": [
    "beta_cost = Beta('beta_cost', 0, None, None, 0)\n",
    "beta_time = Beta('beta_time', 0, None, None, 0)"
   ]
  },
  {
   "cell_type": "code",
   "execution_count": 8,
   "id": "b3b72660-61d9-4c8d-a39c-da162e2e962b",
   "metadata": {},
   "outputs": [],
   "source": [
    "V_walk = asc_walk + beta_time * dur_walking\n",
    "V_cycling = asc_cycling + beta_time * dur_cycling\n",
    "V_driving = asc_driving + beta_time * dur_driving + beta_cost * cost_driving\n",
    "V_public = asc_public + beta_time * dur_public + beta_cost * cost_transit"
   ]
  },
  {
   "cell_type": "code",
   "execution_count": 9,
   "id": "508e8b7d-31eb-4c0b-9a95-b7d3fb8a9ce3",
   "metadata": {},
   "outputs": [],
   "source": [
    "V = {1: V_walk, 2: V_cycling, 3: V_public, 4: V_driving}\n",
    "\n",
    "# define choice sets for individuals\n",
    "# av = {1: 1, 2: 1, 3: 1, 4: driving_license}\n",
    "\n",
    "logprob = models.loglogit(V, None, travel_mode)"
   ]
  },
  {
   "cell_type": "code",
   "execution_count": 10,
   "id": "b7f11bd8-48cf-4591-9e46-d6953b1ac336",
   "metadata": {},
   "outputs": [],
   "source": [
    "biogeme = bio.BIOGEME(database, logprob)\n",
    "biogeme.modelName = 'model_base'"
   ]
  },
  {
   "cell_type": "code",
   "execution_count": 11,
   "id": "0d427dcd-ed96-4d14-a99b-e834e2ce3918",
   "metadata": {},
   "outputs": [
    {
     "name": "stdout",
     "output_type": "stream",
     "text": [
      "[17:43:38] < Warning >   Cannot read file __model_base.iter. Statement is ignored.\n"
     ]
    }
   ],
   "source": [
    "results0 = biogeme.estimate()"
   ]
  },
  {
   "cell_type": "code",
   "execution_count": 12,
   "id": "b4343066-e396-4fb4-8086-ba365e50944e",
   "metadata": {},
   "outputs": [
    {
     "name": "stdout",
     "output_type": "stream",
     "text": [
      "Number of estimated parameters:\t5\n",
      "Sample size:\t5000\n",
      "Excluded observations:\t0\n",
      "Init log likelihood:\t-6931.472\n",
      "Final log likelihood:\t-4722.972\n",
      "Likelihood ratio test for the init. model:\t4417\n",
      "Rho-square for the init. model:\t0.319\n",
      "Rho-square-bar for the init. model:\t0.318\n",
      "Akaike Information Criterion:\t9455.944\n",
      "Bayesian Information Criterion:\t9488.53\n",
      "Final gradient norm:\t1.0691E-03\n",
      "Nbr of threads:\t16\n",
      "\n"
     ]
    }
   ],
   "source": [
    "print(results0.printGeneralStatistics())"
   ]
  },
  {
   "cell_type": "code",
   "execution_count": 13,
   "id": "2bb99022-c8de-4876-8f8e-41037d03ed59",
   "metadata": {},
   "outputs": [
    {
     "data": {
      "text/html": [
       "<div>\n",
       "<style scoped>\n",
       "    .dataframe tbody tr th:only-of-type {\n",
       "        vertical-align: middle;\n",
       "    }\n",
       "\n",
       "    .dataframe tbody tr th {\n",
       "        vertical-align: top;\n",
       "    }\n",
       "\n",
       "    .dataframe thead th {\n",
       "        text-align: right;\n",
       "    }\n",
       "</style>\n",
       "<table border=\"1\" class=\"dataframe\">\n",
       "  <thead>\n",
       "    <tr style=\"text-align: right;\">\n",
       "      <th></th>\n",
       "      <th>Value</th>\n",
       "      <th>Rob. Std err</th>\n",
       "      <th>Rob. t-test</th>\n",
       "      <th>Rob. p-value</th>\n",
       "    </tr>\n",
       "  </thead>\n",
       "  <tbody>\n",
       "    <tr>\n",
       "      <th>asc_cycling</th>\n",
       "      <td>-3.660824</td>\n",
       "      <td>0.100795</td>\n",
       "      <td>-36.319469</td>\n",
       "      <td>0.0</td>\n",
       "    </tr>\n",
       "    <tr>\n",
       "      <th>asc_driving</th>\n",
       "      <td>-1.335138</td>\n",
       "      <td>0.076403</td>\n",
       "      <td>-17.474949</td>\n",
       "      <td>0.0</td>\n",
       "    </tr>\n",
       "    <tr>\n",
       "      <th>asc_public</th>\n",
       "      <td>-0.559066</td>\n",
       "      <td>0.052620</td>\n",
       "      <td>-10.624628</td>\n",
       "      <td>0.0</td>\n",
       "    </tr>\n",
       "    <tr>\n",
       "      <th>beta_cost</th>\n",
       "      <td>-0.149850</td>\n",
       "      <td>0.013780</td>\n",
       "      <td>-10.874260</td>\n",
       "      <td>0.0</td>\n",
       "    </tr>\n",
       "    <tr>\n",
       "      <th>beta_time</th>\n",
       "      <td>-5.410269</td>\n",
       "      <td>0.188336</td>\n",
       "      <td>-28.726735</td>\n",
       "      <td>0.0</td>\n",
       "    </tr>\n",
       "  </tbody>\n",
       "</table>\n",
       "</div>"
      ],
      "text/plain": [
       "                Value  Rob. Std err  Rob. t-test  Rob. p-value\n",
       "asc_cycling -3.660824      0.100795   -36.319469           0.0\n",
       "asc_driving -1.335138      0.076403   -17.474949           0.0\n",
       "asc_public  -0.559066      0.052620   -10.624628           0.0\n",
       "beta_cost   -0.149850      0.013780   -10.874260           0.0\n",
       "beta_time   -5.410269      0.188336   -28.726735           0.0"
      ]
     },
     "execution_count": 13,
     "metadata": {},
     "output_type": "execute_result"
    }
   ],
   "source": [
    "results0.getEstimatedParameters()"
   ]
  },
  {
   "cell_type": "code",
   "execution_count": 14,
   "id": "213e4c72-975f-4e57-a933-5f40e295b8f8",
   "metadata": {},
   "outputs": [],
   "source": [
    "# results0.data.htmlFileName"
   ]
  },
  {
   "cell_type": "markdown",
   "id": "8eb82a3a-51dc-41bd-97d1-94177e548c23",
   "metadata": {},
   "source": [
    "# Model 1\n"
   ]
  },
  {
   "cell_type": "code",
   "execution_count": 15,
   "id": "fc8ff85e-f7a7-40b5-b01f-f056fa0dfb26",
   "metadata": {},
   "outputs": [],
   "source": [
    "asc_walk = Beta('asc_walk', 0, None, None, 1)\n",
    "asc_cycling = Beta('asc_cycling', 0, None, None, 0)\n",
    "asc_public = Beta('asc_public', 0, None, None, 0)\n",
    "asc_driving = Beta('asc_driving', 0, None, None, 0)"
   ]
  },
  {
   "cell_type": "code",
   "execution_count": 16,
   "id": "4c1ba6de-c6f2-4a18-ba93-0f2257d91fc4",
   "metadata": {},
   "outputs": [],
   "source": [
    "cost_driving = cost_driving_fuel + cost_driving_ccharge\n",
    "dur_public = dur_pt_access + dur_pt_rail + dur_pt_bus + dur_pt_int #total duration of public transportation"
   ]
  },
  {
   "cell_type": "code",
   "execution_count": 17,
   "id": "33f83c0c-6a62-4a3b-9657-865a438c44a2",
   "metadata": {},
   "outputs": [],
   "source": [
    "beta_time_walk = Beta('beta_time_walk', 0, None, None, 0)\n",
    "beta_time_cycling = Beta('beta_time_cycling', 0, None, None, 0)\n",
    "beta_time_driving = Beta('beta_time_driving', 0, None, None, 0)\n",
    "beta_time_public = Beta('beta_time_public', 0, None, None, 0)"
   ]
  },
  {
   "cell_type": "code",
   "execution_count": 18,
   "id": "26915e2a-4235-41d1-b6df-da5e62460069",
   "metadata": {},
   "outputs": [],
   "source": [
    "V_walk = asc_walk + beta_time_walk * dur_walking\n",
    "V_cycling = asc_cycling + beta_time_cycling * dur_cycling\n",
    "V_driving = asc_driving + beta_time_driving * dur_driving + beta_cost * cost_driving\n",
    "V_public = asc_public + beta_time_public * dur_public + beta_cost * cost_transit"
   ]
  },
  {
   "cell_type": "code",
   "execution_count": 19,
   "id": "b1c83641-821e-453e-8d80-4a3a1f32d8d9",
   "metadata": {},
   "outputs": [],
   "source": [
    "V = {1: V_walk, 2: V_cycling, 3: V_public, 4: V_driving}\n",
    "\n",
    "logprob = models.loglogit(V, None, travel_mode)"
   ]
  },
  {
   "cell_type": "code",
   "execution_count": 20,
   "id": "7b8b59b7-3475-4c8c-bb94-c53bfea17820",
   "metadata": {},
   "outputs": [],
   "source": [
    "biogeme = bio.BIOGEME(database, logprob)\n",
    "biogeme.modelName = 'model_1'"
   ]
  },
  {
   "cell_type": "code",
   "execution_count": 21,
   "id": "15153a33-7a9b-4b3a-be8f-7e0637d08eac",
   "metadata": {},
   "outputs": [
    {
     "name": "stdout",
     "output_type": "stream",
     "text": [
      "[17:43:43] < Warning >   Cannot read file __model_1.iter. Statement is ignored.\n"
     ]
    }
   ],
   "source": [
    "results1 = biogeme.estimate()"
   ]
  },
  {
   "cell_type": "code",
   "execution_count": 22,
   "id": "327adf9f-bbcb-4552-9d68-42481c7ab6a9",
   "metadata": {},
   "outputs": [
    {
     "name": "stdout",
     "output_type": "stream",
     "text": [
      "Number of estimated parameters:\t8\n",
      "Sample size:\t5000\n",
      "Excluded observations:\t0\n",
      "Init log likelihood:\t-6931.472\n",
      "Final log likelihood:\t-4412.008\n",
      "Likelihood ratio test for the init. model:\t5038.928\n",
      "Rho-square for the init. model:\t0.363\n",
      "Rho-square-bar for the init. model:\t0.362\n",
      "Akaike Information Criterion:\t8840.016\n",
      "Bayesian Information Criterion:\t8892.153\n",
      "Final gradient norm:\t2.5518E-02\n",
      "Nbr of threads:\t16\n",
      "\n"
     ]
    }
   ],
   "source": [
    "print(results1.printGeneralStatistics())"
   ]
  },
  {
   "cell_type": "code",
   "execution_count": 23,
   "id": "00ea6646-7eeb-4882-92f2-d3954c51de47",
   "metadata": {},
   "outputs": [
    {
     "data": {
      "text/html": [
       "<div>\n",
       "<style scoped>\n",
       "    .dataframe tbody tr th:only-of-type {\n",
       "        vertical-align: middle;\n",
       "    }\n",
       "\n",
       "    .dataframe tbody tr th {\n",
       "        vertical-align: top;\n",
       "    }\n",
       "\n",
       "    .dataframe thead th {\n",
       "        text-align: right;\n",
       "    }\n",
       "</style>\n",
       "<table border=\"1\" class=\"dataframe\">\n",
       "  <thead>\n",
       "    <tr style=\"text-align: right;\">\n",
       "      <th></th>\n",
       "      <th>Value</th>\n",
       "      <th>Rob. Std err</th>\n",
       "      <th>Rob. t-test</th>\n",
       "      <th>Rob. p-value</th>\n",
       "    </tr>\n",
       "  </thead>\n",
       "  <tbody>\n",
       "    <tr>\n",
       "      <th>asc_cycling</th>\n",
       "      <td>-4.590519</td>\n",
       "      <td>0.179036</td>\n",
       "      <td>-25.640219</td>\n",
       "      <td>0.0</td>\n",
       "    </tr>\n",
       "    <tr>\n",
       "      <th>asc_driving</th>\n",
       "      <td>-2.072023</td>\n",
       "      <td>0.120163</td>\n",
       "      <td>-17.243377</td>\n",
       "      <td>0.0</td>\n",
       "    </tr>\n",
       "    <tr>\n",
       "      <th>asc_public</th>\n",
       "      <td>-2.439478</td>\n",
       "      <td>0.121947</td>\n",
       "      <td>-20.004412</td>\n",
       "      <td>0.0</td>\n",
       "    </tr>\n",
       "    <tr>\n",
       "      <th>beta_cost</th>\n",
       "      <td>-0.141780</td>\n",
       "      <td>0.015193</td>\n",
       "      <td>-9.331745</td>\n",
       "      <td>0.0</td>\n",
       "    </tr>\n",
       "    <tr>\n",
       "      <th>beta_time_cycling</th>\n",
       "      <td>-5.195891</td>\n",
       "      <td>0.423907</td>\n",
       "      <td>-12.257160</td>\n",
       "      <td>0.0</td>\n",
       "    </tr>\n",
       "    <tr>\n",
       "      <th>beta_time_driving</th>\n",
       "      <td>-5.875433</td>\n",
       "      <td>0.359795</td>\n",
       "      <td>-16.329946</td>\n",
       "      <td>0.0</td>\n",
       "    </tr>\n",
       "    <tr>\n",
       "      <th>beta_time_public</th>\n",
       "      <td>-3.200593</td>\n",
       "      <td>0.230746</td>\n",
       "      <td>-13.870609</td>\n",
       "      <td>0.0</td>\n",
       "    </tr>\n",
       "    <tr>\n",
       "      <th>beta_time_walk</th>\n",
       "      <td>-8.367591</td>\n",
       "      <td>0.360100</td>\n",
       "      <td>-23.236825</td>\n",
       "      <td>0.0</td>\n",
       "    </tr>\n",
       "  </tbody>\n",
       "</table>\n",
       "</div>"
      ],
      "text/plain": [
       "                      Value  Rob. Std err  Rob. t-test  Rob. p-value\n",
       "asc_cycling       -4.590519      0.179036   -25.640219           0.0\n",
       "asc_driving       -2.072023      0.120163   -17.243377           0.0\n",
       "asc_public        -2.439478      0.121947   -20.004412           0.0\n",
       "beta_cost         -0.141780      0.015193    -9.331745           0.0\n",
       "beta_time_cycling -5.195891      0.423907   -12.257160           0.0\n",
       "beta_time_driving -5.875433      0.359795   -16.329946           0.0\n",
       "beta_time_public  -3.200593      0.230746   -13.870609           0.0\n",
       "beta_time_walk    -8.367591      0.360100   -23.236825           0.0"
      ]
     },
     "execution_count": 23,
     "metadata": {},
     "output_type": "execute_result"
    }
   ],
   "source": [
    "results1.getEstimatedParameters()"
   ]
  },
  {
   "cell_type": "code",
   "execution_count": 24,
   "id": "76c7eedc-4b3f-4fbc-be9b-e8f5ebe032e7",
   "metadata": {},
   "outputs": [],
   "source": [
    "# results1.data.htmlFileName"
   ]
  },
  {
   "cell_type": "markdown",
   "id": "b01b5dc8-dd4d-4ca0-b2a7-c1b3c99b78a7",
   "metadata": {},
   "source": [
    "## Comparing Models 0 and 1"
   ]
  },
  {
   "cell_type": "code",
   "execution_count": 25,
   "id": "49e221db-56eb-48f8-b15a-f20402117e16",
   "metadata": {},
   "outputs": [
    {
     "name": "stdout",
     "output_type": "stream",
     "text": [
      "Number of estimated parameters:\t5\n",
      "Sample size:\t5000\n",
      "Excluded observations:\t0\n",
      "Init log likelihood:\t-6931.472\n",
      "Final log likelihood:\t-4722.972\n",
      "Likelihood ratio test for the init. model:\t4417\n",
      "Rho-square for the init. model:\t0.319\n",
      "Rho-square-bar for the init. model:\t0.318\n",
      "Akaike Information Criterion:\t9455.944\n",
      "Bayesian Information Criterion:\t9488.53\n",
      "Final gradient norm:\t1.0691E-03\n",
      "Nbr of threads:\t16\n",
      "\n"
     ]
    }
   ],
   "source": [
    "general_statistics_model_0 = results0.getGeneralStatistics()\n",
    "print(results0.printGeneralStatistics())"
   ]
  },
  {
   "cell_type": "code",
   "execution_count": 26,
   "id": "f06fa156-1df7-478f-b94e-4b17b45901fc",
   "metadata": {},
   "outputs": [
    {
     "name": "stdout",
     "output_type": "stream",
     "text": [
      "Number of estimated parameters:\t8\n",
      "Sample size:\t5000\n",
      "Excluded observations:\t0\n",
      "Init log likelihood:\t-6931.472\n",
      "Final log likelihood:\t-4412.008\n",
      "Likelihood ratio test for the init. model:\t5038.928\n",
      "Rho-square for the init. model:\t0.363\n",
      "Rho-square-bar for the init. model:\t0.362\n",
      "Akaike Information Criterion:\t8840.016\n",
      "Bayesian Information Criterion:\t8892.153\n",
      "Final gradient norm:\t2.5518E-02\n",
      "Nbr of threads:\t16\n",
      "\n"
     ]
    }
   ],
   "source": [
    "general_statistics_model_1 = results1.getGeneralStatistics()\n",
    "print(results1.printGeneralStatistics())"
   ]
  },
  {
   "cell_type": "markdown",
   "id": "f2fc59b9-68b5-4ca7-a163-50f2ffadb67b",
   "metadata": {},
   "source": [
    "### Likelihood ratio test"
   ]
  },
  {
   "cell_type": "markdown",
   "id": "1710a1b6",
   "metadata": {},
   "source": [
    "$H_O$: $\\beta\\_time\\_walk=\\beta\\_time\\_driving=\\beta\\_time\\_public=\\beta\\_time\\_cycling$\n",
    "\n",
    "Because model 0 is an restricted version of model 1, we can apply the likelihood ratio test."
   ]
  },
  {
   "cell_type": "code",
   "execution_count": 27,
   "id": "dc8c24af-3404-4969-9794-03bade39fb12",
   "metadata": {},
   "outputs": [
    {
     "data": {
      "text/plain": [
       "LRTuple(message='H0 can be rejected at level 5.0%', statistic=621.9276889295215, threshold=7.814727903251179)"
      ]
     },
     "execution_count": 27,
     "metadata": {},
     "output_type": "execute_result"
    }
   ],
   "source": [
    "alpha=0.05\n",
    "results1.likelihood_ratio_test(results0, alpha)"
   ]
  },
  {
   "cell_type": "markdown",
   "id": "d8b4518b-03fc-44d7-a32a-882c70f098b9",
   "metadata": {},
   "source": [
    "According to the test result, the null hypothesis is rejected at the 5% level."
   ]
  },
  {
   "cell_type": "markdown",
   "id": "79a58d37",
   "metadata": {},
   "source": [
    "# Model 2"
   ]
  },
  {
   "cell_type": "markdown",
   "id": "383445db",
   "metadata": {},
   "source": [
    "1. One alternative attribute: pt_interchanges for public transport  \n",
    "The assumption is that the number of interchanges is relevant to the overall experience of taking public transport. \n",
    "2. One socio-economic characteristics: driving_liscence to interact with ASC_driving  \n",
    "The assumption is that having a driving lisence changes the ...?\n",
    "\n",
    "Model 2 specification:\n",
    "\n",
    "$ V_{walk}=ASC_{walk}+\\beta_{time\\_walk}time_{walk} $\n",
    "\n",
    "$ V_{cycling}=ASC_{cycling}+\\beta_{time\\_cycle}time_{cycle} $\n",
    "\n",
    "$ V_{public}=ASC_{public}+\\beta_{time\\_public}time_{public}+\\beta_{cost}cost_{public}+\\beta_{traffic}driving\\_traffic\\_percent$\n",
    "\n",
    "$ V_{driving}=ASC_{driving}+\\beta_{time\\_driving}time_{driving}+\\beta_{cost}cost_{driving}+\\beta_{driving_liscence}drivingliscence$\n"
   ]
  },
  {
   "cell_type": "code",
   "execution_count": 28,
   "id": "d86f70a2",
   "metadata": {},
   "outputs": [],
   "source": [
    "asc_walk = Beta('asc_walk', 0, None, None, 1) # Normalizing asc_walk to 0\n",
    "asc_cycling = Beta('asc_cycling', 0, None, None, 0)\n",
    "asc_public = Beta('asc_public', 0, None, None, 0)\n",
    "asc_driving = Beta('asc_driving', 0, None, None, 0)"
   ]
  },
  {
   "cell_type": "code",
   "execution_count": 29,
   "id": "1054f505",
   "metadata": {},
   "outputs": [],
   "source": [
    "cost_driving = cost_driving_fuel + cost_driving_ccharge\n",
    "dur_public = dur_pt_access + dur_pt_rail + dur_pt_bus + dur_pt_int # total duration of public transportation"
   ]
  },
  {
   "cell_type": "code",
   "execution_count": 30,
   "id": "8b16fdc9",
   "metadata": {},
   "outputs": [],
   "source": [
    "beta_time_walk = Beta('beta_time_walk', 0, None, None, 0)\n",
    "beta_time_cycling = Beta('beta_time_cycling', 0, None, None, 0)\n",
    "beta_time_driving = Beta('beta_time_driving', 0, None, None, 0)\n",
    "beta_time_public = Beta('beta_time_public', 0, None, None, 0)\n",
    "beta_cost = Beta('beta_cost', 0, None, None, 0)\n",
    "beta_interchange = Beta('beta_interchange',0, None, None,0)\n",
    "beta_drivingliscence = Beta('beta_drivingliscence',0,None,None,0)\n",
    "beta_faretype = Beta('beta_faretype',0, None, None, 0)\n",
    "beta_traffic = Beta('beta_traffic',0, None, None, 0)"
   ]
  },
  {
   "cell_type": "code",
   "execution_count": 31,
   "id": "57cde6e5",
   "metadata": {},
   "outputs": [],
   "source": [
    "# model 2 specification \n",
    "V_walk = asc_walk + beta_time_walk * dur_walking\n",
    "V_cycling = asc_cycling + beta_time_cycling * dur_cycling\n",
    "V_public = asc_public + beta_time_public * dur_public + beta_cost * cost_transit + beta_interchange * pt_interchanges\n",
    "# V_public = asc_public + beta_time_public * dur_public + beta_cost * cost_transit\n",
    "V_driving = asc_driving + beta_time_driving * dur_driving + beta_cost * cost_driving + beta_drivingliscence * driving_license\n",
    "\n",
    "V = {1: V_walk, 2: V_cycling, 3: V_public, 4: V_driving}\n",
    "\n",
    "logprob = models.loglogit(V, None, travel_mode)\n",
    "\n",
    "biogeme.modelName = 'model_2'"
   ]
  },
  {
   "cell_type": "code",
   "execution_count": 32,
   "id": "f92fa977",
   "metadata": {},
   "outputs": [],
   "source": [
    "biogeme = bio.BIOGEME(database, logprob)\n",
    "biogeme.modelName = 'model_2'"
   ]
  },
  {
   "cell_type": "code",
   "execution_count": 33,
   "id": "ae058683",
   "metadata": {},
   "outputs": [
    {
     "name": "stdout",
     "output_type": "stream",
     "text": [
      "[17:43:54] < Warning >   Cannot read file __model_2.iter. Statement is ignored.\n"
     ]
    }
   ],
   "source": [
    "results2 = biogeme.estimate()"
   ]
  },
  {
   "cell_type": "code",
   "execution_count": 34,
   "id": "49461027",
   "metadata": {},
   "outputs": [
    {
     "name": "stdout",
     "output_type": "stream",
     "text": [
      "Number of estimated parameters:\t10\n",
      "Sample size:\t5000\n",
      "Excluded observations:\t0\n",
      "Init log likelihood:\t-6931.472\n",
      "Final log likelihood:\t-4207.638\n",
      "Likelihood ratio test for the init. model:\t5447.667\n",
      "Rho-square for the init. model:\t0.393\n",
      "Rho-square-bar for the init. model:\t0.392\n",
      "Akaike Information Criterion:\t8435.277\n",
      "Bayesian Information Criterion:\t8500.449\n",
      "Final gradient norm:\t1.1388E-02\n",
      "Nbr of threads:\t16\n",
      "\n"
     ]
    }
   ],
   "source": [
    "print(results2.printGeneralStatistics())"
   ]
  },
  {
   "cell_type": "code",
   "execution_count": 35,
   "id": "f5ad361f",
   "metadata": {},
   "outputs": [
    {
     "data": {
      "text/html": [
       "<div>\n",
       "<style scoped>\n",
       "    .dataframe tbody tr th:only-of-type {\n",
       "        vertical-align: middle;\n",
       "    }\n",
       "\n",
       "    .dataframe tbody tr th {\n",
       "        vertical-align: top;\n",
       "    }\n",
       "\n",
       "    .dataframe thead th {\n",
       "        text-align: right;\n",
       "    }\n",
       "</style>\n",
       "<table border=\"1\" class=\"dataframe\">\n",
       "  <thead>\n",
       "    <tr style=\"text-align: right;\">\n",
       "      <th></th>\n",
       "      <th>Value</th>\n",
       "      <th>Rob. Std err</th>\n",
       "      <th>Rob. t-test</th>\n",
       "      <th>Rob. p-value</th>\n",
       "    </tr>\n",
       "  </thead>\n",
       "  <tbody>\n",
       "    <tr>\n",
       "      <th>asc_cycling</th>\n",
       "      <td>-4.658217</td>\n",
       "      <td>0.185018</td>\n",
       "      <td>-25.177050</td>\n",
       "      <td>0.000000</td>\n",
       "    </tr>\n",
       "    <tr>\n",
       "      <th>asc_driving</th>\n",
       "      <td>-2.925344</td>\n",
       "      <td>0.134301</td>\n",
       "      <td>-21.781937</td>\n",
       "      <td>0.000000</td>\n",
       "    </tr>\n",
       "    <tr>\n",
       "      <th>asc_public</th>\n",
       "      <td>-2.495342</td>\n",
       "      <td>0.125829</td>\n",
       "      <td>-19.831250</td>\n",
       "      <td>0.000000</td>\n",
       "    </tr>\n",
       "    <tr>\n",
       "      <th>beta_cost</th>\n",
       "      <td>-0.130483</td>\n",
       "      <td>0.013882</td>\n",
       "      <td>-9.399273</td>\n",
       "      <td>0.000000</td>\n",
       "    </tr>\n",
       "    <tr>\n",
       "      <th>beta_drivingliscence</th>\n",
       "      <td>1.359169</td>\n",
       "      <td>0.069275</td>\n",
       "      <td>19.619925</td>\n",
       "      <td>0.000000</td>\n",
       "    </tr>\n",
       "    <tr>\n",
       "      <th>beta_interchange</th>\n",
       "      <td>-0.030145</td>\n",
       "      <td>0.085143</td>\n",
       "      <td>-0.354053</td>\n",
       "      <td>0.723299</td>\n",
       "    </tr>\n",
       "    <tr>\n",
       "      <th>beta_time_cycling</th>\n",
       "      <td>-5.400914</td>\n",
       "      <td>0.443234</td>\n",
       "      <td>-12.185248</td>\n",
       "      <td>0.000000</td>\n",
       "    </tr>\n",
       "    <tr>\n",
       "      <th>beta_time_driving</th>\n",
       "      <td>-6.436766</td>\n",
       "      <td>0.374004</td>\n",
       "      <td>-17.210409</td>\n",
       "      <td>0.000000</td>\n",
       "    </tr>\n",
       "    <tr>\n",
       "      <th>beta_time_public</th>\n",
       "      <td>-3.393491</td>\n",
       "      <td>0.259001</td>\n",
       "      <td>-13.102210</td>\n",
       "      <td>0.000000</td>\n",
       "    </tr>\n",
       "    <tr>\n",
       "      <th>beta_time_walk</th>\n",
       "      <td>-8.564553</td>\n",
       "      <td>0.370558</td>\n",
       "      <td>-23.112572</td>\n",
       "      <td>0.000000</td>\n",
       "    </tr>\n",
       "  </tbody>\n",
       "</table>\n",
       "</div>"
      ],
      "text/plain": [
       "                         Value  Rob. Std err  Rob. t-test  Rob. p-value\n",
       "asc_cycling          -4.658217      0.185018   -25.177050      0.000000\n",
       "asc_driving          -2.925344      0.134301   -21.781937      0.000000\n",
       "asc_public           -2.495342      0.125829   -19.831250      0.000000\n",
       "beta_cost            -0.130483      0.013882    -9.399273      0.000000\n",
       "beta_drivingliscence  1.359169      0.069275    19.619925      0.000000\n",
       "beta_interchange     -0.030145      0.085143    -0.354053      0.723299\n",
       "beta_time_cycling    -5.400914      0.443234   -12.185248      0.000000\n",
       "beta_time_driving    -6.436766      0.374004   -17.210409      0.000000\n",
       "beta_time_public     -3.393491      0.259001   -13.102210      0.000000\n",
       "beta_time_walk       -8.564553      0.370558   -23.112572      0.000000"
      ]
     },
     "execution_count": 35,
     "metadata": {},
     "output_type": "execute_result"
    }
   ],
   "source": [
    "results2.getEstimatedParameters()"
   ]
  },
  {
   "cell_type": "code",
   "execution_count": 36,
   "id": "fab6e726",
   "metadata": {},
   "outputs": [],
   "source": [
    "# results2.data.htmlFileName"
   ]
  },
  {
   "cell_type": "markdown",
   "id": "649836cb",
   "metadata": {},
   "source": [
    "## Compare model 2 and 1\n",
    "Since model 1 is a restricted version of model 2, we perform a likelihood ratio test. Or we can simply perform t-test on the coefficients $\\beta_{driving\\_liscence}$ and $\\beta_{pt_interchanges}$, as given by the estimation table."
   ]
  },
  {
   "cell_type": "code",
   "execution_count": 37,
   "id": "a5e5ca2a",
   "metadata": {},
   "outputs": [
    {
     "data": {
      "text/plain": [
       "LRTuple(message='H0 can be rejected at level 5.0%', statistic=408.7390116578699, threshold=5.991464547107979)"
      ]
     },
     "execution_count": 37,
     "metadata": {},
     "output_type": "execute_result"
    }
   ],
   "source": [
    "results2.likelihood_ratio_test(results1, alpha)"
   ]
  },
  {
   "cell_type": "markdown",
   "id": "6e0738ca",
   "metadata": {},
   "source": [
    "Thus, model 2 is preferred to model 1."
   ]
  },
  {
   "cell_type": "markdown",
   "id": "42a69b29",
   "metadata": {},
   "source": [
    "# Model 3"
   ]
  },
  {
   "cell_type": "markdown",
   "id": "ce026c97",
   "metadata": {},
   "source": [
    "We perform box-cox transformation on travel time for every alternatives."
   ]
  },
  {
   "cell_type": "code",
   "execution_count": 38,
   "id": "cf865ab4",
   "metadata": {},
   "outputs": [],
   "source": [
    "# define lambda\n",
    "lambda_boxcox = Beta('lambda_boxcox', 1, None, None, 0)\n",
    "boxcox_time_1 = models.boxcox(dur_walking, lambda_boxcox)\n",
    "boxcox_time_2 = models.boxcox(dur_cycling, lambda_boxcox)\n",
    "boxcox_time_3 = models.boxcox(dur_public, lambda_boxcox)\n",
    "boxcox_time_4 = models.boxcox(dur_driving, lambda_boxcox)"
   ]
  },
  {
   "cell_type": "code",
   "execution_count": 184,
   "id": "c9daefbe",
   "metadata": {},
   "outputs": [],
   "source": [
    "# model 3 specification \n",
    "V_walk = asc_walk + beta_time_walk * boxcox_time_1\n",
    "V_cycling = asc_cycling + beta_time_cycling * boxcox_time_2\n",
    "V_public = asc_public + beta_time_public * boxcox_time_3+ beta_cost * cost_transit + beta_interchange * pt_interchanges\n",
    "# V_public = asc_public + beta_time_public * dur_public + beta_cost * cost_transit\n",
    "V_driving = asc_driving + beta_time_driving * boxcox_time_4 + beta_cost * cost_driving + beta_drivingliscence * driving_license\n",
    "\n",
    "V = {1: V_walk, 2: V_cycling, 3: V_public, 4: V_driving}\n",
    "\n",
    "logprob = models.loglogit(V, None, travel_mode)\n",
    "\n",
    "biogeme.modelName = 'model_3'"
   ]
  },
  {
   "cell_type": "code",
   "execution_count": 40,
   "id": "2c9cde9a",
   "metadata": {},
   "outputs": [
    {
     "name": "stdout",
     "output_type": "stream",
     "text": [
      "[17:44:12] < Warning >   Cannot read file __model_3.iter. Statement is ignored.\n",
      "Number of estimated parameters:\t11\n",
      "Sample size:\t5000\n",
      "Excluded observations:\t0\n",
      "Init log likelihood:\t-6931.472\n",
      "Final log likelihood:\t-4135.707\n",
      "Likelihood ratio test for the init. model:\t5591.529\n",
      "Rho-square for the init. model:\t0.403\n",
      "Rho-square-bar for the init. model:\t0.402\n",
      "Akaike Information Criterion:\t8293.415\n",
      "Bayesian Information Criterion:\t8365.104\n",
      "Final gradient norm:\t2.5246E-02\n",
      "Nbr of threads:\t16\n",
      "\n"
     ]
    }
   ],
   "source": [
    "biogeme = bio.BIOGEME(database, logprob)\n",
    "biogeme.modelName = 'model_3'\n",
    "results3 = biogeme.estimate()\n",
    "print(results3.printGeneralStatistics())\n"
   ]
  },
  {
   "cell_type": "code",
   "execution_count": 41,
   "id": "86fce33c",
   "metadata": {},
   "outputs": [
    {
     "data": {
      "text/html": [
       "<div>\n",
       "<style scoped>\n",
       "    .dataframe tbody tr th:only-of-type {\n",
       "        vertical-align: middle;\n",
       "    }\n",
       "\n",
       "    .dataframe tbody tr th {\n",
       "        vertical-align: top;\n",
       "    }\n",
       "\n",
       "    .dataframe thead th {\n",
       "        text-align: right;\n",
       "    }\n",
       "</style>\n",
       "<table border=\"1\" class=\"dataframe\">\n",
       "  <thead>\n",
       "    <tr style=\"text-align: right;\">\n",
       "      <th></th>\n",
       "      <th>Value</th>\n",
       "      <th>Rob. Std err</th>\n",
       "      <th>Rob. t-test</th>\n",
       "      <th>Rob. p-value</th>\n",
       "    </tr>\n",
       "  </thead>\n",
       "  <tbody>\n",
       "    <tr>\n",
       "      <th>asc_cycling</th>\n",
       "      <td>-2.195568</td>\n",
       "      <td>0.276631</td>\n",
       "      <td>-7.936817</td>\n",
       "      <td>1.998401e-15</td>\n",
       "    </tr>\n",
       "    <tr>\n",
       "      <th>asc_driving</th>\n",
       "      <td>-1.025547</td>\n",
       "      <td>0.223983</td>\n",
       "      <td>-4.578676</td>\n",
       "      <td>4.679293e-06</td>\n",
       "    </tr>\n",
       "    <tr>\n",
       "      <th>asc_public</th>\n",
       "      <td>1.779555</td>\n",
       "      <td>0.172816</td>\n",
       "      <td>10.297423</td>\n",
       "      <td>0.000000e+00</td>\n",
       "    </tr>\n",
       "    <tr>\n",
       "      <th>beta_cost</th>\n",
       "      <td>-0.120172</td>\n",
       "      <td>0.013580</td>\n",
       "      <td>-8.849079</td>\n",
       "      <td>0.000000e+00</td>\n",
       "    </tr>\n",
       "    <tr>\n",
       "      <th>beta_drivingliscence</th>\n",
       "      <td>1.365768</td>\n",
       "      <td>0.069714</td>\n",
       "      <td>19.591049</td>\n",
       "      <td>0.000000e+00</td>\n",
       "    </tr>\n",
       "    <tr>\n",
       "      <th>beta_interchange</th>\n",
       "      <td>-0.087201</td>\n",
       "      <td>0.076757</td>\n",
       "      <td>-1.136070</td>\n",
       "      <td>2.559271e-01</td>\n",
       "    </tr>\n",
       "    <tr>\n",
       "      <th>beta_time_cycling</th>\n",
       "      <td>-3.383673</td>\n",
       "      <td>0.262832</td>\n",
       "      <td>-12.873910</td>\n",
       "      <td>0.000000e+00</td>\n",
       "    </tr>\n",
       "    <tr>\n",
       "      <th>beta_time_driving</th>\n",
       "      <td>-3.564961</td>\n",
       "      <td>0.268131</td>\n",
       "      <td>-13.295614</td>\n",
       "      <td>0.000000e+00</td>\n",
       "    </tr>\n",
       "    <tr>\n",
       "      <th>beta_time_public</th>\n",
       "      <td>-2.603897</td>\n",
       "      <td>0.187886</td>\n",
       "      <td>-13.858937</td>\n",
       "      <td>0.000000e+00</td>\n",
       "    </tr>\n",
       "    <tr>\n",
       "      <th>beta_time_walk</th>\n",
       "      <td>-5.625187</td>\n",
       "      <td>0.250273</td>\n",
       "      <td>-22.476169</td>\n",
       "      <td>0.000000e+00</td>\n",
       "    </tr>\n",
       "    <tr>\n",
       "      <th>lambda_boxcox</th>\n",
       "      <td>0.326962</td>\n",
       "      <td>0.046097</td>\n",
       "      <td>7.092832</td>\n",
       "      <td>1.314060e-12</td>\n",
       "    </tr>\n",
       "  </tbody>\n",
       "</table>\n",
       "</div>"
      ],
      "text/plain": [
       "                         Value  Rob. Std err  Rob. t-test  Rob. p-value\n",
       "asc_cycling          -2.195568      0.276631    -7.936817  1.998401e-15\n",
       "asc_driving          -1.025547      0.223983    -4.578676  4.679293e-06\n",
       "asc_public            1.779555      0.172816    10.297423  0.000000e+00\n",
       "beta_cost            -0.120172      0.013580    -8.849079  0.000000e+00\n",
       "beta_drivingliscence  1.365768      0.069714    19.591049  0.000000e+00\n",
       "beta_interchange     -0.087201      0.076757    -1.136070  2.559271e-01\n",
       "beta_time_cycling    -3.383673      0.262832   -12.873910  0.000000e+00\n",
       "beta_time_driving    -3.564961      0.268131   -13.295614  0.000000e+00\n",
       "beta_time_public     -2.603897      0.187886   -13.858937  0.000000e+00\n",
       "beta_time_walk       -5.625187      0.250273   -22.476169  0.000000e+00\n",
       "lambda_boxcox         0.326962      0.046097     7.092832  1.314060e-12"
      ]
     },
     "execution_count": 41,
     "metadata": {},
     "output_type": "execute_result"
    }
   ],
   "source": [
    "results3.getEstimatedParameters()"
   ]
  },
  {
   "cell_type": "markdown",
   "id": "4bf5240c",
   "metadata": {},
   "source": [
    "## Compare model 3 and 2\n",
    "Under the null hypothesis that $\\lambda=1$, the statistic $$\\frac{\\widehat{\\lambda}-1}{\\widehat{\\sigma}_\\lambda}$$ follows approximatively a $N(0, 1)$.  \n",
    "Thus, we perform a t-test on $\\lambda$."
   ]
  },
  {
   "cell_type": "code",
   "execution_count": 69,
   "id": "e2c2a5fc",
   "metadata": {},
   "outputs": [
    {
     "data": {
      "text/plain": [
       "-14.600459948421262"
      ]
     },
     "execution_count": 69,
     "metadata": {},
     "output_type": "execute_result"
    }
   ],
   "source": [
    "estimated_parameters_3=results3.getEstimatedParameters()\n",
    "t_test_lambda = (estimated_parameters_3.loc['lambda_boxcox','Value'] - 1) / estimated_parameters_3.loc['lambda_boxcox', 'Rob. Std err']\n",
    "t_test_lambda"
   ]
  },
  {
   "cell_type": "code",
   "execution_count": 70,
   "id": "b2087bca",
   "metadata": {},
   "outputs": [],
   "source": [
    "from scipy.stats import norm\n",
    "from biogeme.results import calcPValue"
   ]
  },
  {
   "cell_type": "code",
   "execution_count": 71,
   "id": "899a14a5",
   "metadata": {},
   "outputs": [
    {
     "data": {
      "text/plain": [
       "1.6448536269514722"
      ]
     },
     "execution_count": 71,
     "metadata": {},
     "output_type": "execute_result"
    }
   ],
   "source": [
    "norm.ppf(.95)"
   ]
  },
  {
   "cell_type": "code",
   "execution_count": 72,
   "id": "8355ab0c",
   "metadata": {},
   "outputs": [
    {
     "data": {
      "text/plain": [
       "0.0"
      ]
     },
     "execution_count": 72,
     "metadata": {},
     "output_type": "execute_result"
    }
   ],
   "source": [
    "calcPValue(t_test_lambda)"
   ]
  },
  {
   "cell_type": "markdown",
   "id": "2ec87c79",
   "metadata": {},
   "source": [
    "Because the $p-value<0.05$, we reject the null hypothesis that $\\lambda=1$. Thus, model 3 is preferred."
   ]
  },
  {
   "cell_type": "markdown",
   "id": "aa0d2949",
   "metadata": {},
   "source": [
    "Though not exactly relevant as one is not the linear restriction of the other, we also perform a likelihood ratio test to check."
   ]
  },
  {
   "cell_type": "code",
   "execution_count": 73,
   "id": "a3c0ff37",
   "metadata": {},
   "outputs": [
    {
     "data": {
      "text/plain": [
       "LRTuple(message='H0 can be rejected at level 5.0%', statistic=143.8621227926742, threshold=3.841458820694124)"
      ]
     },
     "execution_count": 73,
     "metadata": {},
     "output_type": "execute_result"
    }
   ],
   "source": [
    "results3.likelihood_ratio_test(results2, alpha)"
   ]
  },
  {
   "cell_type": "markdown",
   "id": "33d9b075",
   "metadata": {},
   "source": [
    "A more general way is to perform a **Davidson and McKinnon J test**  on model 2 and 3. "
   ]
  },
  {
   "cell_type": "markdown",
   "id": "f7052a59-5dca-42c8-80d4-b2db47698df2",
   "metadata": {},
   "source": [
    "# Model 4.a"
   ]
  },
  {
   "cell_type": "markdown",
   "id": "f113b6cb-776c-4862-b1e3-6fc4b8d9a450",
   "metadata": {},
   "source": [
    "We define Model 4 as a nested version of Model 3 where we regroup motorized (public transports and car) as a nest, and walking and cycling as two other nests."
   ]
  },
  {
   "cell_type": "code",
   "execution_count": 191,
   "id": "2550ae63",
   "metadata": {},
   "outputs": [],
   "source": [
    "MU_motorized = Beta('MU_motorized', 1, 0, None, 0)\n",
    "motorized = MU_motorized, [3, 4]\n",
    "non_motorized = 1, [1,2]\n",
    "nests = motorized, non_motorized\n",
    "logprob = models.lognested(V, None, nests, travel_mode)\n",
    "biogeme = bio.BIOGEME(database, logprob)\n",
    "biogeme.modelName = 'model_4'\n",
    "results4 = biogeme.estimate(recycle=True)"
   ]
  },
  {
   "cell_type": "code",
   "execution_count": 70,
   "id": "f7e05e24",
   "metadata": {},
   "outputs": [
    {
     "data": {
      "text/html": [
       "<div>\n",
       "<style scoped>\n",
       "    .dataframe tbody tr th:only-of-type {\n",
       "        vertical-align: middle;\n",
       "    }\n",
       "\n",
       "    .dataframe tbody tr th {\n",
       "        vertical-align: top;\n",
       "    }\n",
       "\n",
       "    .dataframe thead th {\n",
       "        text-align: right;\n",
       "    }\n",
       "</style>\n",
       "<table border=\"1\" class=\"dataframe\">\n",
       "  <thead>\n",
       "    <tr style=\"text-align: right;\">\n",
       "      <th></th>\n",
       "      <th>Value</th>\n",
       "      <th>Rob. Std err</th>\n",
       "      <th>Rob. t-test</th>\n",
       "      <th>Rob. p-value</th>\n",
       "    </tr>\n",
       "  </thead>\n",
       "  <tbody>\n",
       "    <tr>\n",
       "      <th>MU_motorized</th>\n",
       "      <td>2.335802</td>\n",
       "      <td>0.355732</td>\n",
       "      <td>6.566180</td>\n",
       "      <td>5.162248e-11</td>\n",
       "    </tr>\n",
       "    <tr>\n",
       "      <th>asc_cycling</th>\n",
       "      <td>-1.028362</td>\n",
       "      <td>0.287317</td>\n",
       "      <td>-3.579186</td>\n",
       "      <td>3.446663e-04</td>\n",
       "    </tr>\n",
       "    <tr>\n",
       "      <th>asc_driving</th>\n",
       "      <td>1.454515</td>\n",
       "      <td>0.371810</td>\n",
       "      <td>3.911983</td>\n",
       "      <td>9.154152e-05</td>\n",
       "    </tr>\n",
       "    <tr>\n",
       "      <th>asc_public</th>\n",
       "      <td>2.798889</td>\n",
       "      <td>0.205713</td>\n",
       "      <td>13.605808</td>\n",
       "      <td>0.000000e+00</td>\n",
       "    </tr>\n",
       "    <tr>\n",
       "      <th>beta_cost</th>\n",
       "      <td>-0.043889</td>\n",
       "      <td>0.010578</td>\n",
       "      <td>-4.149049</td>\n",
       "      <td>3.338595e-05</td>\n",
       "    </tr>\n",
       "    <tr>\n",
       "      <th>beta_drivingliscence</th>\n",
       "      <td>0.700806</td>\n",
       "      <td>0.101105</td>\n",
       "      <td>6.931475</td>\n",
       "      <td>4.164669e-12</td>\n",
       "    </tr>\n",
       "    <tr>\n",
       "      <th>beta_interchange</th>\n",
       "      <td>-0.041999</td>\n",
       "      <td>0.035403</td>\n",
       "      <td>-1.186310</td>\n",
       "      <td>2.354999e-01</td>\n",
       "    </tr>\n",
       "    <tr>\n",
       "      <th>beta_time_cycling</th>\n",
       "      <td>-1.846381</td>\n",
       "      <td>0.245251</td>\n",
       "      <td>-7.528526</td>\n",
       "      <td>5.129230e-14</td>\n",
       "    </tr>\n",
       "    <tr>\n",
       "      <th>beta_time_driving</th>\n",
       "      <td>-1.599725</td>\n",
       "      <td>0.261187</td>\n",
       "      <td>-6.124825</td>\n",
       "      <td>9.078340e-10</td>\n",
       "    </tr>\n",
       "    <tr>\n",
       "      <th>beta_time_public</th>\n",
       "      <td>-1.228065</td>\n",
       "      <td>0.195886</td>\n",
       "      <td>-6.269290</td>\n",
       "      <td>3.626974e-10</td>\n",
       "    </tr>\n",
       "    <tr>\n",
       "      <th>beta_time_walk</th>\n",
       "      <td>-4.267729</td>\n",
       "      <td>0.253298</td>\n",
       "      <td>-16.848659</td>\n",
       "      <td>0.000000e+00</td>\n",
       "    </tr>\n",
       "    <tr>\n",
       "      <th>lambda_boxcox</th>\n",
       "      <td>0.240099</td>\n",
       "      <td>0.047622</td>\n",
       "      <td>5.041788</td>\n",
       "      <td>4.612015e-07</td>\n",
       "    </tr>\n",
       "  </tbody>\n",
       "</table>\n",
       "</div>"
      ],
      "text/plain": [
       "                         Value  Rob. Std err  Rob. t-test  Rob. p-value\n",
       "MU_motorized          2.335802      0.355732     6.566180  5.162248e-11\n",
       "asc_cycling          -1.028362      0.287317    -3.579186  3.446663e-04\n",
       "asc_driving           1.454515      0.371810     3.911983  9.154152e-05\n",
       "asc_public            2.798889      0.205713    13.605808  0.000000e+00\n",
       "beta_cost            -0.043889      0.010578    -4.149049  3.338595e-05\n",
       "beta_drivingliscence  0.700806      0.101105     6.931475  4.164669e-12\n",
       "beta_interchange     -0.041999      0.035403    -1.186310  2.354999e-01\n",
       "beta_time_cycling    -1.846381      0.245251    -7.528526  5.129230e-14\n",
       "beta_time_driving    -1.599725      0.261187    -6.124825  9.078340e-10\n",
       "beta_time_public     -1.228065      0.195886    -6.269290  3.626974e-10\n",
       "beta_time_walk       -4.267729      0.253298   -16.848659  0.000000e+00\n",
       "lambda_boxcox         0.240099      0.047622     5.041788  4.612015e-07"
      ]
     },
     "execution_count": 70,
     "metadata": {},
     "output_type": "execute_result"
    }
   ],
   "source": [
    "results4.getEstimatedParameters()"
   ]
  },
  {
   "cell_type": "markdown",
   "id": "e87f026f",
   "metadata": {},
   "source": [
    "## Compare model 4 and 3"
   ]
  },
  {
   "cell_type": "code",
   "execution_count": 55,
   "id": "596f6757-4dbb-4ed1-8251-ce019206e3d1",
   "metadata": {},
   "outputs": [
    {
     "data": {
      "text/plain": [
       "2.3374367362643778"
      ]
     },
     "execution_count": 55,
     "metadata": {},
     "output_type": "execute_result"
    }
   ],
   "source": [
    "# t-test\n",
    "nested_existing_table = results4.getEstimatedParameters()\n",
    "mu_moto = nested_existing_table.loc['MU_motorized', 'Value']\n",
    "mu_non_moto = \n",
    "mu"
   ]
  },
  {
   "cell_type": "code",
   "execution_count": 56,
   "id": "bdc6fcda",
   "metadata": {},
   "outputs": [
    {
     "data": {
      "text/plain": [
       "-3.7559286301770047"
      ]
     },
     "execution_count": 56,
     "metadata": {},
     "output_type": "execute_result"
    }
   ],
   "source": [
    "mu_stderr = nested_existing_table.loc['MU_motorized', 'Rob. Std err']\n",
    "tested_value = 1\n",
    "ttest = (tested_value - mu) / mu_stderr\n",
    "ttest"
   ]
  },
  {
   "cell_type": "markdown",
   "id": "dcc1a802",
   "metadata": {},
   "source": [
    "Therefore, the null hypothesis is rejected at the 5% level."
   ]
  },
  {
   "cell_type": "code",
   "execution_count": 63,
   "id": "5c06db13-39fc-4a3c-8e3b-fa97b930249e",
   "metadata": {},
   "outputs": [
    {
     "data": {
      "text/plain": [
       "LRTuple(message='H0 can be rejected at level 5.0%', statistic=65.57326490587366, threshold=5.991464547107979)"
      ]
     },
     "execution_count": 63,
     "metadata": {},
     "output_type": "execute_result"
    }
   ],
   "source": [
    "# likelihood ratio test\n",
    "results4.likelihood_ratio_test(results3, significance_level=0.05)"
   ]
  },
  {
   "cell_type": "markdown",
   "id": "d10d7894",
   "metadata": {},
   "source": [
    "# Model 4.b"
   ]
  },
  {
   "cell_type": "code",
   "execution_count": 66,
   "id": "39710ec3",
   "metadata": {},
   "outputs": [
    {
     "name": "stdout",
     "output_type": "stream",
     "text": [
      "[18:28:06] < Warning >   Recycling was requested, but no pickle file was found\n",
      "[18:28:06] < Warning >   Cannot read file __model_5.iter. Statement is ignored.\n"
     ]
    },
    {
     "data": {
      "text/html": [
       "<div>\n",
       "<style scoped>\n",
       "    .dataframe tbody tr th:only-of-type {\n",
       "        vertical-align: middle;\n",
       "    }\n",
       "\n",
       "    .dataframe tbody tr th {\n",
       "        vertical-align: top;\n",
       "    }\n",
       "\n",
       "    .dataframe thead th {\n",
       "        text-align: right;\n",
       "    }\n",
       "</style>\n",
       "<table border=\"1\" class=\"dataframe\">\n",
       "  <thead>\n",
       "    <tr style=\"text-align: right;\">\n",
       "      <th></th>\n",
       "      <th>Value</th>\n",
       "      <th>Rob. Std err</th>\n",
       "      <th>Rob. t-test</th>\n",
       "      <th>Rob. p-value</th>\n",
       "    </tr>\n",
       "  </thead>\n",
       "  <tbody>\n",
       "    <tr>\n",
       "      <th>MU_private</th>\n",
       "      <td>0.658648</td>\n",
       "      <td>0.047331</td>\n",
       "      <td>13.915754</td>\n",
       "      <td>0.000000e+00</td>\n",
       "    </tr>\n",
       "    <tr>\n",
       "      <th>asc_cycling</th>\n",
       "      <td>-1.970005</td>\n",
       "      <td>0.388300</td>\n",
       "      <td>-5.073410</td>\n",
       "      <td>3.907499e-07</td>\n",
       "    </tr>\n",
       "    <tr>\n",
       "      <th>asc_driving</th>\n",
       "      <td>0.062223</td>\n",
       "      <td>0.372949</td>\n",
       "      <td>0.166840</td>\n",
       "      <td>8.674958e-01</td>\n",
       "    </tr>\n",
       "    <tr>\n",
       "      <th>asc_public</th>\n",
       "      <td>3.109905</td>\n",
       "      <td>0.373997</td>\n",
       "      <td>8.315323</td>\n",
       "      <td>0.000000e+00</td>\n",
       "    </tr>\n",
       "    <tr>\n",
       "      <th>beta_cost</th>\n",
       "      <td>-0.116447</td>\n",
       "      <td>0.014955</td>\n",
       "      <td>-7.786632</td>\n",
       "      <td>6.883383e-15</td>\n",
       "    </tr>\n",
       "    <tr>\n",
       "      <th>beta_drivingliscence</th>\n",
       "      <td>1.672988</td>\n",
       "      <td>0.098823</td>\n",
       "      <td>16.929109</td>\n",
       "      <td>0.000000e+00</td>\n",
       "    </tr>\n",
       "    <tr>\n",
       "      <th>beta_interchange</th>\n",
       "      <td>-0.035473</td>\n",
       "      <td>0.081264</td>\n",
       "      <td>-0.436515</td>\n",
       "      <td>6.624633e-01</td>\n",
       "    </tr>\n",
       "    <tr>\n",
       "      <th>beta_time_cycling</th>\n",
       "      <td>-3.518231</td>\n",
       "      <td>0.312428</td>\n",
       "      <td>-11.260925</td>\n",
       "      <td>0.000000e+00</td>\n",
       "    </tr>\n",
       "    <tr>\n",
       "      <th>beta_time_driving</th>\n",
       "      <td>-3.796774</td>\n",
       "      <td>0.290092</td>\n",
       "      <td>-13.088188</td>\n",
       "      <td>0.000000e+00</td>\n",
       "    </tr>\n",
       "    <tr>\n",
       "      <th>beta_time_public</th>\n",
       "      <td>-3.097268</td>\n",
       "      <td>0.229422</td>\n",
       "      <td>-13.500328</td>\n",
       "      <td>0.000000e+00</td>\n",
       "    </tr>\n",
       "    <tr>\n",
       "      <th>beta_time_walk</th>\n",
       "      <td>-7.227284</td>\n",
       "      <td>0.483623</td>\n",
       "      <td>-14.944055</td>\n",
       "      <td>0.000000e+00</td>\n",
       "    </tr>\n",
       "    <tr>\n",
       "      <th>lambda_boxcox</th>\n",
       "      <td>0.312632</td>\n",
       "      <td>0.048511</td>\n",
       "      <td>6.444624</td>\n",
       "      <td>1.158871e-10</td>\n",
       "    </tr>\n",
       "  </tbody>\n",
       "</table>\n",
       "</div>"
      ],
      "text/plain": [
       "                         Value  Rob. Std err  Rob. t-test  Rob. p-value\n",
       "MU_private            0.658648      0.047331    13.915754  0.000000e+00\n",
       "asc_cycling          -1.970005      0.388300    -5.073410  3.907499e-07\n",
       "asc_driving           0.062223      0.372949     0.166840  8.674958e-01\n",
       "asc_public            3.109905      0.373997     8.315323  0.000000e+00\n",
       "beta_cost            -0.116447      0.014955    -7.786632  6.883383e-15\n",
       "beta_drivingliscence  1.672988      0.098823    16.929109  0.000000e+00\n",
       "beta_interchange     -0.035473      0.081264    -0.436515  6.624633e-01\n",
       "beta_time_cycling    -3.518231      0.312428   -11.260925  0.000000e+00\n",
       "beta_time_driving    -3.796774      0.290092   -13.088188  0.000000e+00\n",
       "beta_time_public     -3.097268      0.229422   -13.500328  0.000000e+00\n",
       "beta_time_walk       -7.227284      0.483623   -14.944055  0.000000e+00\n",
       "lambda_boxcox         0.312632      0.048511     6.444624  1.158871e-10"
      ]
     },
     "execution_count": 66,
     "metadata": {},
     "output_type": "execute_result"
    }
   ],
   "source": [
    "MU_private = Beta('MU_private', 1, 0, None, 0)\n",
    "private = MU_private, [1,2,4]\n",
    "public = 1.0, [3]\n",
    "nests = private,public\n",
    "logprob = models.lognested(V, None, nests, travel_mode)\n",
    "biogeme = bio.BIOGEME(database, logprob)\n",
    "biogeme.modelName = 'model_5'\n",
    "results5 = biogeme.estimate(recycle=True)\n",
    "results5.getEstimatedParameters()"
   ]
  },
  {
   "cell_type": "markdown",
   "id": "87824f8b",
   "metadata": {},
   "source": [
    "Since $\\mu<1$, we reject this hypothesis. "
   ]
  },
  {
   "cell_type": "markdown",
   "id": "78b34e2b",
   "metadata": {},
   "source": [
    "# Sampling"
   ]
  },
  {
   "cell_type": "markdown",
   "id": "923b5656",
   "metadata": {},
   "source": [
    "## Calculate the weight for each segment"
   ]
  },
  {
   "cell_type": "code",
   "execution_count": 211,
   "id": "590ec8cf",
   "metadata": {},
   "outputs": [],
   "source": [
    "# Population statistics\n",
    "\n",
    "census = {\n",
    "    'male_41_more':  1633263,\n",
    "    'male_40_less':  2676249,\n",
    "    'female_41_more':  1765143,\n",
    "    'female_40_less':  2599058\n",
    "}"
   ]
  },
  {
   "cell_type": "code",
   "execution_count": 212,
   "id": "7836bb7a",
   "metadata": {},
   "outputs": [
    {
     "data": {
      "text/plain": [
       "8673713"
      ]
     },
     "execution_count": 212,
     "metadata": {},
     "output_type": "execute_result"
    }
   ],
   "source": [
    "total = sum(census.values())\n",
    "total"
   ]
  },
  {
   "cell_type": "code",
   "execution_count": 213,
   "id": "462d8526",
   "metadata": {},
   "outputs": [
    {
     "data": {
      "text/plain": [
       "0       False\n",
       "1        True\n",
       "2        True\n",
       "3        True\n",
       "4       False\n",
       "        ...  \n",
       "4995    False\n",
       "4996    False\n",
       "4997    False\n",
       "4998     True\n",
       "4999     True\n",
       "Name: 40_less, Length: 5000, dtype: bool"
      ]
     },
     "execution_count": 213,
     "metadata": {},
     "output_type": "execute_result"
    }
   ],
   "source": [
    "lpmc[\"40_less\"]=lpmc[\"age\"]<=40\n",
    "lpmc[\"40_less\"]"
   ]
  },
  {
   "cell_type": "code",
   "execution_count": 214,
   "id": "ba743917",
   "metadata": {},
   "outputs": [],
   "source": [
    "# sample statistics\n",
    "filters = {\n",
    "    'male_41_more': (lpmc['40_less'] == 0) & (lpmc['female'] == 0),\n",
    "    'male_40_less': (lpmc['40_less'] == 1) & (lpmc['female'] == 0),\n",
    "    'female_41_more': (lpmc['40_less'] == 0) & (lpmc['female'] == 1),\n",
    "    'female_40_less': (lpmc['40_less'] == 1) & (lpmc['female'] == 1)\n",
    "}"
   ]
  },
  {
   "cell_type": "code",
   "execution_count": 215,
   "id": "73272464",
   "metadata": {},
   "outputs": [
    {
     "data": {
      "text/plain": [
       "{'male_41_more': 1084,\n",
       " 'male_40_less': 1256,\n",
       " 'female_41_more': 1204,\n",
       " 'female_40_less': 1456}"
      ]
     },
     "execution_count": 215,
     "metadata": {},
     "output_type": "execute_result"
    }
   ],
   "source": [
    "sample_segments = {\n",
    "    k: v.sum() for k, v in filters.items()\n",
    "}\n",
    "sample_segments"
   ]
  },
  {
   "cell_type": "code",
   "execution_count": 216,
   "id": "70147ca9",
   "metadata": {},
   "outputs": [
    {
     "data": {
      "text/plain": [
       "5000"
      ]
     },
     "execution_count": 216,
     "metadata": {},
     "output_type": "execute_result"
    }
   ],
   "source": [
    "total_sample = sum(sample_segments.values())\n",
    "total_sample"
   ]
  },
  {
   "cell_type": "markdown",
   "id": "fe7cf9d6",
   "metadata": {},
   "source": [
    "The weight $w_g$ associated with segment $g$ is defined as\n",
    "$$\n",
    "w_g = \\frac{N_g}{N}\\frac{S}{S_g}.\n",
    "$$"
   ]
  },
  {
   "cell_type": "code",
   "execution_count": 217,
   "id": "e58a24dc",
   "metadata": {},
   "outputs": [
    {
     "data": {
      "text/plain": [
       "{'male_41_more': 0.86854394680908,\n",
       " 'male_40_less': 1.2282925990376248,\n",
       " 'female_41_more': 0.8451199703160228,\n",
       " 'female_40_less': 1.029009899043413}"
      ]
     },
     "execution_count": 217,
     "metadata": {},
     "output_type": "execute_result"
    }
   ],
   "source": [
    "# weight associated with each segment\n",
    "weights = {\n",
    "    k: census[k] * total_sample / (v * total) \n",
    "    for k, v in sample_segments.items()\n",
    "}\n",
    "weights"
   ]
  },
  {
   "cell_type": "code",
   "execution_count": 218,
   "id": "62546df6",
   "metadata": {},
   "outputs": [],
   "source": [
    "# insert weight as a new column to the database lpmc\n",
    "for k, f in filters.items():\n",
    "    lpmc.loc[f, 'Weight'] = weights[k] "
   ]
  },
  {
   "cell_type": "markdown",
   "id": "684f13b5",
   "metadata": {},
   "source": [
    "## Calculate predicted market share for each mode"
   ]
  },
  {
   "cell_type": "code",
   "execution_count": 129,
   "id": "8e7e381b",
   "metadata": {},
   "outputs": [],
   "source": [
    "MU_motorized = Beta('MU_motorized', 1, 0, None, 0)\n",
    "motorized = MU_motorized, [3, 4]\n",
    "non_motorized = 1, [1,2]\n",
    "nests = motorized, non_motorized\n",
    "logprob = models.lognested(V, None, nests, travel_mode)\n",
    "biogeme = bio.BIOGEME(database, logprob)\n",
    "biogeme.modelName = 'model_4'\n",
    "results4 = biogeme.estimate(recycle=True)"
   ]
  },
  {
   "cell_type": "code",
   "execution_count": 105,
   "id": "a63522f3",
   "metadata": {},
   "outputs": [],
   "source": [
    "prob_walk = models.nested(V, None, nests,1)\n",
    "prob_cycling = models.nested(V, None, nests,2)\n",
    "prob_public = models.nested(V, None, nests,3)\n",
    "prob_driving = models.nested(V, None, nests,4)"
   ]
  },
  {
   "cell_type": "code",
   "execution_count": 106,
   "id": "a3d2cf56",
   "metadata": {},
   "outputs": [],
   "source": [
    "Weight = Variable('Weight')\n",
    "simulate = {\n",
    "    'Weight': Weight,\n",
    "    'Prob. walk': prob_walk,\n",
    "    'Prob. cycling': prob_cycling,\n",
    "    'Prob. public': prob_public,\n",
    "    'Prob. driving': prob_driving\n",
    "}"
   ]
  },
  {
   "cell_type": "code",
   "execution_count": 107,
   "id": "6c312b60",
   "metadata": {},
   "outputs": [],
   "source": [
    "biosim = bio.BIOGEME(database, simulate)\n",
    "simulated_values = biosim.simulate(results4.getBetaValues())"
   ]
  },
  {
   "cell_type": "code",
   "execution_count": 108,
   "id": "542b3646",
   "metadata": {},
   "outputs": [
    {
     "data": {
      "text/html": [
       "<div>\n",
       "<style scoped>\n",
       "    .dataframe tbody tr th:only-of-type {\n",
       "        vertical-align: middle;\n",
       "    }\n",
       "\n",
       "    .dataframe tbody tr th {\n",
       "        vertical-align: top;\n",
       "    }\n",
       "\n",
       "    .dataframe thead th {\n",
       "        text-align: right;\n",
       "    }\n",
       "</style>\n",
       "<table border=\"1\" class=\"dataframe\">\n",
       "  <thead>\n",
       "    <tr style=\"text-align: right;\">\n",
       "      <th></th>\n",
       "      <th>Weight</th>\n",
       "      <th>Prob. walk</th>\n",
       "      <th>Prob. cycling</th>\n",
       "      <th>Prob. public</th>\n",
       "      <th>Prob. driving</th>\n",
       "    </tr>\n",
       "  </thead>\n",
       "  <tbody>\n",
       "    <tr>\n",
       "      <th>0</th>\n",
       "      <td>0.845120</td>\n",
       "      <td>0.056122</td>\n",
       "      <td>0.033443</td>\n",
       "      <td>0.062988</td>\n",
       "      <td>0.847448</td>\n",
       "    </tr>\n",
       "    <tr>\n",
       "      <th>1</th>\n",
       "      <td>1.029010</td>\n",
       "      <td>0.234590</td>\n",
       "      <td>0.075104</td>\n",
       "      <td>0.466893</td>\n",
       "      <td>0.223413</td>\n",
       "    </tr>\n",
       "    <tr>\n",
       "      <th>2</th>\n",
       "      <td>1.228293</td>\n",
       "      <td>0.000447</td>\n",
       "      <td>0.035738</td>\n",
       "      <td>0.623996</td>\n",
       "      <td>0.339819</td>\n",
       "    </tr>\n",
       "    <tr>\n",
       "      <th>3</th>\n",
       "      <td>1.228293</td>\n",
       "      <td>0.003664</td>\n",
       "      <td>0.021864</td>\n",
       "      <td>0.049406</td>\n",
       "      <td>0.925067</td>\n",
       "    </tr>\n",
       "    <tr>\n",
       "      <th>4</th>\n",
       "      <td>0.868544</td>\n",
       "      <td>0.092890</td>\n",
       "      <td>0.043082</td>\n",
       "      <td>0.152466</td>\n",
       "      <td>0.711563</td>\n",
       "    </tr>\n",
       "    <tr>\n",
       "      <th>...</th>\n",
       "      <td>...</td>\n",
       "      <td>...</td>\n",
       "      <td>...</td>\n",
       "      <td>...</td>\n",
       "      <td>...</td>\n",
       "    </tr>\n",
       "    <tr>\n",
       "      <th>4995</th>\n",
       "      <td>0.845120</td>\n",
       "      <td>0.386344</td>\n",
       "      <td>0.035924</td>\n",
       "      <td>0.108761</td>\n",
       "      <td>0.468971</td>\n",
       "    </tr>\n",
       "    <tr>\n",
       "      <th>4996</th>\n",
       "      <td>0.845120</td>\n",
       "      <td>0.051657</td>\n",
       "      <td>0.045394</td>\n",
       "      <td>0.693246</td>\n",
       "      <td>0.209703</td>\n",
       "    </tr>\n",
       "    <tr>\n",
       "      <th>4997</th>\n",
       "      <td>0.868544</td>\n",
       "      <td>0.004401</td>\n",
       "      <td>0.018260</td>\n",
       "      <td>0.137395</td>\n",
       "      <td>0.839944</td>\n",
       "    </tr>\n",
       "    <tr>\n",
       "      <th>4998</th>\n",
       "      <td>1.228293</td>\n",
       "      <td>0.024476</td>\n",
       "      <td>0.059768</td>\n",
       "      <td>0.606441</td>\n",
       "      <td>0.309314</td>\n",
       "    </tr>\n",
       "    <tr>\n",
       "      <th>4999</th>\n",
       "      <td>1.029010</td>\n",
       "      <td>0.284695</td>\n",
       "      <td>0.052045</td>\n",
       "      <td>0.194976</td>\n",
       "      <td>0.468284</td>\n",
       "    </tr>\n",
       "  </tbody>\n",
       "</table>\n",
       "<p>5000 rows × 5 columns</p>\n",
       "</div>"
      ],
      "text/plain": [
       "        Weight  Prob. walk  Prob. cycling  Prob. public  Prob. driving\n",
       "0     0.845120    0.056122       0.033443      0.062988       0.847448\n",
       "1     1.029010    0.234590       0.075104      0.466893       0.223413\n",
       "2     1.228293    0.000447       0.035738      0.623996       0.339819\n",
       "3     1.228293    0.003664       0.021864      0.049406       0.925067\n",
       "4     0.868544    0.092890       0.043082      0.152466       0.711563\n",
       "...        ...         ...            ...           ...            ...\n",
       "4995  0.845120    0.386344       0.035924      0.108761       0.468971\n",
       "4996  0.845120    0.051657       0.045394      0.693246       0.209703\n",
       "4997  0.868544    0.004401       0.018260      0.137395       0.839944\n",
       "4998  1.228293    0.024476       0.059768      0.606441       0.309314\n",
       "4999  1.029010    0.284695       0.052045      0.194976       0.468284\n",
       "\n",
       "[5000 rows x 5 columns]"
      ]
     },
     "execution_count": 108,
     "metadata": {},
     "output_type": "execute_result"
    }
   ],
   "source": [
    "simulated_values"
   ]
  },
  {
   "cell_type": "markdown",
   "id": "d7617c9a",
   "metadata": {},
   "source": [
    "Market shares are calculated using the weighted mean of the\n",
    "individual probabilities."
   ]
  },
  {
   "cell_type": "code",
   "execution_count": 111,
   "id": "a6b8e560",
   "metadata": {},
   "outputs": [],
   "source": [
    "modes = [\"walk\",\"cycling\",\"public\",\"driving\"]\n",
    "for mode in modes:\n",
    "    simulated_values['Weighted '+mode] = (\n",
    "        simulated_values['Weight'] * \n",
    "        simulated_values['Prob. '+mode]\n",
    "    )"
   ]
  },
  {
   "cell_type": "code",
   "execution_count": 112,
   "id": "40720f85",
   "metadata": {},
   "outputs": [
    {
     "data": {
      "text/html": [
       "<div>\n",
       "<style scoped>\n",
       "    .dataframe tbody tr th:only-of-type {\n",
       "        vertical-align: middle;\n",
       "    }\n",
       "\n",
       "    .dataframe tbody tr th {\n",
       "        vertical-align: top;\n",
       "    }\n",
       "\n",
       "    .dataframe thead th {\n",
       "        text-align: right;\n",
       "    }\n",
       "</style>\n",
       "<table border=\"1\" class=\"dataframe\">\n",
       "  <thead>\n",
       "    <tr style=\"text-align: right;\">\n",
       "      <th></th>\n",
       "      <th>Weight</th>\n",
       "      <th>Prob. walk</th>\n",
       "      <th>Prob. cycling</th>\n",
       "      <th>Prob. public</th>\n",
       "      <th>Prob. driving</th>\n",
       "      <th>Weighted walk</th>\n",
       "      <th>Weighted cycling</th>\n",
       "      <th>Weighted public</th>\n",
       "      <th>Weighted driving</th>\n",
       "    </tr>\n",
       "  </thead>\n",
       "  <tbody>\n",
       "    <tr>\n",
       "      <th>0</th>\n",
       "      <td>0.845120</td>\n",
       "      <td>0.056122</td>\n",
       "      <td>0.033443</td>\n",
       "      <td>0.062988</td>\n",
       "      <td>0.847448</td>\n",
       "      <td>0.047430</td>\n",
       "      <td>0.028263</td>\n",
       "      <td>0.053232</td>\n",
       "      <td>0.716195</td>\n",
       "    </tr>\n",
       "    <tr>\n",
       "      <th>1</th>\n",
       "      <td>1.029010</td>\n",
       "      <td>0.234590</td>\n",
       "      <td>0.075104</td>\n",
       "      <td>0.466893</td>\n",
       "      <td>0.223413</td>\n",
       "      <td>0.241395</td>\n",
       "      <td>0.077283</td>\n",
       "      <td>0.480437</td>\n",
       "      <td>0.229894</td>\n",
       "    </tr>\n",
       "    <tr>\n",
       "      <th>2</th>\n",
       "      <td>1.228293</td>\n",
       "      <td>0.000447</td>\n",
       "      <td>0.035738</td>\n",
       "      <td>0.623996</td>\n",
       "      <td>0.339819</td>\n",
       "      <td>0.000549</td>\n",
       "      <td>0.043897</td>\n",
       "      <td>0.766450</td>\n",
       "      <td>0.417397</td>\n",
       "    </tr>\n",
       "    <tr>\n",
       "      <th>3</th>\n",
       "      <td>1.228293</td>\n",
       "      <td>0.003664</td>\n",
       "      <td>0.021864</td>\n",
       "      <td>0.049406</td>\n",
       "      <td>0.925067</td>\n",
       "      <td>0.004501</td>\n",
       "      <td>0.026855</td>\n",
       "      <td>0.060685</td>\n",
       "      <td>1.136252</td>\n",
       "    </tr>\n",
       "    <tr>\n",
       "      <th>4</th>\n",
       "      <td>0.868544</td>\n",
       "      <td>0.092890</td>\n",
       "      <td>0.043082</td>\n",
       "      <td>0.152466</td>\n",
       "      <td>0.711563</td>\n",
       "      <td>0.080679</td>\n",
       "      <td>0.037418</td>\n",
       "      <td>0.132423</td>\n",
       "      <td>0.618023</td>\n",
       "    </tr>\n",
       "    <tr>\n",
       "      <th>...</th>\n",
       "      <td>...</td>\n",
       "      <td>...</td>\n",
       "      <td>...</td>\n",
       "      <td>...</td>\n",
       "      <td>...</td>\n",
       "      <td>...</td>\n",
       "      <td>...</td>\n",
       "      <td>...</td>\n",
       "      <td>...</td>\n",
       "    </tr>\n",
       "    <tr>\n",
       "      <th>4995</th>\n",
       "      <td>0.845120</td>\n",
       "      <td>0.386344</td>\n",
       "      <td>0.035924</td>\n",
       "      <td>0.108761</td>\n",
       "      <td>0.468971</td>\n",
       "      <td>0.326507</td>\n",
       "      <td>0.030360</td>\n",
       "      <td>0.091916</td>\n",
       "      <td>0.396337</td>\n",
       "    </tr>\n",
       "    <tr>\n",
       "      <th>4996</th>\n",
       "      <td>0.845120</td>\n",
       "      <td>0.051657</td>\n",
       "      <td>0.045394</td>\n",
       "      <td>0.693246</td>\n",
       "      <td>0.209703</td>\n",
       "      <td>0.043656</td>\n",
       "      <td>0.038363</td>\n",
       "      <td>0.585876</td>\n",
       "      <td>0.177225</td>\n",
       "    </tr>\n",
       "    <tr>\n",
       "      <th>4997</th>\n",
       "      <td>0.868544</td>\n",
       "      <td>0.004401</td>\n",
       "      <td>0.018260</td>\n",
       "      <td>0.137395</td>\n",
       "      <td>0.839944</td>\n",
       "      <td>0.003822</td>\n",
       "      <td>0.015859</td>\n",
       "      <td>0.119334</td>\n",
       "      <td>0.729529</td>\n",
       "    </tr>\n",
       "    <tr>\n",
       "      <th>4998</th>\n",
       "      <td>1.228293</td>\n",
       "      <td>0.024476</td>\n",
       "      <td>0.059768</td>\n",
       "      <td>0.606441</td>\n",
       "      <td>0.309314</td>\n",
       "      <td>0.030064</td>\n",
       "      <td>0.073413</td>\n",
       "      <td>0.744888</td>\n",
       "      <td>0.379928</td>\n",
       "    </tr>\n",
       "    <tr>\n",
       "      <th>4999</th>\n",
       "      <td>1.029010</td>\n",
       "      <td>0.284695</td>\n",
       "      <td>0.052045</td>\n",
       "      <td>0.194976</td>\n",
       "      <td>0.468284</td>\n",
       "      <td>0.292954</td>\n",
       "      <td>0.053554</td>\n",
       "      <td>0.200632</td>\n",
       "      <td>0.481869</td>\n",
       "    </tr>\n",
       "  </tbody>\n",
       "</table>\n",
       "<p>5000 rows × 9 columns</p>\n",
       "</div>"
      ],
      "text/plain": [
       "        Weight  Prob. walk  Prob. cycling  Prob. public  Prob. driving  \\\n",
       "0     0.845120    0.056122       0.033443      0.062988       0.847448   \n",
       "1     1.029010    0.234590       0.075104      0.466893       0.223413   \n",
       "2     1.228293    0.000447       0.035738      0.623996       0.339819   \n",
       "3     1.228293    0.003664       0.021864      0.049406       0.925067   \n",
       "4     0.868544    0.092890       0.043082      0.152466       0.711563   \n",
       "...        ...         ...            ...           ...            ...   \n",
       "4995  0.845120    0.386344       0.035924      0.108761       0.468971   \n",
       "4996  0.845120    0.051657       0.045394      0.693246       0.209703   \n",
       "4997  0.868544    0.004401       0.018260      0.137395       0.839944   \n",
       "4998  1.228293    0.024476       0.059768      0.606441       0.309314   \n",
       "4999  1.029010    0.284695       0.052045      0.194976       0.468284   \n",
       "\n",
       "      Weighted walk  Weighted cycling  Weighted public  Weighted driving  \n",
       "0          0.047430          0.028263         0.053232          0.716195  \n",
       "1          0.241395          0.077283         0.480437          0.229894  \n",
       "2          0.000549          0.043897         0.766450          0.417397  \n",
       "3          0.004501          0.026855         0.060685          1.136252  \n",
       "4          0.080679          0.037418         0.132423          0.618023  \n",
       "...             ...               ...              ...               ...  \n",
       "4995       0.326507          0.030360         0.091916          0.396337  \n",
       "4996       0.043656          0.038363         0.585876          0.177225  \n",
       "4997       0.003822          0.015859         0.119334          0.729529  \n",
       "4998       0.030064          0.073413         0.744888          0.379928  \n",
       "4999       0.292954          0.053554         0.200632          0.481869  \n",
       "\n",
       "[5000 rows x 9 columns]"
      ]
     },
     "execution_count": 112,
     "metadata": {},
     "output_type": "execute_result"
    }
   ],
   "source": [
    "simulated_values"
   ]
  },
  {
   "cell_type": "code",
   "execution_count": 139,
   "id": "0f4af2b1",
   "metadata": {},
   "outputs": [
    {
     "name": "stdout",
     "output_type": "stream",
     "text": [
      "Market share for walk: 18.3%\n",
      "Market share for cycling: 3.6%\n",
      "Market share for public: 36.2%\n",
      "Market share for driving: 42.0%\n"
     ]
    }
   ],
   "source": [
    "market_share=[]\n",
    "for mode in modes: \n",
    "    globals()['market_share_'+mode]=simulated_values['Weighted '+ mode].mean()\n",
    "    market_share.append(globals()['market_share_'+mode])\n",
    "    print(f'Market share for {mode}: {100*market_share[-1]:.1f}%')"
   ]
  },
  {
   "cell_type": "markdown",
   "id": "ed51fb50",
   "metadata": {},
   "source": [
    "## Calcualte confidence interval"
   ]
  },
  {
   "cell_type": "code",
   "execution_count": 131,
   "id": "061c4190",
   "metadata": {},
   "outputs": [],
   "source": [
    "results_bootstrapping = biogeme.estimate(bootstrap=10)"
   ]
  },
  {
   "cell_type": "code",
   "execution_count": 132,
   "id": "353f249f",
   "metadata": {},
   "outputs": [],
   "source": [
    "betas = biogeme.freeBetaNames()\n",
    "b = results_bootstrapping.getBetasForSensitivityAnalysis(betas)"
   ]
  },
  {
   "cell_type": "code",
   "execution_count": 133,
   "id": "e2519549",
   "metadata": {},
   "outputs": [],
   "source": [
    "left, right = biosim.confidenceIntervals(b, 0.9)"
   ]
  },
  {
   "cell_type": "code",
   "execution_count": 134,
   "id": "797d904c",
   "metadata": {},
   "outputs": [
    {
     "data": {
      "text/html": [
       "<div>\n",
       "<style scoped>\n",
       "    .dataframe tbody tr th:only-of-type {\n",
       "        vertical-align: middle;\n",
       "    }\n",
       "\n",
       "    .dataframe tbody tr th {\n",
       "        vertical-align: top;\n",
       "    }\n",
       "\n",
       "    .dataframe thead th {\n",
       "        text-align: right;\n",
       "    }\n",
       "</style>\n",
       "<table border=\"1\" class=\"dataframe\">\n",
       "  <thead>\n",
       "    <tr style=\"text-align: right;\">\n",
       "      <th></th>\n",
       "      <th>Weight</th>\n",
       "      <th>Prob. walk</th>\n",
       "      <th>Prob. cycling</th>\n",
       "      <th>Prob. public</th>\n",
       "      <th>Prob. driving</th>\n",
       "    </tr>\n",
       "  </thead>\n",
       "  <tbody>\n",
       "    <tr>\n",
       "      <th>0</th>\n",
       "      <td>0.845120</td>\n",
       "      <td>0.046945</td>\n",
       "      <td>0.029260</td>\n",
       "      <td>0.052399</td>\n",
       "      <td>0.828376</td>\n",
       "    </tr>\n",
       "    <tr>\n",
       "      <th>1</th>\n",
       "      <td>1.029010</td>\n",
       "      <td>0.219606</td>\n",
       "      <td>0.065776</td>\n",
       "      <td>0.427006</td>\n",
       "      <td>0.208789</td>\n",
       "    </tr>\n",
       "    <tr>\n",
       "      <th>2</th>\n",
       "      <td>1.228293</td>\n",
       "      <td>0.000236</td>\n",
       "      <td>0.026649</td>\n",
       "      <td>0.568711</td>\n",
       "      <td>0.275310</td>\n",
       "    </tr>\n",
       "    <tr>\n",
       "      <th>3</th>\n",
       "      <td>1.228293</td>\n",
       "      <td>0.002637</td>\n",
       "      <td>0.018107</td>\n",
       "      <td>0.042088</td>\n",
       "      <td>0.914553</td>\n",
       "    </tr>\n",
       "    <tr>\n",
       "      <th>4</th>\n",
       "      <td>0.868544</td>\n",
       "      <td>0.080983</td>\n",
       "      <td>0.038545</td>\n",
       "      <td>0.139068</td>\n",
       "      <td>0.687739</td>\n",
       "    </tr>\n",
       "    <tr>\n",
       "      <th>...</th>\n",
       "      <td>...</td>\n",
       "      <td>...</td>\n",
       "      <td>...</td>\n",
       "      <td>...</td>\n",
       "      <td>...</td>\n",
       "    </tr>\n",
       "    <tr>\n",
       "      <th>4995</th>\n",
       "      <td>0.845120</td>\n",
       "      <td>0.376519</td>\n",
       "      <td>0.031156</td>\n",
       "      <td>0.084221</td>\n",
       "      <td>0.412001</td>\n",
       "    </tr>\n",
       "    <tr>\n",
       "      <th>4996</th>\n",
       "      <td>0.845120</td>\n",
       "      <td>0.043325</td>\n",
       "      <td>0.039441</td>\n",
       "      <td>0.662516</td>\n",
       "      <td>0.196356</td>\n",
       "    </tr>\n",
       "    <tr>\n",
       "      <th>4997</th>\n",
       "      <td>0.868544</td>\n",
       "      <td>0.003216</td>\n",
       "      <td>0.015122</td>\n",
       "      <td>0.118904</td>\n",
       "      <td>0.820229</td>\n",
       "    </tr>\n",
       "    <tr>\n",
       "      <th>4998</th>\n",
       "      <td>1.228293</td>\n",
       "      <td>0.019110</td>\n",
       "      <td>0.050994</td>\n",
       "      <td>0.571370</td>\n",
       "      <td>0.300906</td>\n",
       "    </tr>\n",
       "    <tr>\n",
       "      <th>4999</th>\n",
       "      <td>1.029010</td>\n",
       "      <td>0.270353</td>\n",
       "      <td>0.046462</td>\n",
       "      <td>0.179641</td>\n",
       "      <td>0.451822</td>\n",
       "    </tr>\n",
       "  </tbody>\n",
       "</table>\n",
       "<p>5000 rows × 5 columns</p>\n",
       "</div>"
      ],
      "text/plain": [
       "        Weight  Prob. walk  Prob. cycling  Prob. public  Prob. driving\n",
       "0     0.845120    0.046945       0.029260      0.052399       0.828376\n",
       "1     1.029010    0.219606       0.065776      0.427006       0.208789\n",
       "2     1.228293    0.000236       0.026649      0.568711       0.275310\n",
       "3     1.228293    0.002637       0.018107      0.042088       0.914553\n",
       "4     0.868544    0.080983       0.038545      0.139068       0.687739\n",
       "...        ...         ...            ...           ...            ...\n",
       "4995  0.845120    0.376519       0.031156      0.084221       0.412001\n",
       "4996  0.845120    0.043325       0.039441      0.662516       0.196356\n",
       "4997  0.868544    0.003216       0.015122      0.118904       0.820229\n",
       "4998  1.228293    0.019110       0.050994      0.571370       0.300906\n",
       "4999  1.029010    0.270353       0.046462      0.179641       0.451822\n",
       "\n",
       "[5000 rows x 5 columns]"
      ]
     },
     "execution_count": 134,
     "metadata": {},
     "output_type": "execute_result"
    }
   ],
   "source": [
    "left"
   ]
  },
  {
   "cell_type": "code",
   "execution_count": 135,
   "id": "b927e922",
   "metadata": {},
   "outputs": [],
   "source": [
    "for mode in modes:\n",
    "    left['Weighted '+mode] = (\n",
    "        left['Weight'] * \n",
    "        left['Prob. '+mode]\n",
    "    )\n",
    "    right['Weighted '+mode] = (\n",
    "        right['Weight'] * \n",
    "        right['Prob. '+mode]\n",
    "    )"
   ]
  },
  {
   "cell_type": "code",
   "execution_count": 140,
   "id": "ff23faba",
   "metadata": {},
   "outputs": [
    {
     "name": "stdout",
     "output_type": "stream",
     "text": [
      "Market share for walk: 18.3% CI: [17.4%-19.3]\n",
      "Market share for cycling: 3.6% CI: [3.1%-4.4]\n",
      "Market share for public: 36.2% CI: [34.0%-38.0]\n",
      "Market share for driving: 42.0% CI: [39.9%-43.9]\n"
     ]
    }
   ],
   "source": [
    "left_market_share=[]\n",
    "right_market_share=[]\n",
    "for num,mode in enumerate(modes): \n",
    "    globals()['left_market_share_'+mode]=left['Weighted '+ mode].mean()\n",
    "    globals()['right_market_share_'+mode]=right['Weighted '+ mode].mean()\n",
    "    left_market_share.append(globals()['left_market_share_'+mode])\n",
    "    right_market_share.append(globals()['right_market_share_'+mode])\n",
    "    print(\n",
    "    f'Market share for {mode}: {100*market_share[num]:.1f}% '\n",
    "    f'CI: ['\n",
    "    f'{100*left_market_share[num]:.1f}%-'\n",
    "    f'{100*right_market_share[num]:.1f}'\n",
    "    f']'\n",
    ")"
   ]
  },
  {
   "cell_type": "markdown",
   "id": "b5f36c36",
   "metadata": {},
   "source": [
    "# Forcasting"
   ]
  },
  {
   "cell_type": "markdown",
   "id": "f8261ba2",
   "metadata": {},
   "source": [
    "## Consider two scenarios"
   ]
  },
  {
   "cell_type": "code",
   "execution_count": 172,
   "id": "1c097252",
   "metadata": {},
   "outputs": [],
   "source": [
    "# define a function for calculating market share\n",
    "def calculate_market_share(utility):\n",
    "    \n",
    "    prob_walk = models.nested(utility, None, nests,1)\n",
    "    prob_cycling = models.nested(utility, None, nests,2)\n",
    "    prob_public = models.nested(utility, None, nests,3)\n",
    "    prob_driving = models.nested(utility, None, nests,4)\n",
    "\n",
    "    Weight = Variable('Weight')\n",
    "    simulate = {\n",
    "    'Weight': Weight,\n",
    "    'Prob. walk': prob_walk,\n",
    "    'Prob. cycling': prob_cycling,\n",
    "    'Prob. public': prob_public,\n",
    "    'Prob. driving': prob_driving\n",
    "    }\n",
    "\n",
    "    biosim = bio.BIOGEME(database, simulate)\n",
    "    simulated_values = biosim.simulate(results4.getBetaValues())\n",
    "    modes = [\"walk\",\"cycling\",\"public\",\"driving\"]\n",
    "    for mode in modes:\n",
    "        simulated_values['Weighted '+mode] = (\n",
    "            simulated_values['Weight'] * \n",
    "            simulated_values['Prob. '+mode]\n",
    "        )\n",
    "    market_share=[]\n",
    "    for mode in modes: \n",
    "        globals()['market_share_'+mode]=simulated_values['Weighted '+ mode].mean()\n",
    "        market_share.append(globals()['market_share_'+mode])\n",
    "    \n",
    "    return market_share"
   ]
  },
  {
   "cell_type": "code",
   "execution_count": 173,
   "id": "5b186968",
   "metadata": {},
   "outputs": [],
   "source": [
    "# an increase of car cost by 15%\n",
    "V_walk = asc_walk + beta_time_walk * boxcox_time_1\n",
    "V_cycling = asc_cycling + beta_time_cycling * boxcox_time_2\n",
    "V_public = asc_public + beta_time_public * boxcox_time_3+ beta_cost * cost_transit + beta_interchange * pt_interchanges\n",
    "V_driving = asc_driving + beta_time_driving * boxcox_time_4 + beta_cost * cost_driving*1.15 + beta_drivingliscence * driving_license\n",
    "V_1 = {1: V_walk, 2: V_cycling, 3: V_public, 4: V_driving}"
   ]
  },
  {
   "cell_type": "code",
   "execution_count": 174,
   "id": "f5500d4e",
   "metadata": {},
   "outputs": [],
   "source": [
    "market_share_1 = calculate_market_share(V_1)"
   ]
  },
  {
   "cell_type": "code",
   "execution_count": 180,
   "id": "1b54089d",
   "metadata": {},
   "outputs": [
    {
     "data": {
      "text/plain": [
       "[0.18303587308894248,\n",
       " 0.03570537602583732,\n",
       " 0.3653452279480938,\n",
       " 0.4159135229371264]"
      ]
     },
     "execution_count": 180,
     "metadata": {},
     "output_type": "execute_result"
    }
   ],
   "source": [
    "market_share_1"
   ]
  },
  {
   "cell_type": "code",
   "execution_count": 175,
   "id": "44c11ade",
   "metadata": {},
   "outputs": [
    {
     "name": "stdout",
     "output_type": "stream",
     "text": [
      "Market share for walk: 18.3%\n",
      "Market share for cycling: 3.6%\n",
      "Market share for public: 36.5%\n",
      "Market share for driving: 41.6%\n"
     ]
    }
   ],
   "source": [
    "for i,mode in enumerate(modes): \n",
    "    print(f'Market share for {mode}: {100*market_share_1[i]:.1f}%')"
   ]
  },
  {
   "cell_type": "code",
   "execution_count": 176,
   "id": "2de22b7d",
   "metadata": {},
   "outputs": [],
   "source": [
    "# a decrease of public transport cost by 15%\n",
    "# an increase of car cost by 15%\n",
    "V_walk = asc_walk + beta_time_walk * boxcox_time_1\n",
    "V_cycling = asc_cycling + beta_time_cycling * boxcox_time_2\n",
    "V_public = asc_public + beta_time_public * boxcox_time_3+ beta_cost * cost_transit*0.85 + beta_interchange * pt_interchanges\n",
    "V_driving = asc_driving + beta_time_driving * boxcox_time_4 + beta_cost * cost_driving + beta_drivingliscence * driving_license\n",
    "V_2 = {1: V_walk, 2: V_cycling, 3: V_public, 4: V_driving}"
   ]
  },
  {
   "cell_type": "code",
   "execution_count": 177,
   "id": "910d8d38",
   "metadata": {},
   "outputs": [],
   "source": [
    "market_share_2 = calculate_market_share(V_2)"
   ]
  },
  {
   "cell_type": "code",
   "execution_count": 178,
   "id": "4fd1316c",
   "metadata": {},
   "outputs": [
    {
     "data": {
      "text/plain": [
       "[0.1826834260957323,\n",
       " 0.03547092855513872,\n",
       " 0.3655157663325278,\n",
       " 0.4163298790166012]"
      ]
     },
     "execution_count": 178,
     "metadata": {},
     "output_type": "execute_result"
    }
   ],
   "source": [
    "market_share_2"
   ]
  },
  {
   "cell_type": "code",
   "execution_count": 179,
   "id": "37bf540c",
   "metadata": {},
   "outputs": [
    {
     "name": "stdout",
     "output_type": "stream",
     "text": [
      "Market share for walk: 18.3%\n",
      "Market share for cycling: 3.5%\n",
      "Market share for public: 36.6%\n",
      "Market share for driving: 41.6%\n"
     ]
    }
   ],
   "source": [
    "for i,mode in enumerate(modes): \n",
    "    print(f'Market share for {mode}: {100*market_share_2[i]:.1f}%')"
   ]
  },
  {
   "cell_type": "markdown",
   "id": "1792946f",
   "metadata": {},
   "source": [
    "## Effect on revenue"
   ]
  },
  {
   "cell_type": "code",
   "execution_count": 181,
   "id": "ce95d400",
   "metadata": {},
   "outputs": [],
   "source": [
    "def calculate_revenues(change, utility):\n",
    "    prob_public = models.nested(utility, None, nests,3)   \n",
    "\n",
    "    simulate = {\n",
    "        'weight': Weight,\n",
    "        'Revenues PT': prob_public * cost_transit * change,\n",
    "    }\n",
    "    biosim = bio.BIOGEME(database, simulate)\n",
    "    simulated_values = biosim.simulate(results4.getBetaValues())\n",
    "\n",
    "    simulated_values['Weighted revenues PT'] = (\n",
    "        simulated_values['weight'] * simulated_values['Revenues PT']\n",
    "    )\n",
    "    \n",
    "    revenues_PT = simulated_values['Weighted revenues PT'].mean()\n",
    "\n",
    "    return revenues_PT"
   ]
  },
  {
   "cell_type": "code",
   "execution_count": 182,
   "id": "15665b31",
   "metadata": {},
   "outputs": [
    {
     "data": {
      "text/plain": [
       "0.697665362122266"
      ]
     },
     "execution_count": 182,
     "metadata": {},
     "output_type": "execute_result"
    }
   ],
   "source": [
    "# scenario 1\n",
    "calculate_revenues(1,V_1)"
   ]
  },
  {
   "cell_type": "code",
   "execution_count": 183,
   "id": "a8e2ea76",
   "metadata": {},
   "outputs": [
    {
     "data": {
      "text/plain": [
       "0.5948704833553018"
      ]
     },
     "execution_count": 183,
     "metadata": {},
     "output_type": "execute_result"
    }
   ],
   "source": [
    "# scenario 2\n",
    "calculate_revenues(0.85,V_2)"
   ]
  },
  {
   "cell_type": "code",
   "execution_count": 185,
   "id": "df0b7e46",
   "metadata": {},
   "outputs": [
    {
     "data": {
      "text/plain": [
       "0.6888564497933853"
      ]
     },
     "execution_count": 185,
     "metadata": {},
     "output_type": "execute_result"
    }
   ],
   "source": [
    "# scenario 0\n",
    "calculate_revenues(1,V)"
   ]
  },
  {
   "cell_type": "markdown",
   "id": "f593962d",
   "metadata": {},
   "source": [
    "## Aggregate elasticity"
   ]
  },
  {
   "cell_type": "markdown",
   "id": "c2a0176d",
   "metadata": {},
   "source": [
    "Disaggregate elasticity\n",
    "$$\n",
    "E_{x_{i n k}}^{P_{n}(i)}=\\frac{\\partial P_{n}(i)}{\\partial x_{i n k}} \\frac{x_{i n k}}{P_{n}(i)}\n",
    "$$\n",
    "Aggregate elasticity\n",
    "$$\n",
    "\\begin{aligned}\n",
    "E_{x_{j k}}^{\\widehat{x^{\\prime}}(i)} & =\\frac{\\partial \\widehat{W}(i)}{\\partial x_{j k}} \\frac{x_{j k}}{\\widehat{W}(i)} \\\\\n",
    "& =\\frac{1}{S} \\sum_{n=1}^{N} \\omega_{n} \\frac{P_{n}(i)}{P_{n}(i)} \\frac{\\partial P_{n}(i)}{\\partial x_{j k}} \\frac{S x_{j k}}{\\sum_{\\ell=1}^{N} \\omega_{\\ell} P_{\\ell}(i)} \\\\\n",
    "& =\\frac{1}{\\sum_{\\ell=1}^{N} \\omega_{\\ell} P_{\\ell}(i)} \\sum_{n=1}^{N} \\omega_{n} P_{n}(i) E_{x_{j n k}}^{P_{n}(i)} .\n",
    "\\end{aligned}\n",
    "$$"
   ]
  },
  {
   "cell_type": "code",
   "execution_count": 186,
   "id": "2a652a19",
   "metadata": {},
   "outputs": [],
   "source": [
    "from biogeme.expressions import Derive"
   ]
  },
  {
   "cell_type": "code",
   "execution_count": 221,
   "id": "09bfd5ab",
   "metadata": {},
   "outputs": [],
   "source": [
    "def calculate_direct_elasticity(utility):\n",
    "    \n",
    "    prob_public = models.nested(utility, None, nests,3)\n",
    "    prob_driving = models.nested(utility, None, nests,4)\n",
    "    \n",
    "    simulate = {\n",
    "    'Weight': Weight,\n",
    "    'Prob. public': prob_public,\n",
    "    # 'Prob. driving': prob_driving,\n",
    "    'Dis. Elas. public': Derive(prob_public,'cost_transit') * cost_transit / prob_public,\n",
    "    # 'Dis. Elas. driving': Derive(prob_driving, 'cost_driving') * cost_driving / prob_driving,\n",
    "    }\n",
    "\n",
    "\n",
    "    biosim = bio.BIOGEME(database, simulate)\n",
    "    simulated_values = biosim.simulate(results4.getBetaValues())\n",
    "    \n",
    "    simulated_values['Weighted public'] = simulated_values['Weight']*simulated_values['Prob. public']\n",
    "    # simulated_values['Weighted driving'] = simulated_values['Weight']*simulated_values['Prob. driving']\n",
    "    \n",
    "    norm_public = simulated_values['Weighted public'].sum()\n",
    "    # norm_driving = simulated_values['Weighted driving'].sum()\n",
    "\n",
    "    Aggregate_elas_public = (simulated_values['Weighted public']*simulated_values['Dis. Elas. public']).sum()/norm_public\n",
    "    # Aggregate_elas_driving = (simulated_values['Weighted driving']*simulated_values['Dis. Elas. driving']).sum()/norm_driving\n",
    "\n",
    "    return Aggregate_elas_public"
   ]
  },
  {
   "cell_type": "code",
   "execution_count": 222,
   "id": "687dd82d",
   "metadata": {},
   "outputs": [
    {
     "data": {
      "text/plain": [
       "-0.08000887519179997"
      ]
     },
     "execution_count": 222,
     "metadata": {},
     "output_type": "execute_result"
    }
   ],
   "source": [
    "calculate_direct_elasticity(V)"
   ]
  }
 ],
 "metadata": {
  "kernelspec": {
   "display_name": "Python 3.9.15 ('epfl_env')",
   "language": "python",
   "name": "python3"
  },
  "language_info": {
   "codemirror_mode": {
    "name": "ipython",
    "version": 3
   },
   "file_extension": ".py",
   "mimetype": "text/x-python",
   "name": "python",
   "nbconvert_exporter": "python",
   "pygments_lexer": "ipython3",
   "version": "3.9.15"
  },
  "vscode": {
   "interpreter": {
    "hash": "8903f8c00ad14786716d5e6725857786035cd6e980c848e3b9d7f4ac47bf3288"
   }
  }
 },
 "nbformat": 4,
 "nbformat_minor": 5
}
