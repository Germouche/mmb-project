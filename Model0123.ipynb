{
 "cells": [
  {
   "cell_type": "code",
   "execution_count": 1,
   "id": "ab0fd6f1-87c0-4c90-a637-1fe96242cdc0",
   "metadata": {},
   "outputs": [],
   "source": [
    "import pandas as pd\n",
    "import biogeme.database as db\n",
    "import biogeme.biogeme as bio\n",
    "from biogeme.expressions import Beta, Variable, log, exp\n",
    "from biogeme import models\n",
    "from biogeme import results as res"
   ]
  },
  {
   "cell_type": "code",
   "execution_count": 2,
   "id": "22b376cb-77ed-40ae-b643-496e0c103424",
   "metadata": {
    "scrolled": true
   },
   "outputs": [
    {
     "data": {
      "text/html": [
       "<div>\n",
       "<style scoped>\n",
       "    .dataframe tbody tr th:only-of-type {\n",
       "        vertical-align: middle;\n",
       "    }\n",
       "\n",
       "    .dataframe tbody tr th {\n",
       "        vertical-align: top;\n",
       "    }\n",
       "\n",
       "    .dataframe thead th {\n",
       "        text-align: right;\n",
       "    }\n",
       "</style>\n",
       "<table border=\"1\" class=\"dataframe\">\n",
       "  <thead>\n",
       "    <tr style=\"text-align: right;\">\n",
       "      <th></th>\n",
       "      <th>trip_id</th>\n",
       "      <th>household_id</th>\n",
       "      <th>person_n</th>\n",
       "      <th>trip_n</th>\n",
       "      <th>travel_mode</th>\n",
       "      <th>purpose</th>\n",
       "      <th>fueltype</th>\n",
       "      <th>faretype</th>\n",
       "      <th>bus_scale</th>\n",
       "      <th>survey_year</th>\n",
       "      <th>...</th>\n",
       "      <th>dur_pt_access</th>\n",
       "      <th>dur_pt_rail</th>\n",
       "      <th>dur_pt_bus</th>\n",
       "      <th>dur_pt_int</th>\n",
       "      <th>pt_interchanges</th>\n",
       "      <th>dur_driving</th>\n",
       "      <th>cost_transit</th>\n",
       "      <th>cost_driving_fuel</th>\n",
       "      <th>cost_driving_ccharge</th>\n",
       "      <th>driving_traffic_percent</th>\n",
       "    </tr>\n",
       "  </thead>\n",
       "  <tbody>\n",
       "    <tr>\n",
       "      <th>0</th>\n",
       "      <td>20</td>\n",
       "      <td>5</td>\n",
       "      <td>1</td>\n",
       "      <td>0</td>\n",
       "      <td>4</td>\n",
       "      <td>3</td>\n",
       "      <td>1</td>\n",
       "      <td>5</td>\n",
       "      <td>0.0</td>\n",
       "      <td>1</td>\n",
       "      <td>...</td>\n",
       "      <td>0.381667</td>\n",
       "      <td>0.000000</td>\n",
       "      <td>0.062222</td>\n",
       "      <td>0.000000</td>\n",
       "      <td>0</td>\n",
       "      <td>0.117222</td>\n",
       "      <td>0.00</td>\n",
       "      <td>0.41</td>\n",
       "      <td>0.0</td>\n",
       "      <td>0.097156</td>\n",
       "    </tr>\n",
       "    <tr>\n",
       "      <th>1</th>\n",
       "      <td>41</td>\n",
       "      <td>9</td>\n",
       "      <td>3</td>\n",
       "      <td>0</td>\n",
       "      <td>4</td>\n",
       "      <td>3</td>\n",
       "      <td>1</td>\n",
       "      <td>5</td>\n",
       "      <td>0.0</td>\n",
       "      <td>1</td>\n",
       "      <td>...</td>\n",
       "      <td>0.146944</td>\n",
       "      <td>0.000000</td>\n",
       "      <td>0.225000</td>\n",
       "      <td>0.000000</td>\n",
       "      <td>0</td>\n",
       "      <td>0.200833</td>\n",
       "      <td>0.00</td>\n",
       "      <td>0.48</td>\n",
       "      <td>0.0</td>\n",
       "      <td>0.378976</td>\n",
       "    </tr>\n",
       "    <tr>\n",
       "      <th>2</th>\n",
       "      <td>69</td>\n",
       "      <td>13</td>\n",
       "      <td>2</td>\n",
       "      <td>1</td>\n",
       "      <td>4</td>\n",
       "      <td>3</td>\n",
       "      <td>1</td>\n",
       "      <td>1</td>\n",
       "      <td>1.0</td>\n",
       "      <td>1</td>\n",
       "      <td>...</td>\n",
       "      <td>0.029444</td>\n",
       "      <td>0.083333</td>\n",
       "      <td>0.735833</td>\n",
       "      <td>0.398056</td>\n",
       "      <td>3</td>\n",
       "      <td>0.716944</td>\n",
       "      <td>6.00</td>\n",
       "      <td>2.16</td>\n",
       "      <td>0.0</td>\n",
       "      <td>0.582720</td>\n",
       "    </tr>\n",
       "    <tr>\n",
       "      <th>3</th>\n",
       "      <td>102</td>\n",
       "      <td>20</td>\n",
       "      <td>2</td>\n",
       "      <td>0</td>\n",
       "      <td>2</td>\n",
       "      <td>3</td>\n",
       "      <td>1</td>\n",
       "      <td>1</td>\n",
       "      <td>1.0</td>\n",
       "      <td>1</td>\n",
       "      <td>...</td>\n",
       "      <td>0.339722</td>\n",
       "      <td>0.183333</td>\n",
       "      <td>0.116667</td>\n",
       "      <td>0.266667</td>\n",
       "      <td>1</td>\n",
       "      <td>0.250833</td>\n",
       "      <td>3.00</td>\n",
       "      <td>0.89</td>\n",
       "      <td>0.0</td>\n",
       "      <td>0.170543</td>\n",
       "    </tr>\n",
       "    <tr>\n",
       "      <th>4</th>\n",
       "      <td>105</td>\n",
       "      <td>21</td>\n",
       "      <td>0</td>\n",
       "      <td>1</td>\n",
       "      <td>4</td>\n",
       "      <td>3</td>\n",
       "      <td>1</td>\n",
       "      <td>1</td>\n",
       "      <td>1.0</td>\n",
       "      <td>1</td>\n",
       "      <td>...</td>\n",
       "      <td>0.126389</td>\n",
       "      <td>0.000000</td>\n",
       "      <td>0.150000</td>\n",
       "      <td>0.000000</td>\n",
       "      <td>0</td>\n",
       "      <td>0.125833</td>\n",
       "      <td>1.50</td>\n",
       "      <td>0.37</td>\n",
       "      <td>0.0</td>\n",
       "      <td>0.154525</td>\n",
       "    </tr>\n",
       "    <tr>\n",
       "      <th>...</th>\n",
       "      <td>...</td>\n",
       "      <td>...</td>\n",
       "      <td>...</td>\n",
       "      <td>...</td>\n",
       "      <td>...</td>\n",
       "      <td>...</td>\n",
       "      <td>...</td>\n",
       "      <td>...</td>\n",
       "      <td>...</td>\n",
       "      <td>...</td>\n",
       "      <td>...</td>\n",
       "      <td>...</td>\n",
       "      <td>...</td>\n",
       "      <td>...</td>\n",
       "      <td>...</td>\n",
       "      <td>...</td>\n",
       "      <td>...</td>\n",
       "      <td>...</td>\n",
       "      <td>...</td>\n",
       "      <td>...</td>\n",
       "      <td>...</td>\n",
       "    </tr>\n",
       "    <tr>\n",
       "      <th>4995</th>\n",
       "      <td>80998</td>\n",
       "      <td>17591</td>\n",
       "      <td>0</td>\n",
       "      <td>5</td>\n",
       "      <td>4</td>\n",
       "      <td>3</td>\n",
       "      <td>1</td>\n",
       "      <td>5</td>\n",
       "      <td>0.0</td>\n",
       "      <td>3</td>\n",
       "      <td>...</td>\n",
       "      <td>0.189167</td>\n",
       "      <td>0.000000</td>\n",
       "      <td>0.117778</td>\n",
       "      <td>0.000000</td>\n",
       "      <td>0</td>\n",
       "      <td>0.082500</td>\n",
       "      <td>0.00</td>\n",
       "      <td>0.22</td>\n",
       "      <td>10.5</td>\n",
       "      <td>0.239057</td>\n",
       "    </tr>\n",
       "    <tr>\n",
       "      <th>4996</th>\n",
       "      <td>81000</td>\n",
       "      <td>17592</td>\n",
       "      <td>0</td>\n",
       "      <td>0</td>\n",
       "      <td>3</td>\n",
       "      <td>3</td>\n",
       "      <td>6</td>\n",
       "      <td>5</td>\n",
       "      <td>0.0</td>\n",
       "      <td>3</td>\n",
       "      <td>...</td>\n",
       "      <td>0.105278</td>\n",
       "      <td>0.000000</td>\n",
       "      <td>0.220278</td>\n",
       "      <td>0.000000</td>\n",
       "      <td>0</td>\n",
       "      <td>0.213611</td>\n",
       "      <td>0.00</td>\n",
       "      <td>0.52</td>\n",
       "      <td>0.0</td>\n",
       "      <td>0.412224</td>\n",
       "    </tr>\n",
       "    <tr>\n",
       "      <th>4997</th>\n",
       "      <td>81015</td>\n",
       "      <td>17597</td>\n",
       "      <td>0</td>\n",
       "      <td>3</td>\n",
       "      <td>4</td>\n",
       "      <td>3</td>\n",
       "      <td>1</td>\n",
       "      <td>5</td>\n",
       "      <td>0.0</td>\n",
       "      <td>3</td>\n",
       "      <td>...</td>\n",
       "      <td>0.343056</td>\n",
       "      <td>0.000000</td>\n",
       "      <td>0.177500</td>\n",
       "      <td>0.000000</td>\n",
       "      <td>0</td>\n",
       "      <td>0.189444</td>\n",
       "      <td>0.00</td>\n",
       "      <td>0.76</td>\n",
       "      <td>0.0</td>\n",
       "      <td>0.086510</td>\n",
       "    </tr>\n",
       "    <tr>\n",
       "      <th>4998</th>\n",
       "      <td>81041</td>\n",
       "      <td>17604</td>\n",
       "      <td>2</td>\n",
       "      <td>4</td>\n",
       "      <td>3</td>\n",
       "      <td>1</td>\n",
       "      <td>1</td>\n",
       "      <td>2</td>\n",
       "      <td>0.0</td>\n",
       "      <td>3</td>\n",
       "      <td>...</td>\n",
       "      <td>0.344444</td>\n",
       "      <td>0.316667</td>\n",
       "      <td>0.000000</td>\n",
       "      <td>0.083333</td>\n",
       "      <td>1</td>\n",
       "      <td>0.386111</td>\n",
       "      <td>1.05</td>\n",
       "      <td>0.98</td>\n",
       "      <td>0.0</td>\n",
       "      <td>0.340288</td>\n",
       "    </tr>\n",
       "    <tr>\n",
       "      <th>4999</th>\n",
       "      <td>81062</td>\n",
       "      <td>17607</td>\n",
       "      <td>0</td>\n",
       "      <td>4</td>\n",
       "      <td>3</td>\n",
       "      <td>5</td>\n",
       "      <td>6</td>\n",
       "      <td>1</td>\n",
       "      <td>1.0</td>\n",
       "      <td>3</td>\n",
       "      <td>...</td>\n",
       "      <td>0.069444</td>\n",
       "      <td>0.000000</td>\n",
       "      <td>0.166389</td>\n",
       "      <td>0.000000</td>\n",
       "      <td>0</td>\n",
       "      <td>0.146111</td>\n",
       "      <td>1.50</td>\n",
       "      <td>0.28</td>\n",
       "      <td>0.0</td>\n",
       "      <td>0.653992</td>\n",
       "    </tr>\n",
       "  </tbody>\n",
       "</table>\n",
       "<p>5000 rows × 32 columns</p>\n",
       "</div>"
      ],
      "text/plain": [
       "      trip_id  household_id  person_n  trip_n  travel_mode  purpose  fueltype  \\\n",
       "0          20             5         1       0            4        3         1   \n",
       "1          41             9         3       0            4        3         1   \n",
       "2          69            13         2       1            4        3         1   \n",
       "3         102            20         2       0            2        3         1   \n",
       "4         105            21         0       1            4        3         1   \n",
       "...       ...           ...       ...     ...          ...      ...       ...   \n",
       "4995    80998         17591         0       5            4        3         1   \n",
       "4996    81000         17592         0       0            3        3         6   \n",
       "4997    81015         17597         0       3            4        3         1   \n",
       "4998    81041         17604         2       4            3        1         1   \n",
       "4999    81062         17607         0       4            3        5         6   \n",
       "\n",
       "      faretype  bus_scale  survey_year  ...  dur_pt_access  dur_pt_rail  \\\n",
       "0            5        0.0            1  ...       0.381667     0.000000   \n",
       "1            5        0.0            1  ...       0.146944     0.000000   \n",
       "2            1        1.0            1  ...       0.029444     0.083333   \n",
       "3            1        1.0            1  ...       0.339722     0.183333   \n",
       "4            1        1.0            1  ...       0.126389     0.000000   \n",
       "...        ...        ...          ...  ...            ...          ...   \n",
       "4995         5        0.0            3  ...       0.189167     0.000000   \n",
       "4996         5        0.0            3  ...       0.105278     0.000000   \n",
       "4997         5        0.0            3  ...       0.343056     0.000000   \n",
       "4998         2        0.0            3  ...       0.344444     0.316667   \n",
       "4999         1        1.0            3  ...       0.069444     0.000000   \n",
       "\n",
       "      dur_pt_bus  dur_pt_int  pt_interchanges  dur_driving  cost_transit  \\\n",
       "0       0.062222    0.000000                0     0.117222          0.00   \n",
       "1       0.225000    0.000000                0     0.200833          0.00   \n",
       "2       0.735833    0.398056                3     0.716944          6.00   \n",
       "3       0.116667    0.266667                1     0.250833          3.00   \n",
       "4       0.150000    0.000000                0     0.125833          1.50   \n",
       "...          ...         ...              ...          ...           ...   \n",
       "4995    0.117778    0.000000                0     0.082500          0.00   \n",
       "4996    0.220278    0.000000                0     0.213611          0.00   \n",
       "4997    0.177500    0.000000                0     0.189444          0.00   \n",
       "4998    0.000000    0.083333                1     0.386111          1.05   \n",
       "4999    0.166389    0.000000                0     0.146111          1.50   \n",
       "\n",
       "      cost_driving_fuel  cost_driving_ccharge  driving_traffic_percent  \n",
       "0                  0.41                   0.0                 0.097156  \n",
       "1                  0.48                   0.0                 0.378976  \n",
       "2                  2.16                   0.0                 0.582720  \n",
       "3                  0.89                   0.0                 0.170543  \n",
       "4                  0.37                   0.0                 0.154525  \n",
       "...                 ...                   ...                      ...  \n",
       "4995               0.22                  10.5                 0.239057  \n",
       "4996               0.52                   0.0                 0.412224  \n",
       "4997               0.76                   0.0                 0.086510  \n",
       "4998               0.98                   0.0                 0.340288  \n",
       "4999               0.28                   0.0                 0.653992  \n",
       "\n",
       "[5000 rows x 32 columns]"
      ]
     },
     "execution_count": 2,
     "metadata": {},
     "output_type": "execute_result"
    }
   ],
   "source": [
    "#data_file = \"http://transp-or.epfl.ch/data/lpmc.dat\"\n",
    "data_file='lpmc10.dat'\n",
    "lpmc = pd.read_csv(data_file, sep='\\t')\n",
    "lpmc"
   ]
  },
  {
   "cell_type": "code",
   "execution_count": 3,
   "id": "7e1638dd-8977-4929-9608-98db08091327",
   "metadata": {},
   "outputs": [],
   "source": [
    "database = db.Database('trips', lpmc)"
   ]
  },
  {
   "cell_type": "code",
   "execution_count": 6,
   "id": "dc6a42ac",
   "metadata": {},
   "outputs": [],
   "source": [
    "# define variables\n",
    "for col in lpmc.columns:\n",
    "    globals()[col]=Variable(col)"
   ]
  },
  {
   "cell_type": "markdown",
   "id": "f1dbff8f-92a1-43db-8580-402006eab205",
   "metadata": {},
   "source": [
    "# Model 0"
   ]
  },
  {
   "cell_type": "code",
   "execution_count": 39,
   "id": "8f68fac5-67ab-4c1c-a085-000e6da02cf0",
   "metadata": {},
   "outputs": [],
   "source": [
    "asc_walk = Beta('asc_walk', 0, None, None, 1)\n",
    "asc_cycling = Beta('asc_cycling', 0, None, None, 0)\n",
    "asc_public = Beta('asc_public', 0, None, None, 0)\n",
    "asc_driving = Beta('asc_driving', 0, None, None, 0)"
   ]
  },
  {
   "cell_type": "code",
   "execution_count": 40,
   "id": "cf3054c3-3abf-4c15-bd65-024c87047be5",
   "metadata": {},
   "outputs": [],
   "source": [
    "cost_driving = cost_driving_fuel + cost_driving_ccharge #total costs of driving\n",
    "dur_public = dur_pt_access + dur_pt_rail + dur_pt_bus + dur_pt_int #total duration of public transportation"
   ]
  },
  {
   "cell_type": "code",
   "execution_count": 41,
   "id": "65e4f07e-55e8-4d2c-8822-352414e129d4",
   "metadata": {},
   "outputs": [],
   "source": [
    "beta_cost = Beta('beta_cost', 0, None, None, 0)\n",
    "beta_time = Beta('beta_time', 0, None, None, 0)"
   ]
  },
  {
   "cell_type": "code",
   "execution_count": 42,
   "id": "b3b72660-61d9-4c8d-a39c-da162e2e962b",
   "metadata": {},
   "outputs": [],
   "source": [
    "V_walk = asc_walk + beta_time * dur_walking\n",
    "V_cycling = asc_cycling + beta_time * dur_cycling\n",
    "V_driving = asc_driving + beta_time * dur_driving + beta_cost * cost_driving\n",
    "V_public = asc_public + beta_time * dur_public + beta_cost * cost_transit"
   ]
  },
  {
   "cell_type": "code",
   "execution_count": 59,
   "id": "508e8b7d-31eb-4c0b-9a95-b7d3fb8a9ce3",
   "metadata": {},
   "outputs": [],
   "source": [
    "V = {1: V_walk, 2: V_cycling, 3: V_public, 4: V_driving}\n",
    "\n",
    "# define choice sets for individuals\n",
    "# av = {1: 1, 2: 1, 3: 1, 4: driving_license}\n",
    "\n",
    "logprob = models.loglogit(V, None, travel_mode)"
   ]
  },
  {
   "cell_type": "code",
   "execution_count": 60,
   "id": "b7f11bd8-48cf-4591-9e46-d6953b1ac336",
   "metadata": {},
   "outputs": [],
   "source": [
    "biogeme = bio.BIOGEME(database, logprob)\n",
    "biogeme.modelName = 'model_base'"
   ]
  },
  {
   "cell_type": "code",
   "execution_count": 61,
   "id": "0d427dcd-ed96-4d14-a99b-e834e2ce3918",
   "metadata": {},
   "outputs": [],
   "source": [
    "results0 = biogeme.estimate()"
   ]
  },
  {
   "cell_type": "code",
   "execution_count": 63,
   "id": "b4343066-e396-4fb4-8086-ba365e50944e",
   "metadata": {},
   "outputs": [
    {
     "name": "stdout",
     "output_type": "stream",
     "text": [
      "Number of estimated parameters:\t5\n",
      "Sample size:\t5000\n",
      "Excluded observations:\t0\n",
      "Init log likelihood:\t-4722.972\n",
      "Final log likelihood:\t-4722.972\n",
      "Likelihood ratio test for the init. model:\t-0\n",
      "Rho-square for the init. model:\t0\n",
      "Rho-square-bar for the init. model:\t-0.00106\n",
      "Akaike Information Criterion:\t9455.944\n",
      "Bayesian Information Criterion:\t9488.53\n",
      "Final gradient norm:\t3.2270E-03\n",
      "Nbr of threads:\t16\n",
      "\n"
     ]
    }
   ],
   "source": [
    "print(results0.printGeneralStatistics())"
   ]
  },
  {
   "cell_type": "code",
   "execution_count": 62,
   "id": "2bb99022-c8de-4876-8f8e-41037d03ed59",
   "metadata": {},
   "outputs": [
    {
     "data": {
      "text/html": [
       "<div>\n",
       "<style scoped>\n",
       "    .dataframe tbody tr th:only-of-type {\n",
       "        vertical-align: middle;\n",
       "    }\n",
       "\n",
       "    .dataframe tbody tr th {\n",
       "        vertical-align: top;\n",
       "    }\n",
       "\n",
       "    .dataframe thead th {\n",
       "        text-align: right;\n",
       "    }\n",
       "</style>\n",
       "<table border=\"1\" class=\"dataframe\">\n",
       "  <thead>\n",
       "    <tr style=\"text-align: right;\">\n",
       "      <th></th>\n",
       "      <th>Value</th>\n",
       "      <th>Rob. Std err</th>\n",
       "      <th>Rob. t-test</th>\n",
       "      <th>Rob. p-value</th>\n",
       "    </tr>\n",
       "  </thead>\n",
       "  <tbody>\n",
       "    <tr>\n",
       "      <th>asc_cycling</th>\n",
       "      <td>-3.660820</td>\n",
       "      <td>0.100795</td>\n",
       "      <td>-36.319479</td>\n",
       "      <td>0.0</td>\n",
       "    </tr>\n",
       "    <tr>\n",
       "      <th>asc_driving</th>\n",
       "      <td>-1.335133</td>\n",
       "      <td>0.076403</td>\n",
       "      <td>-17.474928</td>\n",
       "      <td>0.0</td>\n",
       "    </tr>\n",
       "    <tr>\n",
       "      <th>asc_public</th>\n",
       "      <td>-0.559065</td>\n",
       "      <td>0.052620</td>\n",
       "      <td>-10.624619</td>\n",
       "      <td>0.0</td>\n",
       "    </tr>\n",
       "    <tr>\n",
       "      <th>beta_cost</th>\n",
       "      <td>-0.149850</td>\n",
       "      <td>0.013780</td>\n",
       "      <td>-10.874275</td>\n",
       "      <td>0.0</td>\n",
       "    </tr>\n",
       "    <tr>\n",
       "      <th>beta_time</th>\n",
       "      <td>-5.410243</td>\n",
       "      <td>0.188334</td>\n",
       "      <td>-28.726794</td>\n",
       "      <td>0.0</td>\n",
       "    </tr>\n",
       "  </tbody>\n",
       "</table>\n",
       "</div>"
      ],
      "text/plain": [
       "                Value  Rob. Std err  Rob. t-test  Rob. p-value\n",
       "asc_cycling -3.660820      0.100795   -36.319479           0.0\n",
       "asc_driving -1.335133      0.076403   -17.474928           0.0\n",
       "asc_public  -0.559065      0.052620   -10.624619           0.0\n",
       "beta_cost   -0.149850      0.013780   -10.874275           0.0\n",
       "beta_time   -5.410243      0.188334   -28.726794           0.0"
      ]
     },
     "execution_count": 62,
     "metadata": {},
     "output_type": "execute_result"
    }
   ],
   "source": [
    "results0.getEstimatedParameters()"
   ]
  },
  {
   "cell_type": "code",
   "execution_count": 58,
   "id": "213e4c72-975f-4e57-a933-5f40e295b8f8",
   "metadata": {},
   "outputs": [
    {
     "data": {
      "text/plain": [
       "'model_base~01.html'"
      ]
     },
     "execution_count": 58,
     "metadata": {},
     "output_type": "execute_result"
    }
   ],
   "source": [
    "# results0.data.htmlFileName"
   ]
  },
  {
   "cell_type": "markdown",
   "id": "8eb82a3a-51dc-41bd-97d1-94177e548c23",
   "metadata": {},
   "source": [
    "# Model 1\n"
   ]
  },
  {
   "cell_type": "code",
   "execution_count": 64,
   "id": "fc8ff85e-f7a7-40b5-b01f-f056fa0dfb26",
   "metadata": {},
   "outputs": [],
   "source": [
    "asc_walk = Beta('asc_walk', 0, None, None, 1)\n",
    "asc_cycling = Beta('asc_cycling', 0, None, None, 0)\n",
    "asc_public = Beta('asc_public', 0, None, None, 0)\n",
    "asc_driving = Beta('asc_driving', 0, None, None, 0)"
   ]
  },
  {
   "cell_type": "code",
   "execution_count": 65,
   "id": "4c1ba6de-c6f2-4a18-ba93-0f2257d91fc4",
   "metadata": {},
   "outputs": [],
   "source": [
    "cost_driving = cost_driving_fuel + cost_driving_ccharge\n",
    "dur_public = dur_pt_access + dur_pt_rail + dur_pt_bus + dur_pt_int #total duration of public transportation"
   ]
  },
  {
   "cell_type": "code",
   "execution_count": 66,
   "id": "33f83c0c-6a62-4a3b-9657-865a438c44a2",
   "metadata": {},
   "outputs": [],
   "source": [
    "beta_time_walk = Beta('beta_time_walk', 0, None, None, 0)\n",
    "beta_time_cycling = Beta('beta_time_cycling', 0, None, None, 0)\n",
    "beta_time_driving = Beta('beta_time_driving', 0, None, None, 0)\n",
    "beta_time_public = Beta('beta_time_public', 0, None, None, 0)"
   ]
  },
  {
   "cell_type": "code",
   "execution_count": 67,
   "id": "26915e2a-4235-41d1-b6df-da5e62460069",
   "metadata": {},
   "outputs": [],
   "source": [
    "V_walk = asc_walk + beta_time_walk * dur_walking\n",
    "V_cycling = asc_cycling + beta_time_cycling * dur_cycling\n",
    "V_driving = asc_driving + beta_time_driving * dur_driving + beta_cost * cost_driving\n",
    "V_public = asc_public + beta_time_public * dur_public + beta_cost * cost_transit"
   ]
  },
  {
   "cell_type": "code",
   "execution_count": 68,
   "id": "b1c83641-821e-453e-8d80-4a3a1f32d8d9",
   "metadata": {},
   "outputs": [],
   "source": [
    "V = {1: V_walk, 2: V_cycling, 3: V_public, 4: V_driving}\n",
    "\n",
    "logprob = models.loglogit(V, None, travel_mode)"
   ]
  },
  {
   "cell_type": "code",
   "execution_count": 69,
   "id": "7b8b59b7-3475-4c8c-bb94-c53bfea17820",
   "metadata": {},
   "outputs": [],
   "source": [
    "biogeme = bio.BIOGEME(database, logprob)\n",
    "biogeme.modelName = 'model_1'"
   ]
  },
  {
   "cell_type": "code",
   "execution_count": 70,
   "id": "15153a33-7a9b-4b3a-be8f-7e0637d08eac",
   "metadata": {},
   "outputs": [],
   "source": [
    "results1 = biogeme.estimate()"
   ]
  },
  {
   "cell_type": "code",
   "execution_count": 71,
   "id": "327adf9f-bbcb-4552-9d68-42481c7ab6a9",
   "metadata": {},
   "outputs": [
    {
     "name": "stdout",
     "output_type": "stream",
     "text": [
      "Number of estimated parameters:\t8\n",
      "Sample size:\t5000\n",
      "Excluded observations:\t0\n",
      "Init log likelihood:\t-4412.008\n",
      "Final log likelihood:\t-4412.008\n",
      "Likelihood ratio test for the init. model:\t2.305769e-07\n",
      "Rho-square for the init. model:\t2.61e-11\n",
      "Rho-square-bar for the init. model:\t-0.00181\n",
      "Akaike Information Criterion:\t8840.016\n",
      "Bayesian Information Criterion:\t8892.154\n",
      "Final gradient norm:\t2.1274E-02\n",
      "Nbr of threads:\t16\n",
      "\n"
     ]
    }
   ],
   "source": [
    "print(results1.printGeneralStatistics())"
   ]
  },
  {
   "cell_type": "code",
   "execution_count": 72,
   "id": "00ea6646-7eeb-4882-92f2-d3954c51de47",
   "metadata": {},
   "outputs": [
    {
     "data": {
      "text/html": [
       "<div>\n",
       "<style scoped>\n",
       "    .dataframe tbody tr th:only-of-type {\n",
       "        vertical-align: middle;\n",
       "    }\n",
       "\n",
       "    .dataframe tbody tr th {\n",
       "        vertical-align: top;\n",
       "    }\n",
       "\n",
       "    .dataframe thead th {\n",
       "        text-align: right;\n",
       "    }\n",
       "</style>\n",
       "<table border=\"1\" class=\"dataframe\">\n",
       "  <thead>\n",
       "    <tr style=\"text-align: right;\">\n",
       "      <th></th>\n",
       "      <th>Value</th>\n",
       "      <th>Rob. Std err</th>\n",
       "      <th>Rob. t-test</th>\n",
       "      <th>Rob. p-value</th>\n",
       "    </tr>\n",
       "  </thead>\n",
       "  <tbody>\n",
       "    <tr>\n",
       "      <th>asc_cycling</th>\n",
       "      <td>-4.590558</td>\n",
       "      <td>0.179038</td>\n",
       "      <td>-25.640137</td>\n",
       "      <td>0.0</td>\n",
       "    </tr>\n",
       "    <tr>\n",
       "      <th>asc_driving</th>\n",
       "      <td>-2.072170</td>\n",
       "      <td>0.120171</td>\n",
       "      <td>-17.243491</td>\n",
       "      <td>0.0</td>\n",
       "    </tr>\n",
       "    <tr>\n",
       "      <th>asc_public</th>\n",
       "      <td>-2.439714</td>\n",
       "      <td>0.121955</td>\n",
       "      <td>-20.004987</td>\n",
       "      <td>0.0</td>\n",
       "    </tr>\n",
       "    <tr>\n",
       "      <th>beta_cost</th>\n",
       "      <td>-0.141794</td>\n",
       "      <td>0.015193</td>\n",
       "      <td>-9.332676</td>\n",
       "      <td>0.0</td>\n",
       "    </tr>\n",
       "    <tr>\n",
       "      <th>beta_time_cycling</th>\n",
       "      <td>-5.195468</td>\n",
       "      <td>0.423895</td>\n",
       "      <td>-12.256504</td>\n",
       "      <td>0.0</td>\n",
       "    </tr>\n",
       "    <tr>\n",
       "      <th>beta_time_driving</th>\n",
       "      <td>-5.874442</td>\n",
       "      <td>0.359744</td>\n",
       "      <td>-16.329512</td>\n",
       "      <td>0.0</td>\n",
       "    </tr>\n",
       "    <tr>\n",
       "      <th>beta_time_public</th>\n",
       "      <td>-3.199848</td>\n",
       "      <td>0.230718</td>\n",
       "      <td>-13.869103</td>\n",
       "      <td>0.0</td>\n",
       "    </tr>\n",
       "    <tr>\n",
       "      <th>beta_time_walk</th>\n",
       "      <td>-8.367751</td>\n",
       "      <td>0.360130</td>\n",
       "      <td>-23.235347</td>\n",
       "      <td>0.0</td>\n",
       "    </tr>\n",
       "  </tbody>\n",
       "</table>\n",
       "</div>"
      ],
      "text/plain": [
       "                      Value  Rob. Std err  Rob. t-test  Rob. p-value\n",
       "asc_cycling       -4.590558      0.179038   -25.640137           0.0\n",
       "asc_driving       -2.072170      0.120171   -17.243491           0.0\n",
       "asc_public        -2.439714      0.121955   -20.004987           0.0\n",
       "beta_cost         -0.141794      0.015193    -9.332676           0.0\n",
       "beta_time_cycling -5.195468      0.423895   -12.256504           0.0\n",
       "beta_time_driving -5.874442      0.359744   -16.329512           0.0\n",
       "beta_time_public  -3.199848      0.230718   -13.869103           0.0\n",
       "beta_time_walk    -8.367751      0.360130   -23.235347           0.0"
      ]
     },
     "execution_count": 72,
     "metadata": {},
     "output_type": "execute_result"
    }
   ],
   "source": [
    "results1.getEstimatedParameters()"
   ]
  },
  {
   "cell_type": "code",
   "execution_count": 27,
   "id": "76c7eedc-4b3f-4fbc-be9b-e8f5ebe032e7",
   "metadata": {},
   "outputs": [
    {
     "data": {
      "text/plain": [
       "'model_1~01.html'"
      ]
     },
     "execution_count": 27,
     "metadata": {},
     "output_type": "execute_result"
    }
   ],
   "source": [
    "# results1.data.htmlFileName"
   ]
  },
  {
   "cell_type": "markdown",
   "id": "b01b5dc8-dd4d-4ca0-b2a7-c1b3c99b78a7",
   "metadata": {},
   "source": [
    "## Comparing Models 0 and 1"
   ]
  },
  {
   "cell_type": "code",
   "execution_count": 28,
   "id": "49e221db-56eb-48f8-b15a-f20402117e16",
   "metadata": {},
   "outputs": [
    {
     "name": "stdout",
     "output_type": "stream",
     "text": [
      "Number of estimated parameters:\t5\n",
      "Sample size:\t5000\n",
      "Excluded observations:\t0\n",
      "Init log likelihood:\t-4722.972\n",
      "Final log likelihood:\t-4722.972\n",
      "Likelihood ratio test for the init. model:\t-0\n",
      "Rho-square for the init. model:\t0\n",
      "Rho-square-bar for the init. model:\t-0.00106\n",
      "Akaike Information Criterion:\t9455.944\n",
      "Bayesian Information Criterion:\t9488.53\n",
      "Final gradient norm:\t3.2270E-03\n",
      "Nbr of threads:\t16\n",
      "\n"
     ]
    }
   ],
   "source": [
    "general_statistics_model_0 = results0.getGeneralStatistics()\n",
    "print(results0.printGeneralStatistics())"
   ]
  },
  {
   "cell_type": "code",
   "execution_count": 29,
   "id": "f06fa156-1df7-478f-b94e-4b17b45901fc",
   "metadata": {},
   "outputs": [
    {
     "name": "stdout",
     "output_type": "stream",
     "text": [
      "Number of estimated parameters:\t8\n",
      "Sample size:\t5000\n",
      "Excluded observations:\t0\n",
      "Init log likelihood:\t-4412.008\n",
      "Final log likelihood:\t-4412.008\n",
      "Likelihood ratio test for the init. model:\t2.373126e-07\n",
      "Rho-square for the init. model:\t2.69e-11\n",
      "Rho-square-bar for the init. model:\t-0.00181\n",
      "Akaike Information Criterion:\t8840.016\n",
      "Bayesian Information Criterion:\t8892.154\n",
      "Final gradient norm:\t2.1557E-02\n",
      "Nbr of threads:\t16\n",
      "\n"
     ]
    }
   ],
   "source": [
    "general_statistics_model_1 = results1.getGeneralStatistics()\n",
    "print(results1.printGeneralStatistics())"
   ]
  },
  {
   "cell_type": "markdown",
   "id": "f2fc59b9-68b5-4ca7-a163-50f2ffadb67b",
   "metadata": {},
   "source": [
    "### Likelihood ratio test"
   ]
  },
  {
   "cell_type": "markdown",
   "id": "1710a1b6",
   "metadata": {},
   "source": [
    "$H_O$: $\\beta\\_time\\_walk=\\beta\\_time\\_driving=\\beta\\_time\\_public=\\beta\\_time\\_cycling$\n",
    "\n",
    "Because model 0 is an restricted version of model 1, we can apply the likelihood ratio test."
   ]
  },
  {
   "cell_type": "code",
   "execution_count": 32,
   "id": "dc8c24af-3404-4969-9794-03bade39fb12",
   "metadata": {},
   "outputs": [
    {
     "data": {
      "text/plain": [
       "LRTuple(message='H0 can be rejected at level 5.0%', statistic=621.9276592287497, threshold=7.814727903251179)"
      ]
     },
     "execution_count": 32,
     "metadata": {},
     "output_type": "execute_result"
    }
   ],
   "source": [
    "results1.likelihood_ratio_test(results0, alpha)"
   ]
  },
  {
   "cell_type": "markdown",
   "id": "d8b4518b-03fc-44d7-a32a-882c70f098b9",
   "metadata": {},
   "source": [
    "According to the test result, the null hypothesis is rejected at the 5% level."
   ]
  },
  {
   "cell_type": "markdown",
   "id": "79a58d37",
   "metadata": {},
   "source": [
    "# Model 2"
   ]
  },
  {
   "cell_type": "markdown",
   "id": "383445db",
   "metadata": {},
   "source": [
    "1. One alternative attribute: pt_interchanges for public transport  \n",
    "The assumption is that the number of interchanges is relevant to the overall experience of taking public transport. \n",
    "2. One socio-economic characteristics: driving_liscence to interact with ASC_driving  \n",
    "The assumption is that having a driving lisence changes the ...?\n",
    "\n",
    "Model 2 specification:\n",
    "\n",
    "$ V_{walk}=ASC_{walk}+\\beta_{time\\_walk}time_{walk} $\n",
    "\n",
    "$ V_{cycling}=ASC_{cycling}+\\beta_{time\\_cycle}time_{cycle} $\n",
    "\n",
    "$ V_{public}=ASC_{public}+\\beta_{time\\_public}time_{public}+\\beta_{cost}cost_{public}+\\beta_{traffic}driving\\_traffic\\_percent$\n",
    "\n",
    "$ V_{driving}=ASC_{driving}+\\beta_{time\\_driving}time_{driving}+\\beta_{cost}cost_{driving}+\\beta_{driving_liscence}drivingliscence$\n"
   ]
  },
  {
   "cell_type": "code",
   "execution_count": 76,
   "id": "d86f70a2",
   "metadata": {},
   "outputs": [],
   "source": [
    "asc_walk = Beta('asc_walk', 0, None, None, 1) # Normalizing asc_walk to 0\n",
    "asc_cycling = Beta('asc_cycling', 0, None, None, 0)\n",
    "asc_public = Beta('asc_public', 0, None, None, 0)\n",
    "asc_driving = Beta('asc_driving', 0, None, None, 0)"
   ]
  },
  {
   "cell_type": "code",
   "execution_count": 77,
   "id": "1054f505",
   "metadata": {},
   "outputs": [],
   "source": [
    "cost_driving = cost_driving_fuel + cost_driving_ccharge\n",
    "dur_public = dur_pt_access + dur_pt_rail + dur_pt_bus + dur_pt_int # total duration of public transportation"
   ]
  },
  {
   "cell_type": "code",
   "execution_count": 108,
   "id": "8b16fdc9",
   "metadata": {},
   "outputs": [],
   "source": [
    "beta_time_walk = Beta('beta_time_walk', 0, None, None, 0)\n",
    "beta_time_cycling = Beta('beta_time_cycling', 0, None, None, 0)\n",
    "beta_time_driving = Beta('beta_time_driving', 0, None, None, 0)\n",
    "beta_time_public = Beta('beta_time_public', 0, None, None, 0)\n",
    "beta_cost = Beta('beta_cost', 0, None, None, 0)\n",
    "beta_interchange = Beta('beta_interchange',0, None, None,0)\n",
    "beta_drivingliscence = Beta('beta_drivingliscence',0,None,None,0)\n",
    "beta_faretype = Beta('beta_faretype',0, None, None, 0)\n",
    "beta_traffic = Beta('beta_traffic',0, None, None, 0)"
   ]
  },
  {
   "cell_type": "code",
   "execution_count": 127,
   "id": "57cde6e5",
   "metadata": {},
   "outputs": [],
   "source": [
    "# model 2 specification \n",
    "V_walk = asc_walk + beta_time_walk * dur_walking\n",
    "V_cycling = asc_cycling + beta_time_cycling * dur_cycling\n",
    "V_public = asc_public + beta_time_public * dur_public + beta_cost * cost_transit + beta_interchange * pt_interchanges\n",
    "# V_public = asc_public + beta_time_public * dur_public + beta_cost * cost_transit\n",
    "V_driving = asc_driving + beta_time_driving * dur_driving + beta_cost * cost_driving + beta_drivingliscence * driving_license\n",
    "\n",
    "V = {1: V_walk, 2: V_cycling, 3: V_public, 4: V_driving}\n",
    "\n",
    "logprob = models.loglogit(V, None, travel_mode)\n",
    "\n",
    "biogeme.modelName = 'model_2'"
   ]
  },
  {
   "cell_type": "code",
   "execution_count": 128,
   "id": "f92fa977",
   "metadata": {},
   "outputs": [],
   "source": [
    "biogeme = bio.BIOGEME(database, logprob)\n",
    "biogeme.modelName = 'model_2'"
   ]
  },
  {
   "cell_type": "code",
   "execution_count": 129,
   "id": "ae058683",
   "metadata": {},
   "outputs": [],
   "source": [
    "results2 = biogeme.estimate()"
   ]
  },
  {
   "cell_type": "code",
   "execution_count": 130,
   "id": "49461027",
   "metadata": {},
   "outputs": [
    {
     "name": "stdout",
     "output_type": "stream",
     "text": [
      "Number of estimated parameters:\t10\n",
      "Sample size:\t5000\n",
      "Excluded observations:\t0\n",
      "Init log likelihood:\t-4692.366\n",
      "Final log likelihood:\t-4207.638\n",
      "Likelihood ratio test for the init. model:\t969.455\n",
      "Rho-square for the init. model:\t0.103\n",
      "Rho-square-bar for the init. model:\t0.101\n",
      "Akaike Information Criterion:\t8435.277\n",
      "Bayesian Information Criterion:\t8500.449\n",
      "Final gradient norm:\t1.6101E-02\n",
      "Nbr of threads:\t16\n",
      "\n"
     ]
    }
   ],
   "source": [
    "print(results2.printGeneralStatistics())"
   ]
  },
  {
   "cell_type": "code",
   "execution_count": 131,
   "id": "f5ad361f",
   "metadata": {},
   "outputs": [
    {
     "data": {
      "text/html": [
       "<div>\n",
       "<style scoped>\n",
       "    .dataframe tbody tr th:only-of-type {\n",
       "        vertical-align: middle;\n",
       "    }\n",
       "\n",
       "    .dataframe tbody tr th {\n",
       "        vertical-align: top;\n",
       "    }\n",
       "\n",
       "    .dataframe thead th {\n",
       "        text-align: right;\n",
       "    }\n",
       "</style>\n",
       "<table border=\"1\" class=\"dataframe\">\n",
       "  <thead>\n",
       "    <tr style=\"text-align: right;\">\n",
       "      <th></th>\n",
       "      <th>Value</th>\n",
       "      <th>Rob. Std err</th>\n",
       "      <th>Rob. t-test</th>\n",
       "      <th>Rob. p-value</th>\n",
       "    </tr>\n",
       "  </thead>\n",
       "  <tbody>\n",
       "    <tr>\n",
       "      <th>asc_cycling</th>\n",
       "      <td>-4.658131</td>\n",
       "      <td>0.185022</td>\n",
       "      <td>-25.176143</td>\n",
       "      <td>0.000000</td>\n",
       "    </tr>\n",
       "    <tr>\n",
       "      <th>asc_driving</th>\n",
       "      <td>-2.925308</td>\n",
       "      <td>0.134302</td>\n",
       "      <td>-21.781559</td>\n",
       "      <td>0.000000</td>\n",
       "    </tr>\n",
       "    <tr>\n",
       "      <th>asc_public</th>\n",
       "      <td>-2.495268</td>\n",
       "      <td>0.125829</td>\n",
       "      <td>-19.830644</td>\n",
       "      <td>0.000000</td>\n",
       "    </tr>\n",
       "    <tr>\n",
       "      <th>beta_cost</th>\n",
       "      <td>-0.130477</td>\n",
       "      <td>0.013883</td>\n",
       "      <td>-9.398482</td>\n",
       "      <td>0.000000</td>\n",
       "    </tr>\n",
       "    <tr>\n",
       "      <th>beta_drivingliscence</th>\n",
       "      <td>1.359167</td>\n",
       "      <td>0.069276</td>\n",
       "      <td>19.619660</td>\n",
       "      <td>0.000000</td>\n",
       "    </tr>\n",
       "    <tr>\n",
       "      <th>beta_interchange</th>\n",
       "      <td>-0.030149</td>\n",
       "      <td>0.085147</td>\n",
       "      <td>-0.354087</td>\n",
       "      <td>0.723274</td>\n",
       "    </tr>\n",
       "    <tr>\n",
       "      <th>beta_time_cycling</th>\n",
       "      <td>-5.401868</td>\n",
       "      <td>0.443314</td>\n",
       "      <td>-12.185207</td>\n",
       "      <td>0.000000</td>\n",
       "    </tr>\n",
       "    <tr>\n",
       "      <th>beta_time_driving</th>\n",
       "      <td>-6.437742</td>\n",
       "      <td>0.374058</td>\n",
       "      <td>-17.210535</td>\n",
       "      <td>0.000000</td>\n",
       "    </tr>\n",
       "    <tr>\n",
       "      <th>beta_time_public</th>\n",
       "      <td>-3.394145</td>\n",
       "      <td>0.259028</td>\n",
       "      <td>-13.103413</td>\n",
       "      <td>0.000000</td>\n",
       "    </tr>\n",
       "    <tr>\n",
       "      <th>beta_time_walk</th>\n",
       "      <td>-8.564794</td>\n",
       "      <td>0.370564</td>\n",
       "      <td>-23.112851</td>\n",
       "      <td>0.000000</td>\n",
       "    </tr>\n",
       "  </tbody>\n",
       "</table>\n",
       "</div>"
      ],
      "text/plain": [
       "                         Value  Rob. Std err  Rob. t-test  Rob. p-value\n",
       "asc_cycling          -4.658131      0.185022   -25.176143      0.000000\n",
       "asc_driving          -2.925308      0.134302   -21.781559      0.000000\n",
       "asc_public           -2.495268      0.125829   -19.830644      0.000000\n",
       "beta_cost            -0.130477      0.013883    -9.398482      0.000000\n",
       "beta_drivingliscence  1.359167      0.069276    19.619660      0.000000\n",
       "beta_interchange     -0.030149      0.085147    -0.354087      0.723274\n",
       "beta_time_cycling    -5.401868      0.443314   -12.185207      0.000000\n",
       "beta_time_driving    -6.437742      0.374058   -17.210535      0.000000\n",
       "beta_time_public     -3.394145      0.259028   -13.103413      0.000000\n",
       "beta_time_walk       -8.564794      0.370564   -23.112851      0.000000"
      ]
     },
     "execution_count": 131,
     "metadata": {},
     "output_type": "execute_result"
    }
   ],
   "source": [
    "results2.getEstimatedParameters()"
   ]
  },
  {
   "cell_type": "code",
   "execution_count": 245,
   "id": "fab6e726",
   "metadata": {},
   "outputs": [
    {
     "data": {
      "text/plain": [
       "'model_2.html'"
      ]
     },
     "execution_count": 245,
     "metadata": {},
     "output_type": "execute_result"
    }
   ],
   "source": [
    "# results2.data.htmlFileName"
   ]
  },
  {
   "cell_type": "markdown",
   "id": "649836cb",
   "metadata": {},
   "source": [
    "## Compare model 2 and 1\n",
    "Since model 1 is a restricted version of model 2, we perform a likelihood ratio test. Or we can simply perform t-test on the coefficients $\\beta_{driving\\_liscence}$ and $\\beta_{pt_interchanges}$, as given by the estimation table."
   ]
  },
  {
   "cell_type": "code",
   "execution_count": 97,
   "id": "a5e5ca2a",
   "metadata": {},
   "outputs": [
    {
     "data": {
      "text/plain": [
       "LRTuple(message='H0 can be rejected at level 5.0%', statistic=408.60707939159147, threshold=3.841458820694124)"
      ]
     },
     "execution_count": 97,
     "metadata": {},
     "output_type": "execute_result"
    }
   ],
   "source": [
    "results2.likelihood_ratio_test(results1, alpha)"
   ]
  },
  {
   "cell_type": "markdown",
   "id": "6e0738ca",
   "metadata": {},
   "source": [
    "Thus, model 2 is preferred to model 1."
   ]
  },
  {
   "cell_type": "markdown",
   "id": "42a69b29",
   "metadata": {},
   "source": [
    "# Model 3"
   ]
  },
  {
   "cell_type": "markdown",
   "id": "ce026c97",
   "metadata": {},
   "source": [
    "We perform box-cox transformation on travel time for every alternatives."
   ]
  },
  {
   "cell_type": "code",
   "execution_count": 133,
   "id": "cf865ab4",
   "metadata": {},
   "outputs": [],
   "source": [
    "# define lambda\n",
    "lambda_boxcox = Beta('lambda_boxcox', 1, None, None, 0)\n",
    "boxcox_time_1 = models.boxcox(dur_walking, lambda_boxcox)\n",
    "boxcox_time_2 = models.boxcox(dur_cycling, lambda_boxcox)\n",
    "boxcox_time_3 = models.boxcox(dur_public, lambda_boxcox)\n",
    "boxcox_time_4 = models.boxcox(dur_driving, lambda_boxcox)"
   ]
  },
  {
   "cell_type": "code",
   "execution_count": 134,
   "id": "c9daefbe",
   "metadata": {},
   "outputs": [],
   "source": [
    "# model 3 specification \n",
    "V_walk = asc_walk + beta_time_walk * boxcox_time_1\n",
    "V_cycling = asc_cycling + beta_time_cycling * boxcox_time_2\n",
    "V_public = asc_public + beta_time_public * boxcox_time_3+ beta_cost * cost_transit + beta_interchange * pt_interchanges\n",
    "# V_public = asc_public + beta_time_public * dur_public + beta_cost * cost_transit\n",
    "V_driving = asc_driving + beta_time_driving * boxcox_time_4 + beta_cost * cost_driving + beta_drivingliscence * driving_license\n",
    "\n",
    "V = {1: V_walk, 2: V_cycling, 3: V_public, 4: V_driving}\n",
    "\n",
    "logprob = models.loglogit(V, None, travel_mode)\n",
    "\n",
    "biogeme.modelName = 'model_3'"
   ]
  },
  {
   "cell_type": "code",
   "execution_count": 135,
   "id": "2c9cde9a",
   "metadata": {},
   "outputs": [
    {
     "name": "stdout",
     "output_type": "stream",
     "text": [
      "[15:54:07] < Warning >   Cannot read file __model_3.iter. Statement is ignored.\n",
      "Number of estimated parameters:\t11\n",
      "Sample size:\t5000\n",
      "Excluded observations:\t0\n",
      "Init log likelihood:\t-9534.858\n",
      "Final log likelihood:\t-4135.707\n",
      "Likelihood ratio test for the init. model:\t10798.3\n",
      "Rho-square for the init. model:\t0.566\n",
      "Rho-square-bar for the init. model:\t0.565\n",
      "Akaike Information Criterion:\t8293.415\n",
      "Bayesian Information Criterion:\t8365.104\n",
      "Final gradient norm:\t2.1883E-02\n",
      "Nbr of threads:\t16\n",
      "\n"
     ]
    }
   ],
   "source": [
    "biogeme = bio.BIOGEME(database, logprob)\n",
    "biogeme.modelName = 'model_3'\n",
    "results3 = biogeme.estimate()\n",
    "print(results3.printGeneralStatistics())\n"
   ]
  },
  {
   "cell_type": "code",
   "execution_count": 136,
   "id": "86fce33c",
   "metadata": {},
   "outputs": [
    {
     "data": {
      "text/html": [
       "<div>\n",
       "<style scoped>\n",
       "    .dataframe tbody tr th:only-of-type {\n",
       "        vertical-align: middle;\n",
       "    }\n",
       "\n",
       "    .dataframe tbody tr th {\n",
       "        vertical-align: top;\n",
       "    }\n",
       "\n",
       "    .dataframe thead th {\n",
       "        text-align: right;\n",
       "    }\n",
       "</style>\n",
       "<table border=\"1\" class=\"dataframe\">\n",
       "  <thead>\n",
       "    <tr style=\"text-align: right;\">\n",
       "      <th></th>\n",
       "      <th>Value</th>\n",
       "      <th>Rob. Std err</th>\n",
       "      <th>Rob. t-test</th>\n",
       "      <th>Rob. p-value</th>\n",
       "    </tr>\n",
       "  </thead>\n",
       "  <tbody>\n",
       "    <tr>\n",
       "      <th>asc_cycling</th>\n",
       "      <td>-2.195416</td>\n",
       "      <td>0.276622</td>\n",
       "      <td>-7.936516</td>\n",
       "      <td>1.998401e-15</td>\n",
       "    </tr>\n",
       "    <tr>\n",
       "      <th>asc_driving</th>\n",
       "      <td>-1.025655</td>\n",
       "      <td>0.223989</td>\n",
       "      <td>-4.579032</td>\n",
       "      <td>4.671330e-06</td>\n",
       "    </tr>\n",
       "    <tr>\n",
       "      <th>asc_public</th>\n",
       "      <td>1.779871</td>\n",
       "      <td>0.172822</td>\n",
       "      <td>10.298884</td>\n",
       "      <td>0.000000e+00</td>\n",
       "    </tr>\n",
       "    <tr>\n",
       "      <th>beta_cost</th>\n",
       "      <td>-0.120164</td>\n",
       "      <td>0.013580</td>\n",
       "      <td>-8.848625</td>\n",
       "      <td>0.000000e+00</td>\n",
       "    </tr>\n",
       "    <tr>\n",
       "      <th>beta_drivingliscence</th>\n",
       "      <td>1.365801</td>\n",
       "      <td>0.069714</td>\n",
       "      <td>19.591526</td>\n",
       "      <td>0.000000e+00</td>\n",
       "    </tr>\n",
       "    <tr>\n",
       "      <th>beta_interchange</th>\n",
       "      <td>-0.087404</td>\n",
       "      <td>0.076757</td>\n",
       "      <td>-1.138699</td>\n",
       "      <td>2.548289e-01</td>\n",
       "    </tr>\n",
       "    <tr>\n",
       "      <th>beta_time_cycling</th>\n",
       "      <td>-3.383667</td>\n",
       "      <td>0.262838</td>\n",
       "      <td>-12.873591</td>\n",
       "      <td>0.000000e+00</td>\n",
       "    </tr>\n",
       "    <tr>\n",
       "      <th>beta_time_driving</th>\n",
       "      <td>-3.565112</td>\n",
       "      <td>0.268147</td>\n",
       "      <td>-13.295350</td>\n",
       "      <td>0.000000e+00</td>\n",
       "    </tr>\n",
       "    <tr>\n",
       "      <th>beta_time_public</th>\n",
       "      <td>-2.603590</td>\n",
       "      <td>0.187867</td>\n",
       "      <td>-13.858660</td>\n",
       "      <td>0.000000e+00</td>\n",
       "    </tr>\n",
       "    <tr>\n",
       "      <th>beta_time_walk</th>\n",
       "      <td>-5.625222</td>\n",
       "      <td>0.250279</td>\n",
       "      <td>-22.475829</td>\n",
       "      <td>0.000000e+00</td>\n",
       "    </tr>\n",
       "    <tr>\n",
       "      <th>lambda_boxcox</th>\n",
       "      <td>0.327001</td>\n",
       "      <td>0.046100</td>\n",
       "      <td>7.093268</td>\n",
       "      <td>1.309841e-12</td>\n",
       "    </tr>\n",
       "  </tbody>\n",
       "</table>\n",
       "</div>"
      ],
      "text/plain": [
       "                         Value  Rob. Std err  Rob. t-test  Rob. p-value\n",
       "asc_cycling          -2.195416      0.276622    -7.936516  1.998401e-15\n",
       "asc_driving          -1.025655      0.223989    -4.579032  4.671330e-06\n",
       "asc_public            1.779871      0.172822    10.298884  0.000000e+00\n",
       "beta_cost            -0.120164      0.013580    -8.848625  0.000000e+00\n",
       "beta_drivingliscence  1.365801      0.069714    19.591526  0.000000e+00\n",
       "beta_interchange     -0.087404      0.076757    -1.138699  2.548289e-01\n",
       "beta_time_cycling    -3.383667      0.262838   -12.873591  0.000000e+00\n",
       "beta_time_driving    -3.565112      0.268147   -13.295350  0.000000e+00\n",
       "beta_time_public     -2.603590      0.187867   -13.858660  0.000000e+00\n",
       "beta_time_walk       -5.625222      0.250279   -22.475829  0.000000e+00\n",
       "lambda_boxcox         0.327001      0.046100     7.093268  1.309841e-12"
      ]
     },
     "execution_count": 136,
     "metadata": {},
     "output_type": "execute_result"
    }
   ],
   "source": [
    "results3.getEstimatedParameters()"
   ]
  },
  {
   "cell_type": "markdown",
   "id": "4bf5240c",
   "metadata": {},
   "source": [
    "## Compare model 3 and 2\n",
    "Under the null hypothesis that $\\lambda=1$, the statistic $$\\frac{\\widehat{\\lambda}-1}{\\widehat{\\sigma}_\\lambda}$$ follows approximatively a $N(0, 1)$.  \n",
    "Thus, we perform a t-test on $\\lambda$."
   ]
  },
  {
   "cell_type": "code",
   "execution_count": 141,
   "id": "e2c2a5fc",
   "metadata": {},
   "outputs": [
    {
     "data": {
      "text/plain": [
       "-14.598611164329755"
      ]
     },
     "execution_count": 141,
     "metadata": {},
     "output_type": "execute_result"
    }
   ],
   "source": [
    "estimated_parameters_3=results3.getEstimatedParameters()\n",
    "t_test_lambda = (estimated_parameters_3.loc['lambda_boxcox','Value'] - 1) / estimated_parameters_3.loc['lambda_boxcox', 'Rob. Std err']\n",
    "t_test_lambda"
   ]
  },
  {
   "cell_type": "code",
   "execution_count": 144,
   "id": "b2087bca",
   "metadata": {},
   "outputs": [],
   "source": [
    "from scipy.stats import norm\n",
    "from biogeme.results import calcPValue"
   ]
  },
  {
   "cell_type": "code",
   "execution_count": 145,
   "id": "899a14a5",
   "metadata": {},
   "outputs": [
    {
     "data": {
      "text/plain": [
       "1.6448536269514722"
      ]
     },
     "execution_count": 145,
     "metadata": {},
     "output_type": "execute_result"
    }
   ],
   "source": [
    "norm.ppf(.95)"
   ]
  },
  {
   "cell_type": "code",
   "execution_count": 146,
   "id": "8355ab0c",
   "metadata": {},
   "outputs": [
    {
     "data": {
      "text/plain": [
       "0.0"
      ]
     },
     "execution_count": 146,
     "metadata": {},
     "output_type": "execute_result"
    }
   ],
   "source": [
    "calcPValue(t_test_lambda)"
   ]
  },
  {
   "cell_type": "markdown",
   "id": "2ec87c79",
   "metadata": {},
   "source": [
    "Because the $p-value<0.05$, we reject the null hypothesis that $\\lambda=1$. Thus, model 3 is preferred."
   ]
  },
  {
   "cell_type": "markdown",
   "id": "aa0d2949",
   "metadata": {},
   "source": [
    "Though not exactly relevant as one is not the linear restriction of the other, we also perform a likelihood ratio test to check."
   ]
  },
  {
   "cell_type": "code",
   "execution_count": 147,
   "id": "a3c0ff37",
   "metadata": {},
   "outputs": [
    {
     "data": {
      "text/plain": [
       "LRTuple(message='H0 can be rejected at level 5.0%', statistic=143.86210105255668, threshold=3.841458820694124)"
      ]
     },
     "execution_count": 147,
     "metadata": {},
     "output_type": "execute_result"
    }
   ],
   "source": [
    "results3.likelihood_ratio_test(results2, alpha)"
   ]
  },
  {
   "cell_type": "markdown",
   "id": "33d9b075",
   "metadata": {},
   "source": [
    "A more general way is to perform a **Davidson and McKinnon J test**  on model 2 and 3. "
   ]
  }
 ],
 "metadata": {
  "kernelspec": {
   "display_name": "Python 3.9.15 ('epfl_env')",
   "language": "python",
   "name": "python3"
  },
  "language_info": {
   "codemirror_mode": {
    "name": "ipython",
    "version": 3
   },
   "file_extension": ".py",
   "mimetype": "text/x-python",
   "name": "python",
   "nbconvert_exporter": "python",
   "pygments_lexer": "ipython3",
   "version": "3.9.15"
  },
  "vscode": {
   "interpreter": {
    "hash": "8903f8c00ad14786716d5e6725857786035cd6e980c848e3b9d7f4ac47bf3288"
   }
  }
 },
 "nbformat": 4,
 "nbformat_minor": 5
}
