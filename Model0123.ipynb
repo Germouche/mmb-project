{
 "cells": [
  {
   "cell_type": "code",
   "execution_count": 28,
   "id": "ab0fd6f1-87c0-4c90-a637-1fe96242cdc0",
   "metadata": {},
   "outputs": [],
   "source": [
    "import pandas as pd\n",
    "import biogeme.database as db\n",
    "import biogeme.biogeme as bio\n",
    "from biogeme.expressions import Beta, Variable, log, exp\n",
    "from biogeme import models\n",
    "from biogeme import results as res"
   ]
  },
  {
   "cell_type": "code",
   "execution_count": 29,
   "id": "22b376cb-77ed-40ae-b643-496e0c103424",
   "metadata": {
    "scrolled": true
   },
   "outputs": [
    {
     "data": {
      "text/html": [
       "<div>\n",
       "<style scoped>\n",
       "    .dataframe tbody tr th:only-of-type {\n",
       "        vertical-align: middle;\n",
       "    }\n",
       "\n",
       "    .dataframe tbody tr th {\n",
       "        vertical-align: top;\n",
       "    }\n",
       "\n",
       "    .dataframe thead th {\n",
       "        text-align: right;\n",
       "    }\n",
       "</style>\n",
       "<table border=\"1\" class=\"dataframe\">\n",
       "  <thead>\n",
       "    <tr style=\"text-align: right;\">\n",
       "      <th></th>\n",
       "      <th>trip_id</th>\n",
       "      <th>household_id</th>\n",
       "      <th>person_n</th>\n",
       "      <th>trip_n</th>\n",
       "      <th>travel_mode</th>\n",
       "      <th>purpose</th>\n",
       "      <th>fueltype</th>\n",
       "      <th>faretype</th>\n",
       "      <th>bus_scale</th>\n",
       "      <th>survey_year</th>\n",
       "      <th>...</th>\n",
       "      <th>dur_pt_access</th>\n",
       "      <th>dur_pt_rail</th>\n",
       "      <th>dur_pt_bus</th>\n",
       "      <th>dur_pt_int</th>\n",
       "      <th>pt_interchanges</th>\n",
       "      <th>dur_driving</th>\n",
       "      <th>cost_transit</th>\n",
       "      <th>cost_driving_fuel</th>\n",
       "      <th>cost_driving_ccharge</th>\n",
       "      <th>driving_traffic_percent</th>\n",
       "    </tr>\n",
       "  </thead>\n",
       "  <tbody>\n",
       "    <tr>\n",
       "      <th>0</th>\n",
       "      <td>20</td>\n",
       "      <td>5</td>\n",
       "      <td>1</td>\n",
       "      <td>0</td>\n",
       "      <td>4</td>\n",
       "      <td>3</td>\n",
       "      <td>1</td>\n",
       "      <td>5</td>\n",
       "      <td>0.0</td>\n",
       "      <td>1</td>\n",
       "      <td>...</td>\n",
       "      <td>0.381667</td>\n",
       "      <td>0.000000</td>\n",
       "      <td>0.062222</td>\n",
       "      <td>0.000000</td>\n",
       "      <td>0</td>\n",
       "      <td>0.117222</td>\n",
       "      <td>0.00</td>\n",
       "      <td>0.41</td>\n",
       "      <td>0.0</td>\n",
       "      <td>0.097156</td>\n",
       "    </tr>\n",
       "    <tr>\n",
       "      <th>1</th>\n",
       "      <td>41</td>\n",
       "      <td>9</td>\n",
       "      <td>3</td>\n",
       "      <td>0</td>\n",
       "      <td>4</td>\n",
       "      <td>3</td>\n",
       "      <td>1</td>\n",
       "      <td>5</td>\n",
       "      <td>0.0</td>\n",
       "      <td>1</td>\n",
       "      <td>...</td>\n",
       "      <td>0.146944</td>\n",
       "      <td>0.000000</td>\n",
       "      <td>0.225000</td>\n",
       "      <td>0.000000</td>\n",
       "      <td>0</td>\n",
       "      <td>0.200833</td>\n",
       "      <td>0.00</td>\n",
       "      <td>0.48</td>\n",
       "      <td>0.0</td>\n",
       "      <td>0.378976</td>\n",
       "    </tr>\n",
       "    <tr>\n",
       "      <th>2</th>\n",
       "      <td>69</td>\n",
       "      <td>13</td>\n",
       "      <td>2</td>\n",
       "      <td>1</td>\n",
       "      <td>4</td>\n",
       "      <td>3</td>\n",
       "      <td>1</td>\n",
       "      <td>1</td>\n",
       "      <td>1.0</td>\n",
       "      <td>1</td>\n",
       "      <td>...</td>\n",
       "      <td>0.029444</td>\n",
       "      <td>0.083333</td>\n",
       "      <td>0.735833</td>\n",
       "      <td>0.398056</td>\n",
       "      <td>3</td>\n",
       "      <td>0.716944</td>\n",
       "      <td>6.00</td>\n",
       "      <td>2.16</td>\n",
       "      <td>0.0</td>\n",
       "      <td>0.582720</td>\n",
       "    </tr>\n",
       "    <tr>\n",
       "      <th>3</th>\n",
       "      <td>102</td>\n",
       "      <td>20</td>\n",
       "      <td>2</td>\n",
       "      <td>0</td>\n",
       "      <td>2</td>\n",
       "      <td>3</td>\n",
       "      <td>1</td>\n",
       "      <td>1</td>\n",
       "      <td>1.0</td>\n",
       "      <td>1</td>\n",
       "      <td>...</td>\n",
       "      <td>0.339722</td>\n",
       "      <td>0.183333</td>\n",
       "      <td>0.116667</td>\n",
       "      <td>0.266667</td>\n",
       "      <td>1</td>\n",
       "      <td>0.250833</td>\n",
       "      <td>3.00</td>\n",
       "      <td>0.89</td>\n",
       "      <td>0.0</td>\n",
       "      <td>0.170543</td>\n",
       "    </tr>\n",
       "    <tr>\n",
       "      <th>4</th>\n",
       "      <td>105</td>\n",
       "      <td>21</td>\n",
       "      <td>0</td>\n",
       "      <td>1</td>\n",
       "      <td>4</td>\n",
       "      <td>3</td>\n",
       "      <td>1</td>\n",
       "      <td>1</td>\n",
       "      <td>1.0</td>\n",
       "      <td>1</td>\n",
       "      <td>...</td>\n",
       "      <td>0.126389</td>\n",
       "      <td>0.000000</td>\n",
       "      <td>0.150000</td>\n",
       "      <td>0.000000</td>\n",
       "      <td>0</td>\n",
       "      <td>0.125833</td>\n",
       "      <td>1.50</td>\n",
       "      <td>0.37</td>\n",
       "      <td>0.0</td>\n",
       "      <td>0.154525</td>\n",
       "    </tr>\n",
       "    <tr>\n",
       "      <th>...</th>\n",
       "      <td>...</td>\n",
       "      <td>...</td>\n",
       "      <td>...</td>\n",
       "      <td>...</td>\n",
       "      <td>...</td>\n",
       "      <td>...</td>\n",
       "      <td>...</td>\n",
       "      <td>...</td>\n",
       "      <td>...</td>\n",
       "      <td>...</td>\n",
       "      <td>...</td>\n",
       "      <td>...</td>\n",
       "      <td>...</td>\n",
       "      <td>...</td>\n",
       "      <td>...</td>\n",
       "      <td>...</td>\n",
       "      <td>...</td>\n",
       "      <td>...</td>\n",
       "      <td>...</td>\n",
       "      <td>...</td>\n",
       "      <td>...</td>\n",
       "    </tr>\n",
       "    <tr>\n",
       "      <th>4995</th>\n",
       "      <td>80998</td>\n",
       "      <td>17591</td>\n",
       "      <td>0</td>\n",
       "      <td>5</td>\n",
       "      <td>4</td>\n",
       "      <td>3</td>\n",
       "      <td>1</td>\n",
       "      <td>5</td>\n",
       "      <td>0.0</td>\n",
       "      <td>3</td>\n",
       "      <td>...</td>\n",
       "      <td>0.189167</td>\n",
       "      <td>0.000000</td>\n",
       "      <td>0.117778</td>\n",
       "      <td>0.000000</td>\n",
       "      <td>0</td>\n",
       "      <td>0.082500</td>\n",
       "      <td>0.00</td>\n",
       "      <td>0.22</td>\n",
       "      <td>10.5</td>\n",
       "      <td>0.239057</td>\n",
       "    </tr>\n",
       "    <tr>\n",
       "      <th>4996</th>\n",
       "      <td>81000</td>\n",
       "      <td>17592</td>\n",
       "      <td>0</td>\n",
       "      <td>0</td>\n",
       "      <td>3</td>\n",
       "      <td>3</td>\n",
       "      <td>6</td>\n",
       "      <td>5</td>\n",
       "      <td>0.0</td>\n",
       "      <td>3</td>\n",
       "      <td>...</td>\n",
       "      <td>0.105278</td>\n",
       "      <td>0.000000</td>\n",
       "      <td>0.220278</td>\n",
       "      <td>0.000000</td>\n",
       "      <td>0</td>\n",
       "      <td>0.213611</td>\n",
       "      <td>0.00</td>\n",
       "      <td>0.52</td>\n",
       "      <td>0.0</td>\n",
       "      <td>0.412224</td>\n",
       "    </tr>\n",
       "    <tr>\n",
       "      <th>4997</th>\n",
       "      <td>81015</td>\n",
       "      <td>17597</td>\n",
       "      <td>0</td>\n",
       "      <td>3</td>\n",
       "      <td>4</td>\n",
       "      <td>3</td>\n",
       "      <td>1</td>\n",
       "      <td>5</td>\n",
       "      <td>0.0</td>\n",
       "      <td>3</td>\n",
       "      <td>...</td>\n",
       "      <td>0.343056</td>\n",
       "      <td>0.000000</td>\n",
       "      <td>0.177500</td>\n",
       "      <td>0.000000</td>\n",
       "      <td>0</td>\n",
       "      <td>0.189444</td>\n",
       "      <td>0.00</td>\n",
       "      <td>0.76</td>\n",
       "      <td>0.0</td>\n",
       "      <td>0.086510</td>\n",
       "    </tr>\n",
       "    <tr>\n",
       "      <th>4998</th>\n",
       "      <td>81041</td>\n",
       "      <td>17604</td>\n",
       "      <td>2</td>\n",
       "      <td>4</td>\n",
       "      <td>3</td>\n",
       "      <td>1</td>\n",
       "      <td>1</td>\n",
       "      <td>2</td>\n",
       "      <td>0.0</td>\n",
       "      <td>3</td>\n",
       "      <td>...</td>\n",
       "      <td>0.344444</td>\n",
       "      <td>0.316667</td>\n",
       "      <td>0.000000</td>\n",
       "      <td>0.083333</td>\n",
       "      <td>1</td>\n",
       "      <td>0.386111</td>\n",
       "      <td>1.05</td>\n",
       "      <td>0.98</td>\n",
       "      <td>0.0</td>\n",
       "      <td>0.340288</td>\n",
       "    </tr>\n",
       "    <tr>\n",
       "      <th>4999</th>\n",
       "      <td>81062</td>\n",
       "      <td>17607</td>\n",
       "      <td>0</td>\n",
       "      <td>4</td>\n",
       "      <td>3</td>\n",
       "      <td>5</td>\n",
       "      <td>6</td>\n",
       "      <td>1</td>\n",
       "      <td>1.0</td>\n",
       "      <td>3</td>\n",
       "      <td>...</td>\n",
       "      <td>0.069444</td>\n",
       "      <td>0.000000</td>\n",
       "      <td>0.166389</td>\n",
       "      <td>0.000000</td>\n",
       "      <td>0</td>\n",
       "      <td>0.146111</td>\n",
       "      <td>1.50</td>\n",
       "      <td>0.28</td>\n",
       "      <td>0.0</td>\n",
       "      <td>0.653992</td>\n",
       "    </tr>\n",
       "  </tbody>\n",
       "</table>\n",
       "<p>5000 rows × 32 columns</p>\n",
       "</div>"
      ],
      "text/plain": [
       "      trip_id  household_id  person_n  trip_n  travel_mode  purpose  fueltype  \\\n",
       "0          20             5         1       0            4        3         1   \n",
       "1          41             9         3       0            4        3         1   \n",
       "2          69            13         2       1            4        3         1   \n",
       "3         102            20         2       0            2        3         1   \n",
       "4         105            21         0       1            4        3         1   \n",
       "...       ...           ...       ...     ...          ...      ...       ...   \n",
       "4995    80998         17591         0       5            4        3         1   \n",
       "4996    81000         17592         0       0            3        3         6   \n",
       "4997    81015         17597         0       3            4        3         1   \n",
       "4998    81041         17604         2       4            3        1         1   \n",
       "4999    81062         17607         0       4            3        5         6   \n",
       "\n",
       "      faretype  bus_scale  survey_year  ...  dur_pt_access  dur_pt_rail  \\\n",
       "0            5        0.0            1  ...       0.381667     0.000000   \n",
       "1            5        0.0            1  ...       0.146944     0.000000   \n",
       "2            1        1.0            1  ...       0.029444     0.083333   \n",
       "3            1        1.0            1  ...       0.339722     0.183333   \n",
       "4            1        1.0            1  ...       0.126389     0.000000   \n",
       "...        ...        ...          ...  ...            ...          ...   \n",
       "4995         5        0.0            3  ...       0.189167     0.000000   \n",
       "4996         5        0.0            3  ...       0.105278     0.000000   \n",
       "4997         5        0.0            3  ...       0.343056     0.000000   \n",
       "4998         2        0.0            3  ...       0.344444     0.316667   \n",
       "4999         1        1.0            3  ...       0.069444     0.000000   \n",
       "\n",
       "      dur_pt_bus  dur_pt_int  pt_interchanges  dur_driving  cost_transit  \\\n",
       "0       0.062222    0.000000                0     0.117222          0.00   \n",
       "1       0.225000    0.000000                0     0.200833          0.00   \n",
       "2       0.735833    0.398056                3     0.716944          6.00   \n",
       "3       0.116667    0.266667                1     0.250833          3.00   \n",
       "4       0.150000    0.000000                0     0.125833          1.50   \n",
       "...          ...         ...              ...          ...           ...   \n",
       "4995    0.117778    0.000000                0     0.082500          0.00   \n",
       "4996    0.220278    0.000000                0     0.213611          0.00   \n",
       "4997    0.177500    0.000000                0     0.189444          0.00   \n",
       "4998    0.000000    0.083333                1     0.386111          1.05   \n",
       "4999    0.166389    0.000000                0     0.146111          1.50   \n",
       "\n",
       "      cost_driving_fuel  cost_driving_ccharge  driving_traffic_percent  \n",
       "0                  0.41                   0.0                 0.097156  \n",
       "1                  0.48                   0.0                 0.378976  \n",
       "2                  2.16                   0.0                 0.582720  \n",
       "3                  0.89                   0.0                 0.170543  \n",
       "4                  0.37                   0.0                 0.154525  \n",
       "...                 ...                   ...                      ...  \n",
       "4995               0.22                  10.5                 0.239057  \n",
       "4996               0.52                   0.0                 0.412224  \n",
       "4997               0.76                   0.0                 0.086510  \n",
       "4998               0.98                   0.0                 0.340288  \n",
       "4999               0.28                   0.0                 0.653992  \n",
       "\n",
       "[5000 rows x 32 columns]"
      ]
     },
     "execution_count": 29,
     "metadata": {},
     "output_type": "execute_result"
    }
   ],
   "source": [
    "#data_file = \"http://transp-or.epfl.ch/data/lpmc.dat\"\n",
    "data_file='lpmc10.dat'\n",
    "lpmc = pd.read_csv(data_file, sep='\\t')\n",
    "lpmc"
   ]
  },
  {
   "cell_type": "code",
   "execution_count": 30,
   "id": "7e1638dd-8977-4929-9608-98db08091327",
   "metadata": {},
   "outputs": [],
   "source": [
    "database = db.Database('trips', lpmc)"
   ]
  },
  {
   "cell_type": "code",
   "execution_count": 31,
   "id": "dc6a42ac",
   "metadata": {},
   "outputs": [],
   "source": [
    "# define variables\n",
    "for col in lpmc.columns:\n",
    "    globals()[col]=Variable(col)"
   ]
  },
  {
   "cell_type": "markdown",
   "id": "f1dbff8f-92a1-43db-8580-402006eab205",
   "metadata": {},
   "source": [
    "# Model 0"
   ]
  },
  {
   "cell_type": "code",
   "execution_count": 32,
   "id": "8f68fac5-67ab-4c1c-a085-000e6da02cf0",
   "metadata": {},
   "outputs": [],
   "source": [
    "asc_walk = Beta('asc_walk', 0, None, None, 1)\n",
    "asc_cycling = Beta('asc_cycling', 0, None, None, 0)\n",
    "asc_public = Beta('asc_public', 0, None, None, 0)\n",
    "asc_driving = Beta('asc_driving', 0, None, None, 0)"
   ]
  },
  {
   "cell_type": "code",
   "execution_count": 33,
   "id": "cf3054c3-3abf-4c15-bd65-024c87047be5",
   "metadata": {},
   "outputs": [],
   "source": [
    "cost_driving = cost_driving_fuel + cost_driving_ccharge #total costs of driving\n",
    "dur_public = dur_pt_access + dur_pt_rail + dur_pt_bus + dur_pt_int #total duration of public transportation"
   ]
  },
  {
   "cell_type": "code",
   "execution_count": 34,
   "id": "65e4f07e-55e8-4d2c-8822-352414e129d4",
   "metadata": {},
   "outputs": [],
   "source": [
    "beta_cost = Beta('beta_cost', 0, None, None, 0)\n",
    "beta_time = Beta('beta_time', 0, None, None, 0)"
   ]
  },
  {
   "cell_type": "code",
   "execution_count": 35,
   "id": "b3b72660-61d9-4c8d-a39c-da162e2e962b",
   "metadata": {},
   "outputs": [],
   "source": [
    "V_walk = asc_walk + beta_time * dur_walking\n",
    "V_cycling = asc_cycling + beta_time * dur_cycling\n",
    "V_driving = asc_driving + beta_time * dur_driving + beta_cost * cost_driving\n",
    "V_public = asc_public + beta_time * dur_public + beta_cost * cost_transit"
   ]
  },
  {
   "cell_type": "code",
   "execution_count": 36,
   "id": "508e8b7d-31eb-4c0b-9a95-b7d3fb8a9ce3",
   "metadata": {},
   "outputs": [],
   "source": [
    "V = {1: V_walk, 2: V_cycling, 3: V_public, 4: V_driving}\n",
    "\n",
    "# define choice sets for individuals\n",
    "# av = {1: 1, 2: 1, 3: 1, 4: driving_license}\n",
    "\n",
    "logprob = models.loglogit(V, None, travel_mode)"
   ]
  },
  {
   "cell_type": "code",
   "execution_count": 37,
   "id": "b7f11bd8-48cf-4591-9e46-d6953b1ac336",
   "metadata": {},
   "outputs": [],
   "source": [
    "biogeme = bio.BIOGEME(database, logprob)\n",
    "biogeme.modelName = 'model_base'"
   ]
  },
  {
   "cell_type": "code",
   "execution_count": 38,
   "id": "0d427dcd-ed96-4d14-a99b-e834e2ce3918",
   "metadata": {},
   "outputs": [],
   "source": [
    "results0 = biogeme.estimate()"
   ]
  },
  {
   "cell_type": "code",
   "execution_count": 39,
   "id": "b4343066-e396-4fb4-8086-ba365e50944e",
   "metadata": {},
   "outputs": [
    {
     "name": "stdout",
     "output_type": "stream",
     "text": [
      "Number of estimated parameters:\t5\n",
      "Sample size:\t5000\n",
      "Excluded observations:\t0\n",
      "Init log likelihood:\t-4722.972\n",
      "Final log likelihood:\t-4722.972\n",
      "Likelihood ratio test for the init. model:\t-0\n",
      "Rho-square for the init. model:\t0\n",
      "Rho-square-bar for the init. model:\t-0.00106\n",
      "Akaike Information Criterion:\t9455.944\n",
      "Bayesian Information Criterion:\t9488.53\n",
      "Final gradient norm:\t1.0691E-03\n",
      "Nbr of threads:\t16\n",
      "\n"
     ]
    }
   ],
   "source": [
    "print(results0.printGeneralStatistics())"
   ]
  },
  {
   "cell_type": "code",
   "execution_count": 40,
   "id": "2bb99022-c8de-4876-8f8e-41037d03ed59",
   "metadata": {},
   "outputs": [
    {
     "data": {
      "text/html": [
       "<div>\n",
       "<style scoped>\n",
       "    .dataframe tbody tr th:only-of-type {\n",
       "        vertical-align: middle;\n",
       "    }\n",
       "\n",
       "    .dataframe tbody tr th {\n",
       "        vertical-align: top;\n",
       "    }\n",
       "\n",
       "    .dataframe thead th {\n",
       "        text-align: right;\n",
       "    }\n",
       "</style>\n",
       "<table border=\"1\" class=\"dataframe\">\n",
       "  <thead>\n",
       "    <tr style=\"text-align: right;\">\n",
       "      <th></th>\n",
       "      <th>Value</th>\n",
       "      <th>Rob. Std err</th>\n",
       "      <th>Rob. t-test</th>\n",
       "      <th>Rob. p-value</th>\n",
       "    </tr>\n",
       "  </thead>\n",
       "  <tbody>\n",
       "    <tr>\n",
       "      <th>asc_cycling</th>\n",
       "      <td>-3.660824</td>\n",
       "      <td>0.100795</td>\n",
       "      <td>-36.319469</td>\n",
       "      <td>0.0</td>\n",
       "    </tr>\n",
       "    <tr>\n",
       "      <th>asc_driving</th>\n",
       "      <td>-1.335138</td>\n",
       "      <td>0.076403</td>\n",
       "      <td>-17.474949</td>\n",
       "      <td>0.0</td>\n",
       "    </tr>\n",
       "    <tr>\n",
       "      <th>asc_public</th>\n",
       "      <td>-0.559066</td>\n",
       "      <td>0.052620</td>\n",
       "      <td>-10.624628</td>\n",
       "      <td>0.0</td>\n",
       "    </tr>\n",
       "    <tr>\n",
       "      <th>beta_cost</th>\n",
       "      <td>-0.149850</td>\n",
       "      <td>0.013780</td>\n",
       "      <td>-10.874260</td>\n",
       "      <td>0.0</td>\n",
       "    </tr>\n",
       "    <tr>\n",
       "      <th>beta_time</th>\n",
       "      <td>-5.410269</td>\n",
       "      <td>0.188336</td>\n",
       "      <td>-28.726735</td>\n",
       "      <td>0.0</td>\n",
       "    </tr>\n",
       "  </tbody>\n",
       "</table>\n",
       "</div>"
      ],
      "text/plain": [
       "                Value  Rob. Std err  Rob. t-test  Rob. p-value\n",
       "asc_cycling -3.660824      0.100795   -36.319469           0.0\n",
       "asc_driving -1.335138      0.076403   -17.474949           0.0\n",
       "asc_public  -0.559066      0.052620   -10.624628           0.0\n",
       "beta_cost   -0.149850      0.013780   -10.874260           0.0\n",
       "beta_time   -5.410269      0.188336   -28.726735           0.0"
      ]
     },
     "execution_count": 40,
     "metadata": {},
     "output_type": "execute_result"
    }
   ],
   "source": [
    "results0.getEstimatedParameters()"
   ]
  },
  {
   "cell_type": "code",
   "execution_count": 41,
   "id": "213e4c72-975f-4e57-a933-5f40e295b8f8",
   "metadata": {},
   "outputs": [],
   "source": [
    "# results0.data.htmlFileName"
   ]
  },
  {
   "cell_type": "markdown",
   "id": "8eb82a3a-51dc-41bd-97d1-94177e548c23",
   "metadata": {},
   "source": [
    "# Model 1\n"
   ]
  },
  {
   "cell_type": "code",
   "execution_count": 42,
   "id": "fc8ff85e-f7a7-40b5-b01f-f056fa0dfb26",
   "metadata": {},
   "outputs": [],
   "source": [
    "asc_walk = Beta('asc_walk', 0, None, None, 1)\n",
    "asc_cycling = Beta('asc_cycling', 0, None, None, 0)\n",
    "asc_public = Beta('asc_public', 0, None, None, 0)\n",
    "asc_driving = Beta('asc_driving', 0, None, None, 0)"
   ]
  },
  {
   "cell_type": "code",
   "execution_count": 43,
   "id": "4c1ba6de-c6f2-4a18-ba93-0f2257d91fc4",
   "metadata": {},
   "outputs": [],
   "source": [
    "cost_driving = cost_driving_fuel + cost_driving_ccharge\n",
    "dur_public = dur_pt_access + dur_pt_rail + dur_pt_bus + dur_pt_int #total duration of public transportation"
   ]
  },
  {
   "cell_type": "code",
   "execution_count": 44,
   "id": "33f83c0c-6a62-4a3b-9657-865a438c44a2",
   "metadata": {},
   "outputs": [],
   "source": [
    "beta_time_walk = Beta('beta_time_walk', 0, None, None, 0)\n",
    "beta_time_cycling = Beta('beta_time_cycling', 0, None, None, 0)\n",
    "beta_time_driving = Beta('beta_time_driving', 0, None, None, 0)\n",
    "beta_time_public = Beta('beta_time_public', 0, None, None, 0)"
   ]
  },
  {
   "cell_type": "code",
   "execution_count": 45,
   "id": "26915e2a-4235-41d1-b6df-da5e62460069",
   "metadata": {},
   "outputs": [],
   "source": [
    "V_walk = asc_walk + beta_time_walk * dur_walking\n",
    "V_cycling = asc_cycling + beta_time_cycling * dur_cycling\n",
    "V_driving = asc_driving + beta_time_driving * dur_driving + beta_cost * cost_driving\n",
    "V_public = asc_public + beta_time_public * dur_public + beta_cost * cost_transit"
   ]
  },
  {
   "cell_type": "code",
   "execution_count": 46,
   "id": "b1c83641-821e-453e-8d80-4a3a1f32d8d9",
   "metadata": {},
   "outputs": [],
   "source": [
    "V = {1: V_walk, 2: V_cycling, 3: V_public, 4: V_driving}\n",
    "\n",
    "logprob = models.loglogit(V, None, travel_mode)"
   ]
  },
  {
   "cell_type": "code",
   "execution_count": 47,
   "id": "7b8b59b7-3475-4c8c-bb94-c53bfea17820",
   "metadata": {},
   "outputs": [],
   "source": [
    "biogeme = bio.BIOGEME(database, logprob)\n",
    "biogeme.modelName = 'model_1'"
   ]
  },
  {
   "cell_type": "code",
   "execution_count": 48,
   "id": "15153a33-7a9b-4b3a-be8f-7e0637d08eac",
   "metadata": {},
   "outputs": [],
   "source": [
    "results1 = biogeme.estimate()"
   ]
  },
  {
   "cell_type": "code",
   "execution_count": 49,
   "id": "327adf9f-bbcb-4552-9d68-42481c7ab6a9",
   "metadata": {},
   "outputs": [
    {
     "name": "stdout",
     "output_type": "stream",
     "text": [
      "Number of estimated parameters:\t8\n",
      "Sample size:\t5000\n",
      "Excluded observations:\t0\n",
      "Init log likelihood:\t-4412.008\n",
      "Final log likelihood:\t-4412.008\n",
      "Likelihood ratio test for the init. model:\t1.30538e-07\n",
      "Rho-square for the init. model:\t1.48e-11\n",
      "Rho-square-bar for the init. model:\t-0.00181\n",
      "Akaike Information Criterion:\t8840.016\n",
      "Bayesian Information Criterion:\t8892.153\n",
      "Final gradient norm:\t2.4664E-02\n",
      "Nbr of threads:\t16\n",
      "\n"
     ]
    }
   ],
   "source": [
    "print(results1.printGeneralStatistics())"
   ]
  },
  {
   "cell_type": "code",
   "execution_count": 50,
   "id": "00ea6646-7eeb-4882-92f2-d3954c51de47",
   "metadata": {},
   "outputs": [
    {
     "data": {
      "text/html": [
       "<div>\n",
       "<style scoped>\n",
       "    .dataframe tbody tr th:only-of-type {\n",
       "        vertical-align: middle;\n",
       "    }\n",
       "\n",
       "    .dataframe tbody tr th {\n",
       "        vertical-align: top;\n",
       "    }\n",
       "\n",
       "    .dataframe thead th {\n",
       "        text-align: right;\n",
       "    }\n",
       "</style>\n",
       "<table border=\"1\" class=\"dataframe\">\n",
       "  <thead>\n",
       "    <tr style=\"text-align: right;\">\n",
       "      <th></th>\n",
       "      <th>Value</th>\n",
       "      <th>Rob. Std err</th>\n",
       "      <th>Rob. t-test</th>\n",
       "      <th>Rob. p-value</th>\n",
       "    </tr>\n",
       "  </thead>\n",
       "  <tbody>\n",
       "    <tr>\n",
       "      <th>asc_cycling</th>\n",
       "      <td>-4.590516</td>\n",
       "      <td>0.179036</td>\n",
       "      <td>-25.640195</td>\n",
       "      <td>0.0</td>\n",
       "    </tr>\n",
       "    <tr>\n",
       "      <th>asc_driving</th>\n",
       "      <td>-2.072022</td>\n",
       "      <td>0.120164</td>\n",
       "      <td>-17.243356</td>\n",
       "      <td>0.0</td>\n",
       "    </tr>\n",
       "    <tr>\n",
       "      <th>asc_public</th>\n",
       "      <td>-2.439476</td>\n",
       "      <td>0.121947</td>\n",
       "      <td>-20.004382</td>\n",
       "      <td>0.0</td>\n",
       "    </tr>\n",
       "    <tr>\n",
       "      <th>beta_cost</th>\n",
       "      <td>-0.141781</td>\n",
       "      <td>0.015193</td>\n",
       "      <td>-9.331745</td>\n",
       "      <td>0.0</td>\n",
       "    </tr>\n",
       "    <tr>\n",
       "      <th>beta_time_cycling</th>\n",
       "      <td>-5.195903</td>\n",
       "      <td>0.423908</td>\n",
       "      <td>-12.257152</td>\n",
       "      <td>0.0</td>\n",
       "    </tr>\n",
       "    <tr>\n",
       "      <th>beta_time_driving</th>\n",
       "      <td>-5.875437</td>\n",
       "      <td>0.359795</td>\n",
       "      <td>-16.329937</td>\n",
       "      <td>0.0</td>\n",
       "    </tr>\n",
       "    <tr>\n",
       "      <th>beta_time_public</th>\n",
       "      <td>-3.200595</td>\n",
       "      <td>0.230746</td>\n",
       "      <td>-13.870611</td>\n",
       "      <td>0.0</td>\n",
       "    </tr>\n",
       "    <tr>\n",
       "      <th>beta_time_walk</th>\n",
       "      <td>-8.367595</td>\n",
       "      <td>0.360101</td>\n",
       "      <td>-23.236797</td>\n",
       "      <td>0.0</td>\n",
       "    </tr>\n",
       "  </tbody>\n",
       "</table>\n",
       "</div>"
      ],
      "text/plain": [
       "                      Value  Rob. Std err  Rob. t-test  Rob. p-value\n",
       "asc_cycling       -4.590516      0.179036   -25.640195           0.0\n",
       "asc_driving       -2.072022      0.120164   -17.243356           0.0\n",
       "asc_public        -2.439476      0.121947   -20.004382           0.0\n",
       "beta_cost         -0.141781      0.015193    -9.331745           0.0\n",
       "beta_time_cycling -5.195903      0.423908   -12.257152           0.0\n",
       "beta_time_driving -5.875437      0.359795   -16.329937           0.0\n",
       "beta_time_public  -3.200595      0.230746   -13.870611           0.0\n",
       "beta_time_walk    -8.367595      0.360101   -23.236797           0.0"
      ]
     },
     "execution_count": 50,
     "metadata": {},
     "output_type": "execute_result"
    }
   ],
   "source": [
    "results1.getEstimatedParameters()"
   ]
  },
  {
   "cell_type": "code",
   "execution_count": 51,
   "id": "76c7eedc-4b3f-4fbc-be9b-e8f5ebe032e7",
   "metadata": {},
   "outputs": [],
   "source": [
    "# results1.data.htmlFileName"
   ]
  },
  {
   "cell_type": "markdown",
   "id": "b01b5dc8-dd4d-4ca0-b2a7-c1b3c99b78a7",
   "metadata": {},
   "source": [
    "## Comparing Models 0 and 1"
   ]
  },
  {
   "cell_type": "code",
   "execution_count": 52,
   "id": "49e221db-56eb-48f8-b15a-f20402117e16",
   "metadata": {},
   "outputs": [
    {
     "name": "stdout",
     "output_type": "stream",
     "text": [
      "Number of estimated parameters:\t5\n",
      "Sample size:\t5000\n",
      "Excluded observations:\t0\n",
      "Init log likelihood:\t-4722.972\n",
      "Final log likelihood:\t-4722.972\n",
      "Likelihood ratio test for the init. model:\t-0\n",
      "Rho-square for the init. model:\t0\n",
      "Rho-square-bar for the init. model:\t-0.00106\n",
      "Akaike Information Criterion:\t9455.944\n",
      "Bayesian Information Criterion:\t9488.53\n",
      "Final gradient norm:\t1.0691E-03\n",
      "Nbr of threads:\t16\n",
      "\n"
     ]
    }
   ],
   "source": [
    "general_statistics_model_0 = results0.getGeneralStatistics()\n",
    "print(results0.printGeneralStatistics())"
   ]
  },
  {
   "cell_type": "code",
   "execution_count": 53,
   "id": "f06fa156-1df7-478f-b94e-4b17b45901fc",
   "metadata": {},
   "outputs": [
    {
     "name": "stdout",
     "output_type": "stream",
     "text": [
      "Number of estimated parameters:\t8\n",
      "Sample size:\t5000\n",
      "Excluded observations:\t0\n",
      "Init log likelihood:\t-4412.008\n",
      "Final log likelihood:\t-4412.008\n",
      "Likelihood ratio test for the init. model:\t1.30538e-07\n",
      "Rho-square for the init. model:\t1.48e-11\n",
      "Rho-square-bar for the init. model:\t-0.00181\n",
      "Akaike Information Criterion:\t8840.016\n",
      "Bayesian Information Criterion:\t8892.153\n",
      "Final gradient norm:\t2.4664E-02\n",
      "Nbr of threads:\t16\n",
      "\n"
     ]
    }
   ],
   "source": [
    "general_statistics_model_1 = results1.getGeneralStatistics()\n",
    "print(results1.printGeneralStatistics())"
   ]
  },
  {
   "cell_type": "markdown",
   "id": "f2fc59b9-68b5-4ca7-a163-50f2ffadb67b",
   "metadata": {},
   "source": [
    "### Likelihood ratio test"
   ]
  },
  {
   "cell_type": "markdown",
   "id": "1710a1b6",
   "metadata": {},
   "source": [
    "$H_O$: $\\beta\\_time\\_walk=\\beta\\_time\\_driving=\\beta\\_time\\_public=\\beta\\_time\\_cycling$\n",
    "\n",
    "Because model 0 is an restricted version of model 1, we can apply the likelihood ratio test."
   ]
  },
  {
   "cell_type": "code",
   "execution_count": 54,
   "id": "dc8c24af-3404-4969-9794-03bade39fb12",
   "metadata": {},
   "outputs": [
    {
     "data": {
      "text/plain": [
       "LRTuple(message='H0 can be rejected at level 5.0%', statistic=621.927689194652, threshold=7.814727903251179)"
      ]
     },
     "execution_count": 54,
     "metadata": {},
     "output_type": "execute_result"
    }
   ],
   "source": [
    "alpha=0.05\n",
    "results1.likelihood_ratio_test(results0, alpha)"
   ]
  },
  {
   "cell_type": "markdown",
   "id": "d8b4518b-03fc-44d7-a32a-882c70f098b9",
   "metadata": {},
   "source": [
    "According to the test result, the null hypothesis is rejected at the 5% level."
   ]
  },
  {
   "cell_type": "markdown",
   "id": "79a58d37",
   "metadata": {},
   "source": [
    "# Model 2"
   ]
  },
  {
   "cell_type": "markdown",
   "id": "383445db",
   "metadata": {},
   "source": [
    "1. One alternative attribute: pt_interchanges for public transport  \n",
    "The assumption is that the number of interchanges is relevant to the overall experience of taking public transport. \n",
    "2. One socio-economic characteristics: driving_liscence to interact with ASC_driving  \n",
    "The assumption is that having a driving lisence changes the ...?\n",
    "\n",
    "Model 2 specification:\n",
    "\n",
    "$ V_{walk}=ASC_{walk}+\\beta_{time\\_walk}time_{walk} $\n",
    "\n",
    "$ V_{cycling}=ASC_{cycling}+\\beta_{time\\_cycle}time_{cycle} $\n",
    "\n",
    "$ V_{public}=ASC_{public}+\\beta_{time\\_public}time_{public}+\\beta_{cost}cost_{public}+\\beta_{traffic}driving\\_traffic\\_percent$\n",
    "\n",
    "$ V_{driving}=ASC_{driving}+\\beta_{time\\_driving}time_{driving}+\\beta_{cost}cost_{driving}+\\beta_{driving_liscence}drivingliscence$\n"
   ]
  },
  {
   "cell_type": "code",
   "execution_count": 55,
   "id": "d86f70a2",
   "metadata": {},
   "outputs": [],
   "source": [
    "asc_walk = Beta('asc_walk', 0, None, None, 1) # Normalizing asc_walk to 0\n",
    "asc_cycling = Beta('asc_cycling', 0, None, None, 0)\n",
    "asc_public = Beta('asc_public', 0, None, None, 0)\n",
    "asc_driving = Beta('asc_driving', 0, None, None, 0)"
   ]
  },
  {
   "cell_type": "code",
   "execution_count": 56,
   "id": "1054f505",
   "metadata": {},
   "outputs": [],
   "source": [
    "cost_driving = cost_driving_fuel + cost_driving_ccharge\n",
    "dur_public = dur_pt_access + dur_pt_rail + dur_pt_bus + dur_pt_int # total duration of public transportation"
   ]
  },
  {
   "cell_type": "code",
   "execution_count": 57,
   "id": "8b16fdc9",
   "metadata": {},
   "outputs": [],
   "source": [
    "beta_time_walk = Beta('beta_time_walk', 0, None, None, 0)\n",
    "beta_time_cycling = Beta('beta_time_cycling', 0, None, None, 0)\n",
    "beta_time_driving = Beta('beta_time_driving', 0, None, None, 0)\n",
    "beta_time_public = Beta('beta_time_public', 0, None, None, 0)\n",
    "beta_cost = Beta('beta_cost', 0, None, None, 0)\n",
    "beta_interchange = Beta('beta_interchange',0, None, None,0)\n",
    "beta_drivingliscence = Beta('beta_drivingliscence',0,None,None,0)\n",
    "beta_faretype = Beta('beta_faretype',0, None, None, 0)\n",
    "beta_traffic = Beta('beta_traffic',0, None, None, 0)"
   ]
  },
  {
   "cell_type": "code",
   "execution_count": 58,
   "id": "57cde6e5",
   "metadata": {},
   "outputs": [],
   "source": [
    "# model 2 specification \n",
    "V_walk = asc_walk + beta_time_walk * dur_walking\n",
    "V_cycling = asc_cycling + beta_time_cycling * dur_cycling\n",
    "V_public = asc_public + beta_time_public * dur_public + beta_cost * cost_transit + beta_interchange * pt_interchanges\n",
    "# V_public = asc_public + beta_time_public * dur_public + beta_cost * cost_transit\n",
    "V_driving = asc_driving + beta_time_driving * dur_driving + beta_cost * cost_driving + beta_drivingliscence * driving_license\n",
    "\n",
    "V = {1: V_walk, 2: V_cycling, 3: V_public, 4: V_driving}\n",
    "\n",
    "logprob = models.loglogit(V, None, travel_mode)\n",
    "\n",
    "biogeme.modelName = 'model_2'"
   ]
  },
  {
   "cell_type": "code",
   "execution_count": 59,
   "id": "f92fa977",
   "metadata": {},
   "outputs": [],
   "source": [
    "biogeme = bio.BIOGEME(database, logprob)\n",
    "biogeme.modelName = 'model_2'"
   ]
  },
  {
   "cell_type": "code",
   "execution_count": 60,
   "id": "ae058683",
   "metadata": {},
   "outputs": [
    {
     "name": "stdout",
     "output_type": "stream",
     "text": [
      "[16:42:14] < Warning >   Cannot read file __model_2.iter. Statement is ignored.\n"
     ]
    }
   ],
   "source": [
    "results2 = biogeme.estimate()"
   ]
  },
  {
   "cell_type": "code",
   "execution_count": 61,
   "id": "49461027",
   "metadata": {},
   "outputs": [
    {
     "name": "stdout",
     "output_type": "stream",
     "text": [
      "Number of estimated parameters:\t10\n",
      "Sample size:\t5000\n",
      "Excluded observations:\t0\n",
      "Init log likelihood:\t-6931.472\n",
      "Final log likelihood:\t-4207.638\n",
      "Likelihood ratio test for the init. model:\t5447.667\n",
      "Rho-square for the init. model:\t0.393\n",
      "Rho-square-bar for the init. model:\t0.392\n",
      "Akaike Information Criterion:\t8435.277\n",
      "Bayesian Information Criterion:\t8500.449\n",
      "Final gradient norm:\t1.1338E-02\n",
      "Nbr of threads:\t16\n",
      "\n"
     ]
    }
   ],
   "source": [
    "print(results2.printGeneralStatistics())"
   ]
  },
  {
   "cell_type": "code",
   "execution_count": 62,
   "id": "f5ad361f",
   "metadata": {},
   "outputs": [
    {
     "data": {
      "text/html": [
       "<div>\n",
       "<style scoped>\n",
       "    .dataframe tbody tr th:only-of-type {\n",
       "        vertical-align: middle;\n",
       "    }\n",
       "\n",
       "    .dataframe tbody tr th {\n",
       "        vertical-align: top;\n",
       "    }\n",
       "\n",
       "    .dataframe thead th {\n",
       "        text-align: right;\n",
       "    }\n",
       "</style>\n",
       "<table border=\"1\" class=\"dataframe\">\n",
       "  <thead>\n",
       "    <tr style=\"text-align: right;\">\n",
       "      <th></th>\n",
       "      <th>Value</th>\n",
       "      <th>Rob. Std err</th>\n",
       "      <th>Rob. t-test</th>\n",
       "      <th>Rob. p-value</th>\n",
       "    </tr>\n",
       "  </thead>\n",
       "  <tbody>\n",
       "    <tr>\n",
       "      <th>asc_cycling</th>\n",
       "      <td>-4.658217</td>\n",
       "      <td>0.185019</td>\n",
       "      <td>-25.177022</td>\n",
       "      <td>0.000000</td>\n",
       "    </tr>\n",
       "    <tr>\n",
       "      <th>asc_driving</th>\n",
       "      <td>-2.925344</td>\n",
       "      <td>0.134301</td>\n",
       "      <td>-21.781928</td>\n",
       "      <td>0.000000</td>\n",
       "    </tr>\n",
       "    <tr>\n",
       "      <th>asc_public</th>\n",
       "      <td>-2.495342</td>\n",
       "      <td>0.125829</td>\n",
       "      <td>-19.831245</td>\n",
       "      <td>0.000000</td>\n",
       "    </tr>\n",
       "    <tr>\n",
       "      <th>beta_cost</th>\n",
       "      <td>-0.130482</td>\n",
       "      <td>0.013882</td>\n",
       "      <td>-9.399229</td>\n",
       "      <td>0.000000</td>\n",
       "    </tr>\n",
       "    <tr>\n",
       "      <th>beta_drivingliscence</th>\n",
       "      <td>1.359169</td>\n",
       "      <td>0.069275</td>\n",
       "      <td>19.619935</td>\n",
       "      <td>0.000000</td>\n",
       "    </tr>\n",
       "    <tr>\n",
       "      <th>beta_interchange</th>\n",
       "      <td>-0.030145</td>\n",
       "      <td>0.085143</td>\n",
       "      <td>-0.354055</td>\n",
       "      <td>0.723298</td>\n",
       "    </tr>\n",
       "    <tr>\n",
       "      <th>beta_time_cycling</th>\n",
       "      <td>-5.400914</td>\n",
       "      <td>0.443235</td>\n",
       "      <td>-12.185221</td>\n",
       "      <td>0.000000</td>\n",
       "    </tr>\n",
       "    <tr>\n",
       "      <th>beta_time_driving</th>\n",
       "      <td>-6.436766</td>\n",
       "      <td>0.374004</td>\n",
       "      <td>-17.210422</td>\n",
       "      <td>0.000000</td>\n",
       "    </tr>\n",
       "    <tr>\n",
       "      <th>beta_time_public</th>\n",
       "      <td>-3.393491</td>\n",
       "      <td>0.259001</td>\n",
       "      <td>-13.102218</td>\n",
       "      <td>0.000000</td>\n",
       "    </tr>\n",
       "    <tr>\n",
       "      <th>beta_time_walk</th>\n",
       "      <td>-8.564554</td>\n",
       "      <td>0.370559</td>\n",
       "      <td>-23.112555</td>\n",
       "      <td>0.000000</td>\n",
       "    </tr>\n",
       "  </tbody>\n",
       "</table>\n",
       "</div>"
      ],
      "text/plain": [
       "                         Value  Rob. Std err  Rob. t-test  Rob. p-value\n",
       "asc_cycling          -4.658217      0.185019   -25.177022      0.000000\n",
       "asc_driving          -2.925344      0.134301   -21.781928      0.000000\n",
       "asc_public           -2.495342      0.125829   -19.831245      0.000000\n",
       "beta_cost            -0.130482      0.013882    -9.399229      0.000000\n",
       "beta_drivingliscence  1.359169      0.069275    19.619935      0.000000\n",
       "beta_interchange     -0.030145      0.085143    -0.354055      0.723298\n",
       "beta_time_cycling    -5.400914      0.443235   -12.185221      0.000000\n",
       "beta_time_driving    -6.436766      0.374004   -17.210422      0.000000\n",
       "beta_time_public     -3.393491      0.259001   -13.102218      0.000000\n",
       "beta_time_walk       -8.564554      0.370559   -23.112555      0.000000"
      ]
     },
     "execution_count": 62,
     "metadata": {},
     "output_type": "execute_result"
    }
   ],
   "source": [
    "results2.getEstimatedParameters()"
   ]
  },
  {
   "cell_type": "code",
   "execution_count": 63,
   "id": "fab6e726",
   "metadata": {},
   "outputs": [],
   "source": [
    "# results2.data.htmlFileName"
   ]
  },
  {
   "cell_type": "markdown",
   "id": "649836cb",
   "metadata": {},
   "source": [
    "## Compare model 2 and 1\n",
    "Since model 1 is a restricted version of model 2, we perform a likelihood ratio test. Or we can simply perform t-test on the coefficients $\\beta_{driving\\_liscence}$ and $\\beta_{pt_interchanges}$, as given by the estimation table."
   ]
  },
  {
   "cell_type": "code",
   "execution_count": 64,
   "id": "a5e5ca2a",
   "metadata": {},
   "outputs": [
    {
     "data": {
      "text/plain": [
       "LRTuple(message='H0 can be rejected at level 5.0%', statistic=408.7390114093705, threshold=5.991464547107979)"
      ]
     },
     "execution_count": 64,
     "metadata": {},
     "output_type": "execute_result"
    }
   ],
   "source": [
    "results2.likelihood_ratio_test(results1, alpha)"
   ]
  },
  {
   "cell_type": "markdown",
   "id": "6e0738ca",
   "metadata": {},
   "source": [
    "Thus, model 2 is preferred to model 1."
   ]
  },
  {
   "cell_type": "markdown",
   "id": "42a69b29",
   "metadata": {},
   "source": [
    "# Model 3"
   ]
  },
  {
   "cell_type": "markdown",
   "id": "ce026c97",
   "metadata": {},
   "source": [
    "We perform box-cox transformation on travel time for every alternatives."
   ]
  },
  {
   "cell_type": "code",
   "execution_count": 65,
   "id": "cf865ab4",
   "metadata": {},
   "outputs": [],
   "source": [
    "# define lambda\n",
    "lambda_boxcox = Beta('lambda_boxcox', 1, None, None, 0)\n",
    "boxcox_time_1 = models.boxcox(dur_walking, lambda_boxcox)\n",
    "boxcox_time_2 = models.boxcox(dur_cycling, lambda_boxcox)\n",
    "boxcox_time_3 = models.boxcox(dur_public, lambda_boxcox)\n",
    "boxcox_time_4 = models.boxcox(dur_driving, lambda_boxcox)"
   ]
  },
  {
   "cell_type": "code",
   "execution_count": 66,
   "id": "c9daefbe",
   "metadata": {},
   "outputs": [],
   "source": [
    "# model 3 specification \n",
    "V_walk = asc_walk + beta_time_walk * boxcox_time_1\n",
    "V_cycling = asc_cycling + beta_time_cycling * boxcox_time_2\n",
    "V_public = asc_public + beta_time_public * boxcox_time_3+ beta_cost * cost_transit + beta_interchange * pt_interchanges\n",
    "# V_public = asc_public + beta_time_public * dur_public + beta_cost * cost_transit\n",
    "V_driving = asc_driving + beta_time_driving * boxcox_time_4 + beta_cost * cost_driving + beta_drivingliscence * driving_license\n",
    "\n",
    "V = {1: V_walk, 2: V_cycling, 3: V_public, 4: V_driving}\n",
    "\n",
    "logprob = models.loglogit(V, None, travel_mode)\n",
    "\n",
    "biogeme.modelName = 'model_3'"
   ]
  },
  {
   "cell_type": "code",
   "execution_count": 67,
   "id": "2c9cde9a",
   "metadata": {},
   "outputs": [
    {
     "name": "stdout",
     "output_type": "stream",
     "text": [
      "[16:42:18] < Warning >   Cannot read file __model_3.iter. Statement is ignored.\n",
      "Number of estimated parameters:\t11\n",
      "Sample size:\t5000\n",
      "Excluded observations:\t0\n",
      "Init log likelihood:\t-6931.472\n",
      "Final log likelihood:\t-4135.707\n",
      "Likelihood ratio test for the init. model:\t5591.529\n",
      "Rho-square for the init. model:\t0.403\n",
      "Rho-square-bar for the init. model:\t0.402\n",
      "Akaike Information Criterion:\t8293.415\n",
      "Bayesian Information Criterion:\t8365.104\n",
      "Final gradient norm:\t2.2303E-02\n",
      "Nbr of threads:\t16\n",
      "\n"
     ]
    }
   ],
   "source": [
    "biogeme = bio.BIOGEME(database, logprob)\n",
    "biogeme.modelName = 'model_3'\n",
    "results3 = biogeme.estimate()\n",
    "print(results3.printGeneralStatistics())\n"
   ]
  },
  {
   "cell_type": "code",
   "execution_count": 68,
   "id": "86fce33c",
   "metadata": {},
   "outputs": [
    {
     "data": {
      "text/html": [
       "<div>\n",
       "<style scoped>\n",
       "    .dataframe tbody tr th:only-of-type {\n",
       "        vertical-align: middle;\n",
       "    }\n",
       "\n",
       "    .dataframe tbody tr th {\n",
       "        vertical-align: top;\n",
       "    }\n",
       "\n",
       "    .dataframe thead th {\n",
       "        text-align: right;\n",
       "    }\n",
       "</style>\n",
       "<table border=\"1\" class=\"dataframe\">\n",
       "  <thead>\n",
       "    <tr style=\"text-align: right;\">\n",
       "      <th></th>\n",
       "      <th>Value</th>\n",
       "      <th>Rob. Std err</th>\n",
       "      <th>Rob. t-test</th>\n",
       "      <th>Rob. p-value</th>\n",
       "    </tr>\n",
       "  </thead>\n",
       "  <tbody>\n",
       "    <tr>\n",
       "      <th>asc_cycling</th>\n",
       "      <td>-2.195568</td>\n",
       "      <td>0.276630</td>\n",
       "      <td>-7.936831</td>\n",
       "      <td>1.998401e-15</td>\n",
       "    </tr>\n",
       "    <tr>\n",
       "      <th>asc_driving</th>\n",
       "      <td>-1.025547</td>\n",
       "      <td>0.223982</td>\n",
       "      <td>-4.578692</td>\n",
       "      <td>4.678929e-06</td>\n",
       "    </tr>\n",
       "    <tr>\n",
       "      <th>asc_public</th>\n",
       "      <td>1.779555</td>\n",
       "      <td>0.172816</td>\n",
       "      <td>10.297425</td>\n",
       "      <td>0.000000e+00</td>\n",
       "    </tr>\n",
       "    <tr>\n",
       "      <th>beta_cost</th>\n",
       "      <td>-0.120173</td>\n",
       "      <td>0.013580</td>\n",
       "      <td>-8.849125</td>\n",
       "      <td>0.000000e+00</td>\n",
       "    </tr>\n",
       "    <tr>\n",
       "      <th>beta_drivingliscence</th>\n",
       "      <td>1.365768</td>\n",
       "      <td>0.069714</td>\n",
       "      <td>19.591041</td>\n",
       "      <td>0.000000e+00</td>\n",
       "    </tr>\n",
       "    <tr>\n",
       "      <th>beta_interchange</th>\n",
       "      <td>-0.087201</td>\n",
       "      <td>0.076757</td>\n",
       "      <td>-1.136069</td>\n",
       "      <td>2.559277e-01</td>\n",
       "    </tr>\n",
       "    <tr>\n",
       "      <th>beta_time_cycling</th>\n",
       "      <td>-3.383673</td>\n",
       "      <td>0.262830</td>\n",
       "      <td>-12.874011</td>\n",
       "      <td>0.000000e+00</td>\n",
       "    </tr>\n",
       "    <tr>\n",
       "      <th>beta_time_driving</th>\n",
       "      <td>-3.564961</td>\n",
       "      <td>0.268127</td>\n",
       "      <td>-13.295784</td>\n",
       "      <td>0.000000e+00</td>\n",
       "    </tr>\n",
       "    <tr>\n",
       "      <th>beta_time_public</th>\n",
       "      <td>-2.603897</td>\n",
       "      <td>0.187885</td>\n",
       "      <td>-13.859022</td>\n",
       "      <td>0.000000e+00</td>\n",
       "    </tr>\n",
       "    <tr>\n",
       "      <th>beta_time_walk</th>\n",
       "      <td>-5.625187</td>\n",
       "      <td>0.250271</td>\n",
       "      <td>-22.476356</td>\n",
       "      <td>0.000000e+00</td>\n",
       "    </tr>\n",
       "    <tr>\n",
       "      <th>lambda_boxcox</th>\n",
       "      <td>0.326962</td>\n",
       "      <td>0.046097</td>\n",
       "      <td>7.092913</td>\n",
       "      <td>1.313172e-12</td>\n",
       "    </tr>\n",
       "  </tbody>\n",
       "</table>\n",
       "</div>"
      ],
      "text/plain": [
       "                         Value  Rob. Std err  Rob. t-test  Rob. p-value\n",
       "asc_cycling          -2.195568      0.276630    -7.936831  1.998401e-15\n",
       "asc_driving          -1.025547      0.223982    -4.578692  4.678929e-06\n",
       "asc_public            1.779555      0.172816    10.297425  0.000000e+00\n",
       "beta_cost            -0.120173      0.013580    -8.849125  0.000000e+00\n",
       "beta_drivingliscence  1.365768      0.069714    19.591041  0.000000e+00\n",
       "beta_interchange     -0.087201      0.076757    -1.136069  2.559277e-01\n",
       "beta_time_cycling    -3.383673      0.262830   -12.874011  0.000000e+00\n",
       "beta_time_driving    -3.564961      0.268127   -13.295784  0.000000e+00\n",
       "beta_time_public     -2.603897      0.187885   -13.859022  0.000000e+00\n",
       "beta_time_walk       -5.625187      0.250271   -22.476356  0.000000e+00\n",
       "lambda_boxcox         0.326962      0.046097     7.092913  1.313172e-12"
      ]
     },
     "execution_count": 68,
     "metadata": {},
     "output_type": "execute_result"
    }
   ],
   "source": [
    "results3.getEstimatedParameters()"
   ]
  },
  {
   "cell_type": "markdown",
   "id": "4bf5240c",
   "metadata": {},
   "source": [
    "## Compare model 3 and 2\n",
    "Under the null hypothesis that $\\lambda=1$, the statistic $$\\frac{\\widehat{\\lambda}-1}{\\widehat{\\sigma}_\\lambda}$$ follows approximatively a $N(0, 1)$.  \n",
    "Thus, we perform a t-test on $\\lambda$."
   ]
  },
  {
   "cell_type": "code",
   "execution_count": 69,
   "id": "e2c2a5fc",
   "metadata": {},
   "outputs": [
    {
     "data": {
      "text/plain": [
       "-14.600459948421262"
      ]
     },
     "execution_count": 69,
     "metadata": {},
     "output_type": "execute_result"
    }
   ],
   "source": [
    "estimated_parameters_3=results3.getEstimatedParameters()\n",
    "t_test_lambda = (estimated_parameters_3.loc['lambda_boxcox','Value'] - 1) / estimated_parameters_3.loc['lambda_boxcox', 'Rob. Std err']\n",
    "t_test_lambda"
   ]
  },
  {
   "cell_type": "code",
   "execution_count": 70,
   "id": "b2087bca",
   "metadata": {},
   "outputs": [],
   "source": [
    "from scipy.stats import norm\n",
    "from biogeme.results import calcPValue"
   ]
  },
  {
   "cell_type": "code",
   "execution_count": 71,
   "id": "899a14a5",
   "metadata": {},
   "outputs": [
    {
     "data": {
      "text/plain": [
       "1.6448536269514722"
      ]
     },
     "execution_count": 71,
     "metadata": {},
     "output_type": "execute_result"
    }
   ],
   "source": [
    "norm.ppf(.95)"
   ]
  },
  {
   "cell_type": "code",
   "execution_count": 72,
   "id": "8355ab0c",
   "metadata": {},
   "outputs": [
    {
     "data": {
      "text/plain": [
       "0.0"
      ]
     },
     "execution_count": 72,
     "metadata": {},
     "output_type": "execute_result"
    }
   ],
   "source": [
    "calcPValue(t_test_lambda)"
   ]
  },
  {
   "cell_type": "markdown",
   "id": "2ec87c79",
   "metadata": {},
   "source": [
    "Because the $p-value<0.05$, we reject the null hypothesis that $\\lambda=1$. Thus, model 3 is preferred."
   ]
  },
  {
   "cell_type": "markdown",
   "id": "aa0d2949",
   "metadata": {},
   "source": [
    "Though not exactly relevant as one is not the linear restriction of the other, we also perform a likelihood ratio test to check."
   ]
  },
  {
   "cell_type": "code",
   "execution_count": 73,
   "id": "a3c0ff37",
   "metadata": {},
   "outputs": [
    {
     "data": {
      "text/plain": [
       "LRTuple(message='H0 can be rejected at level 5.0%', statistic=143.8621227926742, threshold=3.841458820694124)"
      ]
     },
     "execution_count": 73,
     "metadata": {},
     "output_type": "execute_result"
    }
   ],
   "source": [
    "results3.likelihood_ratio_test(results2, alpha)"
   ]
  },
  {
   "cell_type": "markdown",
   "id": "33d9b075",
   "metadata": {},
   "source": [
    "A more general way is to perform a **Davidson and McKinnon J test**  on model 2 and 3. "
   ]
  },
  {
   "cell_type": "markdown",
   "id": "f7052a59-5dca-42c8-80d4-b2db47698df2",
   "metadata": {},
   "source": [
    "### Model 4"
   ]
  },
  {
   "cell_type": "markdown",
   "id": "f113b6cb-776c-4862-b1e3-6fc4b8d9a450",
   "metadata": {},
   "source": [
    "We define Model 4N as a nested version of Model 3 where we regroup motorized (public transports and car) and non-motorized transportation modes (walking and cycling)."
   ]
  },
  {
   "cell_type": "code",
   "execution_count": 80,
   "id": "236fdb60-8e16-4ec2-af8c-dd6f7cf4646b",
   "metadata": {},
   "outputs": [],
   "source": [
    "MU_motorized = Beta('MU_motorized', 1, 0, None, 0)"
   ]
  },
  {
   "cell_type": "code",
   "execution_count": 90,
   "id": "66fc4695-4138-43e9-8ab3-fccfb299f68c",
   "metadata": {},
   "outputs": [
    {
     "name": "stdout",
     "output_type": "stream",
     "text": [
      "Help on function lognested in module biogeme.models:\n",
      "\n",
      "lognested(V, availability, nests, choice)\n",
      "    Implements the log of a nested logit model as a MEV model.\n",
      "    \n",
      "    :param V: dict of objects representing the utility functions of\n",
      "        each alternative, indexed by numerical ids.\n",
      "    \n",
      "    :type V: dict(int:biogeme.expressions.expr.Expression)\n",
      "    \n",
      "    :param availability: dict of objects representing the availability of each\n",
      "        alternative (:math:`a_i` in the above formula), indexed\n",
      "        by numerical ids. Must be consistent with V, or\n",
      "        None. In this case, all alternatives are supposed to be\n",
      "        always available.\n",
      "    \n",
      "    :type availability: dict(int:biogeme.expressions.expr.Expression)\n",
      "    \n",
      "    :param nests: A tuple containing as many items as nests.\n",
      "        Each item is also a tuple containing two items:\n",
      "    \n",
      "        - an object of type biogeme.expressions. expr.Expression representing\n",
      "          the nest parameter,\n",
      "        - a list containing the list of identifiers of the alternatives\n",
      "          belonging to the nest.\n",
      "    \n",
      "        Example::\n",
      "    \n",
      "            nesta = MUA, [1, 2, 3]\n",
      "            nestb = MUB, [4, 5, 6]\n",
      "            nests = nesta, nestb\n",
      "    \n",
      "    :type nests: tuple\n",
      "    \n",
      "    :param choice: id of the alternative for which the probability must be\n",
      "              calculated.\n",
      "    :type choice: biogeme.expressions.expr.Expression\n",
      "    \n",
      "    :return: log of choice probability for the nested logit model,\n",
      "             based on the derivatives of the MEV generating function produced\n",
      "             by the function getMevForNested\n",
      "    \n",
      "    :rtype: biogeme.expressions.expr.Expression\n",
      "    \n",
      "    :raise biogemeError: if the definition of the nests is invalid.\n",
      "\n"
     ]
    }
   ],
   "source": [
    "help(models.lognested)"
   ]
  },
  {
   "cell_type": "code",
   "execution_count": 92,
   "id": "2550e883-b92d-47d2-ab8b-3746a195684f",
   "metadata": {},
   "outputs": [
    {
     "name": "stdout",
     "output_type": "stream",
     "text": [
      "[17:26:37] < Warning >   The chosen alternative [travel_mode] is not available for the following observations (rownumber[choice]): 1[4.0]-2[4.0]-16[4.0]-20[4.0]-21[4.0]-32[4.0]-33[4.0]-42[4.0]-43[4.0]-44[4.0]-45[4.0]-61[4.0]-80[4.0...\n",
      "[17:26:37] < Warning >   Recycling was requested, but no pickle file was found\n",
      "[17:26:37] < Warning >   Cannot read file __model_4N.iter. Statement is ignored.\n"
     ]
    }
   ],
   "source": [
    "# model 4N specification \n",
    "V_walk = asc_walk + beta_time_walk * boxcox_time_1\n",
    "V_cycling = asc_cycling + beta_time_cycling * boxcox_time_2\n",
    "V_public = asc_public + beta_time_public * boxcox_time_3+ beta_cost * cost_transit + beta_interchange * pt_interchanges + MU_motorized\n",
    "# V_public = asc_public + beta_time_public * dur_public + beta_cost * cost_transit\n",
    "V_driving = asc_driving + beta_time_driving * boxcox_time_4 + beta_cost * cost_driving + beta_drivingliscence * driving_license + MU_motorized\n",
    "\n",
    "travel_mode = Variable('travel_mode')\n",
    "PT_AV = Variable('PT_AV')\n",
    "DRIVING_AV = Variable('DRIVING_AV')\n",
    "WALK_AV = Variable('WALK_AV')\n",
    "CYCL_AV = Variable('CYCLING_AV')\n",
    "V = {1: V_walk, 2: V_cycling, 3: V_public, 4: V_driving}\n",
    "av = {1: 1, 2: 1, 3: 1, 4: driving_license}\n",
    "\n",
    "motorized = MU_motorized, [3, 4]\n",
    "non_motorized = 1.0, [1, 2]\n",
    "nests = motorized, non_motorized\n",
    "logprob = models.lognested(V, av, nests, travel_mode)\n",
    "\n",
    "biogeme = bio.BIOGEME(database, logprob)\n",
    "biogeme.modelName = 'model_4N'\n",
    "model_4N_results = biogeme.estimate(recycle=True)\n",
    "\n",
    "#logprob = models.loglogit(V, None, travel_mode)\n",
    "\n"
   ]
  },
  {
   "cell_type": "code",
   "execution_count": 93,
   "id": "87ed9751-f7fd-4921-b07e-7361c96ab23e",
   "metadata": {},
   "outputs": [
    {
     "name": "stdout",
     "output_type": "stream",
     "text": [
      "Number of estimated parameters:\t12\n",
      "Sample size:\t5000\n",
      "Excluded observations:\t0\n",
      "Init log likelihood:\t-1.797693e+308\n",
      "Final log likelihood:\t-1.797693e+308\n",
      "Likelihood ratio test for the init. model:\t-0\n",
      "Rho-square for the init. model:\t0\n",
      "Rho-square-bar for the init. model:\t0\n",
      "Akaike Information Criterion:\tinf\n",
      "Bayesian Information Criterion:\tinf\n",
      "Final gradient norm:\t8.0732E+02\n",
      "Nbr of threads:\t16\n",
      "\n"
     ]
    }
   ],
   "source": [
    "print(model_4N_results.printGeneralStatistics())"
   ]
  },
  {
   "cell_type": "code",
   "execution_count": 94,
   "id": "0981bdd3-b574-42cb-8f65-67e64e47e005",
   "metadata": {},
   "outputs": [
    {
     "data": {
      "text/html": [
       "<div>\n",
       "<style scoped>\n",
       "    .dataframe tbody tr th:only-of-type {\n",
       "        vertical-align: middle;\n",
       "    }\n",
       "\n",
       "    .dataframe tbody tr th {\n",
       "        vertical-align: top;\n",
       "    }\n",
       "\n",
       "    .dataframe thead th {\n",
       "        text-align: right;\n",
       "    }\n",
       "</style>\n",
       "<table border=\"1\" class=\"dataframe\">\n",
       "  <thead>\n",
       "    <tr style=\"text-align: right;\">\n",
       "      <th></th>\n",
       "      <th>Value</th>\n",
       "      <th>Rob. Std err</th>\n",
       "      <th>Rob. t-test</th>\n",
       "      <th>Rob. p-value</th>\n",
       "    </tr>\n",
       "  </thead>\n",
       "  <tbody>\n",
       "    <tr>\n",
       "      <th>MU_motorized</th>\n",
       "      <td>1.000000</td>\n",
       "      <td>0.028003</td>\n",
       "      <td>35.710080</td>\n",
       "      <td>0.000000e+00</td>\n",
       "    </tr>\n",
       "    <tr>\n",
       "      <th>asc_cycling</th>\n",
       "      <td>-2.195568</td>\n",
       "      <td>0.600975</td>\n",
       "      <td>-3.653344</td>\n",
       "      <td>2.588472e-04</td>\n",
       "    </tr>\n",
       "    <tr>\n",
       "      <th>asc_driving</th>\n",
       "      <td>-1.025547</td>\n",
       "      <td>0.099465</td>\n",
       "      <td>-10.310641</td>\n",
       "      <td>0.000000e+00</td>\n",
       "    </tr>\n",
       "    <tr>\n",
       "      <th>asc_public</th>\n",
       "      <td>1.779555</td>\n",
       "      <td>0.204024</td>\n",
       "      <td>8.722273</td>\n",
       "      <td>0.000000e+00</td>\n",
       "    </tr>\n",
       "    <tr>\n",
       "      <th>beta_cost</th>\n",
       "      <td>-0.120173</td>\n",
       "      <td>0.014658</td>\n",
       "      <td>-8.198503</td>\n",
       "      <td>2.220446e-16</td>\n",
       "    </tr>\n",
       "    <tr>\n",
       "      <th>beta_drivingliscence</th>\n",
       "      <td>1.365768</td>\n",
       "      <td>0.099465</td>\n",
       "      <td>13.731160</td>\n",
       "      <td>0.000000e+00</td>\n",
       "    </tr>\n",
       "    <tr>\n",
       "      <th>beta_interchange</th>\n",
       "      <td>-0.087201</td>\n",
       "      <td>0.092701</td>\n",
       "      <td>-0.940669</td>\n",
       "      <td>3.468743e-01</td>\n",
       "    </tr>\n",
       "    <tr>\n",
       "      <th>beta_time_cycling</th>\n",
       "      <td>-3.383673</td>\n",
       "      <td>0.448317</td>\n",
       "      <td>-7.547494</td>\n",
       "      <td>4.440892e-14</td>\n",
       "    </tr>\n",
       "    <tr>\n",
       "      <th>beta_time_driving</th>\n",
       "      <td>-3.564961</td>\n",
       "      <td>0.196813</td>\n",
       "      <td>-18.113490</td>\n",
       "      <td>0.000000e+00</td>\n",
       "    </tr>\n",
       "    <tr>\n",
       "      <th>beta_time_public</th>\n",
       "      <td>-2.603897</td>\n",
       "      <td>0.177448</td>\n",
       "      <td>-14.674137</td>\n",
       "      <td>0.000000e+00</td>\n",
       "    </tr>\n",
       "    <tr>\n",
       "      <th>beta_time_walk</th>\n",
       "      <td>-5.625187</td>\n",
       "      <td>0.286354</td>\n",
       "      <td>-19.644181</td>\n",
       "      <td>0.000000e+00</td>\n",
       "    </tr>\n",
       "    <tr>\n",
       "      <th>lambda_boxcox</th>\n",
       "      <td>0.326962</td>\n",
       "      <td>0.015902</td>\n",
       "      <td>20.561371</td>\n",
       "      <td>0.000000e+00</td>\n",
       "    </tr>\n",
       "  </tbody>\n",
       "</table>\n",
       "</div>"
      ],
      "text/plain": [
       "                         Value  Rob. Std err  Rob. t-test  Rob. p-value\n",
       "MU_motorized          1.000000      0.028003    35.710080  0.000000e+00\n",
       "asc_cycling          -2.195568      0.600975    -3.653344  2.588472e-04\n",
       "asc_driving          -1.025547      0.099465   -10.310641  0.000000e+00\n",
       "asc_public            1.779555      0.204024     8.722273  0.000000e+00\n",
       "beta_cost            -0.120173      0.014658    -8.198503  2.220446e-16\n",
       "beta_drivingliscence  1.365768      0.099465    13.731160  0.000000e+00\n",
       "beta_interchange     -0.087201      0.092701    -0.940669  3.468743e-01\n",
       "beta_time_cycling    -3.383673      0.448317    -7.547494  4.440892e-14\n",
       "beta_time_driving    -3.564961      0.196813   -18.113490  0.000000e+00\n",
       "beta_time_public     -2.603897      0.177448   -14.674137  0.000000e+00\n",
       "beta_time_walk       -5.625187      0.286354   -19.644181  0.000000e+00\n",
       "lambda_boxcox         0.326962      0.015902    20.561371  0.000000e+00"
      ]
     },
     "execution_count": 94,
     "metadata": {},
     "output_type": "execute_result"
    }
   ],
   "source": [
    "model_4N_results.getEstimatedParameters()"
   ]
  },
  {
   "cell_type": "code",
   "execution_count": null,
   "id": "596f6757-4dbb-4ed1-8251-ce019206e3d1",
   "metadata": {},
   "outputs": [],
   "source": []
  },
  {
   "cell_type": "code",
   "execution_count": null,
   "id": "5c06db13-39fc-4a3c-8e3b-fa97b930249e",
   "metadata": {},
   "outputs": [],
   "source": []
  }
 ],
 "metadata": {
  "kernelspec": {
   "display_name": "biogeme_py_kernel",
   "language": "python",
   "name": "biogeme_py_kernel"
  },
  "language_info": {
   "codemirror_mode": {
    "name": "ipython",
    "version": 3
   },
   "file_extension": ".py",
   "mimetype": "text/x-python",
   "name": "python",
   "nbconvert_exporter": "python",
   "pygments_lexer": "ipython3",
   "version": "3.8.10"
  },
  "vscode": {
   "interpreter": {
    "hash": "8903f8c00ad14786716d5e6725857786035cd6e980c848e3b9d7f4ac47bf3288"
   }
  }
 },
 "nbformat": 4,
 "nbformat_minor": 5
}
