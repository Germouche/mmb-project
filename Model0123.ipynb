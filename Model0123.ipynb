{
 "cells": [
  {
   "cell_type": "code",
   "execution_count": 41,
   "id": "ab0fd6f1-87c0-4c90-a637-1fe96242cdc0",
   "metadata": {},
   "outputs": [],
   "source": [
    "import pandas as pd\n",
    "import biogeme.database as db\n",
    "import biogeme.biogeme as bio\n",
    "from biogeme.expressions import Derive, Beta, Variable, log, exp\n",
    "from biogeme import models\n",
    "from biogeme import results as res\n",
    "from biogeme.expressions import Derive"
   ]
  },
  {
   "cell_type": "code",
   "execution_count": 2,
   "id": "22b376cb-77ed-40ae-b643-496e0c103424",
   "metadata": {
    "scrolled": true
   },
   "outputs": [
    {
     "data": {
      "text/html": [
       "<div>\n",
       "<style scoped>\n",
       "    .dataframe tbody tr th:only-of-type {\n",
       "        vertical-align: middle;\n",
       "    }\n",
       "\n",
       "    .dataframe tbody tr th {\n",
       "        vertical-align: top;\n",
       "    }\n",
       "\n",
       "    .dataframe thead th {\n",
       "        text-align: right;\n",
       "    }\n",
       "</style>\n",
       "<table border=\"1\" class=\"dataframe\">\n",
       "  <thead>\n",
       "    <tr style=\"text-align: right;\">\n",
       "      <th></th>\n",
       "      <th>trip_id</th>\n",
       "      <th>household_id</th>\n",
       "      <th>person_n</th>\n",
       "      <th>trip_n</th>\n",
       "      <th>travel_mode</th>\n",
       "      <th>purpose</th>\n",
       "      <th>fueltype</th>\n",
       "      <th>faretype</th>\n",
       "      <th>bus_scale</th>\n",
       "      <th>survey_year</th>\n",
       "      <th>...</th>\n",
       "      <th>dur_pt_access</th>\n",
       "      <th>dur_pt_rail</th>\n",
       "      <th>dur_pt_bus</th>\n",
       "      <th>dur_pt_int</th>\n",
       "      <th>pt_interchanges</th>\n",
       "      <th>dur_driving</th>\n",
       "      <th>cost_transit</th>\n",
       "      <th>cost_driving_fuel</th>\n",
       "      <th>cost_driving_ccharge</th>\n",
       "      <th>driving_traffic_percent</th>\n",
       "    </tr>\n",
       "  </thead>\n",
       "  <tbody>\n",
       "    <tr>\n",
       "      <th>0</th>\n",
       "      <td>20</td>\n",
       "      <td>5</td>\n",
       "      <td>1</td>\n",
       "      <td>0</td>\n",
       "      <td>4</td>\n",
       "      <td>3</td>\n",
       "      <td>1</td>\n",
       "      <td>5</td>\n",
       "      <td>0.0</td>\n",
       "      <td>1</td>\n",
       "      <td>...</td>\n",
       "      <td>0.381667</td>\n",
       "      <td>0.000000</td>\n",
       "      <td>0.062222</td>\n",
       "      <td>0.000000</td>\n",
       "      <td>0</td>\n",
       "      <td>0.117222</td>\n",
       "      <td>0.00</td>\n",
       "      <td>0.41</td>\n",
       "      <td>0.0</td>\n",
       "      <td>0.097156</td>\n",
       "    </tr>\n",
       "    <tr>\n",
       "      <th>1</th>\n",
       "      <td>41</td>\n",
       "      <td>9</td>\n",
       "      <td>3</td>\n",
       "      <td>0</td>\n",
       "      <td>4</td>\n",
       "      <td>3</td>\n",
       "      <td>1</td>\n",
       "      <td>5</td>\n",
       "      <td>0.0</td>\n",
       "      <td>1</td>\n",
       "      <td>...</td>\n",
       "      <td>0.146944</td>\n",
       "      <td>0.000000</td>\n",
       "      <td>0.225000</td>\n",
       "      <td>0.000000</td>\n",
       "      <td>0</td>\n",
       "      <td>0.200833</td>\n",
       "      <td>0.00</td>\n",
       "      <td>0.48</td>\n",
       "      <td>0.0</td>\n",
       "      <td>0.378976</td>\n",
       "    </tr>\n",
       "    <tr>\n",
       "      <th>2</th>\n",
       "      <td>69</td>\n",
       "      <td>13</td>\n",
       "      <td>2</td>\n",
       "      <td>1</td>\n",
       "      <td>4</td>\n",
       "      <td>3</td>\n",
       "      <td>1</td>\n",
       "      <td>1</td>\n",
       "      <td>1.0</td>\n",
       "      <td>1</td>\n",
       "      <td>...</td>\n",
       "      <td>0.029444</td>\n",
       "      <td>0.083333</td>\n",
       "      <td>0.735833</td>\n",
       "      <td>0.398056</td>\n",
       "      <td>3</td>\n",
       "      <td>0.716944</td>\n",
       "      <td>6.00</td>\n",
       "      <td>2.16</td>\n",
       "      <td>0.0</td>\n",
       "      <td>0.582720</td>\n",
       "    </tr>\n",
       "    <tr>\n",
       "      <th>3</th>\n",
       "      <td>102</td>\n",
       "      <td>20</td>\n",
       "      <td>2</td>\n",
       "      <td>0</td>\n",
       "      <td>2</td>\n",
       "      <td>3</td>\n",
       "      <td>1</td>\n",
       "      <td>1</td>\n",
       "      <td>1.0</td>\n",
       "      <td>1</td>\n",
       "      <td>...</td>\n",
       "      <td>0.339722</td>\n",
       "      <td>0.183333</td>\n",
       "      <td>0.116667</td>\n",
       "      <td>0.266667</td>\n",
       "      <td>1</td>\n",
       "      <td>0.250833</td>\n",
       "      <td>3.00</td>\n",
       "      <td>0.89</td>\n",
       "      <td>0.0</td>\n",
       "      <td>0.170543</td>\n",
       "    </tr>\n",
       "    <tr>\n",
       "      <th>4</th>\n",
       "      <td>105</td>\n",
       "      <td>21</td>\n",
       "      <td>0</td>\n",
       "      <td>1</td>\n",
       "      <td>4</td>\n",
       "      <td>3</td>\n",
       "      <td>1</td>\n",
       "      <td>1</td>\n",
       "      <td>1.0</td>\n",
       "      <td>1</td>\n",
       "      <td>...</td>\n",
       "      <td>0.126389</td>\n",
       "      <td>0.000000</td>\n",
       "      <td>0.150000</td>\n",
       "      <td>0.000000</td>\n",
       "      <td>0</td>\n",
       "      <td>0.125833</td>\n",
       "      <td>1.50</td>\n",
       "      <td>0.37</td>\n",
       "      <td>0.0</td>\n",
       "      <td>0.154525</td>\n",
       "    </tr>\n",
       "    <tr>\n",
       "      <th>...</th>\n",
       "      <td>...</td>\n",
       "      <td>...</td>\n",
       "      <td>...</td>\n",
       "      <td>...</td>\n",
       "      <td>...</td>\n",
       "      <td>...</td>\n",
       "      <td>...</td>\n",
       "      <td>...</td>\n",
       "      <td>...</td>\n",
       "      <td>...</td>\n",
       "      <td>...</td>\n",
       "      <td>...</td>\n",
       "      <td>...</td>\n",
       "      <td>...</td>\n",
       "      <td>...</td>\n",
       "      <td>...</td>\n",
       "      <td>...</td>\n",
       "      <td>...</td>\n",
       "      <td>...</td>\n",
       "      <td>...</td>\n",
       "      <td>...</td>\n",
       "    </tr>\n",
       "    <tr>\n",
       "      <th>4995</th>\n",
       "      <td>80998</td>\n",
       "      <td>17591</td>\n",
       "      <td>0</td>\n",
       "      <td>5</td>\n",
       "      <td>4</td>\n",
       "      <td>3</td>\n",
       "      <td>1</td>\n",
       "      <td>5</td>\n",
       "      <td>0.0</td>\n",
       "      <td>3</td>\n",
       "      <td>...</td>\n",
       "      <td>0.189167</td>\n",
       "      <td>0.000000</td>\n",
       "      <td>0.117778</td>\n",
       "      <td>0.000000</td>\n",
       "      <td>0</td>\n",
       "      <td>0.082500</td>\n",
       "      <td>0.00</td>\n",
       "      <td>0.22</td>\n",
       "      <td>10.5</td>\n",
       "      <td>0.239057</td>\n",
       "    </tr>\n",
       "    <tr>\n",
       "      <th>4996</th>\n",
       "      <td>81000</td>\n",
       "      <td>17592</td>\n",
       "      <td>0</td>\n",
       "      <td>0</td>\n",
       "      <td>3</td>\n",
       "      <td>3</td>\n",
       "      <td>6</td>\n",
       "      <td>5</td>\n",
       "      <td>0.0</td>\n",
       "      <td>3</td>\n",
       "      <td>...</td>\n",
       "      <td>0.105278</td>\n",
       "      <td>0.000000</td>\n",
       "      <td>0.220278</td>\n",
       "      <td>0.000000</td>\n",
       "      <td>0</td>\n",
       "      <td>0.213611</td>\n",
       "      <td>0.00</td>\n",
       "      <td>0.52</td>\n",
       "      <td>0.0</td>\n",
       "      <td>0.412224</td>\n",
       "    </tr>\n",
       "    <tr>\n",
       "      <th>4997</th>\n",
       "      <td>81015</td>\n",
       "      <td>17597</td>\n",
       "      <td>0</td>\n",
       "      <td>3</td>\n",
       "      <td>4</td>\n",
       "      <td>3</td>\n",
       "      <td>1</td>\n",
       "      <td>5</td>\n",
       "      <td>0.0</td>\n",
       "      <td>3</td>\n",
       "      <td>...</td>\n",
       "      <td>0.343056</td>\n",
       "      <td>0.000000</td>\n",
       "      <td>0.177500</td>\n",
       "      <td>0.000000</td>\n",
       "      <td>0</td>\n",
       "      <td>0.189444</td>\n",
       "      <td>0.00</td>\n",
       "      <td>0.76</td>\n",
       "      <td>0.0</td>\n",
       "      <td>0.086510</td>\n",
       "    </tr>\n",
       "    <tr>\n",
       "      <th>4998</th>\n",
       "      <td>81041</td>\n",
       "      <td>17604</td>\n",
       "      <td>2</td>\n",
       "      <td>4</td>\n",
       "      <td>3</td>\n",
       "      <td>1</td>\n",
       "      <td>1</td>\n",
       "      <td>2</td>\n",
       "      <td>0.0</td>\n",
       "      <td>3</td>\n",
       "      <td>...</td>\n",
       "      <td>0.344444</td>\n",
       "      <td>0.316667</td>\n",
       "      <td>0.000000</td>\n",
       "      <td>0.083333</td>\n",
       "      <td>1</td>\n",
       "      <td>0.386111</td>\n",
       "      <td>1.05</td>\n",
       "      <td>0.98</td>\n",
       "      <td>0.0</td>\n",
       "      <td>0.340288</td>\n",
       "    </tr>\n",
       "    <tr>\n",
       "      <th>4999</th>\n",
       "      <td>81062</td>\n",
       "      <td>17607</td>\n",
       "      <td>0</td>\n",
       "      <td>4</td>\n",
       "      <td>3</td>\n",
       "      <td>5</td>\n",
       "      <td>6</td>\n",
       "      <td>1</td>\n",
       "      <td>1.0</td>\n",
       "      <td>3</td>\n",
       "      <td>...</td>\n",
       "      <td>0.069444</td>\n",
       "      <td>0.000000</td>\n",
       "      <td>0.166389</td>\n",
       "      <td>0.000000</td>\n",
       "      <td>0</td>\n",
       "      <td>0.146111</td>\n",
       "      <td>1.50</td>\n",
       "      <td>0.28</td>\n",
       "      <td>0.0</td>\n",
       "      <td>0.653992</td>\n",
       "    </tr>\n",
       "  </tbody>\n",
       "</table>\n",
       "<p>5000 rows × 32 columns</p>\n",
       "</div>"
      ],
      "text/plain": [
       "      trip_id  household_id  person_n  trip_n  travel_mode  purpose  fueltype  \\\n",
       "0          20             5         1       0            4        3         1   \n",
       "1          41             9         3       0            4        3         1   \n",
       "2          69            13         2       1            4        3         1   \n",
       "3         102            20         2       0            2        3         1   \n",
       "4         105            21         0       1            4        3         1   \n",
       "...       ...           ...       ...     ...          ...      ...       ...   \n",
       "4995    80998         17591         0       5            4        3         1   \n",
       "4996    81000         17592         0       0            3        3         6   \n",
       "4997    81015         17597         0       3            4        3         1   \n",
       "4998    81041         17604         2       4            3        1         1   \n",
       "4999    81062         17607         0       4            3        5         6   \n",
       "\n",
       "      faretype  bus_scale  survey_year  ...  dur_pt_access  dur_pt_rail  \\\n",
       "0            5        0.0            1  ...       0.381667     0.000000   \n",
       "1            5        0.0            1  ...       0.146944     0.000000   \n",
       "2            1        1.0            1  ...       0.029444     0.083333   \n",
       "3            1        1.0            1  ...       0.339722     0.183333   \n",
       "4            1        1.0            1  ...       0.126389     0.000000   \n",
       "...        ...        ...          ...  ...            ...          ...   \n",
       "4995         5        0.0            3  ...       0.189167     0.000000   \n",
       "4996         5        0.0            3  ...       0.105278     0.000000   \n",
       "4997         5        0.0            3  ...       0.343056     0.000000   \n",
       "4998         2        0.0            3  ...       0.344444     0.316667   \n",
       "4999         1        1.0            3  ...       0.069444     0.000000   \n",
       "\n",
       "      dur_pt_bus  dur_pt_int  pt_interchanges  dur_driving  cost_transit  \\\n",
       "0       0.062222    0.000000                0     0.117222          0.00   \n",
       "1       0.225000    0.000000                0     0.200833          0.00   \n",
       "2       0.735833    0.398056                3     0.716944          6.00   \n",
       "3       0.116667    0.266667                1     0.250833          3.00   \n",
       "4       0.150000    0.000000                0     0.125833          1.50   \n",
       "...          ...         ...              ...          ...           ...   \n",
       "4995    0.117778    0.000000                0     0.082500          0.00   \n",
       "4996    0.220278    0.000000                0     0.213611          0.00   \n",
       "4997    0.177500    0.000000                0     0.189444          0.00   \n",
       "4998    0.000000    0.083333                1     0.386111          1.05   \n",
       "4999    0.166389    0.000000                0     0.146111          1.50   \n",
       "\n",
       "      cost_driving_fuel  cost_driving_ccharge  driving_traffic_percent  \n",
       "0                  0.41                   0.0                 0.097156  \n",
       "1                  0.48                   0.0                 0.378976  \n",
       "2                  2.16                   0.0                 0.582720  \n",
       "3                  0.89                   0.0                 0.170543  \n",
       "4                  0.37                   0.0                 0.154525  \n",
       "...                 ...                   ...                      ...  \n",
       "4995               0.22                  10.5                 0.239057  \n",
       "4996               0.52                   0.0                 0.412224  \n",
       "4997               0.76                   0.0                 0.086510  \n",
       "4998               0.98                   0.0                 0.340288  \n",
       "4999               0.28                   0.0                 0.653992  \n",
       "\n",
       "[5000 rows x 32 columns]"
      ]
     },
     "execution_count": 2,
     "metadata": {},
     "output_type": "execute_result"
    }
   ],
   "source": [
    "#data_file = \"http://transp-or.epfl.ch/data/lpmc.dat\"\n",
    "data_file='lpmc10.dat'\n",
    "lpmc = pd.read_csv(data_file, sep='\\t')\n",
    "lpmc"
   ]
  },
  {
   "cell_type": "code",
   "execution_count": 4,
   "id": "57ad7f23",
   "metadata": {},
   "outputs": [],
   "source": [
    "# cost_driving = cost_driving_fuel + cost_driving_ccharge #total costs of driving\n",
    "# dur_public = dur_pt_access + dur_pt_rail + dur_pt_bus + dur_pt_int #total duration of public transportation\n",
    "# lpmc['cost_driving']=lpmc['cost_driving_ccharge']+lpmc['cost_driving_fuel']\n",
    "# lpmc['dur_public']=lpmc['dur_pt_access']+lpmc['dur_pt_rail']+lpmc['dur_pt_bus']+lpmc['dur_pt_int']"
   ]
  },
  {
   "cell_type": "code",
   "execution_count": 3,
   "id": "7e1638dd-8977-4929-9608-98db08091327",
   "metadata": {},
   "outputs": [],
   "source": [
    "database = db.Database('trips', lpmc)"
   ]
  },
  {
   "cell_type": "code",
   "execution_count": 4,
   "id": "7ac0c800",
   "metadata": {},
   "outputs": [
    {
     "data": {
      "text/plain": [
       "Index(['trip_id', 'household_id', 'person_n', 'trip_n', 'travel_mode',\n",
       "       'purpose', 'fueltype', 'faretype', 'bus_scale', 'survey_year',\n",
       "       'travel_year', 'travel_month', 'travel_date', 'day_of_week',\n",
       "       'start_time', 'age', 'female', 'driving_license', 'car_ownership',\n",
       "       'distance', 'dur_walking', 'dur_cycling', 'dur_pt_access',\n",
       "       'dur_pt_rail', 'dur_pt_bus', 'dur_pt_int', 'pt_interchanges',\n",
       "       'dur_driving', 'cost_transit', 'cost_driving_fuel',\n",
       "       'cost_driving_ccharge', 'driving_traffic_percent'],\n",
       "      dtype='object')"
      ]
     },
     "execution_count": 4,
     "metadata": {},
     "output_type": "execute_result"
    }
   ],
   "source": [
    "lpmc.columns"
   ]
  },
  {
   "cell_type": "code",
   "execution_count": 5,
   "id": "dc6a42ac",
   "metadata": {},
   "outputs": [],
   "source": [
    "# define variables\n",
    "for col in lpmc.columns:\n",
    "    globals()[col]=Variable(col)"
   ]
  },
  {
   "cell_type": "code",
   "execution_count": 6,
   "id": "d21a728d",
   "metadata": {},
   "outputs": [],
   "source": [
    "cost_driving = database.DefineVariable('cost_driving',cost_driving_fuel + cost_driving_ccharge)\n",
    "dur_public = database.DefineVariable('dur_public', dur_pt_access + dur_pt_rail + dur_pt_bus + dur_pt_int)"
   ]
  },
  {
   "cell_type": "markdown",
   "id": "6e971850",
   "metadata": {},
   "source": [
    "# Choice availability"
   ]
  },
  {
   "cell_type": "code",
   "execution_count": 7,
   "id": "3d0eaedf",
   "metadata": {},
   "outputs": [
    {
     "data": {
      "text/plain": [
       "False    4511\n",
       "True      489\n",
       "dtype: int64"
      ]
     },
     "execution_count": 7,
     "metadata": {},
     "output_type": "execute_result"
    }
   ],
   "source": [
    "law_violators =(lpmc['driving_license']==0 )& (lpmc['travel_mode']==4)\n",
    "law_violators.value_counts()"
   ]
  },
  {
   "cell_type": "markdown",
   "id": "f1dbff8f-92a1-43db-8580-402006eab205",
   "metadata": {},
   "source": [
    "# Model 0"
   ]
  },
  {
   "cell_type": "code",
   "execution_count": 8,
   "id": "8f68fac5-67ab-4c1c-a085-000e6da02cf0",
   "metadata": {},
   "outputs": [],
   "source": [
    "asc_walk = Beta('asc_walk', 0, None, None, 1)\n",
    "asc_cycling = Beta('asc_cycling', 0, None, None, 0)\n",
    "asc_public = Beta('asc_public', 0, None, None, 0)\n",
    "asc_driving = Beta('asc_driving', 0, None, None, 0)"
   ]
  },
  {
   "cell_type": "code",
   "execution_count": 9,
   "id": "65e4f07e-55e8-4d2c-8822-352414e129d4",
   "metadata": {},
   "outputs": [],
   "source": [
    "beta_cost = Beta('beta_cost', 0, None, None, 0)\n",
    "beta_time = Beta('beta_time', 0, None, None, 0)"
   ]
  },
  {
   "cell_type": "code",
   "execution_count": 10,
   "id": "b3b72660-61d9-4c8d-a39c-da162e2e962b",
   "metadata": {},
   "outputs": [],
   "source": [
    "V_walk = asc_walk + beta_time * dur_walking\n",
    "V_cycling = asc_cycling + beta_time * dur_cycling\n",
    "V_driving = asc_driving + beta_time * dur_driving + beta_cost * cost_driving\n",
    "V_public = asc_public + beta_time * dur_public + beta_cost * cost_transit"
   ]
  },
  {
   "cell_type": "code",
   "execution_count": 11,
   "id": "508e8b7d-31eb-4c0b-9a95-b7d3fb8a9ce3",
   "metadata": {},
   "outputs": [],
   "source": [
    "V = {1: V_walk, 2: V_cycling, 3: V_public, 4: V_driving}\n",
    "\n",
    "logprob = models.loglogit(V, None, travel_mode)"
   ]
  },
  {
   "cell_type": "code",
   "execution_count": 12,
   "id": "b7f11bd8-48cf-4591-9e46-d6953b1ac336",
   "metadata": {},
   "outputs": [],
   "source": [
    "biogeme = bio.BIOGEME(database, logprob)\n",
    "biogeme.modelName = 'model_base'"
   ]
  },
  {
   "cell_type": "code",
   "execution_count": 13,
   "id": "0d427dcd-ed96-4d14-a99b-e834e2ce3918",
   "metadata": {},
   "outputs": [
    {
     "name": "stdout",
     "output_type": "stream",
     "text": [
      "[10:18:04] < Warning >   Cannot read file __model_base.iter. Statement is ignored.\n"
     ]
    }
   ],
   "source": [
    "results0 = biogeme.estimate()"
   ]
  },
  {
   "cell_type": "code",
   "execution_count": 14,
   "id": "b4343066-e396-4fb4-8086-ba365e50944e",
   "metadata": {},
   "outputs": [
    {
     "name": "stdout",
     "output_type": "stream",
     "text": [
      "Number of estimated parameters:\t5\n",
      "Sample size:\t5000\n",
      "Excluded observations:\t0\n",
      "Init log likelihood:\t-6931.472\n",
      "Final log likelihood:\t-4722.972\n",
      "Likelihood ratio test for the init. model:\t4417\n",
      "Rho-square for the init. model:\t0.319\n",
      "Rho-square-bar for the init. model:\t0.318\n",
      "Akaike Information Criterion:\t9455.944\n",
      "Bayesian Information Criterion:\t9488.53\n",
      "Final gradient norm:\t1.0691E-03\n",
      "Nbr of threads:\t16\n",
      "\n"
     ]
    }
   ],
   "source": [
    "print(results0.printGeneralStatistics())"
   ]
  },
  {
   "cell_type": "code",
   "execution_count": 15,
   "id": "2bb99022-c8de-4876-8f8e-41037d03ed59",
   "metadata": {},
   "outputs": [
    {
     "data": {
      "text/html": [
       "<div>\n",
       "<style scoped>\n",
       "    .dataframe tbody tr th:only-of-type {\n",
       "        vertical-align: middle;\n",
       "    }\n",
       "\n",
       "    .dataframe tbody tr th {\n",
       "        vertical-align: top;\n",
       "    }\n",
       "\n",
       "    .dataframe thead th {\n",
       "        text-align: right;\n",
       "    }\n",
       "</style>\n",
       "<table border=\"1\" class=\"dataframe\">\n",
       "  <thead>\n",
       "    <tr style=\"text-align: right;\">\n",
       "      <th></th>\n",
       "      <th>Value</th>\n",
       "      <th>Rob. Std err</th>\n",
       "      <th>Rob. t-test</th>\n",
       "      <th>Rob. p-value</th>\n",
       "    </tr>\n",
       "  </thead>\n",
       "  <tbody>\n",
       "    <tr>\n",
       "      <th>asc_cycling</th>\n",
       "      <td>-3.660824</td>\n",
       "      <td>0.100795</td>\n",
       "      <td>-36.319469</td>\n",
       "      <td>0.0</td>\n",
       "    </tr>\n",
       "    <tr>\n",
       "      <th>asc_driving</th>\n",
       "      <td>-1.335138</td>\n",
       "      <td>0.076403</td>\n",
       "      <td>-17.474949</td>\n",
       "      <td>0.0</td>\n",
       "    </tr>\n",
       "    <tr>\n",
       "      <th>asc_public</th>\n",
       "      <td>-0.559066</td>\n",
       "      <td>0.052620</td>\n",
       "      <td>-10.624628</td>\n",
       "      <td>0.0</td>\n",
       "    </tr>\n",
       "    <tr>\n",
       "      <th>beta_cost</th>\n",
       "      <td>-0.149850</td>\n",
       "      <td>0.013780</td>\n",
       "      <td>-10.874260</td>\n",
       "      <td>0.0</td>\n",
       "    </tr>\n",
       "    <tr>\n",
       "      <th>beta_time</th>\n",
       "      <td>-5.410269</td>\n",
       "      <td>0.188336</td>\n",
       "      <td>-28.726735</td>\n",
       "      <td>0.0</td>\n",
       "    </tr>\n",
       "  </tbody>\n",
       "</table>\n",
       "</div>"
      ],
      "text/plain": [
       "                Value  Rob. Std err  Rob. t-test  Rob. p-value\n",
       "asc_cycling -3.660824      0.100795   -36.319469           0.0\n",
       "asc_driving -1.335138      0.076403   -17.474949           0.0\n",
       "asc_public  -0.559066      0.052620   -10.624628           0.0\n",
       "beta_cost   -0.149850      0.013780   -10.874260           0.0\n",
       "beta_time   -5.410269      0.188336   -28.726735           0.0"
      ]
     },
     "execution_count": 15,
     "metadata": {},
     "output_type": "execute_result"
    }
   ],
   "source": [
    "results0.getEstimatedParameters()"
   ]
  },
  {
   "cell_type": "code",
   "execution_count": 16,
   "id": "48510099",
   "metadata": {},
   "outputs": [],
   "source": [
    "file_0= open(\"results0.txt\",\"w+\")\n",
    "file_0.write(results0.getLaTeX())\n",
    "file_0.close()"
   ]
  },
  {
   "cell_type": "markdown",
   "id": "8eb82a3a-51dc-41bd-97d1-94177e548c23",
   "metadata": {},
   "source": [
    "# Model 1\n"
   ]
  },
  {
   "cell_type": "code",
   "execution_count": 17,
   "id": "fc8ff85e-f7a7-40b5-b01f-f056fa0dfb26",
   "metadata": {},
   "outputs": [],
   "source": [
    "asc_walk = Beta('asc_walk', 0, None, None, 1)\n",
    "asc_cycling = Beta('asc_cycling', 0, None, None, 0)\n",
    "asc_public = Beta('asc_public', 0, None, None, 0)\n",
    "asc_driving = Beta('asc_driving', 0, None, None, 0)"
   ]
  },
  {
   "cell_type": "code",
   "execution_count": 18,
   "id": "33f83c0c-6a62-4a3b-9657-865a438c44a2",
   "metadata": {},
   "outputs": [],
   "source": [
    "beta_time_walk = Beta('beta_time_walk', 0, None, None, 0)\n",
    "beta_time_cycling = Beta('beta_time_cycling', 0, None, None, 0)\n",
    "beta_time_driving = Beta('beta_time_driving', 0, None, None, 0)\n",
    "beta_time_public = Beta('beta_time_public', 0, None, None, 0)"
   ]
  },
  {
   "cell_type": "code",
   "execution_count": 19,
   "id": "26915e2a-4235-41d1-b6df-da5e62460069",
   "metadata": {},
   "outputs": [],
   "source": [
    "V_walk = asc_walk + beta_time_walk * dur_walking\n",
    "V_cycling = asc_cycling + beta_time_cycling * dur_cycling\n",
    "V_driving = asc_driving + beta_time_driving * dur_driving + beta_cost * cost_driving\n",
    "V_public = asc_public + beta_time_public * dur_public + beta_cost * cost_transit"
   ]
  },
  {
   "cell_type": "code",
   "execution_count": 20,
   "id": "b1c83641-821e-453e-8d80-4a3a1f32d8d9",
   "metadata": {},
   "outputs": [],
   "source": [
    "V = {1: V_walk, 2: V_cycling, 3: V_public, 4: V_driving}\n",
    "\n",
    "logprob = models.loglogit(V, None, travel_mode)"
   ]
  },
  {
   "cell_type": "code",
   "execution_count": 21,
   "id": "7b8b59b7-3475-4c8c-bb94-c53bfea17820",
   "metadata": {},
   "outputs": [],
   "source": [
    "biogeme = bio.BIOGEME(database, logprob)\n",
    "biogeme.modelName = 'model_1'"
   ]
  },
  {
   "cell_type": "code",
   "execution_count": 22,
   "id": "15153a33-7a9b-4b3a-be8f-7e0637d08eac",
   "metadata": {},
   "outputs": [
    {
     "name": "stdout",
     "output_type": "stream",
     "text": [
      "[10:19:47] < Warning >   Cannot read file __model_1.iter. Statement is ignored.\n"
     ]
    }
   ],
   "source": [
    "results1 = biogeme.estimate()"
   ]
  },
  {
   "cell_type": "code",
   "execution_count": 23,
   "id": "327adf9f-bbcb-4552-9d68-42481c7ab6a9",
   "metadata": {},
   "outputs": [
    {
     "name": "stdout",
     "output_type": "stream",
     "text": [
      "Number of estimated parameters:\t8\n",
      "Sample size:\t5000\n",
      "Excluded observations:\t0\n",
      "Init log likelihood:\t-6931.472\n",
      "Final log likelihood:\t-4412.008\n",
      "Likelihood ratio test for the init. model:\t5038.928\n",
      "Rho-square for the init. model:\t0.363\n",
      "Rho-square-bar for the init. model:\t0.362\n",
      "Akaike Information Criterion:\t8840.016\n",
      "Bayesian Information Criterion:\t8892.153\n",
      "Final gradient norm:\t2.5518E-02\n",
      "Nbr of threads:\t16\n",
      "\n"
     ]
    }
   ],
   "source": [
    "print(results1.printGeneralStatistics())"
   ]
  },
  {
   "cell_type": "code",
   "execution_count": 24,
   "id": "00ea6646-7eeb-4882-92f2-d3954c51de47",
   "metadata": {},
   "outputs": [
    {
     "data": {
      "text/html": [
       "<div>\n",
       "<style scoped>\n",
       "    .dataframe tbody tr th:only-of-type {\n",
       "        vertical-align: middle;\n",
       "    }\n",
       "\n",
       "    .dataframe tbody tr th {\n",
       "        vertical-align: top;\n",
       "    }\n",
       "\n",
       "    .dataframe thead th {\n",
       "        text-align: right;\n",
       "    }\n",
       "</style>\n",
       "<table border=\"1\" class=\"dataframe\">\n",
       "  <thead>\n",
       "    <tr style=\"text-align: right;\">\n",
       "      <th></th>\n",
       "      <th>Value</th>\n",
       "      <th>Rob. Std err</th>\n",
       "      <th>Rob. t-test</th>\n",
       "      <th>Rob. p-value</th>\n",
       "    </tr>\n",
       "  </thead>\n",
       "  <tbody>\n",
       "    <tr>\n",
       "      <th>asc_cycling</th>\n",
       "      <td>-4.590519</td>\n",
       "      <td>0.179036</td>\n",
       "      <td>-25.640219</td>\n",
       "      <td>0.0</td>\n",
       "    </tr>\n",
       "    <tr>\n",
       "      <th>asc_driving</th>\n",
       "      <td>-2.072023</td>\n",
       "      <td>0.120163</td>\n",
       "      <td>-17.243377</td>\n",
       "      <td>0.0</td>\n",
       "    </tr>\n",
       "    <tr>\n",
       "      <th>asc_public</th>\n",
       "      <td>-2.439478</td>\n",
       "      <td>0.121947</td>\n",
       "      <td>-20.004412</td>\n",
       "      <td>0.0</td>\n",
       "    </tr>\n",
       "    <tr>\n",
       "      <th>beta_cost</th>\n",
       "      <td>-0.141780</td>\n",
       "      <td>0.015193</td>\n",
       "      <td>-9.331745</td>\n",
       "      <td>0.0</td>\n",
       "    </tr>\n",
       "    <tr>\n",
       "      <th>beta_time_cycling</th>\n",
       "      <td>-5.195891</td>\n",
       "      <td>0.423907</td>\n",
       "      <td>-12.257160</td>\n",
       "      <td>0.0</td>\n",
       "    </tr>\n",
       "    <tr>\n",
       "      <th>beta_time_driving</th>\n",
       "      <td>-5.875433</td>\n",
       "      <td>0.359795</td>\n",
       "      <td>-16.329946</td>\n",
       "      <td>0.0</td>\n",
       "    </tr>\n",
       "    <tr>\n",
       "      <th>beta_time_public</th>\n",
       "      <td>-3.200593</td>\n",
       "      <td>0.230746</td>\n",
       "      <td>-13.870609</td>\n",
       "      <td>0.0</td>\n",
       "    </tr>\n",
       "    <tr>\n",
       "      <th>beta_time_walk</th>\n",
       "      <td>-8.367591</td>\n",
       "      <td>0.360100</td>\n",
       "      <td>-23.236825</td>\n",
       "      <td>0.0</td>\n",
       "    </tr>\n",
       "  </tbody>\n",
       "</table>\n",
       "</div>"
      ],
      "text/plain": [
       "                      Value  Rob. Std err  Rob. t-test  Rob. p-value\n",
       "asc_cycling       -4.590519      0.179036   -25.640219           0.0\n",
       "asc_driving       -2.072023      0.120163   -17.243377           0.0\n",
       "asc_public        -2.439478      0.121947   -20.004412           0.0\n",
       "beta_cost         -0.141780      0.015193    -9.331745           0.0\n",
       "beta_time_cycling -5.195891      0.423907   -12.257160           0.0\n",
       "beta_time_driving -5.875433      0.359795   -16.329946           0.0\n",
       "beta_time_public  -3.200593      0.230746   -13.870609           0.0\n",
       "beta_time_walk    -8.367591      0.360100   -23.236825           0.0"
      ]
     },
     "execution_count": 24,
     "metadata": {},
     "output_type": "execute_result"
    }
   ],
   "source": [
    "results1.getEstimatedParameters()"
   ]
  },
  {
   "cell_type": "code",
   "execution_count": 25,
   "id": "76c7eedc-4b3f-4fbc-be9b-e8f5ebe032e7",
   "metadata": {},
   "outputs": [],
   "source": [
    "file_1= open(\"results1.txt\",\"w+\")\n",
    "file_1.write(results1.getLaTeX())\n",
    "file_1.close()"
   ]
  },
  {
   "cell_type": "markdown",
   "id": "b01b5dc8-dd4d-4ca0-b2a7-c1b3c99b78a7",
   "metadata": {},
   "source": [
    "## Comparing Models 0 and 1"
   ]
  },
  {
   "cell_type": "code",
   "execution_count": 27,
   "id": "49e221db-56eb-48f8-b15a-f20402117e16",
   "metadata": {},
   "outputs": [
    {
     "name": "stdout",
     "output_type": "stream",
     "text": [
      "Number of estimated parameters:\t5\n",
      "Sample size:\t5000\n",
      "Excluded observations:\t0\n",
      "Init log likelihood:\t-4722.972\n",
      "Final log likelihood:\t-4722.972\n",
      "Likelihood ratio test for the init. model:\t-0\n",
      "Rho-square for the init. model:\t0\n",
      "Rho-square-bar for the init. model:\t-0.00106\n",
      "Akaike Information Criterion:\t9455.944\n",
      "Bayesian Information Criterion:\t9488.53\n",
      "Final gradient norm:\t3.2270E-03\n",
      "Nbr of threads:\t4\n",
      "\n"
     ]
    }
   ],
   "source": [
    "general_statistics_model_0 = results0.getGeneralStatistics()\n",
    "print(results0.printGeneralStatistics())"
   ]
  },
  {
   "cell_type": "code",
   "execution_count": 28,
   "id": "f06fa156-1df7-478f-b94e-4b17b45901fc",
   "metadata": {},
   "outputs": [
    {
     "name": "stdout",
     "output_type": "stream",
     "text": [
      "Number of estimated parameters:\t8\n",
      "Sample size:\t5000\n",
      "Excluded observations:\t0\n",
      "Init log likelihood:\t-4412.008\n",
      "Final log likelihood:\t-4412.008\n",
      "Likelihood ratio test for the init. model:\t2.305715e-07\n",
      "Rho-square for the init. model:\t2.61e-11\n",
      "Rho-square-bar for the init. model:\t-0.00181\n",
      "Akaike Information Criterion:\t8840.016\n",
      "Bayesian Information Criterion:\t8892.154\n",
      "Final gradient norm:\t2.1274E-02\n",
      "Nbr of threads:\t4\n",
      "\n"
     ]
    }
   ],
   "source": [
    "general_statistics_model_1 = results1.getGeneralStatistics()\n",
    "print(results1.printGeneralStatistics())"
   ]
  },
  {
   "cell_type": "markdown",
   "id": "f2fc59b9-68b5-4ca7-a163-50f2ffadb67b",
   "metadata": {},
   "source": [
    "### Likelihood ratio test"
   ]
  },
  {
   "cell_type": "markdown",
   "id": "1710a1b6",
   "metadata": {},
   "source": [
    "$H_O$: $\\beta\\_time\\_walk=\\beta\\_time\\_driving=\\beta\\_time\\_public=\\beta\\_time\\_cycling$\n",
    "\n",
    "Because model 0 is an restricted version of model 1, we can apply the likelihood ratio test."
   ]
  },
  {
   "cell_type": "code",
   "execution_count": 29,
   "id": "dc8c24af-3404-4969-9794-03bade39fb12",
   "metadata": {},
   "outputs": [
    {
     "data": {
      "text/plain": [
       "LRTuple(message='H0 can be rejected at level 5.0%', statistic=621.9276596930467, threshold=7.814727903251179)"
      ]
     },
     "execution_count": 29,
     "metadata": {},
     "output_type": "execute_result"
    }
   ],
   "source": [
    "alpha=0.05\n",
    "results1.likelihood_ratio_test(results0, alpha)"
   ]
  },
  {
   "cell_type": "markdown",
   "id": "d8b4518b-03fc-44d7-a32a-882c70f098b9",
   "metadata": {},
   "source": [
    "According to the test result, the null hypothesis is rejected at the 5% level."
   ]
  },
  {
   "cell_type": "markdown",
   "id": "79a58d37",
   "metadata": {},
   "source": [
    "# Model 2"
   ]
  },
  {
   "cell_type": "markdown",
   "id": "383445db",
   "metadata": {},
   "source": [
    "1. One alternative attribute: fueltype for driving.\n",
    "2. One socio-economic characteristics: driving license.\n",
    "\n",
    "<!-- Model 2 specification:\n",
    "\n",
    "$ V_{walk}=ASC_{walk}+\\beta_{time\\_walk}time_{walk} $\n",
    "\n",
    "$ V_{cycling}=ASC_{cycling}+\\beta_{time\\_cycle}time_{cycle} $\n",
    "\n",
    "$ V_{public}=ASC_{public}+\\beta_{time\\_public}time_{public}+\\beta_{cost}cost_{public}+\\beta_{traffic}driving\\_traffic\\_percent$\n",
    "\n",
    "$ V_{driving}=ASC_{driving}+\\beta_{time\\_driving}time_{driving}+\\beta_{cost}cost_{driving}+\\beta_{driving_license}drivinglicense$ -->\n"
   ]
  },
  {
   "cell_type": "code",
   "execution_count": 26,
   "id": "d86f70a2",
   "metadata": {},
   "outputs": [],
   "source": [
    "asc_walk = Beta('asc_walk', 0, None, None, 1) \n",
    "asc_cycling = Beta('asc_cycling', 0, None, None, 0)\n",
    "asc_public = Beta('asc_public', 0, None, None, 0)\n",
    "asc_driving = Beta('asc_driving', 0, None, None, 0)"
   ]
  },
  {
   "cell_type": "code",
   "execution_count": 27,
   "id": "8b16fdc9",
   "metadata": {},
   "outputs": [],
   "source": [
    "beta_time_walk = Beta('beta_time_walk', 0, None, None, 0)\n",
    "beta_time_cycling = Beta('beta_time_cycling', 0, None, None, 0)\n",
    "beta_time_driving = Beta('beta_time_driving', 0, None, None, 0)\n",
    "beta_time_public = Beta('beta_time_public', 0, None, None, 0)\n",
    "\n",
    "beta_cost = Beta('beta_cost', 0, None, None, 0)\n",
    "\n",
    "# alternative attribute\n",
    "beta_traffic = Beta('beta_driving_traffic_percent',0, None, None,0)\n",
    "beta_interchange = Beta('beta_interchange',0, None, None,0)\n",
    "# social economics characteristics\n",
    "beta_drivinglicense = Beta('beta_drivinglicense',0,None,None,0)"
   ]
  },
  {
   "cell_type": "code",
   "execution_count": 28,
   "id": "57cde6e5",
   "metadata": {},
   "outputs": [],
   "source": [
    "# model 2 specification \n",
    "V_walk = asc_walk + beta_time_walk * dur_walking\n",
    "V_cycling = asc_cycling + beta_time_cycling * dur_cycling\n",
    "V_public = asc_public + beta_time_public * dur_public + beta_cost * cost_transit \n",
    "# beta_interchange*pt_interchanges\n",
    "V_driving = asc_driving +beta_drivinglicense*driving_license+ beta_time_driving * dur_driving + beta_cost * cost_driving + beta_traffic*driving_traffic_percent\n",
    "\n",
    "V = {1: V_walk, 2: V_cycling, 3: V_public, 4: V_driving}\n",
    "\n",
    "logprob = models.loglogit(V, None, travel_mode)\n"
   ]
  },
  {
   "cell_type": "code",
   "execution_count": 29,
   "id": "f92fa977",
   "metadata": {},
   "outputs": [],
   "source": [
    "biogeme = bio.BIOGEME(database, logprob)\n",
    "biogeme.modelName = 'model_2'"
   ]
  },
  {
   "cell_type": "code",
   "execution_count": 33,
   "id": "ae058683",
   "metadata": {},
   "outputs": [
    {
     "name": "stdout",
     "output_type": "stream",
     "text": [
      "[10:23:04] < Warning >   Cannot read file __model_2.iter. Statement is ignored.\n"
     ]
    }
   ],
   "source": [
    "results2 = biogeme.estimate()"
   ]
  },
  {
   "cell_type": "code",
   "execution_count": 34,
   "id": "49461027",
   "metadata": {},
   "outputs": [
    {
     "name": "stdout",
     "output_type": "stream",
     "text": [
      "Number of estimated parameters:\t10\n",
      "Sample size:\t5000\n",
      "Excluded observations:\t0\n",
      "Init log likelihood:\t-4116.139\n",
      "Final log likelihood:\t-4116.139\n",
      "Likelihood ratio test for the init. model:\t2.076977e-07\n",
      "Rho-square for the init. model:\t2.52e-11\n",
      "Rho-square-bar for the init. model:\t-0.00243\n",
      "Akaike Information Criterion:\t8252.278\n",
      "Bayesian Information Criterion:\t8317.45\n",
      "Final gradient norm:\t2.7779E-02\n",
      "Nbr of threads:\t16\n",
      "\n"
     ]
    }
   ],
   "source": [
    "print(results2.printGeneralStatistics())"
   ]
  },
  {
   "cell_type": "code",
   "execution_count": 35,
   "id": "f5ad361f",
   "metadata": {},
   "outputs": [
    {
     "data": {
      "text/html": [
       "<div>\n",
       "<style scoped>\n",
       "    .dataframe tbody tr th:only-of-type {\n",
       "        vertical-align: middle;\n",
       "    }\n",
       "\n",
       "    .dataframe tbody tr th {\n",
       "        vertical-align: top;\n",
       "    }\n",
       "\n",
       "    .dataframe thead th {\n",
       "        text-align: right;\n",
       "    }\n",
       "</style>\n",
       "<table border=\"1\" class=\"dataframe\">\n",
       "  <thead>\n",
       "    <tr style=\"text-align: right;\">\n",
       "      <th></th>\n",
       "      <th>Value</th>\n",
       "      <th>Rob. Std err</th>\n",
       "      <th>Rob. t-test</th>\n",
       "      <th>Rob. p-value</th>\n",
       "    </tr>\n",
       "  </thead>\n",
       "  <tbody>\n",
       "    <tr>\n",
       "      <th>asc_cycling</th>\n",
       "      <td>-4.660979</td>\n",
       "      <td>0.186396</td>\n",
       "      <td>-25.005802</td>\n",
       "      <td>0.000000e+00</td>\n",
       "    </tr>\n",
       "    <tr>\n",
       "      <th>asc_driving</th>\n",
       "      <td>-2.407646</td>\n",
       "      <td>0.137885</td>\n",
       "      <td>-17.461315</td>\n",
       "      <td>0.000000e+00</td>\n",
       "    </tr>\n",
       "    <tr>\n",
       "      <th>asc_public</th>\n",
       "      <td>-2.619486</td>\n",
       "      <td>0.128107</td>\n",
       "      <td>-20.447620</td>\n",
       "      <td>0.000000e+00</td>\n",
       "    </tr>\n",
       "    <tr>\n",
       "      <th>beta_cost</th>\n",
       "      <td>-0.089933</td>\n",
       "      <td>0.015068</td>\n",
       "      <td>-5.968552</td>\n",
       "      <td>2.393679e-09</td>\n",
       "    </tr>\n",
       "    <tr>\n",
       "      <th>beta_driving_traffic_percent</th>\n",
       "      <td>-2.958441</td>\n",
       "      <td>0.235980</td>\n",
       "      <td>-12.536836</td>\n",
       "      <td>0.000000e+00</td>\n",
       "    </tr>\n",
       "    <tr>\n",
       "      <th>beta_drivinglicense</th>\n",
       "      <td>1.441439</td>\n",
       "      <td>0.071179</td>\n",
       "      <td>20.250874</td>\n",
       "      <td>0.000000e+00</td>\n",
       "    </tr>\n",
       "    <tr>\n",
       "      <th>beta_time_cycling</th>\n",
       "      <td>-4.784384</td>\n",
       "      <td>0.438022</td>\n",
       "      <td>-10.922706</td>\n",
       "      <td>0.000000e+00</td>\n",
       "    </tr>\n",
       "    <tr>\n",
       "      <th>beta_time_driving</th>\n",
       "      <td>-4.418348</td>\n",
       "      <td>0.370432</td>\n",
       "      <td>-11.927543</td>\n",
       "      <td>0.000000e+00</td>\n",
       "    </tr>\n",
       "    <tr>\n",
       "      <th>beta_time_public</th>\n",
       "      <td>-2.830402</td>\n",
       "      <td>0.235260</td>\n",
       "      <td>-12.030941</td>\n",
       "      <td>0.000000e+00</td>\n",
       "    </tr>\n",
       "    <tr>\n",
       "      <th>beta_time_walk</th>\n",
       "      <td>-8.374849</td>\n",
       "      <td>0.370402</td>\n",
       "      <td>-22.610179</td>\n",
       "      <td>0.000000e+00</td>\n",
       "    </tr>\n",
       "  </tbody>\n",
       "</table>\n",
       "</div>"
      ],
      "text/plain": [
       "                                 Value  Rob. Std err  Rob. t-test  \\\n",
       "asc_cycling                  -4.660979      0.186396   -25.005802   \n",
       "asc_driving                  -2.407646      0.137885   -17.461315   \n",
       "asc_public                   -2.619486      0.128107   -20.447620   \n",
       "beta_cost                    -0.089933      0.015068    -5.968552   \n",
       "beta_driving_traffic_percent -2.958441      0.235980   -12.536836   \n",
       "beta_drivinglicense           1.441439      0.071179    20.250874   \n",
       "beta_time_cycling            -4.784384      0.438022   -10.922706   \n",
       "beta_time_driving            -4.418348      0.370432   -11.927543   \n",
       "beta_time_public             -2.830402      0.235260   -12.030941   \n",
       "beta_time_walk               -8.374849      0.370402   -22.610179   \n",
       "\n",
       "                              Rob. p-value  \n",
       "asc_cycling                   0.000000e+00  \n",
       "asc_driving                   0.000000e+00  \n",
       "asc_public                    0.000000e+00  \n",
       "beta_cost                     2.393679e-09  \n",
       "beta_driving_traffic_percent  0.000000e+00  \n",
       "beta_drivinglicense           0.000000e+00  \n",
       "beta_time_cycling             0.000000e+00  \n",
       "beta_time_driving             0.000000e+00  \n",
       "beta_time_public              0.000000e+00  \n",
       "beta_time_walk                0.000000e+00  "
      ]
     },
     "execution_count": 35,
     "metadata": {},
     "output_type": "execute_result"
    }
   ],
   "source": [
    "results2.getEstimatedParameters()"
   ]
  },
  {
   "cell_type": "code",
   "execution_count": 36,
   "id": "d16dcc0e",
   "metadata": {},
   "outputs": [],
   "source": [
    "file_2= open(\"results2.txt\",\"w+\")\n",
    "file_2.write(results2.getLaTeX())\n",
    "file_2.close()"
   ]
  },
  {
   "cell_type": "code",
   "execution_count": 38,
   "id": "fab6e726",
   "metadata": {},
   "outputs": [],
   "source": [
    "# results2.data.htmlFileName"
   ]
  },
  {
   "cell_type": "markdown",
   "id": "649836cb",
   "metadata": {},
   "source": [
    "## Compare model 2 and 1\n",
    "Since model 1 is a restricted version of model 2, we perform a likelihood ratio test. Or we can simply perform t-test on the coefficients $\\beta\\_driving\\_license$ and $\\beta\\_traffic$, as given by the estimation table."
   ]
  },
  {
   "cell_type": "code",
   "execution_count": 39,
   "id": "a5e5ca2a",
   "metadata": {},
   "outputs": [
    {
     "data": {
      "text/plain": [
       "LRTuple(message='H0 can be rejected at level 5.0%', statistic=408.7390208177403, threshold=5.991464547107979)"
      ]
     },
     "execution_count": 39,
     "metadata": {},
     "output_type": "execute_result"
    }
   ],
   "source": [
    "results2.likelihood_ratio_test(results1, alpha)"
   ]
  },
  {
   "cell_type": "markdown",
   "id": "6e0738ca",
   "metadata": {},
   "source": [
    "Thus, model 2 is preferred to model 1."
   ]
  },
  {
   "cell_type": "markdown",
   "id": "42a69b29",
   "metadata": {},
   "source": [
    "# Model 3"
   ]
  },
  {
   "cell_type": "markdown",
   "id": "ce026c97",
   "metadata": {},
   "source": [
    "We perform box-cox transformation on travel time for every alternatives."
   ]
  },
  {
   "cell_type": "code",
   "execution_count": 37,
   "id": "cf865ab4",
   "metadata": {},
   "outputs": [],
   "source": [
    "# define lambda\n",
    "lambda_boxcox = Beta('lambda_boxcox', 1, None, None, 0)\n",
    "boxcox_time_1 = models.boxcox(dur_walking, lambda_boxcox)\n",
    "boxcox_time_2 = models.boxcox(dur_cycling, lambda_boxcox)\n",
    "boxcox_time_3 = models.boxcox(dur_public, lambda_boxcox)\n",
    "boxcox_time_4 = models.boxcox(dur_driving, lambda_boxcox)"
   ]
  },
  {
   "cell_type": "code",
   "execution_count": 38,
   "id": "c9daefbe",
   "metadata": {},
   "outputs": [],
   "source": [
    "# model 3 specification \n",
    "V_walk = asc_walk + beta_time_walk * boxcox_time_1\n",
    "V_cycling = asc_cycling + beta_time_cycling * boxcox_time_2\n",
    "V_public = asc_public + beta_time_public * boxcox_time_3+ beta_cost * cost_transit \n",
    "V_driving = asc_driving + beta_drivinglicense*driving_license + beta_time_driving * boxcox_time_4 + beta_cost * cost_driving +beta_traffic*driving_traffic_percent\n",
    "\n",
    "V = {1: V_walk, 2: V_cycling, 3: V_public, 4: V_driving}\n",
    "\n",
    "logprob = models.loglogit(V, None, travel_mode)\n",
    "\n",
    "biogeme.modelName = 'model_3'"
   ]
  },
  {
   "cell_type": "code",
   "execution_count": 39,
   "id": "2c9cde9a",
   "metadata": {},
   "outputs": [
    {
     "name": "stdout",
     "output_type": "stream",
     "text": [
      "[10:27:08] < Warning >   Cannot read file __model_3.iter. Statement is ignored.\n",
      "Number of estimated parameters:\t11\n",
      "Sample size:\t5000\n",
      "Excluded observations:\t0\n",
      "Init log likelihood:\t-9261.762\n",
      "Final log likelihood:\t-4071.611\n",
      "Likelihood ratio test for the init. model:\t10380.3\n",
      "Rho-square for the init. model:\t0.56\n",
      "Rho-square-bar for the init. model:\t0.559\n",
      "Akaike Information Criterion:\t8165.221\n",
      "Bayesian Information Criterion:\t8236.91\n",
      "Final gradient norm:\t2.5183E-02\n",
      "Nbr of threads:\t16\n",
      "\n"
     ]
    }
   ],
   "source": [
    "biogeme = bio.BIOGEME(database, logprob)\n",
    "biogeme.modelName = 'model_3'\n",
    "results3 = biogeme.estimate()\n",
    "print(results3.printGeneralStatistics())"
   ]
  },
  {
   "cell_type": "code",
   "execution_count": 40,
   "id": "86fce33c",
   "metadata": {},
   "outputs": [
    {
     "data": {
      "text/html": [
       "<div>\n",
       "<style scoped>\n",
       "    .dataframe tbody tr th:only-of-type {\n",
       "        vertical-align: middle;\n",
       "    }\n",
       "\n",
       "    .dataframe tbody tr th {\n",
       "        vertical-align: top;\n",
       "    }\n",
       "\n",
       "    .dataframe thead th {\n",
       "        text-align: right;\n",
       "    }\n",
       "</style>\n",
       "<table border=\"1\" class=\"dataframe\">\n",
       "  <thead>\n",
       "    <tr style=\"text-align: right;\">\n",
       "      <th></th>\n",
       "      <th>Value</th>\n",
       "      <th>Rob. Std err</th>\n",
       "      <th>Rob. t-test</th>\n",
       "      <th>Rob. p-value</th>\n",
       "    </tr>\n",
       "  </thead>\n",
       "  <tbody>\n",
       "    <tr>\n",
       "      <th>asc_cycling</th>\n",
       "      <td>-1.806621</td>\n",
       "      <td>0.279500</td>\n",
       "      <td>-6.463754</td>\n",
       "      <td>1.021367e-10</td>\n",
       "    </tr>\n",
       "    <tr>\n",
       "      <th>asc_driving</th>\n",
       "      <td>0.813444</td>\n",
       "      <td>0.273858</td>\n",
       "      <td>2.970308</td>\n",
       "      <td>2.975012e-03</td>\n",
       "    </tr>\n",
       "    <tr>\n",
       "      <th>asc_public</th>\n",
       "      <td>1.972878</td>\n",
       "      <td>0.173773</td>\n",
       "      <td>11.353200</td>\n",
       "      <td>0.000000e+00</td>\n",
       "    </tr>\n",
       "    <tr>\n",
       "      <th>beta_cost</th>\n",
       "      <td>-0.091492</td>\n",
       "      <td>0.014584</td>\n",
       "      <td>-6.273231</td>\n",
       "      <td>3.536313e-10</td>\n",
       "    </tr>\n",
       "    <tr>\n",
       "      <th>beta_driving_traffic_percent</th>\n",
       "      <td>-2.600763</td>\n",
       "      <td>0.240715</td>\n",
       "      <td>-10.804315</td>\n",
       "      <td>0.000000e+00</td>\n",
       "    </tr>\n",
       "    <tr>\n",
       "      <th>beta_drivinglicense</th>\n",
       "      <td>1.445344</td>\n",
       "      <td>0.071812</td>\n",
       "      <td>20.126798</td>\n",
       "      <td>0.000000e+00</td>\n",
       "    </tr>\n",
       "    <tr>\n",
       "      <th>beta_time_cycling</th>\n",
       "      <td>-3.026844</td>\n",
       "      <td>0.276848</td>\n",
       "      <td>-10.933217</td>\n",
       "      <td>0.000000e+00</td>\n",
       "    </tr>\n",
       "    <tr>\n",
       "      <th>beta_time_driving</th>\n",
       "      <td>-2.650915</td>\n",
       "      <td>0.270000</td>\n",
       "      <td>-9.818195</td>\n",
       "      <td>0.000000e+00</td>\n",
       "    </tr>\n",
       "    <tr>\n",
       "      <th>beta_time_public</th>\n",
       "      <td>-2.224613</td>\n",
       "      <td>0.191609</td>\n",
       "      <td>-11.610178</td>\n",
       "      <td>0.000000e+00</td>\n",
       "    </tr>\n",
       "    <tr>\n",
       "      <th>beta_time_walk</th>\n",
       "      <td>-5.376069</td>\n",
       "      <td>0.298601</td>\n",
       "      <td>-18.004201</td>\n",
       "      <td>0.000000e+00</td>\n",
       "    </tr>\n",
       "    <tr>\n",
       "      <th>lambda_boxcox</th>\n",
       "      <td>0.350582</td>\n",
       "      <td>0.058341</td>\n",
       "      <td>6.009224</td>\n",
       "      <td>1.864136e-09</td>\n",
       "    </tr>\n",
       "  </tbody>\n",
       "</table>\n",
       "</div>"
      ],
      "text/plain": [
       "                                 Value  Rob. Std err  Rob. t-test  \\\n",
       "asc_cycling                  -1.806621      0.279500    -6.463754   \n",
       "asc_driving                   0.813444      0.273858     2.970308   \n",
       "asc_public                    1.972878      0.173773    11.353200   \n",
       "beta_cost                    -0.091492      0.014584    -6.273231   \n",
       "beta_driving_traffic_percent -2.600763      0.240715   -10.804315   \n",
       "beta_drivinglicense           1.445344      0.071812    20.126798   \n",
       "beta_time_cycling            -3.026844      0.276848   -10.933217   \n",
       "beta_time_driving            -2.650915      0.270000    -9.818195   \n",
       "beta_time_public             -2.224613      0.191609   -11.610178   \n",
       "beta_time_walk               -5.376069      0.298601   -18.004201   \n",
       "lambda_boxcox                 0.350582      0.058341     6.009224   \n",
       "\n",
       "                              Rob. p-value  \n",
       "asc_cycling                   1.021367e-10  \n",
       "asc_driving                   2.975012e-03  \n",
       "asc_public                    0.000000e+00  \n",
       "beta_cost                     3.536313e-10  \n",
       "beta_driving_traffic_percent  0.000000e+00  \n",
       "beta_drivinglicense           0.000000e+00  \n",
       "beta_time_cycling             0.000000e+00  \n",
       "beta_time_driving             0.000000e+00  \n",
       "beta_time_public              0.000000e+00  \n",
       "beta_time_walk                0.000000e+00  \n",
       "lambda_boxcox                 1.864136e-09  "
      ]
     },
     "execution_count": 40,
     "metadata": {},
     "output_type": "execute_result"
    }
   ],
   "source": [
    "results3.getEstimatedParameters()"
   ]
  },
  {
   "cell_type": "code",
   "execution_count": 44,
   "id": "92026c91",
   "metadata": {},
   "outputs": [],
   "source": [
    "file_3= open(\"results3.txt\",\"w+\")\n",
    "file_3.write(results3.getLaTeX())\n",
    "file_3.close()"
   ]
  },
  {
   "cell_type": "markdown",
   "id": "4bf5240c",
   "metadata": {},
   "source": [
    "## Compare model 3 and 2\n",
    "Under the null hypothesis that $\\lambda=1$, the statistic $$\\frac{\\widehat{\\lambda}-1}{\\widehat{\\sigma}_\\lambda}$$ follows approximatively a $N(0, 1)$.  \n",
    "Thus, we perform a t-test on $\\lambda$."
   ]
  },
  {
   "cell_type": "code",
   "execution_count": 45,
   "id": "e2c2a5fc",
   "metadata": {},
   "outputs": [
    {
     "data": {
      "text/plain": [
       "-11.123845853969089"
      ]
     },
     "execution_count": 45,
     "metadata": {},
     "output_type": "execute_result"
    }
   ],
   "source": [
    "estimated_parameters_3=results3.getEstimatedParameters()\n",
    "t_test_lambda = (estimated_parameters_3.loc['lambda_boxcox','Value'] - 1) / estimated_parameters_3.loc['lambda_boxcox', 'Rob. Std err']\n",
    "t_test_lambda"
   ]
  },
  {
   "cell_type": "code",
   "execution_count": 46,
   "id": "b2087bca",
   "metadata": {},
   "outputs": [],
   "source": [
    "from scipy.stats import norm\n",
    "from biogeme.results import calcPValue"
   ]
  },
  {
   "cell_type": "code",
   "execution_count": 47,
   "id": "899a14a5",
   "metadata": {},
   "outputs": [
    {
     "data": {
      "text/plain": [
       "1.6448536269514722"
      ]
     },
     "execution_count": 47,
     "metadata": {},
     "output_type": "execute_result"
    }
   ],
   "source": [
    "norm.ppf(.95)"
   ]
  },
  {
   "cell_type": "code",
   "execution_count": 48,
   "id": "8355ab0c",
   "metadata": {},
   "outputs": [
    {
     "data": {
      "text/plain": [
       "0.0"
      ]
     },
     "execution_count": 48,
     "metadata": {},
     "output_type": "execute_result"
    }
   ],
   "source": [
    "calcPValue(t_test_lambda)"
   ]
  },
  {
   "cell_type": "markdown",
   "id": "2ec87c79",
   "metadata": {},
   "source": [
    "Because the $p-value<0.05$, we reject the null hypothesis that $\\lambda=1$. Thus, model 3 is preferred."
   ]
  },
  {
   "cell_type": "markdown",
   "id": "aa0d2949",
   "metadata": {},
   "source": [
    "Though not exactly relevant as one is not the linear restriction of the other, we also perform a likelihood ratio test to check."
   ]
  },
  {
   "cell_type": "code",
   "execution_count": 49,
   "id": "a3c0ff37",
   "metadata": {},
   "outputs": [
    {
     "data": {
      "text/plain": [
       "LRTuple(message='H0 can be rejected at level 5.0%', statistic=272.0556496349345, threshold=3.841458820694124)"
      ]
     },
     "execution_count": 49,
     "metadata": {},
     "output_type": "execute_result"
    }
   ],
   "source": [
    "alpha = 0.05\n",
    "results3.likelihood_ratio_test(results2, alpha)"
   ]
  },
  {
   "cell_type": "markdown",
   "id": "33d9b075",
   "metadata": {},
   "source": [
    "A more general way is to perform a **Davidson and McKinnon J test**  on model 2 and 3. "
   ]
  },
  {
   "cell_type": "markdown",
   "id": "f7052a59-5dca-42c8-80d4-b2db47698df2",
   "metadata": {},
   "source": [
    "# Model 4.a"
   ]
  },
  {
   "cell_type": "markdown",
   "id": "f113b6cb-776c-4862-b1e3-6fc4b8d9a450",
   "metadata": {},
   "source": [
    "We define Model 4 as a nested version of Model 3 where we regroup motorized (public transports and car) as a nest, and walking and cycling as two other nests."
   ]
  },
  {
   "cell_type": "code",
   "execution_count": 52,
   "id": "2550ae63",
   "metadata": {},
   "outputs": [
    {
     "name": "stdout",
     "output_type": "stream",
     "text": [
      "[10:54:07] < Warning >   Initial point not feasible. It will be projected onto the feasible domain.\n"
     ]
    }
   ],
   "source": [
    "MU_motorized = Beta('MU_motorized', 1, 0, None, 0)\n",
    "motorized = MU_motorized, [3, 4]\n",
    "non_motorized = 1, [1,2]\n",
    "nests = motorized, non_motorized\n",
    "logprob = models.lognested(V, None, nests, travel_mode)\n",
    "biogeme = bio.BIOGEME(database, logprob)\n",
    "biogeme.modelName = 'model_4'\n",
    "results4 = biogeme.estimate(recycle=False)"
   ]
  },
  {
   "cell_type": "code",
   "execution_count": 53,
   "id": "f7e05e24",
   "metadata": {},
   "outputs": [
    {
     "data": {
      "text/html": [
       "<div>\n",
       "<style scoped>\n",
       "    .dataframe tbody tr th:only-of-type {\n",
       "        vertical-align: middle;\n",
       "    }\n",
       "\n",
       "    .dataframe tbody tr th {\n",
       "        vertical-align: top;\n",
       "    }\n",
       "\n",
       "    .dataframe thead th {\n",
       "        text-align: right;\n",
       "    }\n",
       "</style>\n",
       "<table border=\"1\" class=\"dataframe\">\n",
       "  <thead>\n",
       "    <tr style=\"text-align: right;\">\n",
       "      <th></th>\n",
       "      <th>Value</th>\n",
       "      <th>Active bound</th>\n",
       "      <th>Rob. Std err</th>\n",
       "      <th>Rob. t-test</th>\n",
       "      <th>Rob. p-value</th>\n",
       "    </tr>\n",
       "  </thead>\n",
       "  <tbody>\n",
       "    <tr>\n",
       "      <th>MU_motorized</th>\n",
       "      <td>2.013387</td>\n",
       "      <td>0.0</td>\n",
       "      <td>0.283422</td>\n",
       "      <td>7.103839</td>\n",
       "      <td>1.213474e-12</td>\n",
       "    </tr>\n",
       "    <tr>\n",
       "      <th>MU_non_motorized</th>\n",
       "      <td>1.000000</td>\n",
       "      <td>1.0</td>\n",
       "      <td>0.232915</td>\n",
       "      <td>4.293404</td>\n",
       "      <td>1.759544e-05</td>\n",
       "    </tr>\n",
       "    <tr>\n",
       "      <th>asc_cycling</th>\n",
       "      <td>-0.957694</td>\n",
       "      <td>0.0</td>\n",
       "      <td>0.502423</td>\n",
       "      <td>-1.906152</td>\n",
       "      <td>5.663049e-02</td>\n",
       "    </tr>\n",
       "    <tr>\n",
       "      <th>asc_driving</th>\n",
       "      <td>2.099512</td>\n",
       "      <td>0.0</td>\n",
       "      <td>0.310549</td>\n",
       "      <td>6.760650</td>\n",
       "      <td>1.373746e-11</td>\n",
       "    </tr>\n",
       "    <tr>\n",
       "      <th>asc_public</th>\n",
       "      <td>2.779176</td>\n",
       "      <td>0.0</td>\n",
       "      <td>0.299412</td>\n",
       "      <td>9.282106</td>\n",
       "      <td>0.000000e+00</td>\n",
       "    </tr>\n",
       "    <tr>\n",
       "      <th>beta_cost</th>\n",
       "      <td>-0.037375</td>\n",
       "      <td>0.0</td>\n",
       "      <td>0.010288</td>\n",
       "      <td>-3.632848</td>\n",
       "      <td>2.803103e-04</td>\n",
       "    </tr>\n",
       "    <tr>\n",
       "      <th>beta_driving_traffic_percent</th>\n",
       "      <td>-1.402317</td>\n",
       "      <td>0.0</td>\n",
       "      <td>0.240915</td>\n",
       "      <td>-5.820784</td>\n",
       "      <td>5.857206e-09</td>\n",
       "    </tr>\n",
       "    <tr>\n",
       "      <th>beta_drivinglicense</th>\n",
       "      <td>0.844930</td>\n",
       "      <td>0.0</td>\n",
       "      <td>0.110772</td>\n",
       "      <td>7.627667</td>\n",
       "      <td>2.398082e-14</td>\n",
       "    </tr>\n",
       "    <tr>\n",
       "      <th>beta_time_cycling</th>\n",
       "      <td>-1.879335</td>\n",
       "      <td>0.0</td>\n",
       "      <td>0.324161</td>\n",
       "      <td>-5.797534</td>\n",
       "      <td>6.729698e-09</td>\n",
       "    </tr>\n",
       "    <tr>\n",
       "      <th>beta_time_driving</th>\n",
       "      <td>-1.414346</td>\n",
       "      <td>0.0</td>\n",
       "      <td>0.270846</td>\n",
       "      <td>-5.221949</td>\n",
       "      <td>1.770495e-07</td>\n",
       "    </tr>\n",
       "    <tr>\n",
       "      <th>beta_time_public</th>\n",
       "      <td>-1.207008</td>\n",
       "      <td>0.0</td>\n",
       "      <td>0.209415</td>\n",
       "      <td>-5.763709</td>\n",
       "      <td>8.228537e-09</td>\n",
       "    </tr>\n",
       "    <tr>\n",
       "      <th>beta_time_walk</th>\n",
       "      <td>-4.368026</td>\n",
       "      <td>0.0</td>\n",
       "      <td>0.522939</td>\n",
       "      <td>-8.352834</td>\n",
       "      <td>0.000000e+00</td>\n",
       "    </tr>\n",
       "    <tr>\n",
       "      <th>lambda_boxcox</th>\n",
       "      <td>0.286269</td>\n",
       "      <td>0.0</td>\n",
       "      <td>0.077236</td>\n",
       "      <td>3.706421</td>\n",
       "      <td>2.102087e-04</td>\n",
       "    </tr>\n",
       "  </tbody>\n",
       "</table>\n",
       "</div>"
      ],
      "text/plain": [
       "                                 Value  Active bound  Rob. Std err  \\\n",
       "MU_motorized                  2.013387           0.0      0.283422   \n",
       "MU_non_motorized              1.000000           1.0      0.232915   \n",
       "asc_cycling                  -0.957694           0.0      0.502423   \n",
       "asc_driving                   2.099512           0.0      0.310549   \n",
       "asc_public                    2.779176           0.0      0.299412   \n",
       "beta_cost                    -0.037375           0.0      0.010288   \n",
       "beta_driving_traffic_percent -1.402317           0.0      0.240915   \n",
       "beta_drivinglicense           0.844930           0.0      0.110772   \n",
       "beta_time_cycling            -1.879335           0.0      0.324161   \n",
       "beta_time_driving            -1.414346           0.0      0.270846   \n",
       "beta_time_public             -1.207008           0.0      0.209415   \n",
       "beta_time_walk               -4.368026           0.0      0.522939   \n",
       "lambda_boxcox                 0.286269           0.0      0.077236   \n",
       "\n",
       "                              Rob. t-test  Rob. p-value  \n",
       "MU_motorized                     7.103839  1.213474e-12  \n",
       "MU_non_motorized                 4.293404  1.759544e-05  \n",
       "asc_cycling                     -1.906152  5.663049e-02  \n",
       "asc_driving                      6.760650  1.373746e-11  \n",
       "asc_public                       9.282106  0.000000e+00  \n",
       "beta_cost                       -3.632848  2.803103e-04  \n",
       "beta_driving_traffic_percent    -5.820784  5.857206e-09  \n",
       "beta_drivinglicense              7.627667  2.398082e-14  \n",
       "beta_time_cycling               -5.797534  6.729698e-09  \n",
       "beta_time_driving               -5.221949  1.770495e-07  \n",
       "beta_time_public                -5.763709  8.228537e-09  \n",
       "beta_time_walk                  -8.352834  0.000000e+00  \n",
       "lambda_boxcox                    3.706421  2.102087e-04  "
      ]
     },
     "execution_count": 53,
     "metadata": {},
     "output_type": "execute_result"
    }
   ],
   "source": [
    "results4.getEstimatedParameters()"
   ]
  },
  {
   "cell_type": "markdown",
   "id": "e87f026f",
   "metadata": {},
   "source": [
    "## Compare model 4 and 3"
   ]
  },
  {
   "cell_type": "code",
   "execution_count": 52,
   "id": "596f6757-4dbb-4ed1-8251-ce019206e3d1",
   "metadata": {},
   "outputs": [
    {
     "data": {
      "text/plain": [
       "2.013838852456107"
      ]
     },
     "execution_count": 52,
     "metadata": {},
     "output_type": "execute_result"
    }
   ],
   "source": [
    "# t-test\n",
    "nested_existing_table = results4.getEstimatedParameters()\n",
    "mu_moto = nested_existing_table.loc['MU_motorized', 'Value']\n",
    "mu_moto"
   ]
  },
  {
   "cell_type": "code",
   "execution_count": 53,
   "id": "bdc6fcda",
   "metadata": {},
   "outputs": [
    {
     "data": {
      "text/plain": [
       "-3.855909174242679"
      ]
     },
     "execution_count": 53,
     "metadata": {},
     "output_type": "execute_result"
    }
   ],
   "source": [
    "mu_stderr = nested_existing_table.loc['MU_motorized', 'Rob. Std err']\n",
    "tested_value = 1\n",
    "ttest = (tested_value - mu_moto) / mu_stderr\n",
    "ttest"
   ]
  },
  {
   "cell_type": "markdown",
   "id": "dcc1a802",
   "metadata": {},
   "source": [
    "Therefore, the null hypothesis is rejected at the 5% level."
   ]
  },
  {
   "cell_type": "code",
   "execution_count": 54,
   "id": "5c06db13-39fc-4a3c-8e3b-fa97b930249e",
   "metadata": {},
   "outputs": [
    {
     "data": {
      "text/plain": [
       "LRTuple(message='H0 can be rejected at level 5.0%', statistic=46.85221141018701, threshold=3.841458820694124)"
      ]
     },
     "execution_count": 54,
     "metadata": {},
     "output_type": "execute_result"
    }
   ],
   "source": [
    "# likelihood ratio test\n",
    "results4.likelihood_ratio_test(results3, significance_level=0.05)"
   ]
  },
  {
   "cell_type": "markdown",
   "id": "d10d7894",
   "metadata": {},
   "source": [
    "# Model 4.b"
   ]
  },
  {
   "cell_type": "code",
   "execution_count": 55,
   "id": "39710ec3",
   "metadata": {},
   "outputs": [
    {
     "name": "stdout",
     "output_type": "stream",
     "text": [
      "[22:13:41] < Warning >   Estimation results read from model_5.pickle. There is no guarantee that they correspond to the specified model.\n"
     ]
    },
    {
     "data": {
      "text/html": [
       "<div>\n",
       "<style scoped>\n",
       "    .dataframe tbody tr th:only-of-type {\n",
       "        vertical-align: middle;\n",
       "    }\n",
       "\n",
       "    .dataframe tbody tr th {\n",
       "        vertical-align: top;\n",
       "    }\n",
       "\n",
       "    .dataframe thead th {\n",
       "        text-align: right;\n",
       "    }\n",
       "</style>\n",
       "<table border=\"1\" class=\"dataframe\">\n",
       "  <thead>\n",
       "    <tr style=\"text-align: right;\">\n",
       "      <th></th>\n",
       "      <th>Value</th>\n",
       "      <th>Rob. Std err</th>\n",
       "      <th>Rob. t-test</th>\n",
       "      <th>Rob. p-value</th>\n",
       "    </tr>\n",
       "  </thead>\n",
       "  <tbody>\n",
       "    <tr>\n",
       "      <th>MU_private</th>\n",
       "      <td>0.658783</td>\n",
       "      <td>0.047328</td>\n",
       "      <td>13.919632</td>\n",
       "      <td>0.000000e+00</td>\n",
       "    </tr>\n",
       "    <tr>\n",
       "      <th>asc_cycling</th>\n",
       "      <td>-1.968705</td>\n",
       "      <td>0.388151</td>\n",
       "      <td>-5.072015</td>\n",
       "      <td>3.936262e-07</td>\n",
       "    </tr>\n",
       "    <tr>\n",
       "      <th>asc_driving</th>\n",
       "      <td>0.061535</td>\n",
       "      <td>0.372794</td>\n",
       "      <td>0.165065</td>\n",
       "      <td>8.688926e-01</td>\n",
       "    </tr>\n",
       "    <tr>\n",
       "      <th>asc_public</th>\n",
       "      <td>3.109231</td>\n",
       "      <td>0.373866</td>\n",
       "      <td>8.316442</td>\n",
       "      <td>0.000000e+00</td>\n",
       "    </tr>\n",
       "    <tr>\n",
       "      <th>beta_cost</th>\n",
       "      <td>-0.116447</td>\n",
       "      <td>0.014954</td>\n",
       "      <td>-7.787165</td>\n",
       "      <td>6.883383e-15</td>\n",
       "    </tr>\n",
       "    <tr>\n",
       "      <th>beta_drivingliscence</th>\n",
       "      <td>1.673031</td>\n",
       "      <td>0.098829</td>\n",
       "      <td>16.928457</td>\n",
       "      <td>0.000000e+00</td>\n",
       "    </tr>\n",
       "    <tr>\n",
       "      <th>beta_interchange</th>\n",
       "      <td>-0.035472</td>\n",
       "      <td>0.081260</td>\n",
       "      <td>-0.436522</td>\n",
       "      <td>6.624577e-01</td>\n",
       "    </tr>\n",
       "    <tr>\n",
       "      <th>beta_time_cycling</th>\n",
       "      <td>-3.517024</td>\n",
       "      <td>0.312233</td>\n",
       "      <td>-11.264101</td>\n",
       "      <td>0.000000e+00</td>\n",
       "    </tr>\n",
       "    <tr>\n",
       "      <th>beta_time_driving</th>\n",
       "      <td>-3.796445</td>\n",
       "      <td>0.290062</td>\n",
       "      <td>-13.088409</td>\n",
       "      <td>0.000000e+00</td>\n",
       "    </tr>\n",
       "    <tr>\n",
       "      <th>beta_time_public</th>\n",
       "      <td>-3.096789</td>\n",
       "      <td>0.229386</td>\n",
       "      <td>-13.500346</td>\n",
       "      <td>0.000000e+00</td>\n",
       "    </tr>\n",
       "    <tr>\n",
       "      <th>beta_time_walk</th>\n",
       "      <td>-7.226182</td>\n",
       "      <td>0.483487</td>\n",
       "      <td>-14.945962</td>\n",
       "      <td>0.000000e+00</td>\n",
       "    </tr>\n",
       "    <tr>\n",
       "      <th>lambda_boxcox</th>\n",
       "      <td>0.312601</td>\n",
       "      <td>0.048508</td>\n",
       "      <td>6.444332</td>\n",
       "      <td>1.161102e-10</td>\n",
       "    </tr>\n",
       "  </tbody>\n",
       "</table>\n",
       "</div>"
      ],
      "text/plain": [
       "                         Value  Rob. Std err  Rob. t-test  Rob. p-value\n",
       "MU_private            0.658783      0.047328    13.919632  0.000000e+00\n",
       "asc_cycling          -1.968705      0.388151    -5.072015  3.936262e-07\n",
       "asc_driving           0.061535      0.372794     0.165065  8.688926e-01\n",
       "asc_public            3.109231      0.373866     8.316442  0.000000e+00\n",
       "beta_cost            -0.116447      0.014954    -7.787165  6.883383e-15\n",
       "beta_drivingliscence  1.673031      0.098829    16.928457  0.000000e+00\n",
       "beta_interchange     -0.035472      0.081260    -0.436522  6.624577e-01\n",
       "beta_time_cycling    -3.517024      0.312233   -11.264101  0.000000e+00\n",
       "beta_time_driving    -3.796445      0.290062   -13.088409  0.000000e+00\n",
       "beta_time_public     -3.096789      0.229386   -13.500346  0.000000e+00\n",
       "beta_time_walk       -7.226182      0.483487   -14.945962  0.000000e+00\n",
       "lambda_boxcox         0.312601      0.048508     6.444332  1.161102e-10"
      ]
     },
     "execution_count": 55,
     "metadata": {},
     "output_type": "execute_result"
    }
   ],
   "source": [
    "MU_private = Beta('MU_private', 1, 0, None, 0)\n",
    "private = MU_private, [1,2,4]\n",
    "public = 1.0, [3]\n",
    "nests = private,public\n",
    "logprob = models.lognested(V, None, nests, travel_mode)\n",
    "biogeme = bio.BIOGEME(database, logprob)\n",
    "biogeme.modelName = 'model_5'\n",
    "results5 = biogeme.estimate(recycle=True)\n",
    "results5.getEstimatedParameters()"
   ]
  },
  {
   "cell_type": "markdown",
   "id": "87824f8b",
   "metadata": {},
   "source": [
    "Since $\\mu_{\\text{private}}<1$, we reject this hypothesis. "
   ]
  },
  {
   "cell_type": "markdown",
   "id": "78b34e2b",
   "metadata": {},
   "source": [
    "# Sampling"
   ]
  },
  {
   "cell_type": "markdown",
   "id": "923b5656",
   "metadata": {},
   "source": [
    "## Calculate the weight for each segment"
   ]
  },
  {
   "cell_type": "code",
   "execution_count": 54,
   "id": "08f41244",
   "metadata": {},
   "outputs": [],
   "source": [
    "modes = [\"walk\",\"cycling\",\"public\",\"driving\"]"
   ]
  },
  {
   "cell_type": "code",
   "execution_count": 55,
   "id": "590ec8cf",
   "metadata": {},
   "outputs": [],
   "source": [
    "# Population statistics\n",
    "\n",
    "census = {\n",
    "    'male_41_more':  1633263,\n",
    "    'male_40_less':  2676249,\n",
    "    'female_41_more':  1765143,\n",
    "    'female_40_less':  2599058\n",
    "}"
   ]
  },
  {
   "cell_type": "code",
   "execution_count": 56,
   "id": "7836bb7a",
   "metadata": {},
   "outputs": [
    {
     "data": {
      "text/plain": [
       "8673713"
      ]
     },
     "execution_count": 56,
     "metadata": {},
     "output_type": "execute_result"
    }
   ],
   "source": [
    "total = sum(census.values())\n",
    "total"
   ]
  },
  {
   "cell_type": "code",
   "execution_count": 57,
   "id": "462d8526",
   "metadata": {},
   "outputs": [
    {
     "data": {
      "text/plain": [
       "0       False\n",
       "1        True\n",
       "2        True\n",
       "3        True\n",
       "4       False\n",
       "        ...  \n",
       "4995    False\n",
       "4996    False\n",
       "4997    False\n",
       "4998     True\n",
       "4999     True\n",
       "Name: 40_less, Length: 5000, dtype: bool"
      ]
     },
     "execution_count": 57,
     "metadata": {},
     "output_type": "execute_result"
    }
   ],
   "source": [
    "lpmc[\"40_less\"]=lpmc[\"age\"]<=40\n",
    "lpmc[\"40_less\"]"
   ]
  },
  {
   "cell_type": "code",
   "execution_count": 58,
   "id": "ba743917",
   "metadata": {},
   "outputs": [],
   "source": [
    "# sample statistics\n",
    "filters = {\n",
    "    'male_41_more': (lpmc['40_less'] == 0) & (lpmc['female'] == 0),\n",
    "    'male_40_less': (lpmc['40_less'] == 1) & (lpmc['female'] == 0),\n",
    "    'female_41_more': (lpmc['40_less'] == 0) & (lpmc['female'] == 1),\n",
    "    'female_40_less': (lpmc['40_less'] == 1) & (lpmc['female'] == 1)\n",
    "}"
   ]
  },
  {
   "cell_type": "code",
   "execution_count": 59,
   "id": "73272464",
   "metadata": {},
   "outputs": [
    {
     "data": {
      "text/plain": [
       "{'male_41_more': 1084,\n",
       " 'male_40_less': 1256,\n",
       " 'female_41_more': 1204,\n",
       " 'female_40_less': 1456}"
      ]
     },
     "execution_count": 59,
     "metadata": {},
     "output_type": "execute_result"
    }
   ],
   "source": [
    "sample_segments = {\n",
    "    k: v.sum() for k, v in filters.items()\n",
    "}\n",
    "sample_segments"
   ]
  },
  {
   "cell_type": "code",
   "execution_count": 60,
   "id": "70147ca9",
   "metadata": {},
   "outputs": [
    {
     "data": {
      "text/plain": [
       "5000"
      ]
     },
     "execution_count": 60,
     "metadata": {},
     "output_type": "execute_result"
    }
   ],
   "source": [
    "total_sample = sum(sample_segments.values())\n",
    "total_sample"
   ]
  },
  {
   "cell_type": "markdown",
   "id": "fe7cf9d6",
   "metadata": {},
   "source": [
    "The weight $w_g$ associated with segment $g$ is defined as\n",
    "$$\n",
    "w_g = \\frac{N_g}{N}\\frac{S}{S_g}.\n",
    "$$"
   ]
  },
  {
   "cell_type": "code",
   "execution_count": 61,
   "id": "e58a24dc",
   "metadata": {},
   "outputs": [
    {
     "data": {
      "text/plain": [
       "{'male_41_more': 0.86854394680908,\n",
       " 'male_40_less': 1.2282925990376248,\n",
       " 'female_41_more': 0.8451199703160228,\n",
       " 'female_40_less': 1.029009899043413}"
      ]
     },
     "execution_count": 61,
     "metadata": {},
     "output_type": "execute_result"
    }
   ],
   "source": [
    "# weight associated with each segment\n",
    "weights = {\n",
    "    k: census[k] * total_sample / (v * total) \n",
    "    for k, v in sample_segments.items()\n",
    "}\n",
    "weights"
   ]
  },
  {
   "cell_type": "code",
   "execution_count": 62,
   "id": "62546df6",
   "metadata": {},
   "outputs": [
    {
     "data": {
      "text/plain": [
       "0       0.845120\n",
       "1       1.029010\n",
       "2       1.228293\n",
       "3       1.228293\n",
       "4       0.868544\n",
       "          ...   \n",
       "4995    0.845120\n",
       "4996    0.845120\n",
       "4997    0.868544\n",
       "4998    1.228293\n",
       "4999    1.029010\n",
       "Name: Weight, Length: 5000, dtype: float64"
      ]
     },
     "execution_count": 62,
     "metadata": {},
     "output_type": "execute_result"
    }
   ],
   "source": [
    "# insert weight as a new column to the database lpmc\n",
    "for k, f in filters.items():\n",
    "    lpmc.loc[f, 'Weight'] = weights[k] \n",
    "lpmc['Weight']"
   ]
  },
  {
   "cell_type": "markdown",
   "id": "684f13b5",
   "metadata": {},
   "source": [
    "## Calculate predicted market share for each mode"
   ]
  },
  {
   "cell_type": "code",
   "execution_count": 65,
   "id": "8e7e381b",
   "metadata": {},
   "outputs": [
    {
     "name": "stdout",
     "output_type": "stream",
     "text": [
      "[22:13:41] < Warning >   Several pickle files are available for this model: ['model_4.pickle', 'model_4~00.pickle', 'model_4~01.pickle', 'model_4~02.pickle', 'model_4~03.pickle', 'model_4~04.pickle']. The file model_4~04.pickle is used to load the results.\n",
      "[22:13:41] < Warning >   Estimation results read from model_4~04.pickle. There is no guarantee that they correspond to the specified model.\n"
     ]
    }
   ],
   "source": [
    "MU_motorized = Beta('MU_motorized', 1, 0, None, 0)\n",
    "motorized = MU_motorized, [3, 4]\n",
    "non_motorized = 1, [1,2]\n",
    "nests = motorized, non_motorized\n",
    "logprob = models.lognested(V, None, nests, travel_mode)\n",
    "biogeme = bio.BIOGEME(database, logprob)\n",
    "biogeme.modelName = 'model_4'\n",
    "results4 = biogeme.estimate(recycle=True)"
   ]
  },
  {
   "cell_type": "code",
   "execution_count": 66,
   "id": "a63522f3",
   "metadata": {},
   "outputs": [],
   "source": [
    "prob_walk = models.nested(V, None, nests,1)\n",
    "prob_cycling = models.nested(V, None, nests,2)\n",
    "prob_public = models.nested(V, None, nests,3)\n",
    "prob_driving = models.nested(V, None, nests,4)"
   ]
  },
  {
   "cell_type": "code",
   "execution_count": 67,
   "id": "a3d2cf56",
   "metadata": {},
   "outputs": [],
   "source": [
    "Weight = Variable('Weight')\n",
    "simulate = {\n",
    "    'Weight': Weight,\n",
    "    'Prob. walk': prob_walk,\n",
    "    'Prob. cycling': prob_cycling,\n",
    "    'Prob. public': prob_public,\n",
    "    'Prob. driving': prob_driving\n",
    "}"
   ]
  },
  {
   "cell_type": "code",
   "execution_count": 68,
   "id": "6c312b60",
   "metadata": {},
   "outputs": [],
   "source": [
    "biosim = bio.BIOGEME(database, simulate)\n",
    "simulated_values = biosim.simulate(results4.getBetaValues())"
   ]
  },
  {
   "cell_type": "code",
   "execution_count": 69,
   "id": "542b3646",
   "metadata": {},
   "outputs": [
    {
     "data": {
      "text/html": [
       "<div>\n",
       "<style scoped>\n",
       "    .dataframe tbody tr th:only-of-type {\n",
       "        vertical-align: middle;\n",
       "    }\n",
       "\n",
       "    .dataframe tbody tr th {\n",
       "        vertical-align: top;\n",
       "    }\n",
       "\n",
       "    .dataframe thead th {\n",
       "        text-align: right;\n",
       "    }\n",
       "</style>\n",
       "<table border=\"1\" class=\"dataframe\">\n",
       "  <thead>\n",
       "    <tr style=\"text-align: right;\">\n",
       "      <th></th>\n",
       "      <th>Weight</th>\n",
       "      <th>Prob. walk</th>\n",
       "      <th>Prob. cycling</th>\n",
       "      <th>Prob. public</th>\n",
       "      <th>Prob. driving</th>\n",
       "    </tr>\n",
       "  </thead>\n",
       "  <tbody>\n",
       "    <tr>\n",
       "      <th>0</th>\n",
       "      <td>0.845120</td>\n",
       "      <td>0.046093</td>\n",
       "      <td>0.027437</td>\n",
       "      <td>0.051681</td>\n",
       "      <td>0.874789</td>\n",
       "    </tr>\n",
       "    <tr>\n",
       "      <th>1</th>\n",
       "      <td>1.029010</td>\n",
       "      <td>0.247695</td>\n",
       "      <td>0.078235</td>\n",
       "      <td>0.479630</td>\n",
       "      <td>0.194440</td>\n",
       "    </tr>\n",
       "    <tr>\n",
       "      <th>2</th>\n",
       "      <td>1.228293</td>\n",
       "      <td>0.000313</td>\n",
       "      <td>0.035244</td>\n",
       "      <td>0.752644</td>\n",
       "      <td>0.211800</td>\n",
       "    </tr>\n",
       "    <tr>\n",
       "      <th>3</th>\n",
       "      <td>1.228293</td>\n",
       "      <td>0.002627</td>\n",
       "      <td>0.017682</td>\n",
       "      <td>0.045309</td>\n",
       "      <td>0.934382</td>\n",
       "    </tr>\n",
       "    <tr>\n",
       "      <th>4</th>\n",
       "      <td>0.868544</td>\n",
       "      <td>0.082049</td>\n",
       "      <td>0.037393</td>\n",
       "      <td>0.122882</td>\n",
       "      <td>0.757676</td>\n",
       "    </tr>\n",
       "    <tr>\n",
       "      <th>...</th>\n",
       "      <td>...</td>\n",
       "      <td>...</td>\n",
       "      <td>...</td>\n",
       "      <td>...</td>\n",
       "      <td>...</td>\n",
       "    </tr>\n",
       "    <tr>\n",
       "      <th>4995</th>\n",
       "      <td>0.845120</td>\n",
       "      <td>0.371766</td>\n",
       "      <td>0.034707</td>\n",
       "      <td>0.108859</td>\n",
       "      <td>0.484667</td>\n",
       "    </tr>\n",
       "    <tr>\n",
       "      <th>4996</th>\n",
       "      <td>0.845120</td>\n",
       "      <td>0.055896</td>\n",
       "      <td>0.050294</td>\n",
       "      <td>0.709951</td>\n",
       "      <td>0.183859</td>\n",
       "    </tr>\n",
       "    <tr>\n",
       "      <th>4997</th>\n",
       "      <td>0.868544</td>\n",
       "      <td>0.003089</td>\n",
       "      <td>0.014128</td>\n",
       "      <td>0.085318</td>\n",
       "      <td>0.897464</td>\n",
       "    </tr>\n",
       "    <tr>\n",
       "      <th>4998</th>\n",
       "      <td>1.228293</td>\n",
       "      <td>0.022978</td>\n",
       "      <td>0.060490</td>\n",
       "      <td>0.600030</td>\n",
       "      <td>0.316502</td>\n",
       "    </tr>\n",
       "    <tr>\n",
       "      <th>4999</th>\n",
       "      <td>1.029010</td>\n",
       "      <td>0.340910</td>\n",
       "      <td>0.060748</td>\n",
       "      <td>0.311952</td>\n",
       "      <td>0.286390</td>\n",
       "    </tr>\n",
       "  </tbody>\n",
       "</table>\n",
       "<p>5000 rows × 5 columns</p>\n",
       "</div>"
      ],
      "text/plain": [
       "        Weight  Prob. walk  Prob. cycling  Prob. public  Prob. driving\n",
       "0     0.845120    0.046093       0.027437      0.051681       0.874789\n",
       "1     1.029010    0.247695       0.078235      0.479630       0.194440\n",
       "2     1.228293    0.000313       0.035244      0.752644       0.211800\n",
       "3     1.228293    0.002627       0.017682      0.045309       0.934382\n",
       "4     0.868544    0.082049       0.037393      0.122882       0.757676\n",
       "...        ...         ...            ...           ...            ...\n",
       "4995  0.845120    0.371766       0.034707      0.108859       0.484667\n",
       "4996  0.845120    0.055896       0.050294      0.709951       0.183859\n",
       "4997  0.868544    0.003089       0.014128      0.085318       0.897464\n",
       "4998  1.228293    0.022978       0.060490      0.600030       0.316502\n",
       "4999  1.029010    0.340910       0.060748      0.311952       0.286390\n",
       "\n",
       "[5000 rows x 5 columns]"
      ]
     },
     "execution_count": 69,
     "metadata": {},
     "output_type": "execute_result"
    }
   ],
   "source": [
    "simulated_values"
   ]
  },
  {
   "cell_type": "markdown",
   "id": "d7617c9a",
   "metadata": {},
   "source": [
    "Market shares are calculated using the weighted mean of the\n",
    "individual probabilities."
   ]
  },
  {
   "cell_type": "code",
   "execution_count": 70,
   "id": "a6b8e560",
   "metadata": {},
   "outputs": [],
   "source": [
    "modes = [\"walk\",\"cycling\",\"public\",\"driving\"]\n",
    "for mode in modes:\n",
    "    simulated_values['Weighted '+mode] = (\n",
    "        simulated_values['Weight'] * \n",
    "        simulated_values['Prob. '+mode]\n",
    "    )"
   ]
  },
  {
   "cell_type": "code",
   "execution_count": 71,
   "id": "40720f85",
   "metadata": {},
   "outputs": [
    {
     "data": {
      "text/html": [
       "<div>\n",
       "<style scoped>\n",
       "    .dataframe tbody tr th:only-of-type {\n",
       "        vertical-align: middle;\n",
       "    }\n",
       "\n",
       "    .dataframe tbody tr th {\n",
       "        vertical-align: top;\n",
       "    }\n",
       "\n",
       "    .dataframe thead th {\n",
       "        text-align: right;\n",
       "    }\n",
       "</style>\n",
       "<table border=\"1\" class=\"dataframe\">\n",
       "  <thead>\n",
       "    <tr style=\"text-align: right;\">\n",
       "      <th></th>\n",
       "      <th>Weight</th>\n",
       "      <th>Prob. walk</th>\n",
       "      <th>Prob. cycling</th>\n",
       "      <th>Prob. public</th>\n",
       "      <th>Prob. driving</th>\n",
       "      <th>Weighted walk</th>\n",
       "      <th>Weighted cycling</th>\n",
       "      <th>Weighted public</th>\n",
       "      <th>Weighted driving</th>\n",
       "    </tr>\n",
       "  </thead>\n",
       "  <tbody>\n",
       "    <tr>\n",
       "      <th>0</th>\n",
       "      <td>0.845120</td>\n",
       "      <td>0.046093</td>\n",
       "      <td>0.027437</td>\n",
       "      <td>0.051681</td>\n",
       "      <td>0.874789</td>\n",
       "      <td>0.038954</td>\n",
       "      <td>0.023188</td>\n",
       "      <td>0.043677</td>\n",
       "      <td>0.739302</td>\n",
       "    </tr>\n",
       "    <tr>\n",
       "      <th>1</th>\n",
       "      <td>1.029010</td>\n",
       "      <td>0.247695</td>\n",
       "      <td>0.078235</td>\n",
       "      <td>0.479630</td>\n",
       "      <td>0.194440</td>\n",
       "      <td>0.254881</td>\n",
       "      <td>0.080504</td>\n",
       "      <td>0.493544</td>\n",
       "      <td>0.200081</td>\n",
       "    </tr>\n",
       "    <tr>\n",
       "      <th>2</th>\n",
       "      <td>1.228293</td>\n",
       "      <td>0.000313</td>\n",
       "      <td>0.035244</td>\n",
       "      <td>0.752644</td>\n",
       "      <td>0.211800</td>\n",
       "      <td>0.000384</td>\n",
       "      <td>0.043289</td>\n",
       "      <td>0.924467</td>\n",
       "      <td>0.260152</td>\n",
       "    </tr>\n",
       "    <tr>\n",
       "      <th>3</th>\n",
       "      <td>1.228293</td>\n",
       "      <td>0.002627</td>\n",
       "      <td>0.017682</td>\n",
       "      <td>0.045309</td>\n",
       "      <td>0.934382</td>\n",
       "      <td>0.003226</td>\n",
       "      <td>0.021719</td>\n",
       "      <td>0.055653</td>\n",
       "      <td>1.147694</td>\n",
       "    </tr>\n",
       "    <tr>\n",
       "      <th>4</th>\n",
       "      <td>0.868544</td>\n",
       "      <td>0.082049</td>\n",
       "      <td>0.037393</td>\n",
       "      <td>0.122882</td>\n",
       "      <td>0.757676</td>\n",
       "      <td>0.071263</td>\n",
       "      <td>0.032478</td>\n",
       "      <td>0.106728</td>\n",
       "      <td>0.658075</td>\n",
       "    </tr>\n",
       "    <tr>\n",
       "      <th>...</th>\n",
       "      <td>...</td>\n",
       "      <td>...</td>\n",
       "      <td>...</td>\n",
       "      <td>...</td>\n",
       "      <td>...</td>\n",
       "      <td>...</td>\n",
       "      <td>...</td>\n",
       "      <td>...</td>\n",
       "      <td>...</td>\n",
       "    </tr>\n",
       "    <tr>\n",
       "      <th>4995</th>\n",
       "      <td>0.845120</td>\n",
       "      <td>0.371766</td>\n",
       "      <td>0.034707</td>\n",
       "      <td>0.108859</td>\n",
       "      <td>0.484667</td>\n",
       "      <td>0.314187</td>\n",
       "      <td>0.029332</td>\n",
       "      <td>0.091999</td>\n",
       "      <td>0.409602</td>\n",
       "    </tr>\n",
       "    <tr>\n",
       "      <th>4996</th>\n",
       "      <td>0.845120</td>\n",
       "      <td>0.055896</td>\n",
       "      <td>0.050294</td>\n",
       "      <td>0.709951</td>\n",
       "      <td>0.183859</td>\n",
       "      <td>0.047239</td>\n",
       "      <td>0.042505</td>\n",
       "      <td>0.599994</td>\n",
       "      <td>0.155383</td>\n",
       "    </tr>\n",
       "    <tr>\n",
       "      <th>4997</th>\n",
       "      <td>0.868544</td>\n",
       "      <td>0.003089</td>\n",
       "      <td>0.014128</td>\n",
       "      <td>0.085318</td>\n",
       "      <td>0.897464</td>\n",
       "      <td>0.002683</td>\n",
       "      <td>0.012271</td>\n",
       "      <td>0.074103</td>\n",
       "      <td>0.779487</td>\n",
       "    </tr>\n",
       "    <tr>\n",
       "      <th>4998</th>\n",
       "      <td>1.228293</td>\n",
       "      <td>0.022978</td>\n",
       "      <td>0.060490</td>\n",
       "      <td>0.600030</td>\n",
       "      <td>0.316502</td>\n",
       "      <td>0.028224</td>\n",
       "      <td>0.074300</td>\n",
       "      <td>0.737012</td>\n",
       "      <td>0.388757</td>\n",
       "    </tr>\n",
       "    <tr>\n",
       "      <th>4999</th>\n",
       "      <td>1.029010</td>\n",
       "      <td>0.340910</td>\n",
       "      <td>0.060748</td>\n",
       "      <td>0.311952</td>\n",
       "      <td>0.286390</td>\n",
       "      <td>0.350800</td>\n",
       "      <td>0.062510</td>\n",
       "      <td>0.321002</td>\n",
       "      <td>0.294698</td>\n",
       "    </tr>\n",
       "  </tbody>\n",
       "</table>\n",
       "<p>5000 rows × 9 columns</p>\n",
       "</div>"
      ],
      "text/plain": [
       "        Weight  Prob. walk  Prob. cycling  Prob. public  Prob. driving  \\\n",
       "0     0.845120    0.046093       0.027437      0.051681       0.874789   \n",
       "1     1.029010    0.247695       0.078235      0.479630       0.194440   \n",
       "2     1.228293    0.000313       0.035244      0.752644       0.211800   \n",
       "3     1.228293    0.002627       0.017682      0.045309       0.934382   \n",
       "4     0.868544    0.082049       0.037393      0.122882       0.757676   \n",
       "...        ...         ...            ...           ...            ...   \n",
       "4995  0.845120    0.371766       0.034707      0.108859       0.484667   \n",
       "4996  0.845120    0.055896       0.050294      0.709951       0.183859   \n",
       "4997  0.868544    0.003089       0.014128      0.085318       0.897464   \n",
       "4998  1.228293    0.022978       0.060490      0.600030       0.316502   \n",
       "4999  1.029010    0.340910       0.060748      0.311952       0.286390   \n",
       "\n",
       "      Weighted walk  Weighted cycling  Weighted public  Weighted driving  \n",
       "0          0.038954          0.023188         0.043677          0.739302  \n",
       "1          0.254881          0.080504         0.493544          0.200081  \n",
       "2          0.000384          0.043289         0.924467          0.260152  \n",
       "3          0.003226          0.021719         0.055653          1.147694  \n",
       "4          0.071263          0.032478         0.106728          0.658075  \n",
       "...             ...               ...              ...               ...  \n",
       "4995       0.314187          0.029332         0.091999          0.409602  \n",
       "4996       0.047239          0.042505         0.599994          0.155383  \n",
       "4997       0.002683          0.012271         0.074103          0.779487  \n",
       "4998       0.028224          0.074300         0.737012          0.388757  \n",
       "4999       0.350800          0.062510         0.321002          0.294698  \n",
       "\n",
       "[5000 rows x 9 columns]"
      ]
     },
     "execution_count": 71,
     "metadata": {},
     "output_type": "execute_result"
    }
   ],
   "source": [
    "simulated_values"
   ]
  },
  {
   "cell_type": "code",
   "execution_count": 72,
   "id": "0f4af2b1",
   "metadata": {},
   "outputs": [
    {
     "name": "stdout",
     "output_type": "stream",
     "text": [
      "Market share for walk: 18.3%\n",
      "Market share for cycling: 3.6%\n",
      "Market share for public: 36.3%\n",
      "Market share for driving: 41.9%\n"
     ]
    }
   ],
   "source": [
    "market_share=[]\n",
    "for i, mode in enumerate(modes): \n",
    "    globals()['market_share_'+mode]=simulated_values['Weighted '+ mode].mean()\n",
    "    market_share.append(globals()['market_share_'+mode])\n",
    "    print(f'Market share for {mode}: {100*market_share[i]:.1f}%')"
   ]
  },
  {
   "cell_type": "markdown",
   "id": "ed51fb50",
   "metadata": {},
   "source": [
    "## Calcualte confidence interval"
   ]
  },
  {
   "cell_type": "code",
   "execution_count": 73,
   "id": "061c4190",
   "metadata": {},
   "outputs": [
    {
     "name": "stderr",
     "output_type": "stream",
     "text": [
      "100%|██████████████████████████████████████████████████████████████████████████████████| 10/10 [00:27<00:00,  2.72s/it]\n"
     ]
    }
   ],
   "source": [
    "results_bootstrapping = biogeme.estimate(bootstrap=10)"
   ]
  },
  {
   "cell_type": "code",
   "execution_count": 74,
   "id": "353f249f",
   "metadata": {},
   "outputs": [],
   "source": [
    "betas = biogeme.freeBetaNames()\n",
    "b = results_bootstrapping.getBetasForSensitivityAnalysis(betas)"
   ]
  },
  {
   "cell_type": "code",
   "execution_count": 75,
   "id": "e2519549",
   "metadata": {},
   "outputs": [],
   "source": [
    "left, right = biosim.confidenceIntervals(b, 0.9)"
   ]
  },
  {
   "cell_type": "code",
   "execution_count": 76,
   "id": "797d904c",
   "metadata": {},
   "outputs": [
    {
     "data": {
      "text/html": [
       "<div>\n",
       "<style scoped>\n",
       "    .dataframe tbody tr th:only-of-type {\n",
       "        vertical-align: middle;\n",
       "    }\n",
       "\n",
       "    .dataframe tbody tr th {\n",
       "        vertical-align: top;\n",
       "    }\n",
       "\n",
       "    .dataframe thead th {\n",
       "        text-align: right;\n",
       "    }\n",
       "</style>\n",
       "<table border=\"1\" class=\"dataframe\">\n",
       "  <thead>\n",
       "    <tr style=\"text-align: right;\">\n",
       "      <th></th>\n",
       "      <th>Weight</th>\n",
       "      <th>Prob. walk</th>\n",
       "      <th>Prob. cycling</th>\n",
       "      <th>Prob. public</th>\n",
       "      <th>Prob. driving</th>\n",
       "    </tr>\n",
       "  </thead>\n",
       "  <tbody>\n",
       "    <tr>\n",
       "      <th>0</th>\n",
       "      <td>0.845120</td>\n",
       "      <td>0.039429</td>\n",
       "      <td>0.024019</td>\n",
       "      <td>0.045896</td>\n",
       "      <td>0.868339</td>\n",
       "    </tr>\n",
       "    <tr>\n",
       "      <th>1</th>\n",
       "      <td>1.029010</td>\n",
       "      <td>0.220267</td>\n",
       "      <td>0.070833</td>\n",
       "      <td>0.465530</td>\n",
       "      <td>0.177455</td>\n",
       "    </tr>\n",
       "    <tr>\n",
       "      <th>2</th>\n",
       "      <td>1.228293</td>\n",
       "      <td>0.000123</td>\n",
       "      <td>0.026624</td>\n",
       "      <td>0.746301</td>\n",
       "      <td>0.178473</td>\n",
       "    </tr>\n",
       "    <tr>\n",
       "      <th>3</th>\n",
       "      <td>1.228293</td>\n",
       "      <td>0.001708</td>\n",
       "      <td>0.014319</td>\n",
       "      <td>0.038462</td>\n",
       "      <td>0.924573</td>\n",
       "    </tr>\n",
       "    <tr>\n",
       "      <th>4</th>\n",
       "      <td>0.868544</td>\n",
       "      <td>0.071856</td>\n",
       "      <td>0.033550</td>\n",
       "      <td>0.118232</td>\n",
       "      <td>0.745268</td>\n",
       "    </tr>\n",
       "    <tr>\n",
       "      <th>...</th>\n",
       "      <td>...</td>\n",
       "      <td>...</td>\n",
       "      <td>...</td>\n",
       "      <td>...</td>\n",
       "      <td>...</td>\n",
       "    </tr>\n",
       "    <tr>\n",
       "      <th>4995</th>\n",
       "      <td>0.845120</td>\n",
       "      <td>0.331111</td>\n",
       "      <td>0.030176</td>\n",
       "      <td>0.084381</td>\n",
       "      <td>0.469934</td>\n",
       "    </tr>\n",
       "    <tr>\n",
       "      <th>4996</th>\n",
       "      <td>0.845120</td>\n",
       "      <td>0.044768</td>\n",
       "      <td>0.046012</td>\n",
       "      <td>0.694630</td>\n",
       "      <td>0.159254</td>\n",
       "    </tr>\n",
       "    <tr>\n",
       "      <th>4997</th>\n",
       "      <td>0.868544</td>\n",
       "      <td>0.002151</td>\n",
       "      <td>0.011304</td>\n",
       "      <td>0.076542</td>\n",
       "      <td>0.887698</td>\n",
       "    </tr>\n",
       "    <tr>\n",
       "      <th>4998</th>\n",
       "      <td>1.228293</td>\n",
       "      <td>0.015936</td>\n",
       "      <td>0.054552</td>\n",
       "      <td>0.584687</td>\n",
       "      <td>0.289526</td>\n",
       "    </tr>\n",
       "    <tr>\n",
       "      <th>4999</th>\n",
       "      <td>1.029010</td>\n",
       "      <td>0.317207</td>\n",
       "      <td>0.053741</td>\n",
       "      <td>0.308303</td>\n",
       "      <td>0.248117</td>\n",
       "    </tr>\n",
       "  </tbody>\n",
       "</table>\n",
       "<p>5000 rows × 5 columns</p>\n",
       "</div>"
      ],
      "text/plain": [
       "        Weight  Prob. walk  Prob. cycling  Prob. public  Prob. driving\n",
       "0     0.845120    0.039429       0.024019      0.045896       0.868339\n",
       "1     1.029010    0.220267       0.070833      0.465530       0.177455\n",
       "2     1.228293    0.000123       0.026624      0.746301       0.178473\n",
       "3     1.228293    0.001708       0.014319      0.038462       0.924573\n",
       "4     0.868544    0.071856       0.033550      0.118232       0.745268\n",
       "...        ...         ...            ...           ...            ...\n",
       "4995  0.845120    0.331111       0.030176      0.084381       0.469934\n",
       "4996  0.845120    0.044768       0.046012      0.694630       0.159254\n",
       "4997  0.868544    0.002151       0.011304      0.076542       0.887698\n",
       "4998  1.228293    0.015936       0.054552      0.584687       0.289526\n",
       "4999  1.029010    0.317207       0.053741      0.308303       0.248117\n",
       "\n",
       "[5000 rows x 5 columns]"
      ]
     },
     "execution_count": 76,
     "metadata": {},
     "output_type": "execute_result"
    }
   ],
   "source": [
    "left"
   ]
  },
  {
   "cell_type": "code",
   "execution_count": 77,
   "id": "b927e922",
   "metadata": {},
   "outputs": [],
   "source": [
    "for mode in modes:\n",
    "    left['Weighted '+mode] = (\n",
    "        left['Weight'] * \n",
    "        left['Prob. '+mode]\n",
    "    )\n",
    "    right['Weighted '+mode] = (\n",
    "        right['Weight'] * \n",
    "        right['Prob. '+mode]\n",
    "    )"
   ]
  },
  {
   "cell_type": "code",
   "execution_count": 78,
   "id": "ff23faba",
   "metadata": {},
   "outputs": [
    {
     "name": "stdout",
     "output_type": "stream",
     "text": [
      "Market share for walk: 18.3% CI: [17.3%-19.1]\n",
      "Market share for cycling: 3.6% CI: [3.1%-4.0]\n",
      "Market share for public: 36.3% CI: [35.0%-38.4]\n",
      "Market share for driving: 41.9% CI: [39.6%-43.6]\n"
     ]
    }
   ],
   "source": [
    "left_market_share=[]\n",
    "right_market_share=[]\n",
    "for i,mode in enumerate(modes): \n",
    "    globals()['left_market_share_'+mode]=left['Weighted '+ mode].mean()\n",
    "    globals()['right_market_share_'+mode]=right['Weighted '+ mode].mean()\n",
    "    left_market_share.append(globals()['left_market_share_'+mode])\n",
    "    right_market_share.append(globals()['right_market_share_'+mode])\n",
    "    print(\n",
    "    f'Market share for {mode}: {100*market_share[i]:.1f}% '\n",
    "    f'CI: ['\n",
    "    f'{100*left_market_share[i]:.1f}%-'\n",
    "    f'{100*right_market_share[i]:.1f}'\n",
    "    f']'\n",
    ")"
   ]
  },
  {
   "cell_type": "markdown",
   "id": "b5f36c36",
   "metadata": {},
   "source": [
    "# Forcasting"
   ]
  },
  {
   "cell_type": "markdown",
   "id": "f8261ba2",
   "metadata": {},
   "source": [
    "## Consider two scenarios"
   ]
  },
  {
   "cell_type": "code",
   "execution_count": 79,
   "id": "1c097252",
   "metadata": {},
   "outputs": [],
   "source": [
    "# define a function for calculating market share\n",
    "def calculate_market_share(utility):\n",
    "    \n",
    "    prob_walk = models.nested(utility, None, nests,1)\n",
    "    prob_cycling = models.nested(utility, None, nests,2)\n",
    "    prob_public = models.nested(utility, None, nests,3)\n",
    "    prob_driving = models.nested(utility, None, nests,4)\n",
    "\n",
    "    Weight = Variable('Weight')\n",
    "    simulate = {\n",
    "    'Weight': Weight,\n",
    "    'Prob. walk': prob_walk,\n",
    "    'Prob. cycling': prob_cycling,\n",
    "    'Prob. public': prob_public,\n",
    "    'Prob. driving': prob_driving\n",
    "    }\n",
    "\n",
    "    biosim = bio.BIOGEME(database, simulate)\n",
    "    simulated_values = biosim.simulate(results4.getBetaValues())\n",
    "    modes = [\"walk\",\"cycling\",\"public\",\"driving\"]\n",
    "    for mode in modes:\n",
    "        simulated_values['Weighted '+mode] = (\n",
    "            simulated_values['Weight'] * \n",
    "            simulated_values['Prob. '+mode]\n",
    "        )\n",
    "    market_share=[]\n",
    "    for mode in modes: \n",
    "        globals()['market_share_'+mode]=simulated_values['Weighted '+ mode].mean()\n",
    "        market_share.append(globals()['market_share_'+mode])\n",
    "    \n",
    "    return market_share"
   ]
  },
  {
   "cell_type": "code",
   "execution_count": 80,
   "id": "5b186968",
   "metadata": {},
   "outputs": [],
   "source": [
    "# an increase of car cost by 15%\n",
    "V_walk = asc_walk + beta_time_walk * boxcox_time_1\n",
    "V_cycling = asc_cycling + beta_time_cycling * boxcox_time_2\n",
    "V_public = asc_public + beta_time_public * boxcox_time_3+ beta_cost * cost_transit \n",
    "V_driving = asc_driving + beta_time_driving * boxcox_time_4 + beta_cost * cost_driving*1.15 + beta_drivinglicense * driving_license +beta_traffic*driving_traffic_percent\n",
    "V_1 = {1: V_walk, 2: V_cycling, 3: V_public, 4: V_driving}"
   ]
  },
  {
   "cell_type": "code",
   "execution_count": 81,
   "id": "f5500d4e",
   "metadata": {},
   "outputs": [],
   "source": [
    "market_share_1 = calculate_market_share(V_1)"
   ]
  },
  {
   "cell_type": "code",
   "execution_count": 82,
   "id": "1b54089d",
   "metadata": {},
   "outputs": [
    {
     "data": {
      "text/plain": [
       "[0.18321003551480577,\n",
       " 0.035755603676419306,\n",
       " 0.36497485087706777,\n",
       " 0.4160595099317064]"
      ]
     },
     "execution_count": 82,
     "metadata": {},
     "output_type": "execute_result"
    }
   ],
   "source": [
    "market_share_1"
   ]
  },
  {
   "cell_type": "code",
   "execution_count": 83,
   "id": "44c11ade",
   "metadata": {},
   "outputs": [
    {
     "name": "stdout",
     "output_type": "stream",
     "text": [
      "Market share for walk: 18.32%\n",
      "Market share for cycling: 3.58%\n",
      "Market share for public: 36.50%\n",
      "Market share for driving: 41.61%\n"
     ]
    }
   ],
   "source": [
    "for i,mode in enumerate(modes): \n",
    "    print(f'Market share for {mode}: {100*market_share_1[i]:.2f}%')"
   ]
  },
  {
   "cell_type": "code",
   "execution_count": 84,
   "id": "2de22b7d",
   "metadata": {},
   "outputs": [],
   "source": [
    "V_walk = asc_walk + beta_time_walk * boxcox_time_1\n",
    "V_cycling = asc_cycling + beta_time_cycling * boxcox_time_2\n",
    "V_public = asc_public + beta_time_public * boxcox_time_3 + beta_cost*cost_transit*0.85 \n",
    "V_driving = asc_driving + beta_time_driving * boxcox_time_4 + beta_cost * cost_driving  + beta_drivinglicense * driving_license +beta_traffic*driving_traffic_percent\n",
    "V_2 = {1: V_walk, 2: V_cycling, 3: V_public, 4: V_driving}"
   ]
  },
  {
   "cell_type": "code",
   "execution_count": 85,
   "id": "910d8d38",
   "metadata": {},
   "outputs": [],
   "source": [
    "market_share_2 = calculate_market_share(V_2)"
   ]
  },
  {
   "cell_type": "code",
   "execution_count": 86,
   "id": "4fd1316c",
   "metadata": {},
   "outputs": [
    {
     "data": {
      "text/plain": [
       "[0.1829176630809121,\n",
       " 0.03555467950718786,\n",
       " 0.3651855859940529,\n",
       " 0.41634207141784835]"
      ]
     },
     "execution_count": 86,
     "metadata": {},
     "output_type": "execute_result"
    }
   ],
   "source": [
    "market_share_2"
   ]
  },
  {
   "cell_type": "code",
   "execution_count": 87,
   "id": "37bf540c",
   "metadata": {},
   "outputs": [
    {
     "name": "stdout",
     "output_type": "stream",
     "text": [
      "Market share for walk: 18.29%\n",
      "Market share for cycling: 3.56%\n",
      "Market share for public: 36.52%\n",
      "Market share for driving: 41.63%\n"
     ]
    }
   ],
   "source": [
    "for i,mode in enumerate(modes): \n",
    "    print(f'Market share for {mode}: {100*market_share_2[i]:.2f}%')"
   ]
  },
  {
   "cell_type": "markdown",
   "id": "1792946f",
   "metadata": {},
   "source": [
    "## Effect on revenue"
   ]
  },
  {
   "cell_type": "code",
   "execution_count": 88,
   "id": "ce95d400",
   "metadata": {},
   "outputs": [],
   "source": [
    "def calculate_revenues(change, utility):\n",
    "    prob_public = models.nested(utility, None, nests,3)   \n",
    "\n",
    "    simulate = {\n",
    "        'Weight': Weight,\n",
    "        'Revenues PT': prob_public * cost_transit * change,\n",
    "    }\n",
    "    \n",
    "    biosim = bio.BIOGEME(database, simulate)\n",
    "    simulated_values = biosim.simulate(results4.getBetaValues())\n",
    "\n",
    "    simulated_values['Weighted revenues PT'] = (\n",
    "        simulated_values['Weight'] * simulated_values['Revenues PT']\n",
    "    )\n",
    "    \n",
    "    revenues_PT = simulated_values['Weighted revenues PT'].sum()\n",
    "\n",
    "    return revenues_PT"
   ]
  },
  {
   "cell_type": "code",
   "execution_count": 89,
   "id": "df0b7e46",
   "metadata": {},
   "outputs": [
    {
     "data": {
      "text/plain": [
       "3507.1676929272385"
      ]
     },
     "execution_count": 89,
     "metadata": {},
     "output_type": "execute_result"
    }
   ],
   "source": [
    "# scenario 0\n",
    "calculate_revenues(1,V)"
   ]
  },
  {
   "cell_type": "code",
   "execution_count": 90,
   "id": "15665b31",
   "metadata": {},
   "outputs": [
    {
     "data": {
      "text/plain": [
       "3538.8015918347864"
      ]
     },
     "execution_count": 90,
     "metadata": {},
     "output_type": "execute_result"
    }
   ],
   "source": [
    "# scenario 1\n",
    "calculate_revenues(1,V_1)"
   ]
  },
  {
   "cell_type": "code",
   "execution_count": 91,
   "id": "c653787c",
   "metadata": {},
   "outputs": [
    {
     "data": {
      "text/plain": [
       "3015.3267561909315"
      ]
     },
     "execution_count": 91,
     "metadata": {},
     "output_type": "execute_result"
    }
   ],
   "source": [
    "# scenario 2\n",
    "calculate_revenues(0.85,V_2)"
   ]
  },
  {
   "cell_type": "markdown",
   "id": "3a2e6ef5",
   "metadata": {},
   "source": [
    "## Calculate average value of time"
   ]
  },
  {
   "cell_type": "code",
   "execution_count": 130,
   "id": "58cb8edb",
   "metadata": {},
   "outputs": [
    {
     "name": "stdout",
     "output_type": "stream",
     "text": [
      "[23:33:50] < Warning >   Several pickle files are available for this model: ['model_4.pickle', 'model_4~00.pickle', 'model_4~01.pickle', 'model_4~02.pickle', 'model_4~03.pickle', 'model_4~04.pickle', 'model_4~05.pickle']. The file model_4~05.pickle is used to load the results.\n",
      "[23:33:50] < Warning >   Estimation results read from model_4~05.pickle. There is no guarantee that they correspond to the specified model.\n"
     ]
    },
    {
     "data": {
      "text/html": [
       "<div>\n",
       "<style scoped>\n",
       "    .dataframe tbody tr th:only-of-type {\n",
       "        vertical-align: middle;\n",
       "    }\n",
       "\n",
       "    .dataframe tbody tr th {\n",
       "        vertical-align: top;\n",
       "    }\n",
       "\n",
       "    .dataframe thead th {\n",
       "        text-align: right;\n",
       "    }\n",
       "</style>\n",
       "<table border=\"1\" class=\"dataframe\">\n",
       "  <thead>\n",
       "    <tr style=\"text-align: right;\">\n",
       "      <th></th>\n",
       "      <th>Value</th>\n",
       "      <th>Rob. Std err</th>\n",
       "      <th>Rob. t-test</th>\n",
       "      <th>Rob. p-value</th>\n",
       "    </tr>\n",
       "  </thead>\n",
       "  <tbody>\n",
       "    <tr>\n",
       "      <th>MU_motorized</th>\n",
       "      <td>2.013839</td>\n",
       "      <td>0.262930</td>\n",
       "      <td>7.659221</td>\n",
       "      <td>1.865175e-14</td>\n",
       "    </tr>\n",
       "    <tr>\n",
       "      <th>asc_cycling</th>\n",
       "      <td>-0.958242</td>\n",
       "      <td>0.279986</td>\n",
       "      <td>-3.422464</td>\n",
       "      <td>6.205625e-04</td>\n",
       "    </tr>\n",
       "    <tr>\n",
       "      <th>asc_driving</th>\n",
       "      <td>2.099449</td>\n",
       "      <td>0.266762</td>\n",
       "      <td>7.870112</td>\n",
       "      <td>3.552714e-15</td>\n",
       "    </tr>\n",
       "    <tr>\n",
       "      <th>asc_public</th>\n",
       "      <td>2.778848</td>\n",
       "      <td>0.198489</td>\n",
       "      <td>14.000025</td>\n",
       "      <td>0.000000e+00</td>\n",
       "    </tr>\n",
       "    <tr>\n",
       "      <th>beta_cost</th>\n",
       "      <td>-0.037368</td>\n",
       "      <td>0.010140</td>\n",
       "      <td>-3.685198</td>\n",
       "      <td>2.285249e-04</td>\n",
       "    </tr>\n",
       "    <tr>\n",
       "      <th>beta_driving_traffic_percent</th>\n",
       "      <td>-1.401981</td>\n",
       "      <td>0.229755</td>\n",
       "      <td>-6.102066</td>\n",
       "      <td>1.047060e-09</td>\n",
       "    </tr>\n",
       "    <tr>\n",
       "      <th>beta_drivinglicense</th>\n",
       "      <td>0.844761</td>\n",
       "      <td>0.102602</td>\n",
       "      <td>8.233414</td>\n",
       "      <td>2.220446e-16</td>\n",
       "    </tr>\n",
       "    <tr>\n",
       "      <th>beta_time_cycling</th>\n",
       "      <td>-1.878757</td>\n",
       "      <td>0.240590</td>\n",
       "      <td>-7.808971</td>\n",
       "      <td>5.773160e-15</td>\n",
       "    </tr>\n",
       "    <tr>\n",
       "      <th>beta_time_driving</th>\n",
       "      <td>-1.413580</td>\n",
       "      <td>0.211469</td>\n",
       "      <td>-6.684587</td>\n",
       "      <td>2.315770e-11</td>\n",
       "    </tr>\n",
       "    <tr>\n",
       "      <th>beta_time_public</th>\n",
       "      <td>-1.206481</td>\n",
       "      <td>0.173128</td>\n",
       "      <td>-6.968712</td>\n",
       "      <td>3.198553e-12</td>\n",
       "    </tr>\n",
       "    <tr>\n",
       "      <th>beta_time_walk</th>\n",
       "      <td>-4.366550</td>\n",
       "      <td>0.276533</td>\n",
       "      <td>-15.790349</td>\n",
       "      <td>0.000000e+00</td>\n",
       "    </tr>\n",
       "    <tr>\n",
       "      <th>lambda_boxcox</th>\n",
       "      <td>0.286016</td>\n",
       "      <td>0.058359</td>\n",
       "      <td>4.900950</td>\n",
       "      <td>9.537447e-07</td>\n",
       "    </tr>\n",
       "  </tbody>\n",
       "</table>\n",
       "</div>"
      ],
      "text/plain": [
       "                                 Value  Rob. Std err  Rob. t-test  \\\n",
       "MU_motorized                  2.013839      0.262930     7.659221   \n",
       "asc_cycling                  -0.958242      0.279986    -3.422464   \n",
       "asc_driving                   2.099449      0.266762     7.870112   \n",
       "asc_public                    2.778848      0.198489    14.000025   \n",
       "beta_cost                    -0.037368      0.010140    -3.685198   \n",
       "beta_driving_traffic_percent -1.401981      0.229755    -6.102066   \n",
       "beta_drivinglicense           0.844761      0.102602     8.233414   \n",
       "beta_time_cycling            -1.878757      0.240590    -7.808971   \n",
       "beta_time_driving            -1.413580      0.211469    -6.684587   \n",
       "beta_time_public             -1.206481      0.173128    -6.968712   \n",
       "beta_time_walk               -4.366550      0.276533   -15.790349   \n",
       "lambda_boxcox                 0.286016      0.058359     4.900950   \n",
       "\n",
       "                              Rob. p-value  \n",
       "MU_motorized                  1.865175e-14  \n",
       "asc_cycling                   6.205625e-04  \n",
       "asc_driving                   3.552714e-15  \n",
       "asc_public                    0.000000e+00  \n",
       "beta_cost                     2.285249e-04  \n",
       "beta_driving_traffic_percent  1.047060e-09  \n",
       "beta_drivinglicense           2.220446e-16  \n",
       "beta_time_cycling             5.773160e-15  \n",
       "beta_time_driving             2.315770e-11  \n",
       "beta_time_public              3.198553e-12  \n",
       "beta_time_walk                0.000000e+00  \n",
       "lambda_boxcox                 9.537447e-07  "
      ]
     },
     "execution_count": 130,
     "metadata": {},
     "output_type": "execute_result"
    }
   ],
   "source": [
    "# reload the model\n",
    "V_walk = asc_walk + beta_time_walk * boxcox_time_1\n",
    "V_cycling = asc_cycling + beta_time_cycling * boxcox_time_2\n",
    "V_public = asc_public + beta_time_public * boxcox_time_3+ beta_cost * cost_transit \n",
    "V_driving = asc_driving + beta_drivinglicense*driving_license + beta_time_driving * boxcox_time_4 + beta_cost * cost_driving +beta_traffic*driving_traffic_percent\n",
    "\n",
    "V = {1: V_walk, 2: V_cycling, 3: V_public, 4: V_driving}\n",
    "\n",
    "MU_motorized = Beta('MU_motorized', 1, 0, None, 0)\n",
    "motorized = MU_motorized, [3, 4]\n",
    "non_motorized = 1 [1,2]\n",
    "nests = motorized, non_motorized\n",
    "logprob = models.lognested(V, None, nests, travel_mode)\n",
    "biogeme = bio.BIOGEME(database, logprob)\n",
    "biogeme.modelName = 'model_4'\n",
    "results4 = biogeme.estimate(recycle=True)\n",
    "results4.getEstimatedParameters()"
   ]
  },
  {
   "cell_type": "code",
   "execution_count": null,
   "id": "0d11c35e",
   "metadata": {},
   "outputs": [],
   "source": [
    "#boxcox_time_3_transfered = ((pow(dur_public,lambda_boxcox))-1)/lambda_boxcox \n",
    "#boxcox_time_4_transfered = (pow(dur_driving,lambda_boxcox)-1)/lambda_boxcox\n",
    "\n",
    "#V_public_transfered = asc_public + beta_time_public * boxcox_time_3_transfered+ beta_cost * cost_transit \n",
    "#V_driving_transfered = asc_driving + beta_drivinglicense*driving_license + beta_time_driving * boxcox_time_4_transfered + beta_cost * cost_driving +beta_traffic*driving_traffic_percent\n",
    "#vot_public = Derive(V_public_transfered,'dur_public') / Derive (V_public,'cost_transit')\n",
    "#vot_driving = Derive(V_driving_transfered,'dur_driving') / Derive (V_driving,'cost_driving')"
   ]
  },
  {
   "cell_type": "code",
   "execution_count": 63,
   "id": "8f598914",
   "metadata": {},
   "outputs": [],
   "source": [
    "# for original scenario:\n",
    "vot_public = Derive(V_public,'dur_public') / Derive (V_public,'cost_transit')\n",
    "vot_driving = Derive(V_driving,'dur_driving') / Derive (V_driving,'cost_driving')"
   ]
  },
  {
   "cell_type": "code",
   "execution_count": 65,
   "id": "6bee16ed",
   "metadata": {},
   "outputs": [
    {
     "name": "stdout",
     "output_type": "stream",
     "text": [
      "[10:58:22] < Warning >   Parameter asc_cycling not present in the model\n",
      "[10:58:22] < Warning >   Parameter beta_time_cycling not present in the model\n",
      "[10:58:22] < Warning >   Parameter beta_time_walk not present in the model\n"
     ]
    }
   ],
   "source": [
    "Weight = Variable('Weight')\n",
    "simulate = {\n",
    "    'Weight': Weight,\n",
    "    'VOT_public': vot_public,\n",
    "    'VOT_driving': vot_driving,\n",
    "}\n",
    "biosim = bio.BIOGEME(database, simulate)\n",
    "simulated_values = biosim.simulate(results3.getBetaValues())\n",
    "\n"
   ]
  },
  {
   "cell_type": "code",
   "execution_count": 66,
   "id": "45677e9f",
   "metadata": {},
   "outputs": [
    {
     "data": {
      "image/png": "[encoded data removed]",
      "text/plain": [
       "<Figure size 640x480 with 1 Axes>"
      ]
     },
     "metadata": {},
     "output_type": "display_data"
    }
   ],
   "source": [
    "_ = simulated_values['VOT_public'].hist(bins=200)"
   ]
  },
  {
   "cell_type": "code",
   "execution_count": 67,
   "id": "0405e580",
   "metadata": {},
   "outputs": [
    {
     "data": {
      "text/plain": [
       "52.30076280503739"
      ]
     },
     "execution_count": 67,
     "metadata": {},
     "output_type": "execute_result"
    }
   ],
   "source": [
    "avg_vot_pt = (\n",
    "    simulated_values['VOT_public'] * \n",
    "    simulated_values['Weight']\n",
    ").sum() / simulated_values['Weight'].sum()\n",
    "\n",
    "avg_vot_pt"
   ]
  },
  {
   "cell_type": "code",
   "execution_count": 68,
   "id": "8d40cf38",
   "metadata": {},
   "outputs": [
    {
     "data": {
      "text/plain": [
       "97.30850376597087"
      ]
     },
     "execution_count": 68,
     "metadata": {},
     "output_type": "execute_result"
    }
   ],
   "source": [
    "avg_vot_driving = (\n",
    "    simulated_values['VOT_driving'] * \n",
    "    simulated_values['Weight']\n",
    ").sum() / simulated_values['Weight'].sum()\n",
    "avg_vot_driving"
   ]
  },
  {
   "cell_type": "code",
   "execution_count": 142,
   "id": "bbaea9ea",
   "metadata": {},
   "outputs": [
    {
     "name": "stdout",
     "output_type": "stream",
     "text": [
      "Original scenario:\n",
      "Average value of time for Public Transport: 75.9 GBP/hour\n",
      "Average value of time for Driving: 146 GBP/hour\n"
     ]
    }
   ],
   "source": [
    "print('Original scenario:')\n",
    "print(f'Average value of time for Public Transport: {avg_vot_pt:.2f} GBP/hour')\n",
    "print(f'Average value of time for Driving: {avg_vot_driving:.2f} GBP/hour')"
   ]
  },
  {
   "cell_type": "code",
   "execution_count": 143,
   "id": "df089b34",
   "metadata": {},
   "outputs": [
    {
     "name": "stdout",
     "output_type": "stream",
     "text": [
      "[23:59:43] < Warning >   Parameter MU_motorized not present in the model\n",
      "[23:59:43] < Warning >   Parameter asc_cycling not present in the model\n",
      "[23:59:43] < Warning >   Parameter beta_time_cycling not present in the model\n",
      "[23:59:43] < Warning >   Parameter beta_time_walk not present in the model\n"
     ]
    }
   ],
   "source": [
    "# for the first scenario:\n",
    "V_public = asc_public + beta_time_public * boxcox_time_3+ beta_cost * cost_transit \n",
    "V_driving = asc_driving + beta_time_driving * boxcox_time_4 + beta_cost * cost_driving*1.15 + beta_drivinglicense * driving_license +beta_traffic*driving_traffic_percent\n",
    "\n",
    "vot_public = Derive(V_public,'dur_public') / Derive (V_public,'cost_transit')\n",
    "vot_driving = Derive(V_driving,'dur_driving') / Derive (V_driving,'cost_driving')\n",
    "\n",
    "simulate = {\n",
    "    'Weight': Weight,\n",
    "    'VOT_public': vot_public,\n",
    "    'VOT_driving': vot_driving,\n",
    "}\n",
    "biosim = bio.BIOGEME(database, simulate)\n",
    "simulated_values = biosim.simulate(results4.getBetaValues())\n"
   ]
  },
  {
   "cell_type": "code",
   "execution_count": 144,
   "id": "bb39458f",
   "metadata": {},
   "outputs": [
    {
     "data": {
      "text/plain": [
       "75.92543985852025"
      ]
     },
     "execution_count": 144,
     "metadata": {},
     "output_type": "execute_result"
    }
   ],
   "source": [
    "avg_vot_pt = (\n",
    "    simulated_values['VOT_public'] * \n",
    "    simulated_values['Weight']\n",
    ").sum() / simulated_values['Weight'].sum()\n",
    "\n",
    "avg_vot_pt"
   ]
  },
  {
   "cell_type": "code",
   "execution_count": 145,
   "id": "45dd447f",
   "metadata": {},
   "outputs": [
    {
     "data": {
      "text/plain": [
       "126.87289558495488"
      ]
     },
     "execution_count": 145,
     "metadata": {},
     "output_type": "execute_result"
    }
   ],
   "source": [
    "avg_vot_driving = (\n",
    "    simulated_values['VOT_driving'] * \n",
    "    simulated_values['Weight']\n",
    ").sum() / simulated_values['Weight'].sum()\n",
    "avg_vot_driving"
   ]
  },
  {
   "cell_type": "code",
   "execution_count": 146,
   "id": "0a8751f0",
   "metadata": {},
   "outputs": [
    {
     "name": "stdout",
     "output_type": "stream",
     "text": [
      "First scenario:\n",
      "Average value of time for Public Transport: 75.9 GBP/hour\n",
      "Average value of time for Driving: 127 GBP/hour\n"
     ]
    }
   ],
   "source": [
    "print('First scenario:')\n",
    "print(f'Average value of time for Public Transport: {avg_vot_pt:.3g} GBP/hour')\n",
    "print(f'Average value of time for Driving: {avg_vot_driving:.3g} GBP/hour')"
   ]
  },
  {
   "cell_type": "code",
   "execution_count": 147,
   "id": "ed986ab8",
   "metadata": {},
   "outputs": [
    {
     "name": "stdout",
     "output_type": "stream",
     "text": [
      "[00:02:41] < Warning >   Parameter MU_motorized not present in the model\n",
      "[00:02:41] < Warning >   Parameter asc_cycling not present in the model\n",
      "[00:02:41] < Warning >   Parameter beta_time_cycling not present in the model\n",
      "[00:02:41] < Warning >   Parameter beta_time_walk not present in the model\n"
     ]
    }
   ],
   "source": [
    "# for the second scenario:\n",
    "V_public = asc_public + beta_time_public * boxcox_time_3+ beta_cost * cost_transit*0.85 \n",
    "V_driving = asc_driving + beta_time_driving * boxcox_time_4 + beta_cost * cost_driving + beta_drivinglicense * driving_license +beta_traffic*driving_traffic_percent\n",
    "\n",
    "vot_public = Derive(V_public,'dur_public') / Derive (V_public,'cost_transit')\n",
    "vot_driving = Derive(V_driving,'dur_driving') / Derive (V_driving,'cost_driving')\n",
    "\n",
    "simulate = {\n",
    "    'Weight': Weight,\n",
    "    'VOT_public': vot_public,\n",
    "    'VOT_driving': vot_driving,\n",
    "}\n",
    "biosim = bio.BIOGEME(database, simulate)\n",
    "simulated_values = biosim.simulate(results4.getBetaValues())"
   ]
  },
  {
   "cell_type": "code",
   "execution_count": 148,
   "id": "489ba034",
   "metadata": {},
   "outputs": [
    {
     "data": {
      "text/plain": [
       "145.9038268978126"
      ]
     },
     "execution_count": 148,
     "metadata": {},
     "output_type": "execute_result"
    }
   ],
   "source": [
    "avg_vot_pt = (\n",
    "    simulated_values['VOT_public'] * \n",
    "    simulated_values['Weight']\n",
    ").sum() / simulated_values['Weight'].sum()\n",
    "avg_vot_driving = (\n",
    "    simulated_values['VOT_driving'] * \n",
    "    simulated_values['Weight']\n",
    ").sum() / simulated_values['Weight'].sum()\n"
   ]
  },
  {
   "cell_type": "code",
   "execution_count": 149,
   "id": "0215100e",
   "metadata": {},
   "outputs": [
    {
     "name": "stdout",
     "output_type": "stream",
     "text": [
      "First scenario:\n",
      "Average value of time for Public Transport: 89.3 GBP/hour\n",
      "Average value of time for Driving: 146 GBP/hour\n"
     ]
    }
   ],
   "source": [
    "print('First scenario:')\n",
    "print(f'Average value of time for Public Transport: {avg_vot_pt:.3g} GBP/hour')\n",
    "print(f'Average value of time for Driving: {avg_vot_driving:.3g} GBP/hour')"
   ]
  },
  {
   "cell_type": "markdown",
   "id": "f593962d",
   "metadata": {},
   "source": [
    "## Aggregate elasticity"
   ]
  },
  {
   "cell_type": "markdown",
   "id": "c2a0176d",
   "metadata": {},
   "source": [
    "Disaggregate elasticity\n",
    "$$\n",
    "E_{x_{i n k}}^{P_{n}(i)}=\\frac{\\partial P_{n}(i)}{\\partial x_{i n k}} \\frac{x_{i n k}}{P_{n}(i)}\n",
    "$$\n",
    "Aggregate elasticity\n",
    "$$\n",
    "\\begin{aligned}\n",
    "E_{x_{j k}}^{\\widehat{x^{\\prime}}(i)} & =\\frac{\\partial \\widehat{W}(i)}{\\partial x_{j k}} \\frac{x_{j k}}{\\widehat{W}(i)} \\\\\n",
    "& =\\frac{1}{S} \\sum_{n=1}^{N} \\omega_{n} \\frac{P_{n}(i)}{P_{n}(i)} \\frac{\\partial P_{n}(i)}{\\partial x_{j k}} \\frac{S x_{j k}}{\\sum_{\\ell=1}^{N} \\omega_{\\ell} P_{\\ell}(i)} \\\\\n",
    "& =\\frac{1}{\\sum_{\\ell=1}^{N} \\omega_{\\ell} P_{\\ell}(i)} \\sum_{n=1}^{N} \\omega_{n} P_{n}(i) E_{x_{j n k}}^{P_{n}(i)} .\n",
    "\\end{aligned}\n",
    "$$"
   ]
  },
  {
   "cell_type": "code",
   "execution_count": 150,
   "id": "2a652a19",
   "metadata": {},
   "outputs": [],
   "source": [
    "from biogeme.expressions import Derive"
   ]
  },
  {
   "cell_type": "code",
   "execution_count": 157,
   "id": "09bfd5ab",
   "metadata": {},
   "outputs": [],
   "source": [
    "def calculate_direct_elasticity(utility):\n",
    "    \n",
    "    prob_public = models.nested(utility, None, nests,3)\n",
    "    prob_driving = models.nested(utility, None, nests,4)\n",
    "    \n",
    "\n",
    "    simulate = {\n",
    "    'Weight': Weight,\n",
    "    'Prob. public': prob_public,\n",
    "    'Prob. driving': prob_driving,\n",
    "    'Dis. Elas. public': Derive(prob_public,'cost_transit') * cost_transit / prob_public,\n",
    "    'Dis. Elas. driving': Derive(prob_driving, 'cost_driving') * cost_driving / prob_driving,\n",
    "    }\n",
    "\n",
    "\n",
    "    biosim = bio.BIOGEME(database, simulate)\n",
    "    simulated_values = biosim.simulate(results4.getBetaValues())\n",
    "    \n",
    "    simulated_values['Weighted public'] = simulated_values['Weight']*simulated_values['Prob. public']\n",
    "    simulated_values['Weighted driving'] = simulated_values['Weight']*simulated_values['Prob. driving']\n",
    "    \n",
    "    norm_public = simulated_values['Weighted public'].sum()\n",
    "    norm_driving = simulated_values['Weighted driving'].sum()\n",
    "\n",
    "    Aggregate_elas_public = (simulated_values['Weighted public']*simulated_values['Dis. Elas. public']).sum()/norm_public\n",
    "    Aggregate_elas_driving = (simulated_values['Weighted driving']*simulated_values['Dis. Elas. driving']).sum()/norm_driving\n",
    "\n",
    "    return Aggregate_elas_public, Aggregate_elas_driving, norm_public, norm_driving"
   ]
  },
  {
   "cell_type": "code",
   "execution_count": 158,
   "id": "687dd82d",
   "metadata": {},
   "outputs": [
    {
     "data": {
      "text/plain": [
       "(-0.04664386606950782,\n",
       " -0.04130276065239584,\n",
       " 1813.2533804879056,\n",
       " 2092.98908341553)"
      ]
     },
     "execution_count": 158,
     "metadata": {},
     "output_type": "execute_result"
    }
   ],
   "source": [
    "calculate_direct_elasticity(V)"
   ]
  },
  {
   "cell_type": "code",
   "execution_count": 159,
   "id": "8d4b09e4",
   "metadata": {},
   "outputs": [],
   "source": [
    "def calculate_cross_elasticity(utility):\n",
    "    \n",
    "    prob_public = models.nested(utility, None, nests,3)\n",
    "    prob_driving = models.nested(utility, None, nests,4)\n",
    "    \n",
    "\n",
    "    simulate = {\n",
    "    'Weight': Weight,\n",
    "    'Prob. public': prob_public,\n",
    "    'Prob. driving': prob_driving,\n",
    "    'Dis. Elas. public': Derive(prob_public,'cost_driving') * cost_driving / prob_public,\n",
    "    'Dis. Elas. driving': Derive(prob_driving, 'cost_transit') * cost_transit / prob_driving,\n",
    "    }\n",
    "\n",
    "\n",
    "    biosim = bio.BIOGEME(database, simulate)\n",
    "    simulated_values = biosim.simulate(results4.getBetaValues())\n",
    "    \n",
    "    simulated_values['Weighted public'] = simulated_values['Weight']*simulated_values['Prob. public']\n",
    "    simulated_values['Weighted driving'] = simulated_values['Weight']*simulated_values['Prob. driving']\n",
    "    \n",
    "    norm_public = simulated_values['Weighted public'].sum()\n",
    "    norm_driving = simulated_values['Weighted driving'].sum()\n",
    "\n",
    "    Aggregate_elas_public = (simulated_values['Weighted public']*simulated_values['Dis. Elas. public']).sum()/norm_public\n",
    "    Aggregate_elas_driving = (simulated_values['Weighted driving']*simulated_values['Dis. Elas. driving']).sum()/norm_driving\n",
    "\n",
    "    return Aggregate_elas_public, Aggregate_elas_driving"
   ]
  },
  {
   "cell_type": "code",
   "execution_count": 160,
   "id": "49044858",
   "metadata": {},
   "outputs": [
    {
     "data": {
      "text/plain": [
       "(0.043672664188896544, 0.03596934468224017)"
      ]
     },
     "execution_count": 160,
     "metadata": {},
     "output_type": "execute_result"
    }
   ],
   "source": [
    "calculate_cross_elasticity(V)"
   ]
  },
  {
   "cell_type": "code",
   "execution_count": null,
   "id": "e0beaf45",
   "metadata": {},
   "outputs": [],
   "source": []
  },
  {
   "cell_type": "code",
   "execution_count": null,
   "id": "16e6dffa",
   "metadata": {},
   "outputs": [],
   "source": []
  }
 ],
 "metadata": {
  "kernelspec": {
   "display_name": "Python 3 (ipykernel)",
   "language": "python",
   "name": "python3"
  },
  "language_info": {
   "codemirror_mode": {
    "name": "ipython",
    "version": 3
   },
   "file_extension": ".py",
   "mimetype": "text/x-python",
   "name": "python",
   "nbconvert_exporter": "python",
   "pygments_lexer": "ipython3",
   "version": "3.9.15"
  },
  "vscode": {
   "interpreter": {
    "hash": "8903f8c00ad14786716d5e6725857786035cd6e980c848e3b9d7f4ac47bf3288"
   }
  }
 },
 "nbformat": 4,
 "nbformat_minor": 5
}
