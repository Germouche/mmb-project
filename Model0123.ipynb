{
 "cells": [
  {
   "cell_type": "code",
   "execution_count": 1,
   "id": "ab0fd6f1-87c0-4c90-a637-1fe96242cdc0",
   "metadata": {},
   "outputs": [],
   "source": [
    "import pandas as pd\n",
    "import biogeme.database as db\n",
    "import biogeme.biogeme as bio\n",
    "from biogeme.expressions import Derive, Beta, Variable, log, exp\n",
    "from biogeme import models\n",
    "from biogeme import results as res"
   ]
  },
  {
   "cell_type": "code",
   "execution_count": 2,
   "id": "22b376cb-77ed-40ae-b643-496e0c103424",
   "metadata": {
    "scrolled": true
   },
   "outputs": [
    {
     "data": {
      "text/html": [
       "<div>\n",
       "<style scoped>\n",
       "    .dataframe tbody tr th:only-of-type {\n",
       "        vertical-align: middle;\n",
       "    }\n",
       "\n",
       "    .dataframe tbody tr th {\n",
       "        vertical-align: top;\n",
       "    }\n",
       "\n",
       "    .dataframe thead th {\n",
       "        text-align: right;\n",
       "    }\n",
       "</style>\n",
       "<table border=\"1\" class=\"dataframe\">\n",
       "  <thead>\n",
       "    <tr style=\"text-align: right;\">\n",
       "      <th></th>\n",
       "      <th>trip_id</th>\n",
       "      <th>household_id</th>\n",
       "      <th>person_n</th>\n",
       "      <th>trip_n</th>\n",
       "      <th>travel_mode</th>\n",
       "      <th>purpose</th>\n",
       "      <th>fueltype</th>\n",
       "      <th>faretype</th>\n",
       "      <th>bus_scale</th>\n",
       "      <th>survey_year</th>\n",
       "      <th>...</th>\n",
       "      <th>dur_pt_access</th>\n",
       "      <th>dur_pt_rail</th>\n",
       "      <th>dur_pt_bus</th>\n",
       "      <th>dur_pt_int</th>\n",
       "      <th>pt_interchanges</th>\n",
       "      <th>dur_driving</th>\n",
       "      <th>cost_transit</th>\n",
       "      <th>cost_driving_fuel</th>\n",
       "      <th>cost_driving_ccharge</th>\n",
       "      <th>driving_traffic_percent</th>\n",
       "    </tr>\n",
       "  </thead>\n",
       "  <tbody>\n",
       "    <tr>\n",
       "      <th>0</th>\n",
       "      <td>20</td>\n",
       "      <td>5</td>\n",
       "      <td>1</td>\n",
       "      <td>0</td>\n",
       "      <td>4</td>\n",
       "      <td>3</td>\n",
       "      <td>1</td>\n",
       "      <td>5</td>\n",
       "      <td>0.0</td>\n",
       "      <td>1</td>\n",
       "      <td>...</td>\n",
       "      <td>0.381667</td>\n",
       "      <td>0.000000</td>\n",
       "      <td>0.062222</td>\n",
       "      <td>0.000000</td>\n",
       "      <td>0</td>\n",
       "      <td>0.117222</td>\n",
       "      <td>0.00</td>\n",
       "      <td>0.41</td>\n",
       "      <td>0.0</td>\n",
       "      <td>0.097156</td>\n",
       "    </tr>\n",
       "    <tr>\n",
       "      <th>1</th>\n",
       "      <td>41</td>\n",
       "      <td>9</td>\n",
       "      <td>3</td>\n",
       "      <td>0</td>\n",
       "      <td>4</td>\n",
       "      <td>3</td>\n",
       "      <td>1</td>\n",
       "      <td>5</td>\n",
       "      <td>0.0</td>\n",
       "      <td>1</td>\n",
       "      <td>...</td>\n",
       "      <td>0.146944</td>\n",
       "      <td>0.000000</td>\n",
       "      <td>0.225000</td>\n",
       "      <td>0.000000</td>\n",
       "      <td>0</td>\n",
       "      <td>0.200833</td>\n",
       "      <td>0.00</td>\n",
       "      <td>0.48</td>\n",
       "      <td>0.0</td>\n",
       "      <td>0.378976</td>\n",
       "    </tr>\n",
       "    <tr>\n",
       "      <th>2</th>\n",
       "      <td>69</td>\n",
       "      <td>13</td>\n",
       "      <td>2</td>\n",
       "      <td>1</td>\n",
       "      <td>4</td>\n",
       "      <td>3</td>\n",
       "      <td>1</td>\n",
       "      <td>1</td>\n",
       "      <td>1.0</td>\n",
       "      <td>1</td>\n",
       "      <td>...</td>\n",
       "      <td>0.029444</td>\n",
       "      <td>0.083333</td>\n",
       "      <td>0.735833</td>\n",
       "      <td>0.398056</td>\n",
       "      <td>3</td>\n",
       "      <td>0.716944</td>\n",
       "      <td>6.00</td>\n",
       "      <td>2.16</td>\n",
       "      <td>0.0</td>\n",
       "      <td>0.582720</td>\n",
       "    </tr>\n",
       "    <tr>\n",
       "      <th>3</th>\n",
       "      <td>102</td>\n",
       "      <td>20</td>\n",
       "      <td>2</td>\n",
       "      <td>0</td>\n",
       "      <td>2</td>\n",
       "      <td>3</td>\n",
       "      <td>1</td>\n",
       "      <td>1</td>\n",
       "      <td>1.0</td>\n",
       "      <td>1</td>\n",
       "      <td>...</td>\n",
       "      <td>0.339722</td>\n",
       "      <td>0.183333</td>\n",
       "      <td>0.116667</td>\n",
       "      <td>0.266667</td>\n",
       "      <td>1</td>\n",
       "      <td>0.250833</td>\n",
       "      <td>3.00</td>\n",
       "      <td>0.89</td>\n",
       "      <td>0.0</td>\n",
       "      <td>0.170543</td>\n",
       "    </tr>\n",
       "    <tr>\n",
       "      <th>4</th>\n",
       "      <td>105</td>\n",
       "      <td>21</td>\n",
       "      <td>0</td>\n",
       "      <td>1</td>\n",
       "      <td>4</td>\n",
       "      <td>3</td>\n",
       "      <td>1</td>\n",
       "      <td>1</td>\n",
       "      <td>1.0</td>\n",
       "      <td>1</td>\n",
       "      <td>...</td>\n",
       "      <td>0.126389</td>\n",
       "      <td>0.000000</td>\n",
       "      <td>0.150000</td>\n",
       "      <td>0.000000</td>\n",
       "      <td>0</td>\n",
       "      <td>0.125833</td>\n",
       "      <td>1.50</td>\n",
       "      <td>0.37</td>\n",
       "      <td>0.0</td>\n",
       "      <td>0.154525</td>\n",
       "    </tr>\n",
       "    <tr>\n",
       "      <th>...</th>\n",
       "      <td>...</td>\n",
       "      <td>...</td>\n",
       "      <td>...</td>\n",
       "      <td>...</td>\n",
       "      <td>...</td>\n",
       "      <td>...</td>\n",
       "      <td>...</td>\n",
       "      <td>...</td>\n",
       "      <td>...</td>\n",
       "      <td>...</td>\n",
       "      <td>...</td>\n",
       "      <td>...</td>\n",
       "      <td>...</td>\n",
       "      <td>...</td>\n",
       "      <td>...</td>\n",
       "      <td>...</td>\n",
       "      <td>...</td>\n",
       "      <td>...</td>\n",
       "      <td>...</td>\n",
       "      <td>...</td>\n",
       "      <td>...</td>\n",
       "    </tr>\n",
       "    <tr>\n",
       "      <th>4995</th>\n",
       "      <td>80998</td>\n",
       "      <td>17591</td>\n",
       "      <td>0</td>\n",
       "      <td>5</td>\n",
       "      <td>4</td>\n",
       "      <td>3</td>\n",
       "      <td>1</td>\n",
       "      <td>5</td>\n",
       "      <td>0.0</td>\n",
       "      <td>3</td>\n",
       "      <td>...</td>\n",
       "      <td>0.189167</td>\n",
       "      <td>0.000000</td>\n",
       "      <td>0.117778</td>\n",
       "      <td>0.000000</td>\n",
       "      <td>0</td>\n",
       "      <td>0.082500</td>\n",
       "      <td>0.00</td>\n",
       "      <td>0.22</td>\n",
       "      <td>10.5</td>\n",
       "      <td>0.239057</td>\n",
       "    </tr>\n",
       "    <tr>\n",
       "      <th>4996</th>\n",
       "      <td>81000</td>\n",
       "      <td>17592</td>\n",
       "      <td>0</td>\n",
       "      <td>0</td>\n",
       "      <td>3</td>\n",
       "      <td>3</td>\n",
       "      <td>6</td>\n",
       "      <td>5</td>\n",
       "      <td>0.0</td>\n",
       "      <td>3</td>\n",
       "      <td>...</td>\n",
       "      <td>0.105278</td>\n",
       "      <td>0.000000</td>\n",
       "      <td>0.220278</td>\n",
       "      <td>0.000000</td>\n",
       "      <td>0</td>\n",
       "      <td>0.213611</td>\n",
       "      <td>0.00</td>\n",
       "      <td>0.52</td>\n",
       "      <td>0.0</td>\n",
       "      <td>0.412224</td>\n",
       "    </tr>\n",
       "    <tr>\n",
       "      <th>4997</th>\n",
       "      <td>81015</td>\n",
       "      <td>17597</td>\n",
       "      <td>0</td>\n",
       "      <td>3</td>\n",
       "      <td>4</td>\n",
       "      <td>3</td>\n",
       "      <td>1</td>\n",
       "      <td>5</td>\n",
       "      <td>0.0</td>\n",
       "      <td>3</td>\n",
       "      <td>...</td>\n",
       "      <td>0.343056</td>\n",
       "      <td>0.000000</td>\n",
       "      <td>0.177500</td>\n",
       "      <td>0.000000</td>\n",
       "      <td>0</td>\n",
       "      <td>0.189444</td>\n",
       "      <td>0.00</td>\n",
       "      <td>0.76</td>\n",
       "      <td>0.0</td>\n",
       "      <td>0.086510</td>\n",
       "    </tr>\n",
       "    <tr>\n",
       "      <th>4998</th>\n",
       "      <td>81041</td>\n",
       "      <td>17604</td>\n",
       "      <td>2</td>\n",
       "      <td>4</td>\n",
       "      <td>3</td>\n",
       "      <td>1</td>\n",
       "      <td>1</td>\n",
       "      <td>2</td>\n",
       "      <td>0.0</td>\n",
       "      <td>3</td>\n",
       "      <td>...</td>\n",
       "      <td>0.344444</td>\n",
       "      <td>0.316667</td>\n",
       "      <td>0.000000</td>\n",
       "      <td>0.083333</td>\n",
       "      <td>1</td>\n",
       "      <td>0.386111</td>\n",
       "      <td>1.05</td>\n",
       "      <td>0.98</td>\n",
       "      <td>0.0</td>\n",
       "      <td>0.340288</td>\n",
       "    </tr>\n",
       "    <tr>\n",
       "      <th>4999</th>\n",
       "      <td>81062</td>\n",
       "      <td>17607</td>\n",
       "      <td>0</td>\n",
       "      <td>4</td>\n",
       "      <td>3</td>\n",
       "      <td>5</td>\n",
       "      <td>6</td>\n",
       "      <td>1</td>\n",
       "      <td>1.0</td>\n",
       "      <td>3</td>\n",
       "      <td>...</td>\n",
       "      <td>0.069444</td>\n",
       "      <td>0.000000</td>\n",
       "      <td>0.166389</td>\n",
       "      <td>0.000000</td>\n",
       "      <td>0</td>\n",
       "      <td>0.146111</td>\n",
       "      <td>1.50</td>\n",
       "      <td>0.28</td>\n",
       "      <td>0.0</td>\n",
       "      <td>0.653992</td>\n",
       "    </tr>\n",
       "  </tbody>\n",
       "</table>\n",
       "<p>5000 rows × 32 columns</p>\n",
       "</div>"
      ],
      "text/plain": [
       "      trip_id  household_id  person_n  trip_n  travel_mode  purpose  fueltype  \\\n",
       "0          20             5         1       0            4        3         1   \n",
       "1          41             9         3       0            4        3         1   \n",
       "2          69            13         2       1            4        3         1   \n",
       "3         102            20         2       0            2        3         1   \n",
       "4         105            21         0       1            4        3         1   \n",
       "...       ...           ...       ...     ...          ...      ...       ...   \n",
       "4995    80998         17591         0       5            4        3         1   \n",
       "4996    81000         17592         0       0            3        3         6   \n",
       "4997    81015         17597         0       3            4        3         1   \n",
       "4998    81041         17604         2       4            3        1         1   \n",
       "4999    81062         17607         0       4            3        5         6   \n",
       "\n",
       "      faretype  bus_scale  survey_year  ...  dur_pt_access  dur_pt_rail  \\\n",
       "0            5        0.0            1  ...       0.381667     0.000000   \n",
       "1            5        0.0            1  ...       0.146944     0.000000   \n",
       "2            1        1.0            1  ...       0.029444     0.083333   \n",
       "3            1        1.0            1  ...       0.339722     0.183333   \n",
       "4            1        1.0            1  ...       0.126389     0.000000   \n",
       "...        ...        ...          ...  ...            ...          ...   \n",
       "4995         5        0.0            3  ...       0.189167     0.000000   \n",
       "4996         5        0.0            3  ...       0.105278     0.000000   \n",
       "4997         5        0.0            3  ...       0.343056     0.000000   \n",
       "4998         2        0.0            3  ...       0.344444     0.316667   \n",
       "4999         1        1.0            3  ...       0.069444     0.000000   \n",
       "\n",
       "      dur_pt_bus  dur_pt_int  pt_interchanges  dur_driving  cost_transit  \\\n",
       "0       0.062222    0.000000                0     0.117222          0.00   \n",
       "1       0.225000    0.000000                0     0.200833          0.00   \n",
       "2       0.735833    0.398056                3     0.716944          6.00   \n",
       "3       0.116667    0.266667                1     0.250833          3.00   \n",
       "4       0.150000    0.000000                0     0.125833          1.50   \n",
       "...          ...         ...              ...          ...           ...   \n",
       "4995    0.117778    0.000000                0     0.082500          0.00   \n",
       "4996    0.220278    0.000000                0     0.213611          0.00   \n",
       "4997    0.177500    0.000000                0     0.189444          0.00   \n",
       "4998    0.000000    0.083333                1     0.386111          1.05   \n",
       "4999    0.166389    0.000000                0     0.146111          1.50   \n",
       "\n",
       "      cost_driving_fuel  cost_driving_ccharge  driving_traffic_percent  \n",
       "0                  0.41                   0.0                 0.097156  \n",
       "1                  0.48                   0.0                 0.378976  \n",
       "2                  2.16                   0.0                 0.582720  \n",
       "3                  0.89                   0.0                 0.170543  \n",
       "4                  0.37                   0.0                 0.154525  \n",
       "...                 ...                   ...                      ...  \n",
       "4995               0.22                  10.5                 0.239057  \n",
       "4996               0.52                   0.0                 0.412224  \n",
       "4997               0.76                   0.0                 0.086510  \n",
       "4998               0.98                   0.0                 0.340288  \n",
       "4999               0.28                   0.0                 0.653992  \n",
       "\n",
       "[5000 rows x 32 columns]"
      ]
     },
     "execution_count": 2,
     "metadata": {},
     "output_type": "execute_result"
    }
   ],
   "source": [
    "#data_file = \"http://transp-or.epfl.ch/data/lpmc.dat\"\n",
    "data_file='lpmc10.dat'\n",
    "lpmc = pd.read_csv(data_file, sep='\\t')\n",
    "lpmc"
   ]
  },
  {
   "cell_type": "code",
   "execution_count": 4,
   "id": "57ad7f23",
   "metadata": {},
   "outputs": [],
   "source": [
    "# cost_driving = cost_driving_fuel + cost_driving_ccharge #total costs of driving\n",
    "# dur_public = dur_pt_access + dur_pt_rail + dur_pt_bus + dur_pt_int #total duration of public transportation\n",
    "# lpmc['cost_driving']=lpmc['cost_driving_ccharge']+lpmc['cost_driving_fuel']\n",
    "# lpmc['dur_public']=lpmc['dur_pt_access']+lpmc['dur_pt_rail']+lpmc['dur_pt_bus']+lpmc['dur_pt_int']"
   ]
  },
  {
   "cell_type": "code",
   "execution_count": 3,
   "id": "7e1638dd-8977-4929-9608-98db08091327",
   "metadata": {},
   "outputs": [],
   "source": [
    "database = db.Database('trips', lpmc)"
   ]
  },
  {
   "cell_type": "code",
   "execution_count": 4,
   "id": "7ac0c800",
   "metadata": {},
   "outputs": [
    {
     "data": {
      "text/plain": [
       "Index(['trip_id', 'household_id', 'person_n', 'trip_n', 'travel_mode',\n",
       "       'purpose', 'fueltype', 'faretype', 'bus_scale', 'survey_year',\n",
       "       'travel_year', 'travel_month', 'travel_date', 'day_of_week',\n",
       "       'start_time', 'age', 'female', 'driving_license', 'car_ownership',\n",
       "       'distance', 'dur_walking', 'dur_cycling', 'dur_pt_access',\n",
       "       'dur_pt_rail', 'dur_pt_bus', 'dur_pt_int', 'pt_interchanges',\n",
       "       'dur_driving', 'cost_transit', 'cost_driving_fuel',\n",
       "       'cost_driving_ccharge', 'driving_traffic_percent'],\n",
       "      dtype='object')"
      ]
     },
     "execution_count": 4,
     "metadata": {},
     "output_type": "execute_result"
    }
   ],
   "source": [
    "lpmc.columns"
   ]
  },
  {
   "cell_type": "code",
   "execution_count": 5,
   "id": "dc6a42ac",
   "metadata": {},
   "outputs": [],
   "source": [
    "# define variables\n",
    "for col in lpmc.columns:\n",
    "    globals()[col]=Variable(col)"
   ]
  },
  {
   "cell_type": "code",
   "execution_count": 6,
   "id": "d21a728d",
   "metadata": {},
   "outputs": [],
   "source": [
    "cost_driving = database.DefineVariable('cost_driving',cost_driving_fuel + cost_driving_ccharge)\n",
    "dur_public = database.DefineVariable('dur_public', dur_pt_access + dur_pt_rail + dur_pt_bus + dur_pt_int)"
   ]
  },
  {
   "cell_type": "markdown",
   "id": "6e971850",
   "metadata": {},
   "source": [
    "# Choice availability"
   ]
  },
  {
   "cell_type": "code",
   "execution_count": 7,
   "id": "3d0eaedf",
   "metadata": {},
   "outputs": [
    {
     "data": {
      "text/plain": [
       "False    4511\n",
       "True      489\n",
       "dtype: int64"
      ]
     },
     "execution_count": 7,
     "metadata": {},
     "output_type": "execute_result"
    }
   ],
   "source": [
    "law_violators =(lpmc['driving_license']==0 )& (lpmc['travel_mode']==4)\n",
    "law_violators.value_counts()"
   ]
  },
  {
   "cell_type": "markdown",
   "id": "f1dbff8f-92a1-43db-8580-402006eab205",
   "metadata": {},
   "source": [
    "# Model 0\n",
    "We include alternative specific constants and generic time and cost parameters."
   ]
  },
  {
   "cell_type": "code",
   "execution_count": 8,
   "id": "8f68fac5-67ab-4c1c-a085-000e6da02cf0",
   "metadata": {},
   "outputs": [],
   "source": [
    "# asc_walk = Beta('asc_walk', 0, None, None, 1)\n",
    "asc_cycling = Beta('asc_cycling', 0, None, None, 0)\n",
    "asc_public = Beta('asc_public', 0, None, None, 0)\n",
    "asc_driving = Beta('asc_driving', 0, None, None, 0)"
   ]
  },
  {
   "cell_type": "code",
   "execution_count": 9,
   "id": "65e4f07e-55e8-4d2c-8822-352414e129d4",
   "metadata": {},
   "outputs": [],
   "source": [
    "beta_cost = Beta('beta_cost', 0, None, None, 0)\n",
    "beta_time = Beta('beta_time', 0, None, None, 0)"
   ]
  },
  {
   "cell_type": "code",
   "execution_count": 10,
   "id": "b3b72660-61d9-4c8d-a39c-da162e2e962b",
   "metadata": {},
   "outputs": [],
   "source": [
    "V_walk = beta_time * dur_walking\n",
    "V_cycling = asc_cycling + beta_time * dur_cycling\n",
    "V_driving = asc_driving + beta_time * dur_driving + beta_cost * cost_driving\n",
    "V_public = asc_public + beta_time * dur_public + beta_cost * cost_transit"
   ]
  },
  {
   "cell_type": "code",
   "execution_count": 11,
   "id": "508e8b7d-31eb-4c0b-9a95-b7d3fb8a9ce3",
   "metadata": {},
   "outputs": [],
   "source": [
    "V = {1: V_walk, 2: V_cycling, 3: V_public, 4: V_driving}\n",
    "\n",
    "logprob = models.loglogit(V, None, travel_mode)"
   ]
  },
  {
   "cell_type": "code",
   "execution_count": 12,
   "id": "b7f11bd8-48cf-4591-9e46-d6953b1ac336",
   "metadata": {},
   "outputs": [],
   "source": [
    "biogeme = bio.BIOGEME(database, logprob)\n",
    "biogeme.modelName = 'model_base'"
   ]
  },
  {
   "cell_type": "code",
   "execution_count": 13,
   "id": "0d427dcd-ed96-4d14-a99b-e834e2ce3918",
   "metadata": {},
   "outputs": [
    {
     "name": "stdout",
     "output_type": "stream",
     "text": [
      "[15:47:26] < Warning >   Cannot read file __model_base.iter. Statement is ignored.\n"
     ]
    }
   ],
   "source": [
    "results0 = biogeme.estimate()"
   ]
  },
  {
   "cell_type": "code",
   "execution_count": 14,
   "id": "b4343066-e396-4fb4-8086-ba365e50944e",
   "metadata": {},
   "outputs": [
    {
     "name": "stdout",
     "output_type": "stream",
     "text": [
      "Number of estimated parameters:\t5\n",
      "Sample size:\t5000\n",
      "Excluded observations:\t0\n",
      "Init log likelihood:\t-6931.472\n",
      "Final log likelihood:\t-4722.972\n",
      "Likelihood ratio test for the init. model:\t4417\n",
      "Rho-square for the init. model:\t0.319\n",
      "Rho-square-bar for the init. model:\t0.318\n",
      "Akaike Information Criterion:\t9455.944\n",
      "Bayesian Information Criterion:\t9488.53\n",
      "Final gradient norm:\t1.0691E-03\n",
      "Nbr of threads:\t16\n",
      "\n"
     ]
    }
   ],
   "source": [
    "print(results0.printGeneralStatistics())"
   ]
  },
  {
   "cell_type": "code",
   "execution_count": 15,
   "id": "2bb99022-c8de-4876-8f8e-41037d03ed59",
   "metadata": {},
   "outputs": [
    {
     "data": {
      "text/html": [
       "<div>\n",
       "<style scoped>\n",
       "    .dataframe tbody tr th:only-of-type {\n",
       "        vertical-align: middle;\n",
       "    }\n",
       "\n",
       "    .dataframe tbody tr th {\n",
       "        vertical-align: top;\n",
       "    }\n",
       "\n",
       "    .dataframe thead th {\n",
       "        text-align: right;\n",
       "    }\n",
       "</style>\n",
       "<table border=\"1\" class=\"dataframe\">\n",
       "  <thead>\n",
       "    <tr style=\"text-align: right;\">\n",
       "      <th></th>\n",
       "      <th>Value</th>\n",
       "      <th>Rob. Std err</th>\n",
       "      <th>Rob. t-test</th>\n",
       "      <th>Rob. p-value</th>\n",
       "    </tr>\n",
       "  </thead>\n",
       "  <tbody>\n",
       "    <tr>\n",
       "      <th>asc_cycling</th>\n",
       "      <td>-3.660824</td>\n",
       "      <td>0.100795</td>\n",
       "      <td>-36.319469</td>\n",
       "      <td>0.0</td>\n",
       "    </tr>\n",
       "    <tr>\n",
       "      <th>asc_driving</th>\n",
       "      <td>-1.335138</td>\n",
       "      <td>0.076403</td>\n",
       "      <td>-17.474949</td>\n",
       "      <td>0.0</td>\n",
       "    </tr>\n",
       "    <tr>\n",
       "      <th>asc_public</th>\n",
       "      <td>-0.559066</td>\n",
       "      <td>0.052620</td>\n",
       "      <td>-10.624628</td>\n",
       "      <td>0.0</td>\n",
       "    </tr>\n",
       "    <tr>\n",
       "      <th>beta_cost</th>\n",
       "      <td>-0.149850</td>\n",
       "      <td>0.013780</td>\n",
       "      <td>-10.874260</td>\n",
       "      <td>0.0</td>\n",
       "    </tr>\n",
       "    <tr>\n",
       "      <th>beta_time</th>\n",
       "      <td>-5.410269</td>\n",
       "      <td>0.188336</td>\n",
       "      <td>-28.726735</td>\n",
       "      <td>0.0</td>\n",
       "    </tr>\n",
       "  </tbody>\n",
       "</table>\n",
       "</div>"
      ],
      "text/plain": [
       "                Value  Rob. Std err  Rob. t-test  Rob. p-value\n",
       "asc_cycling -3.660824      0.100795   -36.319469           0.0\n",
       "asc_driving -1.335138      0.076403   -17.474949           0.0\n",
       "asc_public  -0.559066      0.052620   -10.624628           0.0\n",
       "beta_cost   -0.149850      0.013780   -10.874260           0.0\n",
       "beta_time   -5.410269      0.188336   -28.726735           0.0"
      ]
     },
     "execution_count": 15,
     "metadata": {},
     "output_type": "execute_result"
    }
   ],
   "source": [
    "results0.getEstimatedParameters()"
   ]
  },
  {
   "cell_type": "code",
   "execution_count": 16,
   "id": "48510099",
   "metadata": {},
   "outputs": [],
   "source": [
    "file_0= open(\"results0.txt\",\"w+\")\n",
    "file_0.write(results0.getLaTeX())\n",
    "file_0.close()"
   ]
  },
  {
   "cell_type": "markdown",
   "id": "8eb82a3a-51dc-41bd-97d1-94177e548c23",
   "metadata": {},
   "source": [
    "# Model 1\n",
    "We define alternative specific time parameters."
   ]
  },
  {
   "cell_type": "code",
   "execution_count": 17,
   "id": "33f83c0c-6a62-4a3b-9657-865a438c44a2",
   "metadata": {},
   "outputs": [],
   "source": [
    "beta_time_walk = Beta('beta_time_walk', 0, None, None, 0)\n",
    "beta_time_cycling = Beta('beta_time_cycling', 0, None, None, 0)\n",
    "beta_time_driving = Beta('beta_time_driving', 0, None, None, 0)\n",
    "beta_time_public = Beta('beta_time_public', 0, None, None, 0)"
   ]
  },
  {
   "cell_type": "code",
   "execution_count": 18,
   "id": "26915e2a-4235-41d1-b6df-da5e62460069",
   "metadata": {},
   "outputs": [],
   "source": [
    "V_walk = beta_time_walk * dur_walking\n",
    "V_cycling = asc_cycling + beta_time_cycling * dur_cycling\n",
    "V_driving = asc_driving + beta_time_driving * dur_driving + beta_cost * cost_driving\n",
    "V_public = asc_public + beta_time_public * dur_public + beta_cost * cost_transit"
   ]
  },
  {
   "cell_type": "code",
   "execution_count": 19,
   "id": "b1c83641-821e-453e-8d80-4a3a1f32d8d9",
   "metadata": {},
   "outputs": [],
   "source": [
    "V = {1: V_walk, 2: V_cycling, 3: V_public, 4: V_driving}\n",
    "\n",
    "logprob = models.loglogit(V, None, travel_mode)"
   ]
  },
  {
   "cell_type": "code",
   "execution_count": 20,
   "id": "7b8b59b7-3475-4c8c-bb94-c53bfea17820",
   "metadata": {},
   "outputs": [],
   "source": [
    "biogeme = bio.BIOGEME(database, logprob)\n",
    "biogeme.modelName = 'model_1'"
   ]
  },
  {
   "cell_type": "code",
   "execution_count": 21,
   "id": "15153a33-7a9b-4b3a-be8f-7e0637d08eac",
   "metadata": {},
   "outputs": [
    {
     "name": "stdout",
     "output_type": "stream",
     "text": [
      "[15:49:09] < Warning >   Cannot read file __model_1.iter. Statement is ignored.\n"
     ]
    }
   ],
   "source": [
    "results1 = biogeme.estimate()"
   ]
  },
  {
   "cell_type": "code",
   "execution_count": 22,
   "id": "327adf9f-bbcb-4552-9d68-42481c7ab6a9",
   "metadata": {},
   "outputs": [
    {
     "name": "stdout",
     "output_type": "stream",
     "text": [
      "Number of estimated parameters:\t8\n",
      "Sample size:\t5000\n",
      "Excluded observations:\t0\n",
      "Init log likelihood:\t-6931.472\n",
      "Final log likelihood:\t-4412.008\n",
      "Likelihood ratio test for the init. model:\t5038.928\n",
      "Rho-square for the init. model:\t0.363\n",
      "Rho-square-bar for the init. model:\t0.362\n",
      "Akaike Information Criterion:\t8840.016\n",
      "Bayesian Information Criterion:\t8892.153\n",
      "Final gradient norm:\t2.5518E-02\n",
      "Nbr of threads:\t16\n",
      "\n"
     ]
    }
   ],
   "source": [
    "print(results1.printGeneralStatistics())"
   ]
  },
  {
   "cell_type": "code",
   "execution_count": 23,
   "id": "00ea6646-7eeb-4882-92f2-d3954c51de47",
   "metadata": {},
   "outputs": [
    {
     "data": {
      "text/html": [
       "<div>\n",
       "<style scoped>\n",
       "    .dataframe tbody tr th:only-of-type {\n",
       "        vertical-align: middle;\n",
       "    }\n",
       "\n",
       "    .dataframe tbody tr th {\n",
       "        vertical-align: top;\n",
       "    }\n",
       "\n",
       "    .dataframe thead th {\n",
       "        text-align: right;\n",
       "    }\n",
       "</style>\n",
       "<table border=\"1\" class=\"dataframe\">\n",
       "  <thead>\n",
       "    <tr style=\"text-align: right;\">\n",
       "      <th></th>\n",
       "      <th>Value</th>\n",
       "      <th>Rob. Std err</th>\n",
       "      <th>Rob. t-test</th>\n",
       "      <th>Rob. p-value</th>\n",
       "    </tr>\n",
       "  </thead>\n",
       "  <tbody>\n",
       "    <tr>\n",
       "      <th>asc_cycling</th>\n",
       "      <td>-4.590519</td>\n",
       "      <td>0.179036</td>\n",
       "      <td>-25.640219</td>\n",
       "      <td>0.0</td>\n",
       "    </tr>\n",
       "    <tr>\n",
       "      <th>asc_driving</th>\n",
       "      <td>-2.072023</td>\n",
       "      <td>0.120163</td>\n",
       "      <td>-17.243377</td>\n",
       "      <td>0.0</td>\n",
       "    </tr>\n",
       "    <tr>\n",
       "      <th>asc_public</th>\n",
       "      <td>-2.439478</td>\n",
       "      <td>0.121947</td>\n",
       "      <td>-20.004412</td>\n",
       "      <td>0.0</td>\n",
       "    </tr>\n",
       "    <tr>\n",
       "      <th>beta_cost</th>\n",
       "      <td>-0.141780</td>\n",
       "      <td>0.015193</td>\n",
       "      <td>-9.331745</td>\n",
       "      <td>0.0</td>\n",
       "    </tr>\n",
       "    <tr>\n",
       "      <th>beta_time_cycling</th>\n",
       "      <td>-5.195891</td>\n",
       "      <td>0.423907</td>\n",
       "      <td>-12.257160</td>\n",
       "      <td>0.0</td>\n",
       "    </tr>\n",
       "    <tr>\n",
       "      <th>beta_time_driving</th>\n",
       "      <td>-5.875433</td>\n",
       "      <td>0.359795</td>\n",
       "      <td>-16.329946</td>\n",
       "      <td>0.0</td>\n",
       "    </tr>\n",
       "    <tr>\n",
       "      <th>beta_time_public</th>\n",
       "      <td>-3.200593</td>\n",
       "      <td>0.230746</td>\n",
       "      <td>-13.870609</td>\n",
       "      <td>0.0</td>\n",
       "    </tr>\n",
       "    <tr>\n",
       "      <th>beta_time_walk</th>\n",
       "      <td>-8.367591</td>\n",
       "      <td>0.360100</td>\n",
       "      <td>-23.236825</td>\n",
       "      <td>0.0</td>\n",
       "    </tr>\n",
       "  </tbody>\n",
       "</table>\n",
       "</div>"
      ],
      "text/plain": [
       "                      Value  Rob. Std err  Rob. t-test  Rob. p-value\n",
       "asc_cycling       -4.590519      0.179036   -25.640219           0.0\n",
       "asc_driving       -2.072023      0.120163   -17.243377           0.0\n",
       "asc_public        -2.439478      0.121947   -20.004412           0.0\n",
       "beta_cost         -0.141780      0.015193    -9.331745           0.0\n",
       "beta_time_cycling -5.195891      0.423907   -12.257160           0.0\n",
       "beta_time_driving -5.875433      0.359795   -16.329946           0.0\n",
       "beta_time_public  -3.200593      0.230746   -13.870609           0.0\n",
       "beta_time_walk    -8.367591      0.360100   -23.236825           0.0"
      ]
     },
     "execution_count": 23,
     "metadata": {},
     "output_type": "execute_result"
    }
   ],
   "source": [
    "results1.getEstimatedParameters()"
   ]
  },
  {
   "cell_type": "code",
   "execution_count": 24,
   "id": "76c7eedc-4b3f-4fbc-be9b-e8f5ebe032e7",
   "metadata": {},
   "outputs": [],
   "source": [
    "file_1= open(\"results1.txt\",\"w+\")\n",
    "file_1.write(results1.getLaTeX())\n",
    "file_1.close()"
   ]
  },
  {
   "cell_type": "markdown",
   "id": "b01b5dc8-dd4d-4ca0-b2a7-c1b3c99b78a7",
   "metadata": {},
   "source": [
    "## Comparing Models 0 and 1"
   ]
  },
  {
   "cell_type": "code",
   "execution_count": 27,
   "id": "49e221db-56eb-48f8-b15a-f20402117e16",
   "metadata": {},
   "outputs": [
    {
     "name": "stdout",
     "output_type": "stream",
     "text": [
      "Number of estimated parameters:\t5\n",
      "Sample size:\t5000\n",
      "Excluded observations:\t0\n",
      "Init log likelihood:\t-4722.972\n",
      "Final log likelihood:\t-4722.972\n",
      "Likelihood ratio test for the init. model:\t-0\n",
      "Rho-square for the init. model:\t0\n",
      "Rho-square-bar for the init. model:\t-0.00106\n",
      "Akaike Information Criterion:\t9455.944\n",
      "Bayesian Information Criterion:\t9488.53\n",
      "Final gradient norm:\t3.2270E-03\n",
      "Nbr of threads:\t4\n",
      "\n"
     ]
    }
   ],
   "source": [
    "general_statistics_model_0 = results0.getGeneralStatistics()\n",
    "print(results0.printGeneralStatistics())"
   ]
  },
  {
   "cell_type": "code",
   "execution_count": 28,
   "id": "f06fa156-1df7-478f-b94e-4b17b45901fc",
   "metadata": {},
   "outputs": [
    {
     "name": "stdout",
     "output_type": "stream",
     "text": [
      "Number of estimated parameters:\t8\n",
      "Sample size:\t5000\n",
      "Excluded observations:\t0\n",
      "Init log likelihood:\t-4412.008\n",
      "Final log likelihood:\t-4412.008\n",
      "Likelihood ratio test for the init. model:\t2.305715e-07\n",
      "Rho-square for the init. model:\t2.61e-11\n",
      "Rho-square-bar for the init. model:\t-0.00181\n",
      "Akaike Information Criterion:\t8840.016\n",
      "Bayesian Information Criterion:\t8892.154\n",
      "Final gradient norm:\t2.1274E-02\n",
      "Nbr of threads:\t4\n",
      "\n"
     ]
    }
   ],
   "source": [
    "general_statistics_model_1 = results1.getGeneralStatistics()\n",
    "print(results1.printGeneralStatistics())"
   ]
  },
  {
   "cell_type": "markdown",
   "id": "f2fc59b9-68b5-4ca7-a163-50f2ffadb67b",
   "metadata": {},
   "source": [
    "### Likelihood ratio test"
   ]
  },
  {
   "cell_type": "markdown",
   "id": "1710a1b6",
   "metadata": {},
   "source": [
    "$H_O$: $\\beta\\_time\\_walk=\\beta\\_time\\_driving=\\beta\\_time\\_public=\\beta\\_time\\_cycling$\n",
    "\n",
    "Because model 0 is an restricted version of model 1, we can apply the likelihood ratio test."
   ]
  },
  {
   "cell_type": "code",
   "execution_count": 25,
   "id": "dc8c24af-3404-4969-9794-03bade39fb12",
   "metadata": {},
   "outputs": [
    {
     "data": {
      "text/plain": [
       "LRTuple(message='H0 can be rejected at level 5.0%', statistic=621.9276889295215, threshold=7.814727903251179)"
      ]
     },
     "execution_count": 25,
     "metadata": {},
     "output_type": "execute_result"
    }
   ],
   "source": [
    "alpha=0.05\n",
    "results1.likelihood_ratio_test(results0, alpha)"
   ]
  },
  {
   "cell_type": "markdown",
   "id": "d8b4518b-03fc-44d7-a32a-882c70f098b9",
   "metadata": {},
   "source": [
    "According to the test result, the null hypothesis is rejected at the 5% level."
   ]
  },
  {
   "cell_type": "markdown",
   "id": "79a58d37",
   "metadata": {},
   "source": [
    "# Model 2"
   ]
  },
  {
   "cell_type": "markdown",
   "id": "383445db",
   "metadata": {},
   "source": [
    "We include\n",
    "1. One alternative attribute: fueltype for driving.\n",
    "2. One socio-economic characteristics: driving license.\n",
    "\n",
    "<!-- Model 2 specification:\n",
    "\n",
    "$ V_{walk}=ASC_{walk}+\\beta_{time\\_walk}time_{walk} $\n",
    "\n",
    "$ V_{cycling}=ASC_{cycling}+\\beta_{time\\_cycle}time_{cycle} $\n",
    "\n",
    "$ V_{public}=ASC_{public}+\\beta_{time\\_public}time_{public}+\\beta_{cost}cost_{public}+\\beta_{traffic}driving\\_traffic\\_percent$\n",
    "\n",
    "$ V_{driving}=ASC_{driving}+\\beta_{time\\_driving}time_{driving}+\\beta_{cost}cost_{driving}+\\beta_{driving_license}drivinglicense$ -->\n"
   ]
  },
  {
   "cell_type": "code",
   "execution_count": 26,
   "id": "d86f70a2",
   "metadata": {},
   "outputs": [],
   "source": [
    "# asc_walk = Beta('asc_walk', 0, None, None, 1) \n",
    "asc_cycling = Beta('asc_cycling', 0, None, None, 0)\n",
    "asc_public = Beta('asc_public', 0, None, None, 0)\n",
    "asc_driving = Beta('asc_driving', 0, None, None, 0)"
   ]
  },
  {
   "cell_type": "code",
   "execution_count": 26,
   "id": "8b16fdc9",
   "metadata": {},
   "outputs": [],
   "source": [
    "beta_time_walk = Beta('beta_time_walk', 0, None, None, 0)\n",
    "beta_time_cycling = Beta('beta_time_cycling', 0, None, None, 0)\n",
    "beta_time_driving = Beta('beta_time_driving', 0, None, None, 0)\n",
    "beta_time_public = Beta('beta_time_public', 0, None, None, 0)\n",
    "\n",
    "beta_cost = Beta('beta_cost', 0, None, None, 0)\n",
    "\n",
    "# alternative attribute\n",
    "beta_traffic = Beta('beta_driving_traffic_percent',0, None, None,0)\n",
    "# social economics characteristics\n",
    "beta_drivinglicense = Beta('beta_drivinglicense',0,None,None,0)"
   ]
  },
  {
   "cell_type": "code",
   "execution_count": 45,
   "id": "57cde6e5",
   "metadata": {},
   "outputs": [],
   "source": [
    "# model 2 specification \n",
    "V_walk = beta_time_walk * dur_walking\n",
    "V_cycling = asc_cycling + beta_time_cycling * dur_cycling\n",
    "V_public = asc_public + beta_time_public * dur_public + beta_cost * cost_transit\n",
    "V_driving = asc_driving +beta_drivinglicense*driving_license + beta_time_driving * dur_driving + beta_cost * cost_driving + \\\n",
    "            beta_traffic*driving_traffic_percent\n",
    "\n",
    "V = {1: V_walk, 2: V_cycling, 3: V_public, 4: V_driving}\n",
    "\n",
    "logprob = models.loglogit(V, None, travel_mode)\n"
   ]
  },
  {
   "cell_type": "code",
   "execution_count": 46,
   "id": "f92fa977",
   "metadata": {},
   "outputs": [],
   "source": [
    "biogeme = bio.BIOGEME(database, logprob)\n",
    "biogeme.modelName = 'model_2'"
   ]
  },
  {
   "cell_type": "code",
   "execution_count": 47,
   "id": "ae058683",
   "metadata": {},
   "outputs": [
    {
     "name": "stdout",
     "output_type": "stream",
     "text": [
      "[16:01:13] < Warning >   Cannot read file __model_2.iter. Statement is ignored.\n"
     ]
    }
   ],
   "source": [
    "results2 = biogeme.estimate()"
   ]
  },
  {
   "cell_type": "code",
   "execution_count": 48,
   "id": "49461027",
   "metadata": {},
   "outputs": [
    {
     "name": "stdout",
     "output_type": "stream",
     "text": [
      "Number of estimated parameters:\t10\n",
      "Sample size:\t5000\n",
      "Excluded observations:\t0\n",
      "Init log likelihood:\t-6931.472\n",
      "Final log likelihood:\t-4116.139\n",
      "Likelihood ratio test for the init. model:\t5630.666\n",
      "Rho-square for the init. model:\t0.406\n",
      "Rho-square-bar for the init. model:\t0.405\n",
      "Akaike Information Criterion:\t8252.278\n",
      "Bayesian Information Criterion:\t8317.45\n",
      "Final gradient norm:\t1.8355E-02\n",
      "Nbr of threads:\t16\n",
      "\n"
     ]
    }
   ],
   "source": [
    "print(results2.printGeneralStatistics())"
   ]
  },
  {
   "cell_type": "code",
   "execution_count": 49,
   "id": "f5ad361f",
   "metadata": {},
   "outputs": [
    {
     "data": {
      "text/html": [
       "<div>\n",
       "<style scoped>\n",
       "    .dataframe tbody tr th:only-of-type {\n",
       "        vertical-align: middle;\n",
       "    }\n",
       "\n",
       "    .dataframe tbody tr th {\n",
       "        vertical-align: top;\n",
       "    }\n",
       "\n",
       "    .dataframe thead th {\n",
       "        text-align: right;\n",
       "    }\n",
       "</style>\n",
       "<table border=\"1\" class=\"dataframe\">\n",
       "  <thead>\n",
       "    <tr style=\"text-align: right;\">\n",
       "      <th></th>\n",
       "      <th>Value</th>\n",
       "      <th>Rob. Std err</th>\n",
       "      <th>Rob. t-test</th>\n",
       "      <th>Rob. p-value</th>\n",
       "    </tr>\n",
       "  </thead>\n",
       "  <tbody>\n",
       "    <tr>\n",
       "      <th>asc_cycling</th>\n",
       "      <td>-4.660981</td>\n",
       "      <td>0.186396</td>\n",
       "      <td>-25.005737</td>\n",
       "      <td>0.000000e+00</td>\n",
       "    </tr>\n",
       "    <tr>\n",
       "      <th>asc_driving</th>\n",
       "      <td>-2.407648</td>\n",
       "      <td>0.137885</td>\n",
       "      <td>-17.461337</td>\n",
       "      <td>0.000000e+00</td>\n",
       "    </tr>\n",
       "    <tr>\n",
       "      <th>asc_public</th>\n",
       "      <td>-2.619489</td>\n",
       "      <td>0.128107</td>\n",
       "      <td>-20.447660</td>\n",
       "      <td>0.000000e+00</td>\n",
       "    </tr>\n",
       "    <tr>\n",
       "      <th>beta_cost</th>\n",
       "      <td>-0.089926</td>\n",
       "      <td>0.015067</td>\n",
       "      <td>-5.968294</td>\n",
       "      <td>2.397466e-09</td>\n",
       "    </tr>\n",
       "    <tr>\n",
       "      <th>beta_driving_traffic_percent</th>\n",
       "      <td>-2.958441</td>\n",
       "      <td>0.235979</td>\n",
       "      <td>-12.536867</td>\n",
       "      <td>0.000000e+00</td>\n",
       "    </tr>\n",
       "    <tr>\n",
       "      <th>beta_drivinglicense</th>\n",
       "      <td>1.441437</td>\n",
       "      <td>0.071179</td>\n",
       "      <td>20.250883</td>\n",
       "      <td>0.000000e+00</td>\n",
       "    </tr>\n",
       "    <tr>\n",
       "      <th>beta_time_cycling</th>\n",
       "      <td>-4.784378</td>\n",
       "      <td>0.438025</td>\n",
       "      <td>-10.922614</td>\n",
       "      <td>0.000000e+00</td>\n",
       "    </tr>\n",
       "    <tr>\n",
       "      <th>beta_time_driving</th>\n",
       "      <td>-4.418347</td>\n",
       "      <td>0.370430</td>\n",
       "      <td>-11.927604</td>\n",
       "      <td>0.000000e+00</td>\n",
       "    </tr>\n",
       "    <tr>\n",
       "      <th>beta_time_public</th>\n",
       "      <td>-2.830400</td>\n",
       "      <td>0.235259</td>\n",
       "      <td>-12.030980</td>\n",
       "      <td>0.000000e+00</td>\n",
       "    </tr>\n",
       "    <tr>\n",
       "      <th>beta_time_walk</th>\n",
       "      <td>-8.374844</td>\n",
       "      <td>0.370402</td>\n",
       "      <td>-22.610177</td>\n",
       "      <td>0.000000e+00</td>\n",
       "    </tr>\n",
       "  </tbody>\n",
       "</table>\n",
       "</div>"
      ],
      "text/plain": [
       "                                 Value  Rob. Std err  Rob. t-test  \\\n",
       "asc_cycling                  -4.660981      0.186396   -25.005737   \n",
       "asc_driving                  -2.407648      0.137885   -17.461337   \n",
       "asc_public                   -2.619489      0.128107   -20.447660   \n",
       "beta_cost                    -0.089926      0.015067    -5.968294   \n",
       "beta_driving_traffic_percent -2.958441      0.235979   -12.536867   \n",
       "beta_drivinglicense           1.441437      0.071179    20.250883   \n",
       "beta_time_cycling            -4.784378      0.438025   -10.922614   \n",
       "beta_time_driving            -4.418347      0.370430   -11.927604   \n",
       "beta_time_public             -2.830400      0.235259   -12.030980   \n",
       "beta_time_walk               -8.374844      0.370402   -22.610177   \n",
       "\n",
       "                              Rob. p-value  \n",
       "asc_cycling                   0.000000e+00  \n",
       "asc_driving                   0.000000e+00  \n",
       "asc_public                    0.000000e+00  \n",
       "beta_cost                     2.397466e-09  \n",
       "beta_driving_traffic_percent  0.000000e+00  \n",
       "beta_drivinglicense           0.000000e+00  \n",
       "beta_time_cycling             0.000000e+00  \n",
       "beta_time_driving             0.000000e+00  \n",
       "beta_time_public              0.000000e+00  \n",
       "beta_time_walk                0.000000e+00  "
      ]
     },
     "execution_count": 49,
     "metadata": {},
     "output_type": "execute_result"
    }
   ],
   "source": [
    "results2.getEstimatedParameters()"
   ]
  },
  {
   "cell_type": "code",
   "execution_count": 50,
   "id": "d16dcc0e",
   "metadata": {},
   "outputs": [],
   "source": [
    "file_2= open(\"results2.txt\",\"w+\")\n",
    "file_2.write(results2.getLaTeX())\n",
    "file_2.close()"
   ]
  },
  {
   "cell_type": "code",
   "execution_count": 38,
   "id": "fab6e726",
   "metadata": {},
   "outputs": [],
   "source": [
    "# results2.data.htmlFileName"
   ]
  },
  {
   "cell_type": "markdown",
   "id": "649836cb",
   "metadata": {},
   "source": [
    "## Compare model 2 and 1\n",
    "Since model 1 is a restricted version of model 2, we perform a likelihood ratio test. Or we can simply perform t-test on the coefficients $\\beta\\_driving\\_license$ and $\\beta\\_traffic$, as given by the estimation table."
   ]
  },
  {
   "cell_type": "code",
   "execution_count": 51,
   "id": "a5e5ca2a",
   "metadata": {},
   "outputs": [
    {
     "data": {
      "text/plain": [
       "LRTuple(message='H0 can be rejected at level 5.0%', statistic=591.7382206724633, threshold=5.991464547107979)"
      ]
     },
     "execution_count": 51,
     "metadata": {},
     "output_type": "execute_result"
    }
   ],
   "source": [
    "results2.likelihood_ratio_test(results1, alpha)"
   ]
  },
  {
   "cell_type": "markdown",
   "id": "6e0738ca",
   "metadata": {},
   "source": [
    "Thus, model 2 is preferred to model 1."
   ]
  },
  {
   "cell_type": "markdown",
   "id": "42a69b29",
   "metadata": {},
   "source": [
    "# Model 3"
   ]
  },
  {
   "cell_type": "markdown",
   "id": "ce026c97",
   "metadata": {},
   "source": [
    "We perform box-cox transformation on travel time for every alternatives."
   ]
  },
  {
   "cell_type": "code",
   "execution_count": 52,
   "id": "cf865ab4",
   "metadata": {},
   "outputs": [],
   "source": [
    "# define lambda\n",
    "lambda_boxcox = Beta('lambda_boxcox', 1, None, None, 0)\n",
    "boxcox_time_1 = models.boxcox(dur_walking, lambda_boxcox)\n",
    "boxcox_time_2 = models.boxcox(dur_cycling, lambda_boxcox)\n",
    "boxcox_time_3 = models.boxcox(dur_public, lambda_boxcox)\n",
    "boxcox_time_4 = models.boxcox(dur_driving, lambda_boxcox)"
   ]
  },
  {
   "cell_type": "code",
   "execution_count": 53,
   "id": "c9daefbe",
   "metadata": {},
   "outputs": [],
   "source": [
    "# model 3 specification \n",
    "V_walk = beta_time_walk * boxcox_time_1\n",
    "V_cycling = asc_cycling + beta_time_cycling * boxcox_time_2\n",
    "V_public = asc_public + beta_time_public * boxcox_time_3+ beta_cost * cost_transit \n",
    "V_driving = asc_driving + beta_drivinglicense*driving_license + beta_time_driving * boxcox_time_4 + beta_cost * cost_driving \\\n",
    "            +beta_traffic*driving_traffic_percent\n",
    "\n",
    "V = {1: V_walk, 2: V_cycling, 3: V_public, 4: V_driving}\n",
    "\n",
    "logprob = models.loglogit(V, None, travel_mode)\n",
    "\n",
    "biogeme.modelName = 'model_3'"
   ]
  },
  {
   "cell_type": "code",
   "execution_count": 54,
   "id": "2c9cde9a",
   "metadata": {},
   "outputs": [
    {
     "name": "stdout",
     "output_type": "stream",
     "text": [
      "[16:03:05] < Warning >   Cannot read file __model_3.iter. Statement is ignored.\n",
      "Number of estimated parameters:\t11\n",
      "Sample size:\t5000\n",
      "Excluded observations:\t0\n",
      "Init log likelihood:\t-6931.472\n",
      "Final log likelihood:\t-4071.611\n",
      "Likelihood ratio test for the init. model:\t5719.722\n",
      "Rho-square for the init. model:\t0.413\n",
      "Rho-square-bar for the init. model:\t0.411\n",
      "Akaike Information Criterion:\t8165.221\n",
      "Bayesian Information Criterion:\t8236.91\n",
      "Final gradient norm:\t2.1995E-02\n",
      "Nbr of threads:\t16\n",
      "\n"
     ]
    }
   ],
   "source": [
    "biogeme = bio.BIOGEME(database, logprob)\n",
    "biogeme.modelName = 'model_3'\n",
    "results3 = biogeme.estimate()\n",
    "print(results3.printGeneralStatistics())"
   ]
  },
  {
   "cell_type": "code",
   "execution_count": 55,
   "id": "86fce33c",
   "metadata": {},
   "outputs": [
    {
     "data": {
      "text/html": [
       "<div>\n",
       "<style scoped>\n",
       "    .dataframe tbody tr th:only-of-type {\n",
       "        vertical-align: middle;\n",
       "    }\n",
       "\n",
       "    .dataframe tbody tr th {\n",
       "        vertical-align: top;\n",
       "    }\n",
       "\n",
       "    .dataframe thead th {\n",
       "        text-align: right;\n",
       "    }\n",
       "</style>\n",
       "<table border=\"1\" class=\"dataframe\">\n",
       "  <thead>\n",
       "    <tr style=\"text-align: right;\">\n",
       "      <th></th>\n",
       "      <th>Value</th>\n",
       "      <th>Rob. Std err</th>\n",
       "      <th>Rob. t-test</th>\n",
       "      <th>Rob. p-value</th>\n",
       "    </tr>\n",
       "  </thead>\n",
       "  <tbody>\n",
       "    <tr>\n",
       "      <th>asc_cycling</th>\n",
       "      <td>-1.804932</td>\n",
       "      <td>0.279523</td>\n",
       "      <td>-6.457183</td>\n",
       "      <td>1.066700e-10</td>\n",
       "    </tr>\n",
       "    <tr>\n",
       "      <th>asc_driving</th>\n",
       "      <td>0.814865</td>\n",
       "      <td>0.273886</td>\n",
       "      <td>2.975197</td>\n",
       "      <td>2.928003e-03</td>\n",
       "    </tr>\n",
       "    <tr>\n",
       "      <th>asc_public</th>\n",
       "      <td>1.974105</td>\n",
       "      <td>0.173882</td>\n",
       "      <td>11.353111</td>\n",
       "      <td>0.000000e+00</td>\n",
       "    </tr>\n",
       "    <tr>\n",
       "      <th>beta_cost</th>\n",
       "      <td>-0.091493</td>\n",
       "      <td>0.014584</td>\n",
       "      <td>-6.273438</td>\n",
       "      <td>3.531622e-10</td>\n",
       "    </tr>\n",
       "    <tr>\n",
       "      <th>beta_driving_traffic_percent</th>\n",
       "      <td>-2.601050</td>\n",
       "      <td>0.240714</td>\n",
       "      <td>-10.805545</td>\n",
       "      <td>0.000000e+00</td>\n",
       "    </tr>\n",
       "    <tr>\n",
       "      <th>beta_drivinglicense</th>\n",
       "      <td>1.445317</td>\n",
       "      <td>0.071811</td>\n",
       "      <td>20.126770</td>\n",
       "      <td>0.000000e+00</td>\n",
       "    </tr>\n",
       "    <tr>\n",
       "      <th>beta_time_cycling</th>\n",
       "      <td>-3.026531</td>\n",
       "      <td>0.276831</td>\n",
       "      <td>-10.932758</td>\n",
       "      <td>0.000000e+00</td>\n",
       "    </tr>\n",
       "    <tr>\n",
       "      <th>beta_time_driving</th>\n",
       "      <td>-2.650897</td>\n",
       "      <td>0.270057</td>\n",
       "      <td>-9.816063</td>\n",
       "      <td>0.000000e+00</td>\n",
       "    </tr>\n",
       "    <tr>\n",
       "      <th>beta_time_public</th>\n",
       "      <td>-2.224312</td>\n",
       "      <td>0.191608</td>\n",
       "      <td>-11.608648</td>\n",
       "      <td>0.000000e+00</td>\n",
       "    </tr>\n",
       "    <tr>\n",
       "      <th>beta_time_walk</th>\n",
       "      <td>-5.377137</td>\n",
       "      <td>0.298874</td>\n",
       "      <td>-17.991325</td>\n",
       "      <td>0.000000e+00</td>\n",
       "    </tr>\n",
       "    <tr>\n",
       "      <th>lambda_boxcox</th>\n",
       "      <td>0.350764</td>\n",
       "      <td>0.058378</td>\n",
       "      <td>6.008459</td>\n",
       "      <td>1.872950e-09</td>\n",
       "    </tr>\n",
       "  </tbody>\n",
       "</table>\n",
       "</div>"
      ],
      "text/plain": [
       "                                 Value  Rob. Std err  Rob. t-test  \\\n",
       "asc_cycling                  -1.804932      0.279523    -6.457183   \n",
       "asc_driving                   0.814865      0.273886     2.975197   \n",
       "asc_public                    1.974105      0.173882    11.353111   \n",
       "beta_cost                    -0.091493      0.014584    -6.273438   \n",
       "beta_driving_traffic_percent -2.601050      0.240714   -10.805545   \n",
       "beta_drivinglicense           1.445317      0.071811    20.126770   \n",
       "beta_time_cycling            -3.026531      0.276831   -10.932758   \n",
       "beta_time_driving            -2.650897      0.270057    -9.816063   \n",
       "beta_time_public             -2.224312      0.191608   -11.608648   \n",
       "beta_time_walk               -5.377137      0.298874   -17.991325   \n",
       "lambda_boxcox                 0.350764      0.058378     6.008459   \n",
       "\n",
       "                              Rob. p-value  \n",
       "asc_cycling                   1.066700e-10  \n",
       "asc_driving                   2.928003e-03  \n",
       "asc_public                    0.000000e+00  \n",
       "beta_cost                     3.531622e-10  \n",
       "beta_driving_traffic_percent  0.000000e+00  \n",
       "beta_drivinglicense           0.000000e+00  \n",
       "beta_time_cycling             0.000000e+00  \n",
       "beta_time_driving             0.000000e+00  \n",
       "beta_time_public              0.000000e+00  \n",
       "beta_time_walk                0.000000e+00  \n",
       "lambda_boxcox                 1.872950e-09  "
      ]
     },
     "execution_count": 55,
     "metadata": {},
     "output_type": "execute_result"
    }
   ],
   "source": [
    "results3.getEstimatedParameters()"
   ]
  },
  {
   "cell_type": "code",
   "execution_count": 56,
   "id": "92026c91",
   "metadata": {},
   "outputs": [],
   "source": [
    "file_3= open(\"results3.txt\",\"w+\")\n",
    "file_3.write(results3.getLaTeX())\n",
    "file_3.close()"
   ]
  },
  {
   "cell_type": "markdown",
   "id": "4bf5240c",
   "metadata": {},
   "source": [
    "## Compare model 3 and 2\n",
    "Under the null hypothesis that $\\lambda=1$, the statistic $$\\frac{\\widehat{\\lambda}-1}{\\widehat{\\sigma}_\\lambda}$$ follows approximatively a $N(0, 1)$.  \n",
    "Thus, we perform a t-test on $\\lambda$."
   ]
  },
  {
   "cell_type": "code",
   "execution_count": 57,
   "id": "e2c2a5fc",
   "metadata": {},
   "outputs": [
    {
     "data": {
      "text/plain": [
       "-11.12116823094468"
      ]
     },
     "execution_count": 57,
     "metadata": {},
     "output_type": "execute_result"
    }
   ],
   "source": [
    "estimated_parameters_3=results3.getEstimatedParameters()\n",
    "t_test_lambda = (estimated_parameters_3.loc['lambda_boxcox','Value'] - 1) / estimated_parameters_3.loc['lambda_boxcox', 'Rob. Std err']\n",
    "t_test_lambda"
   ]
  },
  {
   "cell_type": "code",
   "execution_count": 46,
   "id": "b2087bca",
   "metadata": {},
   "outputs": [],
   "source": [
    "from scipy.stats import norm\n",
    "from biogeme.results import calcPValue"
   ]
  },
  {
   "cell_type": "code",
   "execution_count": 47,
   "id": "899a14a5",
   "metadata": {},
   "outputs": [
    {
     "data": {
      "text/plain": [
       "1.6448536269514722"
      ]
     },
     "execution_count": 47,
     "metadata": {},
     "output_type": "execute_result"
    }
   ],
   "source": [
    "norm.ppf(.95)"
   ]
  },
  {
   "cell_type": "code",
   "execution_count": 48,
   "id": "8355ab0c",
   "metadata": {},
   "outputs": [
    {
     "data": {
      "text/plain": [
       "0.0"
      ]
     },
     "execution_count": 48,
     "metadata": {},
     "output_type": "execute_result"
    }
   ],
   "source": [
    "calcPValue(t_test_lambda)"
   ]
  },
  {
   "cell_type": "markdown",
   "id": "2ec87c79",
   "metadata": {},
   "source": [
    "Because the $p-value<0.05$, we reject the null hypothesis that $\\lambda=1$. Thus, model 3 is preferred."
   ]
  },
  {
   "cell_type": "markdown",
   "id": "aa0d2949",
   "metadata": {},
   "source": [
    "Though not exactly relevant as one is not the linear restriction of the other, we also perform a likelihood ratio test to check."
   ]
  },
  {
   "cell_type": "code",
   "execution_count": 49,
   "id": "a3c0ff37",
   "metadata": {},
   "outputs": [
    {
     "data": {
      "text/plain": [
       "LRTuple(message='H0 can be rejected at level 5.0%', statistic=272.0556496349345, threshold=3.841458820694124)"
      ]
     },
     "execution_count": 49,
     "metadata": {},
     "output_type": "execute_result"
    }
   ],
   "source": [
    "alpha = 0.05\n",
    "results3.likelihood_ratio_test(results2, alpha)"
   ]
  },
  {
   "cell_type": "markdown",
   "id": "33d9b075",
   "metadata": {},
   "source": [
    "A more general way is to perform a **Davidson and McKinnon J test**  on model 2 and 3. "
   ]
  },
  {
   "cell_type": "markdown",
   "id": "f7052a59-5dca-42c8-80d4-b2db47698df2",
   "metadata": {},
   "source": [
    "# Model 4.a"
   ]
  },
  {
   "cell_type": "markdown",
   "id": "f113b6cb-776c-4862-b1e3-6fc4b8d9a450",
   "metadata": {},
   "source": [
    "We define Model 4.a as a nested version of Model 3 where we regroup motorized (public transports and car) as a nest, walking and cycling as another nest."
   ]
  },
  {
   "cell_type": "code",
   "execution_count": 62,
   "id": "f7e05e24",
   "metadata": {},
   "outputs": [
    {
     "data": {
      "text/html": [
       "<div>\n",
       "<style scoped>\n",
       "    .dataframe tbody tr th:only-of-type {\n",
       "        vertical-align: middle;\n",
       "    }\n",
       "\n",
       "    .dataframe tbody tr th {\n",
       "        vertical-align: top;\n",
       "    }\n",
       "\n",
       "    .dataframe thead th {\n",
       "        text-align: right;\n",
       "    }\n",
       "</style>\n",
       "<table border=\"1\" class=\"dataframe\">\n",
       "  <thead>\n",
       "    <tr style=\"text-align: right;\">\n",
       "      <th></th>\n",
       "      <th>Value</th>\n",
       "      <th>Rob. Std err</th>\n",
       "      <th>Rob. t-test</th>\n",
       "      <th>Rob. p-value</th>\n",
       "    </tr>\n",
       "  </thead>\n",
       "  <tbody>\n",
       "    <tr>\n",
       "      <th>MU_motorized</th>\n",
       "      <td>1.892844</td>\n",
       "      <td>0.245826</td>\n",
       "      <td>7.699925</td>\n",
       "      <td>1.354472e-14</td>\n",
       "    </tr>\n",
       "    <tr>\n",
       "      <th>MU_non_motorized</th>\n",
       "      <td>0.686478</td>\n",
       "      <td>0.071778</td>\n",
       "      <td>9.563958</td>\n",
       "      <td>0.000000e+00</td>\n",
       "    </tr>\n",
       "    <tr>\n",
       "      <th>asc_cycling</th>\n",
       "      <td>-0.316613</td>\n",
       "      <td>0.294821</td>\n",
       "      <td>-1.073916</td>\n",
       "      <td>2.828603e-01</td>\n",
       "    </tr>\n",
       "    <tr>\n",
       "      <th>asc_driving</th>\n",
       "      <td>2.371441</td>\n",
       "      <td>0.301763</td>\n",
       "      <td>7.858618</td>\n",
       "      <td>3.774758e-15</td>\n",
       "    </tr>\n",
       "    <tr>\n",
       "      <th>asc_public</th>\n",
       "      <td>3.128218</td>\n",
       "      <td>0.235327</td>\n",
       "      <td>13.293061</td>\n",
       "      <td>0.000000e+00</td>\n",
       "    </tr>\n",
       "    <tr>\n",
       "      <th>beta_cost</th>\n",
       "      <td>-0.039085</td>\n",
       "      <td>0.010655</td>\n",
       "      <td>-3.668285</td>\n",
       "      <td>2.441831e-04</td>\n",
       "    </tr>\n",
       "    <tr>\n",
       "      <th>beta_driving_traffic_percent</th>\n",
       "      <td>-1.486760</td>\n",
       "      <td>0.240186</td>\n",
       "      <td>-6.190039</td>\n",
       "      <td>6.014937e-10</td>\n",
       "    </tr>\n",
       "    <tr>\n",
       "      <th>beta_drivinglicense</th>\n",
       "      <td>0.895696</td>\n",
       "      <td>0.107427</td>\n",
       "      <td>8.337745</td>\n",
       "      <td>0.000000e+00</td>\n",
       "    </tr>\n",
       "    <tr>\n",
       "      <th>beta_time_cycling</th>\n",
       "      <td>-1.323322</td>\n",
       "      <td>0.259310</td>\n",
       "      <td>-5.103240</td>\n",
       "      <td>3.338869e-07</td>\n",
       "    </tr>\n",
       "    <tr>\n",
       "      <th>beta_time_driving</th>\n",
       "      <td>-1.606233</td>\n",
       "      <td>0.247199</td>\n",
       "      <td>-6.497742</td>\n",
       "      <td>8.153433e-11</td>\n",
       "    </tr>\n",
       "    <tr>\n",
       "      <th>beta_time_public</th>\n",
       "      <td>-1.340126</td>\n",
       "      <td>0.197290</td>\n",
       "      <td>-6.792657</td>\n",
       "      <td>1.100875e-11</td>\n",
       "    </tr>\n",
       "    <tr>\n",
       "      <th>beta_time_walk</th>\n",
       "      <td>-4.935801</td>\n",
       "      <td>0.347756</td>\n",
       "      <td>-14.193270</td>\n",
       "      <td>0.000000e+00</td>\n",
       "    </tr>\n",
       "    <tr>\n",
       "      <th>lambda_boxcox</th>\n",
       "      <td>0.335751</td>\n",
       "      <td>0.059858</td>\n",
       "      <td>5.609143</td>\n",
       "      <td>2.033313e-08</td>\n",
       "    </tr>\n",
       "  </tbody>\n",
       "</table>\n",
       "</div>"
      ],
      "text/plain": [
       "                                 Value  Rob. Std err  Rob. t-test  \\\n",
       "MU_motorized                  1.892844      0.245826     7.699925   \n",
       "MU_non_motorized              0.686478      0.071778     9.563958   \n",
       "asc_cycling                  -0.316613      0.294821    -1.073916   \n",
       "asc_driving                   2.371441      0.301763     7.858618   \n",
       "asc_public                    3.128218      0.235327    13.293061   \n",
       "beta_cost                    -0.039085      0.010655    -3.668285   \n",
       "beta_driving_traffic_percent -1.486760      0.240186    -6.190039   \n",
       "beta_drivinglicense           0.895696      0.107427     8.337745   \n",
       "beta_time_cycling            -1.323322      0.259310    -5.103240   \n",
       "beta_time_driving            -1.606233      0.247199    -6.497742   \n",
       "beta_time_public             -1.340126      0.197290    -6.792657   \n",
       "beta_time_walk               -4.935801      0.347756   -14.193270   \n",
       "lambda_boxcox                 0.335751      0.059858     5.609143   \n",
       "\n",
       "                              Rob. p-value  \n",
       "MU_motorized                  1.354472e-14  \n",
       "MU_non_motorized              0.000000e+00  \n",
       "asc_cycling                   2.828603e-01  \n",
       "asc_driving                   3.774758e-15  \n",
       "asc_public                    0.000000e+00  \n",
       "beta_cost                     2.441831e-04  \n",
       "beta_driving_traffic_percent  6.014937e-10  \n",
       "beta_drivinglicense           0.000000e+00  \n",
       "beta_time_cycling             3.338869e-07  \n",
       "beta_time_driving             8.153433e-11  \n",
       "beta_time_public              1.100875e-11  \n",
       "beta_time_walk                0.000000e+00  \n",
       "lambda_boxcox                 2.033313e-08  "
      ]
     },
     "execution_count": 62,
     "metadata": {},
     "output_type": "execute_result"
    }
   ],
   "source": [
    "results4.getEstimatedParameters()"
   ]
  },
  {
   "cell_type": "markdown",
   "id": "43692bc5",
   "metadata": {},
   "source": [
    "Because $\\mu_\\text{non\\_motorized}<1$, we reject the nested model."
   ]
  },
  {
   "cell_type": "markdown",
   "id": "d10d7894",
   "metadata": {},
   "source": [
    "# Model 4.b"
   ]
  },
  {
   "cell_type": "code",
   "execution_count": 63,
   "id": "39710ec3",
   "metadata": {},
   "outputs": [
    {
     "name": "stdout",
     "output_type": "stream",
     "text": [
      "[16:10:27] < Warning >   Recycling was requested, but no pickle file was found\n",
      "[16:10:27] < Warning >   Cannot read file __model_5.iter. Statement is ignored.\n"
     ]
    },
    {
     "data": {
      "text/html": [
       "<div>\n",
       "<style scoped>\n",
       "    .dataframe tbody tr th:only-of-type {\n",
       "        vertical-align: middle;\n",
       "    }\n",
       "\n",
       "    .dataframe tbody tr th {\n",
       "        vertical-align: top;\n",
       "    }\n",
       "\n",
       "    .dataframe thead th {\n",
       "        text-align: right;\n",
       "    }\n",
       "</style>\n",
       "<table border=\"1\" class=\"dataframe\">\n",
       "  <thead>\n",
       "    <tr style=\"text-align: right;\">\n",
       "      <th></th>\n",
       "      <th>Value</th>\n",
       "      <th>Rob. Std err</th>\n",
       "      <th>Rob. t-test</th>\n",
       "      <th>Rob. p-value</th>\n",
       "    </tr>\n",
       "  </thead>\n",
       "  <tbody>\n",
       "    <tr>\n",
       "      <th>MU_private</th>\n",
       "      <td>0.650852</td>\n",
       "      <td>0.042759</td>\n",
       "      <td>15.221570</td>\n",
       "      <td>0.000000e+00</td>\n",
       "    </tr>\n",
       "    <tr>\n",
       "      <th>asc_cycling</th>\n",
       "      <td>-1.516913</td>\n",
       "      <td>0.388054</td>\n",
       "      <td>-3.909025</td>\n",
       "      <td>9.266953e-05</td>\n",
       "    </tr>\n",
       "    <tr>\n",
       "      <th>asc_driving</th>\n",
       "      <td>2.213199</td>\n",
       "      <td>0.406244</td>\n",
       "      <td>5.447951</td>\n",
       "      <td>5.095350e-08</td>\n",
       "    </tr>\n",
       "    <tr>\n",
       "      <th>asc_public</th>\n",
       "      <td>3.368701</td>\n",
       "      <td>0.358377</td>\n",
       "      <td>9.399888</td>\n",
       "      <td>0.000000e+00</td>\n",
       "    </tr>\n",
       "    <tr>\n",
       "      <th>beta_cost</th>\n",
       "      <td>-0.083946</td>\n",
       "      <td>0.016215</td>\n",
       "      <td>-5.176952</td>\n",
       "      <td>2.255398e-07</td>\n",
       "    </tr>\n",
       "    <tr>\n",
       "      <th>beta_driving_traffic_percent</th>\n",
       "      <td>-3.188256</td>\n",
       "      <td>0.288127</td>\n",
       "      <td>-11.065462</td>\n",
       "      <td>0.000000e+00</td>\n",
       "    </tr>\n",
       "    <tr>\n",
       "      <th>beta_drivinglicense</th>\n",
       "      <td>1.777428</td>\n",
       "      <td>0.100008</td>\n",
       "      <td>17.772867</td>\n",
       "      <td>0.000000e+00</td>\n",
       "    </tr>\n",
       "    <tr>\n",
       "      <th>beta_time_cycling</th>\n",
       "      <td>-3.101769</td>\n",
       "      <td>0.319821</td>\n",
       "      <td>-9.698449</td>\n",
       "      <td>0.000000e+00</td>\n",
       "    </tr>\n",
       "    <tr>\n",
       "      <th>beta_time_driving</th>\n",
       "      <td>-2.767161</td>\n",
       "      <td>0.286049</td>\n",
       "      <td>-9.673735</td>\n",
       "      <td>0.000000e+00</td>\n",
       "    </tr>\n",
       "    <tr>\n",
       "      <th>beta_time_public</th>\n",
       "      <td>-2.645343</td>\n",
       "      <td>0.228022</td>\n",
       "      <td>-11.601266</td>\n",
       "      <td>0.000000e+00</td>\n",
       "    </tr>\n",
       "    <tr>\n",
       "      <th>beta_time_walk</th>\n",
       "      <td>-6.980728</td>\n",
       "      <td>0.517760</td>\n",
       "      <td>-13.482544</td>\n",
       "      <td>0.000000e+00</td>\n",
       "    </tr>\n",
       "    <tr>\n",
       "      <th>lambda_boxcox</th>\n",
       "      <td>0.341023</td>\n",
       "      <td>0.060617</td>\n",
       "      <td>5.625911</td>\n",
       "      <td>1.845316e-08</td>\n",
       "    </tr>\n",
       "  </tbody>\n",
       "</table>\n",
       "</div>"
      ],
      "text/plain": [
       "                                 Value  Rob. Std err  Rob. t-test  \\\n",
       "MU_private                    0.650852      0.042759    15.221570   \n",
       "asc_cycling                  -1.516913      0.388054    -3.909025   \n",
       "asc_driving                   2.213199      0.406244     5.447951   \n",
       "asc_public                    3.368701      0.358377     9.399888   \n",
       "beta_cost                    -0.083946      0.016215    -5.176952   \n",
       "beta_driving_traffic_percent -3.188256      0.288127   -11.065462   \n",
       "beta_drivinglicense           1.777428      0.100008    17.772867   \n",
       "beta_time_cycling            -3.101769      0.319821    -9.698449   \n",
       "beta_time_driving            -2.767161      0.286049    -9.673735   \n",
       "beta_time_public             -2.645343      0.228022   -11.601266   \n",
       "beta_time_walk               -6.980728      0.517760   -13.482544   \n",
       "lambda_boxcox                 0.341023      0.060617     5.625911   \n",
       "\n",
       "                              Rob. p-value  \n",
       "MU_private                    0.000000e+00  \n",
       "asc_cycling                   9.266953e-05  \n",
       "asc_driving                   5.095350e-08  \n",
       "asc_public                    0.000000e+00  \n",
       "beta_cost                     2.255398e-07  \n",
       "beta_driving_traffic_percent  0.000000e+00  \n",
       "beta_drivinglicense           0.000000e+00  \n",
       "beta_time_cycling             0.000000e+00  \n",
       "beta_time_driving             0.000000e+00  \n",
       "beta_time_public              0.000000e+00  \n",
       "beta_time_walk                0.000000e+00  \n",
       "lambda_boxcox                 1.845316e-08  "
      ]
     },
     "execution_count": 63,
     "metadata": {},
     "output_type": "execute_result"
    }
   ],
   "source": [
    "MU_private = Beta('MU_private', 1, 0, None, 0)\n",
    "private = MU_private, [1,2,4]\n",
    "public = 1, [3]\n",
    "nests = private,public\n",
    "logprob = models.lognested(V, None, nests, travel_mode)\n",
    "biogeme = bio.BIOGEME(database, logprob)\n",
    "biogeme.modelName = 'model_5'\n",
    "results5 = biogeme.estimate(recycle=True)\n",
    "results5.getEstimatedParameters()"
   ]
  },
  {
   "cell_type": "markdown",
   "id": "87824f8b",
   "metadata": {},
   "source": [
    "Since $\\mu_{\\text{private}}<1$, we reject the nested model. "
   ]
  },
  {
   "cell_type": "markdown",
   "id": "1b7a4f79",
   "metadata": {},
   "source": [
    "Therefore, we conclude that model 3 is the preferred model."
   ]
  },
  {
   "cell_type": "markdown",
   "id": "78b34e2b",
   "metadata": {},
   "source": [
    "# Sampling"
   ]
  },
  {
   "cell_type": "markdown",
   "id": "923b5656",
   "metadata": {},
   "source": [
    "## Calculate the weight for each segment"
   ]
  },
  {
   "cell_type": "code",
   "execution_count": 64,
   "id": "08f41244",
   "metadata": {},
   "outputs": [],
   "source": [
    "modes = [\"walk\",\"cycling\",\"public\",\"driving\"]"
   ]
  },
  {
   "cell_type": "code",
   "execution_count": 65,
   "id": "590ec8cf",
   "metadata": {},
   "outputs": [],
   "source": [
    "# Population statistics\n",
    "\n",
    "census = {\n",
    "    'male_41_more':  1633263,\n",
    "    'male_40_less':  2676249,\n",
    "    'female_41_more':  1765143,\n",
    "    'female_40_less':  2599058\n",
    "}"
   ]
  },
  {
   "cell_type": "code",
   "execution_count": 66,
   "id": "7836bb7a",
   "metadata": {},
   "outputs": [
    {
     "data": {
      "text/plain": [
       "8673713"
      ]
     },
     "execution_count": 66,
     "metadata": {},
     "output_type": "execute_result"
    }
   ],
   "source": [
    "total = sum(census.values())\n",
    "total"
   ]
  },
  {
   "cell_type": "code",
   "execution_count": 67,
   "id": "462d8526",
   "metadata": {},
   "outputs": [
    {
     "data": {
      "text/plain": [
       "0       False\n",
       "1        True\n",
       "2        True\n",
       "3        True\n",
       "4       False\n",
       "        ...  \n",
       "4995    False\n",
       "4996    False\n",
       "4997    False\n",
       "4998     True\n",
       "4999     True\n",
       "Name: 40_less, Length: 5000, dtype: bool"
      ]
     },
     "execution_count": 67,
     "metadata": {},
     "output_type": "execute_result"
    }
   ],
   "source": [
    "lpmc[\"40_less\"]=lpmc[\"age\"]<=40\n",
    "lpmc[\"40_less\"]"
   ]
  },
  {
   "cell_type": "code",
   "execution_count": 68,
   "id": "ba743917",
   "metadata": {},
   "outputs": [],
   "source": [
    "# sample statistics\n",
    "filters = {\n",
    "    'male_41_more': (lpmc['40_less'] == 0) & (lpmc['female'] == 0),\n",
    "    'male_40_less': (lpmc['40_less'] == 1) & (lpmc['female'] == 0),\n",
    "    'female_41_more': (lpmc['40_less'] == 0) & (lpmc['female'] == 1),\n",
    "    'female_40_less': (lpmc['40_less'] == 1) & (lpmc['female'] == 1)\n",
    "}"
   ]
  },
  {
   "cell_type": "code",
   "execution_count": 69,
   "id": "73272464",
   "metadata": {},
   "outputs": [
    {
     "data": {
      "text/plain": [
       "{'male_41_more': 1084,\n",
       " 'male_40_less': 1256,\n",
       " 'female_41_more': 1204,\n",
       " 'female_40_less': 1456}"
      ]
     },
     "execution_count": 69,
     "metadata": {},
     "output_type": "execute_result"
    }
   ],
   "source": [
    "sample_segments = {\n",
    "    k: v.sum() for k, v in filters.items()\n",
    "}\n",
    "sample_segments"
   ]
  },
  {
   "cell_type": "code",
   "execution_count": 70,
   "id": "70147ca9",
   "metadata": {},
   "outputs": [
    {
     "data": {
      "text/plain": [
       "5000"
      ]
     },
     "execution_count": 70,
     "metadata": {},
     "output_type": "execute_result"
    }
   ],
   "source": [
    "total_sample = sum(sample_segments.values())\n",
    "total_sample"
   ]
  },
  {
   "cell_type": "markdown",
   "id": "fe7cf9d6",
   "metadata": {},
   "source": [
    "The weight $w_g$ associated with segment $g$ is defined as\n",
    "$$\n",
    "w_g = \\frac{N_g}{N}\\frac{S}{S_g}.\n",
    "$$"
   ]
  },
  {
   "cell_type": "code",
   "execution_count": 71,
   "id": "e58a24dc",
   "metadata": {},
   "outputs": [
    {
     "data": {
      "text/plain": [
       "{'male_41_more': 0.86854394680908,\n",
       " 'male_40_less': 1.2282925990376248,\n",
       " 'female_41_more': 0.8451199703160228,\n",
       " 'female_40_less': 1.029009899043413}"
      ]
     },
     "execution_count": 71,
     "metadata": {},
     "output_type": "execute_result"
    }
   ],
   "source": [
    "# weight associated with each segment\n",
    "weights = {\n",
    "    k: census[k] * total_sample / (v * total) \n",
    "    for k, v in sample_segments.items()\n",
    "}\n",
    "weights"
   ]
  },
  {
   "cell_type": "code",
   "execution_count": 72,
   "id": "62546df6",
   "metadata": {},
   "outputs": [
    {
     "data": {
      "text/plain": [
       "0       0.845120\n",
       "1       1.029010\n",
       "2       1.228293\n",
       "3       1.228293\n",
       "4       0.868544\n",
       "          ...   \n",
       "4995    0.845120\n",
       "4996    0.845120\n",
       "4997    0.868544\n",
       "4998    1.228293\n",
       "4999    1.029010\n",
       "Name: Weight, Length: 5000, dtype: float64"
      ]
     },
     "execution_count": 72,
     "metadata": {},
     "output_type": "execute_result"
    }
   ],
   "source": [
    "# insert weight as a new column to the database lpmc\n",
    "for k, f in filters.items():\n",
    "    lpmc.loc[f, 'Weight'] = weights[k] \n",
    "lpmc['Weight']"
   ]
  },
  {
   "cell_type": "code",
   "execution_count": 75,
   "id": "2669a756",
   "metadata": {},
   "outputs": [],
   "source": [
    "Weight = Variable('Weight')"
   ]
  },
  {
   "cell_type": "markdown",
   "id": "684f13b5",
   "metadata": {},
   "source": [
    "## Calculate predicted market share for each mode"
   ]
  },
  {
   "cell_type": "code",
   "execution_count": 168,
   "id": "8e7e381b",
   "metadata": {},
   "outputs": [],
   "source": [
    "# confirm the preferred model\n",
    "V_walk = beta_time_walk * boxcox_time_1\n",
    "V_cycling = asc_cycling + beta_time_cycling * boxcox_time_2\n",
    "V_public = asc_public + beta_time_public * boxcox_time_3+ beta_cost * cost_transit \n",
    "V_driving = asc_driving + beta_drivinglicense*driving_license + beta_time_driving * boxcox_time_4 + beta_cost * cost_driving \\\n",
    "            +beta_traffic*driving_traffic_percent\n",
    "\n",
    "V = {1: V_walk, 2: V_cycling, 3: V_public, 4: V_driving}\n",
    "\n",
    "logprob = models.loglogit(V, None, travel_mode)\n",
    "\n",
    "biogeme.modelName = 'model_pref'\n",
    "biogeme = bio.BIOGEME(database, logprob)"
   ]
  },
  {
   "cell_type": "code",
   "execution_count": 169,
   "id": "a63522f3",
   "metadata": {},
   "outputs": [],
   "source": [
    "prob_walk = models.logit(V, None, 1)\n",
    "prob_cycling = models.logit(V, None, 2)\n",
    "prob_public = models.logit(V, None,3)\n",
    "prob_driving = models.logit(V, None,4)"
   ]
  },
  {
   "cell_type": "code",
   "execution_count": 170,
   "id": "a3d2cf56",
   "metadata": {},
   "outputs": [],
   "source": [
    "simulate = {\n",
    "    'Weight': Weight,\n",
    "    'Prob. walk': prob_walk,\n",
    "    'Prob. cycling': prob_cycling,\n",
    "    'Prob. public': prob_public,\n",
    "    'Prob. driving': prob_driving\n",
    "}"
   ]
  },
  {
   "cell_type": "code",
   "execution_count": 107,
   "id": "6c312b60",
   "metadata": {},
   "outputs": [],
   "source": [
    "biosim = bio.BIOGEME(database, simulate)\n",
    "simulated_values = biosim.simulate(results3.getBetaValues())"
   ]
  },
  {
   "cell_type": "code",
   "execution_count": 108,
   "id": "542b3646",
   "metadata": {},
   "outputs": [
    {
     "data": {
      "text/html": [
       "<div>\n",
       "<style scoped>\n",
       "    .dataframe tbody tr th:only-of-type {\n",
       "        vertical-align: middle;\n",
       "    }\n",
       "\n",
       "    .dataframe tbody tr th {\n",
       "        vertical-align: top;\n",
       "    }\n",
       "\n",
       "    .dataframe thead th {\n",
       "        text-align: right;\n",
       "    }\n",
       "</style>\n",
       "<table border=\"1\" class=\"dataframe\">\n",
       "  <thead>\n",
       "    <tr style=\"text-align: right;\">\n",
       "      <th></th>\n",
       "      <th>Weight</th>\n",
       "      <th>Prob. walk</th>\n",
       "      <th>Prob. cycling</th>\n",
       "      <th>Prob. public</th>\n",
       "      <th>Prob. driving</th>\n",
       "    </tr>\n",
       "  </thead>\n",
       "  <tbody>\n",
       "    <tr>\n",
       "      <th>0</th>\n",
       "      <td>0.845120</td>\n",
       "      <td>0.028170</td>\n",
       "      <td>0.017737</td>\n",
       "      <td>0.078032</td>\n",
       "      <td>0.876061</td>\n",
       "    </tr>\n",
       "    <tr>\n",
       "      <th>1</th>\n",
       "      <td>1.029010</td>\n",
       "      <td>0.315704</td>\n",
       "      <td>0.100487</td>\n",
       "      <td>0.402050</td>\n",
       "      <td>0.181759</td>\n",
       "    </tr>\n",
       "    <tr>\n",
       "      <th>2</th>\n",
       "      <td>1.228293</td>\n",
       "      <td>0.000207</td>\n",
       "      <td>0.049509</td>\n",
       "      <td>0.691178</td>\n",
       "      <td>0.259106</td>\n",
       "    </tr>\n",
       "    <tr>\n",
       "      <th>3</th>\n",
       "      <td>1.228293</td>\n",
       "      <td>0.001203</td>\n",
       "      <td>0.010601</td>\n",
       "      <td>0.060762</td>\n",
       "      <td>0.927434</td>\n",
       "    </tr>\n",
       "    <tr>\n",
       "      <th>4</th>\n",
       "      <td>0.868544</td>\n",
       "      <td>0.058503</td>\n",
       "      <td>0.028704</td>\n",
       "      <td>0.154603</td>\n",
       "      <td>0.758190</td>\n",
       "    </tr>\n",
       "    <tr>\n",
       "      <th>...</th>\n",
       "      <td>...</td>\n",
       "      <td>...</td>\n",
       "      <td>...</td>\n",
       "      <td>...</td>\n",
       "      <td>...</td>\n",
       "    </tr>\n",
       "    <tr>\n",
       "      <th>4995</th>\n",
       "      <td>0.845120</td>\n",
       "      <td>0.431759</td>\n",
       "      <td>0.034939</td>\n",
       "      <td>0.149795</td>\n",
       "      <td>0.383507</td>\n",
       "    </tr>\n",
       "    <tr>\n",
       "      <th>4996</th>\n",
       "      <td>0.845120</td>\n",
       "      <td>0.057165</td>\n",
       "      <td>0.053341</td>\n",
       "      <td>0.680862</td>\n",
       "      <td>0.208631</td>\n",
       "    </tr>\n",
       "    <tr>\n",
       "      <th>4997</th>\n",
       "      <td>0.868544</td>\n",
       "      <td>0.001180</td>\n",
       "      <td>0.006713</td>\n",
       "      <td>0.114694</td>\n",
       "      <td>0.877413</td>\n",
       "    </tr>\n",
       "    <tr>\n",
       "      <th>4998</th>\n",
       "      <td>1.228293</td>\n",
       "      <td>0.028042</td>\n",
       "      <td>0.082585</td>\n",
       "      <td>0.557085</td>\n",
       "      <td>0.332288</td>\n",
       "    </tr>\n",
       "    <tr>\n",
       "      <th>4999</th>\n",
       "      <td>1.029010</td>\n",
       "      <td>0.389609</td>\n",
       "      <td>0.069496</td>\n",
       "      <td>0.286122</td>\n",
       "      <td>0.254774</td>\n",
       "    </tr>\n",
       "  </tbody>\n",
       "</table>\n",
       "<p>5000 rows × 5 columns</p>\n",
       "</div>"
      ],
      "text/plain": [
       "        Weight  Prob. walk  Prob. cycling  Prob. public  Prob. driving\n",
       "0     0.845120    0.028170       0.017737      0.078032       0.876061\n",
       "1     1.029010    0.315704       0.100487      0.402050       0.181759\n",
       "2     1.228293    0.000207       0.049509      0.691178       0.259106\n",
       "3     1.228293    0.001203       0.010601      0.060762       0.927434\n",
       "4     0.868544    0.058503       0.028704      0.154603       0.758190\n",
       "...        ...         ...            ...           ...            ...\n",
       "4995  0.845120    0.431759       0.034939      0.149795       0.383507\n",
       "4996  0.845120    0.057165       0.053341      0.680862       0.208631\n",
       "4997  0.868544    0.001180       0.006713      0.114694       0.877413\n",
       "4998  1.228293    0.028042       0.082585      0.557085       0.332288\n",
       "4999  1.029010    0.389609       0.069496      0.286122       0.254774\n",
       "\n",
       "[5000 rows x 5 columns]"
      ]
     },
     "execution_count": 108,
     "metadata": {},
     "output_type": "execute_result"
    }
   ],
   "source": [
    "simulated_values"
   ]
  },
  {
   "cell_type": "markdown",
   "id": "d7617c9a",
   "metadata": {},
   "source": [
    "Market shares are calculated using the weighted mean of the\n",
    "individual probabilities."
   ]
  },
  {
   "cell_type": "code",
   "execution_count": 109,
   "id": "a6b8e560",
   "metadata": {},
   "outputs": [],
   "source": [
    "modes = [\"walk\",\"cycling\",\"public\",\"driving\"]\n",
    "for mode in modes:\n",
    "    simulated_values['Weighted '+mode] = (\n",
    "        simulated_values['Weight'] * \n",
    "        simulated_values['Prob. '+mode]\n",
    "    )"
   ]
  },
  {
   "cell_type": "code",
   "execution_count": 110,
   "id": "40720f85",
   "metadata": {},
   "outputs": [
    {
     "data": {
      "text/html": [
       "<div>\n",
       "<style scoped>\n",
       "    .dataframe tbody tr th:only-of-type {\n",
       "        vertical-align: middle;\n",
       "    }\n",
       "\n",
       "    .dataframe tbody tr th {\n",
       "        vertical-align: top;\n",
       "    }\n",
       "\n",
       "    .dataframe thead th {\n",
       "        text-align: right;\n",
       "    }\n",
       "</style>\n",
       "<table border=\"1\" class=\"dataframe\">\n",
       "  <thead>\n",
       "    <tr style=\"text-align: right;\">\n",
       "      <th></th>\n",
       "      <th>Weight</th>\n",
       "      <th>Prob. walk</th>\n",
       "      <th>Prob. cycling</th>\n",
       "      <th>Prob. public</th>\n",
       "      <th>Prob. driving</th>\n",
       "      <th>Weighted walk</th>\n",
       "      <th>Weighted cycling</th>\n",
       "      <th>Weighted public</th>\n",
       "      <th>Weighted driving</th>\n",
       "    </tr>\n",
       "  </thead>\n",
       "  <tbody>\n",
       "    <tr>\n",
       "      <th>0</th>\n",
       "      <td>0.845120</td>\n",
       "      <td>0.028170</td>\n",
       "      <td>0.017737</td>\n",
       "      <td>0.078032</td>\n",
       "      <td>0.876061</td>\n",
       "      <td>0.023807</td>\n",
       "      <td>0.014990</td>\n",
       "      <td>0.065947</td>\n",
       "      <td>0.740376</td>\n",
       "    </tr>\n",
       "    <tr>\n",
       "      <th>1</th>\n",
       "      <td>1.029010</td>\n",
       "      <td>0.315704</td>\n",
       "      <td>0.100487</td>\n",
       "      <td>0.402050</td>\n",
       "      <td>0.181759</td>\n",
       "      <td>0.324862</td>\n",
       "      <td>0.103402</td>\n",
       "      <td>0.413714</td>\n",
       "      <td>0.187032</td>\n",
       "    </tr>\n",
       "    <tr>\n",
       "      <th>2</th>\n",
       "      <td>1.228293</td>\n",
       "      <td>0.000207</td>\n",
       "      <td>0.049509</td>\n",
       "      <td>0.691178</td>\n",
       "      <td>0.259106</td>\n",
       "      <td>0.000254</td>\n",
       "      <td>0.060812</td>\n",
       "      <td>0.848968</td>\n",
       "      <td>0.318258</td>\n",
       "    </tr>\n",
       "    <tr>\n",
       "      <th>3</th>\n",
       "      <td>1.228293</td>\n",
       "      <td>0.001203</td>\n",
       "      <td>0.010601</td>\n",
       "      <td>0.060762</td>\n",
       "      <td>0.927434</td>\n",
       "      <td>0.001478</td>\n",
       "      <td>0.013021</td>\n",
       "      <td>0.074634</td>\n",
       "      <td>1.139160</td>\n",
       "    </tr>\n",
       "    <tr>\n",
       "      <th>4</th>\n",
       "      <td>0.868544</td>\n",
       "      <td>0.058503</td>\n",
       "      <td>0.028704</td>\n",
       "      <td>0.154603</td>\n",
       "      <td>0.758190</td>\n",
       "      <td>0.050812</td>\n",
       "      <td>0.024931</td>\n",
       "      <td>0.134280</td>\n",
       "      <td>0.658521</td>\n",
       "    </tr>\n",
       "    <tr>\n",
       "      <th>...</th>\n",
       "      <td>...</td>\n",
       "      <td>...</td>\n",
       "      <td>...</td>\n",
       "      <td>...</td>\n",
       "      <td>...</td>\n",
       "      <td>...</td>\n",
       "      <td>...</td>\n",
       "      <td>...</td>\n",
       "      <td>...</td>\n",
       "    </tr>\n",
       "    <tr>\n",
       "      <th>4995</th>\n",
       "      <td>0.845120</td>\n",
       "      <td>0.431759</td>\n",
       "      <td>0.034939</td>\n",
       "      <td>0.149795</td>\n",
       "      <td>0.383507</td>\n",
       "      <td>0.364888</td>\n",
       "      <td>0.029528</td>\n",
       "      <td>0.126595</td>\n",
       "      <td>0.324109</td>\n",
       "    </tr>\n",
       "    <tr>\n",
       "      <th>4996</th>\n",
       "      <td>0.845120</td>\n",
       "      <td>0.057165</td>\n",
       "      <td>0.053341</td>\n",
       "      <td>0.680862</td>\n",
       "      <td>0.208631</td>\n",
       "      <td>0.048312</td>\n",
       "      <td>0.045080</td>\n",
       "      <td>0.575410</td>\n",
       "      <td>0.176318</td>\n",
       "    </tr>\n",
       "    <tr>\n",
       "      <th>4997</th>\n",
       "      <td>0.868544</td>\n",
       "      <td>0.001180</td>\n",
       "      <td>0.006713</td>\n",
       "      <td>0.114694</td>\n",
       "      <td>0.877413</td>\n",
       "      <td>0.001025</td>\n",
       "      <td>0.005830</td>\n",
       "      <td>0.099617</td>\n",
       "      <td>0.762072</td>\n",
       "    </tr>\n",
       "    <tr>\n",
       "      <th>4998</th>\n",
       "      <td>1.228293</td>\n",
       "      <td>0.028042</td>\n",
       "      <td>0.082585</td>\n",
       "      <td>0.557085</td>\n",
       "      <td>0.332288</td>\n",
       "      <td>0.034443</td>\n",
       "      <td>0.101439</td>\n",
       "      <td>0.684263</td>\n",
       "      <td>0.408147</td>\n",
       "    </tr>\n",
       "    <tr>\n",
       "      <th>4999</th>\n",
       "      <td>1.029010</td>\n",
       "      <td>0.389609</td>\n",
       "      <td>0.069496</td>\n",
       "      <td>0.286122</td>\n",
       "      <td>0.254774</td>\n",
       "      <td>0.400912</td>\n",
       "      <td>0.071512</td>\n",
       "      <td>0.294422</td>\n",
       "      <td>0.262164</td>\n",
       "    </tr>\n",
       "  </tbody>\n",
       "</table>\n",
       "<p>5000 rows × 9 columns</p>\n",
       "</div>"
      ],
      "text/plain": [
       "        Weight  Prob. walk  Prob. cycling  Prob. public  Prob. driving  \\\n",
       "0     0.845120    0.028170       0.017737      0.078032       0.876061   \n",
       "1     1.029010    0.315704       0.100487      0.402050       0.181759   \n",
       "2     1.228293    0.000207       0.049509      0.691178       0.259106   \n",
       "3     1.228293    0.001203       0.010601      0.060762       0.927434   \n",
       "4     0.868544    0.058503       0.028704      0.154603       0.758190   \n",
       "...        ...         ...            ...           ...            ...   \n",
       "4995  0.845120    0.431759       0.034939      0.149795       0.383507   \n",
       "4996  0.845120    0.057165       0.053341      0.680862       0.208631   \n",
       "4997  0.868544    0.001180       0.006713      0.114694       0.877413   \n",
       "4998  1.228293    0.028042       0.082585      0.557085       0.332288   \n",
       "4999  1.029010    0.389609       0.069496      0.286122       0.254774   \n",
       "\n",
       "      Weighted walk  Weighted cycling  Weighted public  Weighted driving  \n",
       "0          0.023807          0.014990         0.065947          0.740376  \n",
       "1          0.324862          0.103402         0.413714          0.187032  \n",
       "2          0.000254          0.060812         0.848968          0.318258  \n",
       "3          0.001478          0.013021         0.074634          1.139160  \n",
       "4          0.050812          0.024931         0.134280          0.658521  \n",
       "...             ...               ...              ...               ...  \n",
       "4995       0.364888          0.029528         0.126595          0.324109  \n",
       "4996       0.048312          0.045080         0.575410          0.176318  \n",
       "4997       0.001025          0.005830         0.099617          0.762072  \n",
       "4998       0.034443          0.101439         0.684263          0.408147  \n",
       "4999       0.400912          0.071512         0.294422          0.262164  \n",
       "\n",
       "[5000 rows x 9 columns]"
      ]
     },
     "execution_count": 110,
     "metadata": {},
     "output_type": "execute_result"
    }
   ],
   "source": [
    "simulated_values"
   ]
  },
  {
   "cell_type": "code",
   "execution_count": 111,
   "id": "0f4af2b1",
   "metadata": {},
   "outputs": [
    {
     "name": "stdout",
     "output_type": "stream",
     "text": [
      "Market share for walk: 18.4%\n",
      "Market share for cycling: 3.6%\n",
      "Market share for public: 36.3%\n",
      "Market share for driving: 41.8%\n"
     ]
    }
   ],
   "source": [
    "market_share=[]\n",
    "for i, mode in enumerate(modes): \n",
    "    globals()['market_share_'+mode]=simulated_values['Weighted '+ mode].mean()\n",
    "    market_share.append(globals()['market_share_'+mode])\n",
    "    print(f'Market share for {mode}: {100*market_share[i]:.1f}%')"
   ]
  },
  {
   "cell_type": "markdown",
   "id": "ed51fb50",
   "metadata": {},
   "source": [
    "## Calcualte confidence interval"
   ]
  },
  {
   "cell_type": "code",
   "execution_count": 112,
   "id": "c3913a05",
   "metadata": {},
   "outputs": [],
   "source": [
    "biogeme.modelName = 'model_pref'"
   ]
  },
  {
   "cell_type": "code",
   "execution_count": 113,
   "id": "061c4190",
   "metadata": {},
   "outputs": [],
   "source": [
    "results_bootstrapping = biogeme.estimate(bootstrap=100)"
   ]
  },
  {
   "cell_type": "code",
   "execution_count": 114,
   "id": "353f249f",
   "metadata": {},
   "outputs": [],
   "source": [
    "betas = biogeme.freeBetaNames()\n",
    "b = results_bootstrapping.getBetasForSensitivityAnalysis(betas)"
   ]
  },
  {
   "cell_type": "code",
   "execution_count": 115,
   "id": "e2519549",
   "metadata": {},
   "outputs": [],
   "source": [
    "left, right = biosim.confidenceIntervals(b, 0.9)"
   ]
  },
  {
   "cell_type": "code",
   "execution_count": 116,
   "id": "797d904c",
   "metadata": {},
   "outputs": [
    {
     "data": {
      "text/html": [
       "<div>\n",
       "<style scoped>\n",
       "    .dataframe tbody tr th:only-of-type {\n",
       "        vertical-align: middle;\n",
       "    }\n",
       "\n",
       "    .dataframe tbody tr th {\n",
       "        vertical-align: top;\n",
       "    }\n",
       "\n",
       "    .dataframe thead th {\n",
       "        text-align: right;\n",
       "    }\n",
       "</style>\n",
       "<table border=\"1\" class=\"dataframe\">\n",
       "  <thead>\n",
       "    <tr style=\"text-align: right;\">\n",
       "      <th></th>\n",
       "      <th>Weight</th>\n",
       "      <th>Prob. walk</th>\n",
       "      <th>Prob. cycling</th>\n",
       "      <th>Prob. public</th>\n",
       "      <th>Prob. driving</th>\n",
       "    </tr>\n",
       "  </thead>\n",
       "  <tbody>\n",
       "    <tr>\n",
       "      <th>0</th>\n",
       "      <td>0.845120</td>\n",
       "      <td>0.024275</td>\n",
       "      <td>0.015294</td>\n",
       "      <td>0.071125</td>\n",
       "      <td>0.860630</td>\n",
       "    </tr>\n",
       "    <tr>\n",
       "      <th>1</th>\n",
       "      <td>1.029010</td>\n",
       "      <td>0.293319</td>\n",
       "      <td>0.086810</td>\n",
       "      <td>0.382212</td>\n",
       "      <td>0.167201</td>\n",
       "    </tr>\n",
       "    <tr>\n",
       "      <th>2</th>\n",
       "      <td>1.228293</td>\n",
       "      <td>0.000062</td>\n",
       "      <td>0.033440</td>\n",
       "      <td>0.639242</td>\n",
       "      <td>0.225193</td>\n",
       "    </tr>\n",
       "    <tr>\n",
       "      <th>3</th>\n",
       "      <td>1.228293</td>\n",
       "      <td>0.000744</td>\n",
       "      <td>0.008088</td>\n",
       "      <td>0.052792</td>\n",
       "      <td>0.917021</td>\n",
       "    </tr>\n",
       "    <tr>\n",
       "      <th>4</th>\n",
       "      <td>0.868544</td>\n",
       "      <td>0.052044</td>\n",
       "      <td>0.024440</td>\n",
       "      <td>0.142599</td>\n",
       "      <td>0.742104</td>\n",
       "    </tr>\n",
       "    <tr>\n",
       "      <th>...</th>\n",
       "      <td>...</td>\n",
       "      <td>...</td>\n",
       "      <td>...</td>\n",
       "      <td>...</td>\n",
       "      <td>...</td>\n",
       "    </tr>\n",
       "    <tr>\n",
       "      <th>4995</th>\n",
       "      <td>0.845120</td>\n",
       "      <td>0.381574</td>\n",
       "      <td>0.028898</td>\n",
       "      <td>0.131564</td>\n",
       "      <td>0.319577</td>\n",
       "    </tr>\n",
       "    <tr>\n",
       "      <th>4996</th>\n",
       "      <td>0.845120</td>\n",
       "      <td>0.048045</td>\n",
       "      <td>0.046974</td>\n",
       "      <td>0.659802</td>\n",
       "      <td>0.192222</td>\n",
       "    </tr>\n",
       "    <tr>\n",
       "      <th>4997</th>\n",
       "      <td>0.868544</td>\n",
       "      <td>0.000812</td>\n",
       "      <td>0.005215</td>\n",
       "      <td>0.104190</td>\n",
       "      <td>0.862472</td>\n",
       "    </tr>\n",
       "    <tr>\n",
       "      <th>4998</th>\n",
       "      <td>1.228293</td>\n",
       "      <td>0.020470</td>\n",
       "      <td>0.069497</td>\n",
       "      <td>0.528977</td>\n",
       "      <td>0.306981</td>\n",
       "    </tr>\n",
       "    <tr>\n",
       "      <th>4999</th>\n",
       "      <td>1.029010</td>\n",
       "      <td>0.365512</td>\n",
       "      <td>0.057240</td>\n",
       "      <td>0.267570</td>\n",
       "      <td>0.226600</td>\n",
       "    </tr>\n",
       "  </tbody>\n",
       "</table>\n",
       "<p>5000 rows × 5 columns</p>\n",
       "</div>"
      ],
      "text/plain": [
       "        Weight  Prob. walk  Prob. cycling  Prob. public  Prob. driving\n",
       "0     0.845120    0.024275       0.015294      0.071125       0.860630\n",
       "1     1.029010    0.293319       0.086810      0.382212       0.167201\n",
       "2     1.228293    0.000062       0.033440      0.639242       0.225193\n",
       "3     1.228293    0.000744       0.008088      0.052792       0.917021\n",
       "4     0.868544    0.052044       0.024440      0.142599       0.742104\n",
       "...        ...         ...            ...           ...            ...\n",
       "4995  0.845120    0.381574       0.028898      0.131564       0.319577\n",
       "4996  0.845120    0.048045       0.046974      0.659802       0.192222\n",
       "4997  0.868544    0.000812       0.005215      0.104190       0.862472\n",
       "4998  1.228293    0.020470       0.069497      0.528977       0.306981\n",
       "4999  1.029010    0.365512       0.057240      0.267570       0.226600\n",
       "\n",
       "[5000 rows x 5 columns]"
      ]
     },
     "execution_count": 116,
     "metadata": {},
     "output_type": "execute_result"
    }
   ],
   "source": [
    "left"
   ]
  },
  {
   "cell_type": "code",
   "execution_count": 117,
   "id": "b927e922",
   "metadata": {},
   "outputs": [],
   "source": [
    "for mode in modes:\n",
    "    left['Weighted '+mode] = (\n",
    "        left['Weight'] * \n",
    "        left['Prob. '+mode]\n",
    "    )\n",
    "    right['Weighted '+mode] = (\n",
    "        right['Weight'] * \n",
    "        right['Prob. '+mode]\n",
    "    )"
   ]
  },
  {
   "cell_type": "code",
   "execution_count": 118,
   "id": "ff23faba",
   "metadata": {},
   "outputs": [
    {
     "name": "stdout",
     "output_type": "stream",
     "text": [
      "Market share for walk: 18.4% CI: [17.3%-19.6]\n",
      "Market share for cycling: 3.6% CI: [3.0%-4.3]\n",
      "Market share for public: 36.3% CI: [34.4%-38.2]\n",
      "Market share for driving: 41.8% CI: [39.5%-44.0]\n"
     ]
    }
   ],
   "source": [
    "left_market_share=[]\n",
    "right_market_share=[]\n",
    "for i,mode in enumerate(modes): \n",
    "    globals()['left_market_share_'+mode]=left['Weighted '+ mode].mean()\n",
    "    globals()['right_market_share_'+mode]=right['Weighted '+ mode].mean()\n",
    "    left_market_share.append(globals()['left_market_share_'+mode])\n",
    "    right_market_share.append(globals()['right_market_share_'+mode])\n",
    "    print(\n",
    "    f'Market share for {mode}: {100*market_share[i]:.1f}% '\n",
    "    f'CI: ['\n",
    "    f'{100*left_market_share[i]:.1f}%-'\n",
    "    f'{100*right_market_share[i]:.1f}'\n",
    "    f']'\n",
    ")"
   ]
  },
  {
   "cell_type": "markdown",
   "id": "b5f36c36",
   "metadata": {},
   "source": [
    "# Forcasting"
   ]
  },
  {
   "cell_type": "markdown",
   "id": "f8261ba2",
   "metadata": {},
   "source": [
    "## Consider two scenarios"
   ]
  },
  {
   "cell_type": "code",
   "execution_count": 132,
   "id": "1c097252",
   "metadata": {},
   "outputs": [],
   "source": [
    "# define a function for calculating market share\n",
    "def calculate_market_share(utility):\n",
    "    \n",
    "    prob_walk = models.logit(utility, None, 1)\n",
    "    prob_cycling = models.logit(utility, None, 2)\n",
    "    prob_public = models.logit(utility, None, 3)\n",
    "    prob_driving = models.logit(utility, None, 4)\n",
    "\n",
    "    Weight = Variable('Weight')\n",
    "    simulate = {\n",
    "    'Weight': Weight,\n",
    "    'Prob. walk': prob_walk,\n",
    "    'Prob. cycling': prob_cycling,\n",
    "    'Prob. public': prob_public,\n",
    "    'Prob. driving': prob_driving\n",
    "    }\n",
    "\n",
    "    biosim = bio.BIOGEME(database, simulate)\n",
    "    simulated_values = biosim.simulate(results3.getBetaValues())\n",
    "    modes = [\"walk\",\"cycling\",\"public\",\"driving\"]\n",
    "    for mode in modes:\n",
    "        simulated_values['Weighted '+mode] = (\n",
    "            simulated_values['Weight'] * \n",
    "            simulated_values['Prob. '+mode]\n",
    "        )\n",
    "    market_share=[]\n",
    "    for mode in modes: \n",
    "        locals()['market_share_'+mode]=simulated_values['Weighted '+ mode].mean()\n",
    "        market_share.append(locals()['market_share_'+mode])\n",
    "    \n",
    "    return market_share"
   ]
  },
  {
   "cell_type": "code",
   "execution_count": 133,
   "id": "5b186968",
   "metadata": {},
   "outputs": [],
   "source": [
    "# an increase of car cost by 15%\n",
    "V_walk = beta_time_walk * boxcox_time_1\n",
    "V_cycling = asc_cycling + beta_time_cycling * boxcox_time_2\n",
    "V_public = asc_public + beta_time_public * boxcox_time_3+ beta_cost * cost_transit \n",
    "V_driving = asc_driving + beta_drivinglicense*driving_license + beta_time_driving * boxcox_time_4\\\n",
    "            + beta_cost * cost_driving*1.15\\\n",
    "            + beta_traffic*driving_traffic_percent\n",
    "V_1 = {1: V_walk, 2: V_cycling, 3: V_public, 4: V_driving}"
   ]
  },
  {
   "cell_type": "code",
   "execution_count": 134,
   "id": "f5500d4e",
   "metadata": {},
   "outputs": [],
   "source": [
    "market_share_1 = calculate_market_share(V_1)"
   ]
  },
  {
   "cell_type": "code",
   "execution_count": 135,
   "id": "1b54089d",
   "metadata": {},
   "outputs": [
    {
     "data": {
      "text/plain": [
       "[0.18399414389951552,\n",
       " 0.03608450086543447,\n",
       " 0.3652412833772578,\n",
       " 0.41468007185779227]"
      ]
     },
     "execution_count": 135,
     "metadata": {},
     "output_type": "execute_result"
    }
   ],
   "source": [
    "market_share_1"
   ]
  },
  {
   "cell_type": "code",
   "execution_count": 136,
   "id": "44c11ade",
   "metadata": {},
   "outputs": [
    {
     "name": "stdout",
     "output_type": "stream",
     "text": [
      "Market share for walk: 18.40%\n",
      "Market share for cycling: 3.61%\n",
      "Market share for public: 36.52%\n",
      "Market share for driving: 41.47%\n"
     ]
    }
   ],
   "source": [
    "for i,mode in enumerate(modes): \n",
    "    print(f'Market share for {mode}: {100*market_share_1[i]:.2f}%')"
   ]
  },
  {
   "cell_type": "code",
   "execution_count": 137,
   "id": "2de22b7d",
   "metadata": {},
   "outputs": [],
   "source": [
    "V_walk = beta_time_walk * boxcox_time_1\n",
    "V_cycling = asc_cycling + beta_time_cycling * boxcox_time_2\n",
    "V_public = asc_public + beta_time_public * boxcox_time_3+ beta_cost * cost_transit * 0.85 \n",
    "V_driving = asc_driving + beta_drivinglicense*driving_license + beta_time_driving * boxcox_time_4\\\n",
    "            + beta_cost * cost_driving\\\n",
    "            + beta_traffic*driving_traffic_percent\n",
    "V_2 = {1: V_walk, 2: V_cycling, 3: V_public, 4: V_driving}"
   ]
  },
  {
   "cell_type": "code",
   "execution_count": 138,
   "id": "910d8d38",
   "metadata": {},
   "outputs": [],
   "source": [
    "market_share_2 = calculate_market_share(V_2)"
   ]
  },
  {
   "cell_type": "code",
   "execution_count": 139,
   "id": "4fd1316c",
   "metadata": {},
   "outputs": [
    {
     "data": {
      "text/plain": [
       "[0.18330199528617921,\n",
       " 0.03558255354885061,\n",
       " 0.366024877737331,\n",
       " 0.41509057342763916]"
      ]
     },
     "execution_count": 139,
     "metadata": {},
     "output_type": "execute_result"
    }
   ],
   "source": [
    "market_share_2"
   ]
  },
  {
   "cell_type": "code",
   "execution_count": 140,
   "id": "37bf540c",
   "metadata": {},
   "outputs": [
    {
     "name": "stdout",
     "output_type": "stream",
     "text": [
      "Market share for walk: 18.33%\n",
      "Market share for cycling: 3.56%\n",
      "Market share for public: 36.60%\n",
      "Market share for driving: 41.51%\n"
     ]
    }
   ],
   "source": [
    "for i,mode in enumerate(modes): \n",
    "    print(f'Market share for {mode}: {100*market_share_2[i]:.2f}%')"
   ]
  },
  {
   "cell_type": "markdown",
   "id": "1792946f",
   "metadata": {},
   "source": [
    "## Effect on revenue"
   ]
  },
  {
   "cell_type": "code",
   "execution_count": 141,
   "id": "ce95d400",
   "metadata": {},
   "outputs": [],
   "source": [
    "def calculate_revenues(change, utility):\n",
    "    prob_public = models.logit(utility, None, 3)   \n",
    "\n",
    "    simulate = {\n",
    "        'Weight': Weight,\n",
    "        'Revenues PT': prob_public * cost_transit * change,\n",
    "    }\n",
    "    \n",
    "    biosim = bio.BIOGEME(database, simulate)\n",
    "    simulated_values = biosim.simulate(results3.getBetaValues())\n",
    "\n",
    "    simulated_values['Weighted revenues PT'] = (\n",
    "        simulated_values['Weight'] * simulated_values['Revenues PT']\n",
    "    )\n",
    "    \n",
    "    revenues_PT = simulated_values['Weighted revenues PT'].sum()\n",
    "\n",
    "    return revenues_PT"
   ]
  },
  {
   "cell_type": "code",
   "execution_count": 142,
   "id": "df0b7e46",
   "metadata": {},
   "outputs": [
    {
     "data": {
      "text/plain": [
       "3495.02299582057"
      ]
     },
     "execution_count": 142,
     "metadata": {},
     "output_type": "execute_result"
    }
   ],
   "source": [
    "# scenario 0\n",
    "calculate_revenues(1,V)"
   ]
  },
  {
   "cell_type": "code",
   "execution_count": 143,
   "id": "15665b31",
   "metadata": {},
   "outputs": [
    {
     "data": {
      "text/plain": [
       "3532.208997289292"
      ]
     },
     "execution_count": 143,
     "metadata": {},
     "output_type": "execute_result"
    }
   ],
   "source": [
    "# scenario 1\n",
    "calculate_revenues(1,V_1)"
   ]
  },
  {
   "cell_type": "code",
   "execution_count": 144,
   "id": "c653787c",
   "metadata": {},
   "outputs": [
    {
     "data": {
      "text/plain": [
       "3016.627683801729"
      ]
     },
     "execution_count": 144,
     "metadata": {},
     "output_type": "execute_result"
    }
   ],
   "source": [
    "# scenario 2\n",
    "calculate_revenues(0.85,V_2)"
   ]
  },
  {
   "cell_type": "markdown",
   "id": "3a2e6ef5",
   "metadata": {},
   "source": [
    "## Calculate average value of time"
   ]
  },
  {
   "cell_type": "code",
   "execution_count": null,
   "id": "0d11c35e",
   "metadata": {},
   "outputs": [],
   "source": [
    "#boxcox_time_3_transfered = ((pow(dur_public,lambda_boxcox))-1)/lambda_boxcox \n",
    "#boxcox_time_4_transfered = (pow(dur_driving,lambda_boxcox)-1)/lambda_boxcox\n",
    "#V_public_transfered = asc_public + beta_time_public * boxcox_time_3_transfered+ beta_cost * cost_transit \n",
    "#V_driving_transfered = asc_driving + beta_drivinglicense*driving_license + beta_time_driving * boxcox_time_4_transfered + beta_cost * cost_driving +beta_traffic*driving_traffic_percent\n",
    "\n",
    "#vot_public = Derive(V_public_transfered,'dur_public') / Derive (V_public,'cost_transit')\n",
    "#vot_driving = Derive(V_driving_transfered,'dur_driving') / Derive (V_driving,'cost_driving')"
   ]
  },
  {
   "cell_type": "code",
   "execution_count": 171,
   "id": "8f598914",
   "metadata": {},
   "outputs": [],
   "source": [
    "# for original scenario:\n",
    "vot_public = Derive(V_public,'dur_public') / Derive (V_public,'cost_transit')\n",
    "vot_driving = Derive(V_driving,'dur_driving') / Derive (V_driving,'cost_driving')"
   ]
  },
  {
   "cell_type": "code",
   "execution_count": 172,
   "id": "6bee16ed",
   "metadata": {},
   "outputs": [],
   "source": [
    "simulate = {\n",
    "    'Weight': Weight,\n",
    "    'VOT_public': vot_public,\n",
    "    'VOT_driving': vot_driving,\n",
    "}\n",
    "biosim = bio.BIOGEME(database, simulate)\n",
    "simulated_values = biosim.simulate(results3.getBetaValues())\n"
   ]
  },
  {
   "cell_type": "code",
   "execution_count": 173,
   "id": "45677e9f",
   "metadata": {},
   "outputs": [
    {
     "data": {
      "image/png": "[encoded data removed]",
      "text/plain": [
       "<Figure size 640x480 with 1 Axes>"
      ]
     },
     "metadata": {},
     "output_type": "display_data"
    }
   ],
   "source": [
    "_ = simulated_values['VOT_public'].hist(bins=200)"
   ]
  },
  {
   "cell_type": "code",
   "execution_count": 174,
   "id": "45677e9f",
   "metadata": {},
   "outputs": [
    {
     "data": {
      "image/png": "[encoded data removed]",
      "text/plain": [
       "<Figure size 640x480 with 1 Axes>"
      ]
     },
     "metadata": {},
     "output_type": "display_data"
    }
   ],
   "source": [
    "_ = simulated_values['VOT_driving'].hist(bins=200)"
   ]
  },
  {
   "cell_type": "code",
   "execution_count": 175,
   "id": "0405e580",
   "metadata": {},
   "outputs": [
    {
     "data": {
      "text/plain": [
       "52.28020456020181"
      ]
     },
     "execution_count": 175,
     "metadata": {},
     "output_type": "execute_result"
    }
   ],
   "source": [
    "avg_vot_pt = (\n",
    "    simulated_values['VOT_public'] * \n",
    "    simulated_values['Weight']\n",
    ").sum() / simulated_values['Weight'].sum()\n",
    "\n",
    "avg_vot_pt"
   ]
  },
  {
   "cell_type": "code",
   "execution_count": 176,
   "id": "8d40cf38",
   "metadata": {},
   "outputs": [
    {
     "data": {
      "text/plain": [
       "97.26943094425545"
      ]
     },
     "execution_count": 176,
     "metadata": {},
     "output_type": "execute_result"
    }
   ],
   "source": [
    "avg_vot_driving = (\n",
    "    simulated_values['VOT_driving'] * \n",
    "    simulated_values['Weight']\n",
    ").sum() / simulated_values['Weight'].sum()\n",
    "\n",
    "avg_vot_driving"
   ]
  },
  {
   "cell_type": "code",
   "execution_count": 177,
   "id": "bbaea9ea",
   "metadata": {},
   "outputs": [
    {
     "name": "stdout",
     "output_type": "stream",
     "text": [
      "Original scenario:\n",
      "Average value of time for Public Transport: 52.28 GBP/hour\n",
      "Average value of time for Driving: 97.27 GBP/hour\n"
     ]
    }
   ],
   "source": [
    "print('Original scenario:')\n",
    "print(f'Average value of time for Public Transport: {avg_vot_pt:.2f} GBP/hour')\n",
    "print(f'Average value of time for Driving: {avg_vot_driving:.2f} GBP/hour')"
   ]
  },
  {
   "cell_type": "code",
   "execution_count": 178,
   "id": "df089b34",
   "metadata": {},
   "outputs": [],
   "source": [
    "# for the first scenario:\n",
    "V_public = asc_public + beta_time_public * boxcox_time_3+ beta_cost * cost_transit \n",
    "V_driving = asc_driving + beta_time_driving * boxcox_time_4 + beta_cost * cost_driving*1.15 + beta_drivinglicense * driving_license +beta_traffic*driving_traffic_percent\n",
    "\n",
    "vot_public = Derive(V_public,'dur_public') / Derive (V_public,'cost_transit')\n",
    "vot_driving = Derive(V_driving,'dur_driving') / Derive (V_driving,'cost_driving')\n",
    "\n",
    "simulate = {\n",
    "    'Weight': Weight,\n",
    "    'VOT_public': vot_public,\n",
    "    'VOT_driving': vot_driving,\n",
    "}\n",
    "biosim = bio.BIOGEME(database, simulate)\n",
    "simulated_values = biosim.simulate(results3.getBetaValues())\n"
   ]
  },
  {
   "cell_type": "code",
   "execution_count": 179,
   "id": "bb39458f",
   "metadata": {},
   "outputs": [
    {
     "data": {
      "text/plain": [
       "52.28020456020181"
      ]
     },
     "execution_count": 179,
     "metadata": {},
     "output_type": "execute_result"
    }
   ],
   "source": [
    "avg_vot_pt = (\n",
    "    simulated_values['VOT_public'] * \n",
    "    simulated_values['Weight']\n",
    ").sum() / simulated_values['Weight'].sum()\n",
    "\n",
    "avg_vot_pt"
   ]
  },
  {
   "cell_type": "code",
   "execution_count": 180,
   "id": "45dd447f",
   "metadata": {},
   "outputs": [
    {
     "data": {
      "text/plain": [
       "84.58211561813063"
      ]
     },
     "execution_count": 180,
     "metadata": {},
     "output_type": "execute_result"
    }
   ],
   "source": [
    "avg_vot_driving = (\n",
    "    simulated_values['VOT_driving'] * \n",
    "    simulated_values['Weight']\n",
    ").sum() / simulated_values['Weight'].sum()\n",
    "avg_vot_driving"
   ]
  },
  {
   "cell_type": "code",
   "execution_count": 181,
   "id": "0a8751f0",
   "metadata": {},
   "outputs": [
    {
     "name": "stdout",
     "output_type": "stream",
     "text": [
      "First scenario:\n",
      "Average value of time for Public Transport: 52.3 GBP/hour\n",
      "Average value of time for Driving: 84.6 GBP/hour\n"
     ]
    }
   ],
   "source": [
    "print('First scenario:')\n",
    "print(f'Average value of time for Public Transport: {avg_vot_pt:.3g} GBP/hour')\n",
    "print(f'Average value of time for Driving: {avg_vot_driving:.3g} GBP/hour')"
   ]
  },
  {
   "cell_type": "code",
   "execution_count": 182,
   "id": "ed986ab8",
   "metadata": {},
   "outputs": [],
   "source": [
    "# for the second scenario:\n",
    "V_public = asc_public + beta_time_public * boxcox_time_3+ beta_cost * cost_transit*0.85 \n",
    "V_driving = asc_driving + beta_time_driving * boxcox_time_4 + beta_cost * cost_driving + beta_drivinglicense * driving_license +beta_traffic*driving_traffic_percent\n",
    "\n",
    "vot_public = Derive(V_public,'dur_public') / Derive (V_public,'cost_transit')\n",
    "vot_driving = Derive(V_driving,'dur_driving') / Derive (V_driving,'cost_driving')\n",
    "\n",
    "simulate = {\n",
    "    'Weight': Weight,\n",
    "    'VOT_public': vot_public,\n",
    "    'VOT_driving': vot_driving,\n",
    "}\n",
    "biosim = bio.BIOGEME(database, simulate)\n",
    "simulated_values = biosim.simulate(results3.getBetaValues())"
   ]
  },
  {
   "cell_type": "code",
   "execution_count": 183,
   "id": "489ba034",
   "metadata": {},
   "outputs": [],
   "source": [
    "avg_vot_pt = (\n",
    "    simulated_values['VOT_public'] * \n",
    "    simulated_values['Weight']\n",
    ").sum() / simulated_values['Weight'].sum()\n",
    "avg_vot_driving = (\n",
    "    simulated_values['VOT_driving'] * \n",
    "    simulated_values['Weight']\n",
    ").sum() / simulated_values['Weight'].sum()\n"
   ]
  },
  {
   "cell_type": "code",
   "execution_count": 184,
   "id": "0215100e",
   "metadata": {},
   "outputs": [
    {
     "name": "stdout",
     "output_type": "stream",
     "text": [
      "First scenario:\n",
      "Average value of time for Public Transport: 61.5 GBP/hour\n",
      "Average value of time for Driving: 97.3 GBP/hour\n"
     ]
    }
   ],
   "source": [
    "print('First scenario:')\n",
    "print(f'Average value of time for Public Transport: {avg_vot_pt:.3g} GBP/hour')\n",
    "print(f'Average value of time for Driving: {avg_vot_driving:.3g} GBP/hour')"
   ]
  },
  {
   "cell_type": "markdown",
   "id": "f593962d",
   "metadata": {},
   "source": [
    "## Aggregate elasticity"
   ]
  },
  {
   "cell_type": "markdown",
   "id": "c2a0176d",
   "metadata": {},
   "source": [
    "Disaggregate elasticity\n",
    "$$\n",
    "E_{x_{i n k}}^{P_{n}(i)}=\\frac{\\partial P_{n}(i)}{\\partial x_{i n k}} \\frac{x_{i n k}}{P_{n}(i)}\n",
    "$$\n",
    "Aggregate elasticity\n",
    "$$\n",
    "\\begin{aligned}\n",
    "E_{x_{j k}}^{\\widehat{x^{\\prime}}(i)} & =\\frac{\\partial \\widehat{W}(i)}{\\partial x_{j k}} \\frac{x_{j k}}{\\widehat{W}(i)} \\\\\n",
    "& =\\frac{1}{S} \\sum_{n=1}^{N} \\omega_{n} \\frac{P_{n}(i)}{P_{n}(i)} \\frac{\\partial P_{n}(i)}{\\partial x_{j k}} \\frac{S x_{j k}}{\\sum_{\\ell=1}^{N} \\omega_{\\ell} P_{\\ell}(i)} \\\\\n",
    "& =\\frac{1}{\\sum_{\\ell=1}^{N} \\omega_{\\ell} P_{\\ell}(i)} \\sum_{n=1}^{N} \\omega_{n} P_{n}(i) E_{x_{j n k}}^{P_{n}(i)} .\n",
    "\\end{aligned}\n",
    "$$"
   ]
  },
  {
   "cell_type": "code",
   "execution_count": 185,
   "id": "09bfd5ab",
   "metadata": {},
   "outputs": [],
   "source": [
    "def calculate_direct_elasticity(utility):\n",
    "    \n",
    "    prob_public = models.logit(utility, None, 3)\n",
    "    prob_driving = models.logit(utility, None, 4)\n",
    "    \n",
    "\n",
    "    simulate = {\n",
    "    'Weight': Weight,\n",
    "    'Prob. public': prob_public,\n",
    "    'Prob. driving': prob_driving,\n",
    "    'Dis. Elas. public': Derive(prob_public,'cost_transit') * cost_transit / prob_public,\n",
    "    'Dis. Elas. driving': Derive(prob_driving, 'cost_driving') * cost_driving / prob_driving,\n",
    "    }\n",
    "\n",
    "\n",
    "    biosim = bio.BIOGEME(database, simulate)\n",
    "    simulated_values = biosim.simulate(results3.getBetaValues())\n",
    "    \n",
    "    simulated_values['Weighted public'] = simulated_values['Weight']*simulated_values['Prob. public']\n",
    "    simulated_values['Weighted driving'] = simulated_values['Weight']*simulated_values['Prob. driving']\n",
    "    \n",
    "    norm_public = simulated_values['Weighted public'].sum()\n",
    "    norm_driving = simulated_values['Weighted driving'].sum()\n",
    "\n",
    "    Aggregate_elas_public = (simulated_values['Weighted public']*simulated_values['Dis. Elas. public']).sum()/norm_public\n",
    "    Aggregate_elas_driving = (simulated_values['Weighted driving']*simulated_values['Dis. Elas. driving']).sum()/norm_driving\n",
    "\n",
    "    return Aggregate_elas_public, Aggregate_elas_driving, norm_public, norm_driving"
   ]
  },
  {
   "cell_type": "code",
   "execution_count": 186,
   "id": "687dd82d",
   "metadata": {},
   "outputs": [
    {
     "data": {
      "text/plain": [
       "(-0.06357862661254227,\n",
       " -0.05176602593885486,\n",
       " 1812.8447830089067,\n",
       " 2089.196388146758)"
      ]
     },
     "execution_count": 186,
     "metadata": {},
     "output_type": "execute_result"
    }
   ],
   "source": [
    "calculate_direct_elasticity(V)"
   ]
  },
  {
   "cell_type": "code",
   "execution_count": 187,
   "id": "8d4b09e4",
   "metadata": {},
   "outputs": [],
   "source": [
    "def calculate_cross_elasticity(utility):\n",
    "    \n",
    "    prob_public = models.logit(utility, None, 3)\n",
    "    prob_driving = models.logit(utility, None, 4)\n",
    "    \n",
    "\n",
    "    simulate = {\n",
    "    'Weight': Weight,\n",
    "    'Prob. public': prob_public,\n",
    "    'Prob. driving': prob_driving,\n",
    "    'Dis. Elas. public': Derive(prob_public,'cost_driving') * cost_driving / prob_public,\n",
    "    'Dis. Elas. driving': Derive(prob_driving, 'cost_transit') * cost_transit / prob_driving,\n",
    "    }\n",
    "\n",
    "\n",
    "    biosim = bio.BIOGEME(database, simulate)\n",
    "    simulated_values = biosim.simulate(results3.getBetaValues())\n",
    "    \n",
    "    simulated_values['Weighted public'] = simulated_values['Weight']*simulated_values['Prob. public']\n",
    "    simulated_values['Weighted driving'] = simulated_values['Weight']*simulated_values['Prob. driving']\n",
    "    \n",
    "    norm_public = simulated_values['Weighted public'].sum()\n",
    "    norm_driving = simulated_values['Weighted driving'].sum()\n",
    "\n",
    "    Aggregate_elas_public = (simulated_values['Weighted public']*simulated_values['Dis. Elas. public']).sum()/norm_public\n",
    "    Aggregate_elas_driving = (simulated_values['Weighted driving']*simulated_values['Dis. Elas. driving']).sum()/norm_driving\n",
    "\n",
    "    return Aggregate_elas_public, Aggregate_elas_driving, norm_public, norm_driving"
   ]
  },
  {
   "cell_type": "code",
   "execution_count": 188,
   "id": "49044858",
   "metadata": {},
   "outputs": [
    {
     "data": {
      "text/plain": [
       "(0.0505044429043135,\n",
       " 0.043875576709567335,\n",
       " 1812.8447830089067,\n",
       " 2089.196388146758)"
      ]
     },
     "execution_count": 188,
     "metadata": {},
     "output_type": "execute_result"
    }
   ],
   "source": [
    "calculate_cross_elasticity(V)"
   ]
  },
  {
   "cell_type": "markdown",
   "id": "a3b1a869",
   "metadata": {},
   "source": [
    "# Some trials"
   ]
  },
  {
   "cell_type": "code",
   "execution_count": null,
   "id": "f8e21480",
   "metadata": {},
   "outputs": [
    {
     "data": {
      "text/html": [
       "<div>\n",
       "<style scoped>\n",
       "    .dataframe tbody tr th:only-of-type {\n",
       "        vertical-align: middle;\n",
       "    }\n",
       "\n",
       "    .dataframe tbody tr th {\n",
       "        vertical-align: top;\n",
       "    }\n",
       "\n",
       "    .dataframe thead th {\n",
       "        text-align: right;\n",
       "    }\n",
       "</style>\n",
       "<table border=\"1\" class=\"dataframe\">\n",
       "  <thead>\n",
       "    <tr style=\"text-align: right;\">\n",
       "      <th></th>\n",
       "      <th>Value</th>\n",
       "      <th>Rob. Std err</th>\n",
       "      <th>Rob. t-test</th>\n",
       "      <th>Rob. p-value</th>\n",
       "    </tr>\n",
       "  </thead>\n",
       "  <tbody>\n",
       "    <tr>\n",
       "      <th>asc_cycling</th>\n",
       "      <td>-1.707535</td>\n",
       "      <td>0.222356</td>\n",
       "      <td>-7.679269</td>\n",
       "      <td>1.598721e-14</td>\n",
       "    </tr>\n",
       "    <tr>\n",
       "      <th>asc_driving</th>\n",
       "      <td>1.187864</td>\n",
       "      <td>0.216566</td>\n",
       "      <td>5.485001</td>\n",
       "      <td>4.134664e-08</td>\n",
       "    </tr>\n",
       "    <tr>\n",
       "      <th>asc_public</th>\n",
       "      <td>1.882808</td>\n",
       "      <td>0.131913</td>\n",
       "      <td>14.273088</td>\n",
       "      <td>0.000000e+00</td>\n",
       "    </tr>\n",
       "    <tr>\n",
       "      <th>beta_cost</th>\n",
       "      <td>-0.095186</td>\n",
       "      <td>0.013893</td>\n",
       "      <td>-6.851416</td>\n",
       "      <td>7.312151e-12</td>\n",
       "    </tr>\n",
       "    <tr>\n",
       "      <th>beta_driving_traffic_percent</th>\n",
       "      <td>-2.709373</td>\n",
       "      <td>0.237143</td>\n",
       "      <td>-11.425077</td>\n",
       "      <td>0.000000e+00</td>\n",
       "    </tr>\n",
       "    <tr>\n",
       "      <th>beta_drivinglicense</th>\n",
       "      <td>1.433180</td>\n",
       "      <td>0.071798</td>\n",
       "      <td>19.961238</td>\n",
       "      <td>0.000000e+00</td>\n",
       "    </tr>\n",
       "    <tr>\n",
       "      <th>beta_time_cycling</th>\n",
       "      <td>-1.924807</td>\n",
       "      <td>0.129195</td>\n",
       "      <td>-14.898501</td>\n",
       "      <td>0.000000e+00</td>\n",
       "    </tr>\n",
       "    <tr>\n",
       "      <th>beta_time_driving</th>\n",
       "      <td>-1.522484</td>\n",
       "      <td>0.105308</td>\n",
       "      <td>-14.457412</td>\n",
       "      <td>0.000000e+00</td>\n",
       "    </tr>\n",
       "    <tr>\n",
       "      <th>beta_time_public</th>\n",
       "      <td>-1.528355</td>\n",
       "      <td>0.116170</td>\n",
       "      <td>-13.156217</td>\n",
       "      <td>0.000000e+00</td>\n",
       "    </tr>\n",
       "    <tr>\n",
       "      <th>beta_time_walk</th>\n",
       "      <td>-4.022205</td>\n",
       "      <td>0.125534</td>\n",
       "      <td>-32.040705</td>\n",
       "      <td>0.000000e+00</td>\n",
       "    </tr>\n",
       "  </tbody>\n",
       "</table>\n",
       "</div>"
      ],
      "text/plain": [
       "                                 Value  Rob. Std err  Rob. t-test  \\\n",
       "asc_cycling                  -1.707535      0.222356    -7.679269   \n",
       "asc_driving                   1.187864      0.216566     5.485001   \n",
       "asc_public                    1.882808      0.131913    14.273088   \n",
       "beta_cost                    -0.095186      0.013893    -6.851416   \n",
       "beta_driving_traffic_percent -2.709373      0.237143   -11.425077   \n",
       "beta_drivinglicense           1.433180      0.071798    19.961238   \n",
       "beta_time_cycling            -1.924807      0.129195   -14.898501   \n",
       "beta_time_driving            -1.522484      0.105308   -14.457412   \n",
       "beta_time_public             -1.528355      0.116170   -13.156217   \n",
       "beta_time_walk               -4.022205      0.125534   -32.040705   \n",
       "\n",
       "                              Rob. p-value  \n",
       "asc_cycling                   1.598721e-14  \n",
       "asc_driving                   4.134664e-08  \n",
       "asc_public                    0.000000e+00  \n",
       "beta_cost                     7.312151e-12  \n",
       "beta_driving_traffic_percent  0.000000e+00  \n",
       "beta_drivinglicense           0.000000e+00  \n",
       "beta_time_cycling             0.000000e+00  \n",
       "beta_time_driving             0.000000e+00  \n",
       "beta_time_public              0.000000e+00  \n",
       "beta_time_walk                0.000000e+00  "
      ]
     },
     "metadata": {},
     "output_type": "display_data"
    }
   ],
   "source": [
    "# ln transformation\n",
    "V_walk = beta_time_walk * log(dur_walking)\n",
    "V_cycling = asc_cycling + beta_time_cycling *log(dur_cycling)\n",
    "V_public = asc_public + beta_time_public * log(dur_public)+ beta_cost * cost_transit \n",
    "V_driving = asc_driving + beta_drivinglicense*driving_license + beta_time_driving * log(dur_driving) + beta_cost * cost_driving \\\n",
    "            +beta_traffic*driving_traffic_percent\n",
    "\n",
    "V = {1: V_walk, 2: V_cycling, 3: V_public, 4: V_driving}\n",
    "\n",
    "logprob = models.loglogit(V, None, travel_mode)\n",
    "biogeme = bio.BIOGEME(database, logprob)\n",
    "biogeme.modelName = 'model_ln'\n",
    "results_ln = biogeme.estimate()\n",
    "results_ln.getEstimatedParameters()"
   ]
  },
  {
   "cell_type": "code",
   "execution_count": null,
   "id": "bcc0560b",
   "metadata": {},
   "outputs": [],
   "source": [
    "# vot\n",
    "vot_public = Derive(V_public,'dur_public') / Derive (V_public,'cost_transit')\n",
    "vot_driving = Derive(V_driving,'dur_driving') / Derive (V_driving,'cost_driving')\n",
    "simulate = {\n",
    "    'Weight': Weight,\n",
    "    'VOT_public': vot_public,\n",
    "    'VOT_driving': vot_driving,\n",
    "}\n",
    "biosim = bio.BIOGEME(database, simulate)\n",
    "simulated_values = biosim.simulate(results_ln.getBetaValues())"
   ]
  },
  {
   "cell_type": "code",
   "execution_count": null,
   "id": "8e3caae4",
   "metadata": {},
   "outputs": [
    {
     "data": {
      "text/plain": [
       "57.75378188578838"
      ]
     },
     "metadata": {},
     "output_type": "display_data"
    }
   ],
   "source": [
    "avg_vot_pt = (\n",
    "    simulated_values['VOT_public'] * \n",
    "    simulated_values['Weight']\n",
    ").sum() / simulated_values['Weight'].sum()\n",
    "\n",
    "avg_vot_pt"
   ]
  },
  {
   "cell_type": "code",
   "execution_count": null,
   "id": "ae56a52e",
   "metadata": {},
   "outputs": [
    {
     "data": {
      "text/plain": [
       "119.33472448938895"
      ]
     },
     "metadata": {},
     "output_type": "display_data"
    }
   ],
   "source": [
    "avg_vot_driving = (\n",
    "    simulated_values['VOT_driving'] * \n",
    "    simulated_values['Weight']\n",
    ").sum() / simulated_values['Weight'].sum()\n",
    "\n",
    "avg_vot_driving"
   ]
  },
  {
   "cell_type": "code",
   "execution_count": null,
   "id": "16e6dffa",
   "metadata": {},
   "outputs": [],
   "source": []
  }
 ],
 "metadata": {
  "kernelspec": {
   "display_name": "Python 3 (ipykernel)",
   "language": "python",
   "name": "python3"
  },
  "language_info": {
   "codemirror_mode": {
    "name": "ipython",
    "version": 3
   },
   "file_extension": ".py",
   "mimetype": "text/x-python",
   "name": "python",
   "nbconvert_exporter": "python",
   "pygments_lexer": "ipython3",
   "version": "3.9.15"
  },
  "vscode": {
   "interpreter": {
    "hash": "8903f8c00ad14786716d5e6725857786035cd6e980c848e3b9d7f4ac47bf3288"
   }
  }
 },
 "nbformat": 4,
 "nbformat_minor": 5
}
